{
 "cells": [
  {
   "cell_type": "code",
   "execution_count": 9,
   "id": "0857ead9-70f7-4a09-af45-5e59c507b8b5",
   "metadata": {},
   "outputs": [],
   "source": [
    "a = ['asd df', 'asd hgfd', 'fgh sdf','asd xcv', 'asd erf', 'fgh xcv']"
   ]
  },
  {
   "cell_type": "code",
   "execution_count": 14,
   "id": "0ece6ad4-4bf7-4c6e-b1ca-7da5a01af386",
   "metadata": {},
   "outputs": [
    {
     "name": "stdout",
     "output_type": "stream",
     "text": [
      "['asd', 'df', 'asd', 'hgfd', 'fgh', 'sdf', 'asd', 'xcv', 'asd', 'erf', 'fgh', 'xcv']\n"
     ]
    }
   ],
   "source": [
    "print([token for text in a for token in text.split()])"
   ]
  },
  {
   "cell_type": "code",
   "execution_count": null,
   "id": "c2b35025-8ff7-4257-bee9-f9e68502e5f8",
   "metadata": {},
   "outputs": [],
   "source": []
  }
 ],
 "metadata": {
  "kernelspec": {
   "display_name": "Python 3 (ipykernel)",
   "language": "python",
   "name": "python3"
  },
  "language_info": {
   "codemirror_mode": {
    "name": "ipython",
    "version": 3
   },
   "file_extension": ".py",
   "mimetype": "text/x-python",
   "name": "python",
   "nbconvert_exporter": "python",
   "pygments_lexer": "ipython3",
   "version": "3.8.13"
  }
 },
 "nbformat": 4,
 "nbformat_minor": 5
}
