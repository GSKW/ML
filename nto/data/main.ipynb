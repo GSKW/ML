{
 "cells": [
  {
   "cell_type": "code",
   "execution_count": 265,
   "id": "4385c49e-44f5-4910-b94f-808a1f63fffc",
   "metadata": {},
   "outputs": [],
   "source": [
    "from typing import Optional, List\n",
    "from sklearn.feature_extraction.text import TfidfVectorizer\n",
    "import pickle\n",
    "import os\n",
    "import codecs\n",
    "from sklearn.linear_model import LogisticRegression\n",
    "import numpy as np\n",
    "import matplotlib.pyplot as plt\n",
    "from tqdm.notebook import trange, tqdm"
   ]
  },
  {
   "cell_type": "code",
   "execution_count": 231,
   "id": "35124114-a623-4f4f-92c0-97dc458a672f",
   "metadata": {},
   "outputs": [],
   "source": [
    "class ZamokClassifier:\n",
    "    def __init__(self, load_path: Optional[str] = None, mx=150) -> None:\n",
    "        if load_path:\n",
    "            with open(load_path+'.vectorizer.pk', 'rb') as fin:\n",
    "                self.vectorizer = pickle.load(fin)\n",
    "            with open(load_path+'.model.pk', 'rb') as fin:\n",
    "                self.log_model = pickle.load(fin)\n",
    "        else:\n",
    "            self.vectorizer = TfidfVectorizer(max_features=mx)\n",
    "            self.log_model = LogisticRegression()\n",
    "            \n",
    "    def preproc(self, texts):\n",
    "        bad = '1234567890()!@#$%^&*,./abcdefghijklmnopqrstuvwxyz-—_+=«»\\n:;[]–’…'+\"'\"+'\"'\n",
    "        clear_ = []\n",
    "        for text in texts:\n",
    "            text = text.lower()\n",
    "            for letter in text:\n",
    "                if letter in bad:\n",
    "                    text = text.replace(letter, '')\n",
    "                text = text.replace('  ', ' ')\n",
    "            clear_.append(text)\n",
    "        return clear_\n",
    "            \n",
    "    def train(self, texts1: List[str], texts2: List[str]) -> None:\n",
    "        # castles_tokens = [token for text in texts1 for token in text.split()]\n",
    "        # locks_tokens = [token for text in texts2 for token in text.split()]\n",
    "        texts1, texts2 = self.preproc(texts1), self.preproc(texts2)\n",
    "        self.vectorizer.fit(texts1+texts2)\n",
    "        x_castles = self.vectorizer.transform(texts1).toarray()\n",
    "        x_locks = self.vectorizer.transform(texts2).toarray()\n",
    "        X = np.concatenate([x_castles, x_locks], axis=0)\n",
    "        y = np.concatenate([[1]*len(x_castles), [0]*len(x_locks)])\n",
    "        self.log_model.fit(X, y)\n",
    "    \n",
    "    def save(self, path: str) -> None:\n",
    "        with open(path+'.vectorizer.pk', 'wb') as fin:\n",
    "            pickle.dump(self.vectorizer, fin)\n",
    "        with open(path+'.model.pk', 'wb') as fin:\n",
    "            pickle.dump(self.log_model, fin)\n",
    "        \n",
    "    \n",
    "    def predict(self, text: str) -> str:\n",
    "        emb = self.vectorizer.transform(self.preproc([text]))\n",
    "        class_ = self.log_model.predict(emb)\n",
    "        if class_:\n",
    "            ans = 'YES'\n",
    "        else:\n",
    "            ans = 'NO'\n",
    "        return ans\n",
    "        "
   ]
  },
  {
   "cell_type": "code",
   "execution_count": 201,
   "id": "c1cd58ff-c6ad-478e-ae96-ac305995ce00",
   "metadata": {},
   "outputs": [],
   "source": []
  },
  {
   "cell_type": "code",
   "execution_count": 202,
   "id": "27c10e77-3894-45f3-ac63-65b057ec4a59",
   "metadata": {},
   "outputs": [],
   "source": [
    "castles = []\n",
    "for filename in os.listdir(\"castles/\"):\n",
    "    if filename[::-1][:4] == 'txt.':\n",
    "        fileObj = codecs.open(\"castles/\"+filename, 'r', \"utf_8_sig\")\n",
    "        txt = fileObj.readlines()\n",
    "        castles.extend(txt)\n",
    "        fileObj.close()\n",
    "        \n",
    "locks = []\n",
    "for filename in os.listdir(\"locks/\"):\n",
    "    if filename[::-1][:4] == 'txt.':\n",
    "        fileObj = codecs.open(\"locks/\"+filename, 'r', \"utf_8_sig\")\n",
    "        txt = fileObj.readlines()\n",
    "        locks.extend(txt)\n",
    "        fileObj.close()"
   ]
  },
  {
   "cell_type": "code",
   "execution_count": null,
   "id": "a3f0e327-6871-4f61-9f30-61194147b65e",
   "metadata": {},
   "outputs": [],
   "source": []
  },
  {
   "cell_type": "code",
   "execution_count": 203,
   "id": "53e25ed1-5894-4761-bdf4-0da0aac797e7",
   "metadata": {},
   "outputs": [
    {
     "data": {
      "text/plain": [
       "'До 1975 года Шлоссбург был независимым городком, после чего вошёл в состав Золингена. В настоящее время замок является популярным туристическим местом. В замке действует музей графства Берг и находятся несколько исторических памятников разных эпох. С 2005 года на территории замка проводятся археологические раскопки.\\n'"
      ]
     },
     "execution_count": 203,
     "metadata": {},
     "output_type": "execute_result"
    }
   ],
   "source": [
    "castles[6]"
   ]
  },
  {
   "cell_type": "code",
   "execution_count": 204,
   "id": "6ceaff88-b6f8-4c5a-9dd8-b8ecbef59e4c",
   "metadata": {},
   "outputs": [
    {
     "data": {
      "text/plain": [
       "'до года шлоссбург был независимым городком после чего вошёл в состав золингена в настоящее время замок является популярным туристическим местом в замке действует музей графства берг и находятся несколько исторических памятников разных эпох с года на территории замка проводятся археологические раскопки'"
      ]
     },
     "execution_count": 204,
     "metadata": {},
     "output_type": "execute_result"
    }
   ],
   "source": [
    "clear_castles[6]"
   ]
  },
  {
   "cell_type": "code",
   "execution_count": 205,
   "id": "787217aa-1789-467b-bc2a-5765f85b99af",
   "metadata": {},
   "outputs": [
    {
     "data": {
      "text/plain": [
       "329"
      ]
     },
     "execution_count": 205,
     "metadata": {},
     "output_type": "execute_result"
    }
   ],
   "source": [
    "len(castles)"
   ]
  },
  {
   "cell_type": "code",
   "execution_count": 206,
   "id": "87b81c26-27fc-4c97-a23c-2349869e861a",
   "metadata": {},
   "outputs": [
    {
     "data": {
      "text/plain": [
       "284"
      ]
     },
     "execution_count": 206,
     "metadata": {},
     "output_type": "execute_result"
    }
   ],
   "source": [
    "len(locks)"
   ]
  },
  {
   "cell_type": "code",
   "execution_count": 207,
   "id": "957daebf-70bd-49ba-be44-9881bb5bd0cd",
   "metadata": {},
   "outputs": [],
   "source": []
  },
  {
   "cell_type": "code",
   "execution_count": 216,
   "id": "41b753fe-20ad-450a-b393-4052f82331cc",
   "metadata": {},
   "outputs": [
    {
     "name": "stdout",
     "output_type": "stream",
     "text": [
      "0.04136746740009033\n",
      "0.07433988442316418\n",
      "-0.035083719430385706\n",
      "-0.059138165870454985\n",
      "0.048981730817399795\n",
      "0.06359385314026234\n",
      "0.0511310626322918\n",
      "-0.036297504607499066\n",
      "0.06675831646438252\n"
     ]
    }
   ],
   "source": [
    "for x in model.log_model.coef_:\n",
    "    for y in x:\n",
    "        if abs(y) < 0.075:\n",
    "            print(y)"
   ]
  },
  {
   "cell_type": "code",
   "execution_count": 282,
   "id": "fa217f64-144c-4b43-b0c1-77e87fb6a1b3",
   "metadata": {},
   "outputs": [
    {
     "data": {
      "application/vnd.jupyter.widget-view+json": {
       "model_id": "3c331296643f46e5a0c676428a11b292",
       "version_major": 2,
       "version_minor": 0
      },
      "text/plain": [
       "  0%|          | 0/98 [00:00<?, ?it/s]"
      ]
     },
     "metadata": {},
     "output_type": "display_data"
    },
    {
     "name": "stdout",
     "output_type": "stream",
     "text": [
      "1570 0.9820554649265906\n"
     ]
    },
    {
     "data": {
      "image/png": "[encoded data removed]",
      "text/plain": [
       "<Figure size 1500x800 with 1 Axes>"
      ]
     },
     "metadata": {},
     "output_type": "display_data"
    }
   ],
   "source": [
    "xx, yy = [], []\n",
    "for m in tqdm(range(50, 2000, 20)):\n",
    "    i = 0\n",
    "    model = ZamokClassifier(mx=m)\n",
    "    model.train(castles, locks)\n",
    "    for x in locks:\n",
    "        if model.predict(x) == \"NO\":\n",
    "            i+=1\n",
    "    for x in castles:\n",
    "        if model.predict(x) == \"YES\":\n",
    "            i+=1\n",
    "    # print(i/(len(castles)+len(locks)), m)\n",
    "    yy.append(i/(len(castles)+len(locks)))\n",
    "    xx.append(m)\n",
    "plt.figure(figsize=(15, 8))\n",
    "plt.plot(xx, yy)\n",
    "plt.scatter([xx[yy.index(max(yy))]], [max(yy)], c='r')\n",
    "# plt.plot([0,m], [max(yy), max(yy)])\n",
    "plt.yticks([max(yy)])\n",
    "plt.xticks([xx[yy.index(max(yy))]])\n",
    "plt.savefig(\"plot.pdf\")\n",
    "print(xx[yy.index(max(yy))], max(yy))"
   ]
  },
  {
   "cell_type": "code",
   "execution_count": 84,
   "id": "2e736f66-4867-4f55-b0b0-5f3fdd0bf3d3",
   "metadata": {},
   "outputs": [
    {
     "data": {
      "text/plain": [
       "(613, 100)"
      ]
     },
     "execution_count": 84,
     "metadata": {},
     "output_type": "execute_result"
    }
   ],
   "source": [
    "np.concatenate([x1,x2], axis=0).shape"
   ]
  },
  {
   "cell_type": "code",
   "execution_count": 85,
   "id": "ec7a922e-ee44-4f8f-be1f-cc64a98f482d",
   "metadata": {},
   "outputs": [
    {
     "data": {
      "text/plain": [
       "(613,)"
      ]
     },
     "execution_count": 85,
     "metadata": {},
     "output_type": "execute_result"
    }
   ],
   "source": [
    "np.concatenate([[0]*len(x1), [1]*len(x2)]).shape"
   ]
  },
  {
   "cell_type": "code",
   "execution_count": 86,
   "id": "d33157e3-4ce5-4aae-a483-502131112fef",
   "metadata": {},
   "outputs": [],
   "source": [
    "model.save('test_model')"
   ]
  },
  {
   "cell_type": "code",
   "execution_count": 87,
   "id": "67c1825f-1894-4623-9526-b2f7e8bbff72",
   "metadata": {},
   "outputs": [],
   "source": [
    "model1 = ZamokClassifier('test_model')"
   ]
  },
  {
   "cell_type": "code",
   "execution_count": 88,
   "id": "b7637e54-7bc8-4834-b60e-8732d5145b30",
   "metadata": {},
   "outputs": [
    {
     "data": {
      "text/plain": [
       "'NO'"
      ]
     },
     "execution_count": 88,
     "metadata": {},
     "output_type": "execute_result"
    }
   ],
   "source": [
    "model1.predict(locks[101])"
   ]
  },
  {
   "cell_type": "code",
   "execution_count": null,
   "id": "a3ea4ebb-1453-4969-a26d-c6c407279892",
   "metadata": {},
   "outputs": [],
   "source": []
  }
 ],
 "metadata": {
  "kernelspec": {
   "display_name": "Python 3 (ipykernel)",
   "language": "python",
   "name": "python3"
  },
  "language_info": {
   "codemirror_mode": {
    "name": "ipython",
    "version": 3
   },
   "file_extension": ".py",
   "mimetype": "text/x-python",
   "name": "python",
   "nbconvert_exporter": "python",
   "pygments_lexer": "ipython3",
   "version": "3.8.13"
  }
 },
 "nbformat": 4,
 "nbformat_minor": 5
}
