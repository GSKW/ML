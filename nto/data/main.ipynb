{
 "cells": [
  {
   "cell_type": "code",
   "execution_count": 54,
   "id": "4385c49e-44f5-4910-b94f-808a1f63fffc",
   "metadata": {},
   "outputs": [],
   "source": [
    "from typing import Optional, List\n",
    "from sklearn.feature_extraction.text import TfidfVectorizer\n",
    "import pickle\n",
    "import os\n",
    "import codecs\n",
    "from sklearn.linear_model import LogisticRegression\n",
    "import numpy as np"
   ]
  },
  {
   "cell_type": "code",
   "execution_count": 200,
   "id": "35124114-a623-4f4f-92c0-97dc458a672f",
   "metadata": {},
   "outputs": [],
   "source": [
    "class ZamokClassifier:\n",
    "    def __init__(self, load_path: Optional[str] = None) -> None:\n",
    "        if load_path:\n",
    "            with open(load_path+'.vectorizer.pk', 'rb') as fin:\n",
    "                self.vectorizer = pickle.load(fin)\n",
    "            with open(load_path+'.model.pk', 'rb') as fin:\n",
    "                self.log_model = pickle.load(fin)\n",
    "        else:\n",
    "            self.vectorizer = TfidfVectorizer(max_features=150)\n",
    "            self.log_model = LogisticRegression(random_state=0)\n",
    "            \n",
    "    def preproc(self, texts):\n",
    "        bad = '1234567890()!@#$%^&*,./abcdefghijklmnopqrstuvwxyz-—_+=«»\\n:;[]–’…'+\"'\"+'\"'\n",
    "        clear_ = []\n",
    "        for text in texts:\n",
    "            text = text.lower()\n",
    "            for letter in text:\n",
    "                if letter in bad:\n",
    "                    text = text.replace(letter, '')\n",
    "                text = text.replace('  ', ' ')\n",
    "            clear_.append(text)\n",
    "        return clear_\n",
    "            \n",
    "    def train(self, texts1: List[str], texts2: List[str]) -> None:\n",
    "        # castles_tokens = [token for text in texts1 for token in text.split()]\n",
    "        # locks_tokens = [token for text in texts2 for token in text.split()]\n",
    "        texts1, texts2 = self.preproc(texts1), self.preproc(texts2)\n",
    "        self.vectorizer.fit(texts1+texts2)\n",
    "        x_castles = self.vectorizer.transform(texts1).toarray()\n",
    "        x_locks = self.vectorizer.transform(texts2).toarray()\n",
    "        X = np.concatenate([x_castles, x_locks], axis=0)\n",
    "        y = np.concatenate([[1]*len(x_castles), [0]*len(x_locks)])\n",
    "        self.log_model.fit(X, y)\n",
    "    \n",
    "    def save(self, path: str) -> None:\n",
    "        with open(path+'.vectorizer.pk', 'wb') as fin:\n",
    "            pickle.dump(self.vectorizer, fin)\n",
    "        with open(path+'.model.pk', 'wb') as fin:\n",
    "            pickle.dump(self.log_model, fin)\n",
    "        \n",
    "    \n",
    "    def predict(self, text: str) -> str:\n",
    "        emb = self.vectorizer.transform(self.preproc([text]))\n",
    "        class_ = self.log_model.predict(emb)\n",
    "        if class_:\n",
    "            ans = 'YES'\n",
    "        else:\n",
    "            ans = 'NO'\n",
    "        return ans\n",
    "        "
   ]
  },
  {
   "cell_type": "code",
   "execution_count": 201,
   "id": "c1cd58ff-c6ad-478e-ae96-ac305995ce00",
   "metadata": {},
   "outputs": [],
   "source": [
    "model = ZamokClassifier()"
   ]
  },
  {
   "cell_type": "code",
   "execution_count": 202,
   "id": "27c10e77-3894-45f3-ac63-65b057ec4a59",
   "metadata": {},
   "outputs": [],
   "source": [
    "castles = []\n",
    "for filename in os.listdir(\"castles/\"):\n",
    "    if filename[::-1][:4] == 'txt.':\n",
    "        fileObj = codecs.open(\"castles/\"+filename, 'r', \"utf_8_sig\")\n",
    "        txt = fileObj.readlines()\n",
    "        castles.extend(txt)\n",
    "        fileObj.close()\n",
    "        \n",
    "locks = []\n",
    "for filename in os.listdir(\"locks/\"):\n",
    "    if filename[::-1][:4] == 'txt.':\n",
    "        fileObj = codecs.open(\"locks/\"+filename, 'r', \"utf_8_sig\")\n",
    "        txt = fileObj.readlines()\n",
    "        locks.extend(txt)\n",
    "        fileObj.close()"
   ]
  },
  {
   "cell_type": "code",
   "execution_count": null,
   "id": "a3f0e327-6871-4f61-9f30-61194147b65e",
   "metadata": {},
   "outputs": [],
   "source": []
  },
  {
   "cell_type": "code",
   "execution_count": 203,
   "id": "53e25ed1-5894-4761-bdf4-0da0aac797e7",
   "metadata": {},
   "outputs": [
    {
     "data": {
      "text/plain": [
       "'До 1975 года Шлоссбург был независимым городком, после чего вошёл в состав Золингена. В настоящее время замок является популярным туристическим местом. В замке действует музей графства Берг и находятся несколько исторических памятников разных эпох. С 2005 года на территории замка проводятся археологические раскопки.\\n'"
      ]
     },
     "execution_count": 203,
     "metadata": {},
     "output_type": "execute_result"
    }
   ],
   "source": [
    "castles[6]"
   ]
  },
  {
   "cell_type": "code",
   "execution_count": 204,
   "id": "6ceaff88-b6f8-4c5a-9dd8-b8ecbef59e4c",
   "metadata": {},
   "outputs": [
    {
     "data": {
      "text/plain": [
       "'до года шлоссбург был независимым городком после чего вошёл в состав золингена в настоящее время замок является популярным туристическим местом в замке действует музей графства берг и находятся несколько исторических памятников разных эпох с года на территории замка проводятся археологические раскопки'"
      ]
     },
     "execution_count": 204,
     "metadata": {},
     "output_type": "execute_result"
    }
   ],
   "source": [
    "clear_castles[6]"
   ]
  },
  {
   "cell_type": "code",
   "execution_count": 205,
   "id": "787217aa-1789-467b-bc2a-5765f85b99af",
   "metadata": {},
   "outputs": [
    {
     "data": {
      "text/plain": [
       "329"
      ]
     },
     "execution_count": 205,
     "metadata": {},
     "output_type": "execute_result"
    }
   ],
   "source": [
    "len(castles)"
   ]
  },
  {
   "cell_type": "code",
   "execution_count": 206,
   "id": "87b81c26-27fc-4c97-a23c-2349869e861a",
   "metadata": {},
   "outputs": [
    {
     "data": {
      "text/plain": [
       "284"
      ]
     },
     "execution_count": 206,
     "metadata": {},
     "output_type": "execute_result"
    }
   ],
   "source": [
    "len(locks)"
   ]
  },
  {
   "cell_type": "code",
   "execution_count": 207,
   "id": "957daebf-70bd-49ba-be44-9881bb5bd0cd",
   "metadata": {},
   "outputs": [],
   "source": [
    "model.train(castles, locks)"
   ]
  },
  {
   "cell_type": "code",
   "execution_count": 210,
   "id": "41b753fe-20ad-450a-b393-4052f82331cc",
   "metadata": {},
   "outputs": [
    {
     "data": {
      "text/plain": [
       "array([[ 1.47146705,  1.49852991, -0.43268179, -1.46315173, -0.67001986,\n",
       "        -0.09333417,  1.17991825,  0.43903362,  0.29182026, -0.88554092,\n",
       "         1.39370126,  1.38799279, -1.52808731, -0.41449941,  1.21259757,\n",
       "         0.88751932,  0.58907468,  0.34065751,  0.61040266,  0.04136747,\n",
       "        -0.41334506, -0.16768609, -0.63947959,  1.1958363 ,  0.89419324,\n",
       "         0.82043465,  0.64200376, -1.59875045, -1.01956019,  0.8164329 ,\n",
       "         0.85559329, -1.08877767,  0.07433988, -0.98462946, -0.26692492,\n",
       "        -0.53761964, -0.03508372, -0.98623311,  0.21492371,  1.08792729,\n",
       "        -0.15702336, -0.30787961, -0.05913817, -0.60285069,  0.20976191,\n",
       "        -1.91591691, -2.26664735, -0.41894241,  1.02626027,  0.91651415,\n",
       "         0.21446142, -1.86866175,  0.71398211, -0.74235735,  0.57035985,\n",
       "        -1.12538035, -1.19951466,  0.25948245, -0.30031672, -0.85642978,\n",
       "         0.15222992, -2.41776558, -2.50228679, -1.12300061, -1.42385553,\n",
       "        -1.07058487, -0.98263765, -0.99850865, -0.28182335,  0.84784315,\n",
       "        -0.27202791,  0.19989658, -0.47950204, -0.86049835, -0.93006548,\n",
       "        -0.49139475,  1.28023856,  1.07887688,  0.75315864,  0.26343122,\n",
       "        -1.05189887,  0.43879132, -1.15241117, -1.4395234 , -0.27896369,\n",
       "         0.81804908, -0.6978866 ,  0.52649487,  0.35765909, -0.94406527,\n",
       "         0.40074087,  0.1826756 , -0.24412202,  1.28597103, -0.61548714,\n",
       "         0.51875137, -0.67692509,  0.04898173, -1.23212176, -0.1210523 ,\n",
       "         0.44909067,  0.06359385, -0.45577305, -0.14265271,  0.70085688,\n",
       "        -0.81849163,  1.33973095,  0.7665156 , -1.15733341, -0.62959793,\n",
       "         1.2104543 , -0.33648291, -0.7353833 , -0.29676188,  1.11824541,\n",
       "         0.05113106, -0.0362975 , -0.36051301, -0.79242756, -0.38011229,\n",
       "         0.06675832,  0.5215584 ,  0.78862963,  1.64132384,  0.36933541,\n",
       "         0.31815728, -0.44013141, -0.12959158,  0.38883924,  0.22733495,\n",
       "        -0.26317504, -0.29091768, -0.30402774, -1.15205144,  0.94331931,\n",
       "        -0.23388723,  0.95040833, -1.39620029, -0.63966916, -0.39208051,\n",
       "        -0.36073576,  0.26889253, -0.83693232, -1.19018909, -1.29532531,\n",
       "        -0.1715199 , -0.13612974,  0.5616393 , -0.34633042,  0.22144437]])"
      ]
     },
     "execution_count": 210,
     "metadata": {},
     "output_type": "execute_result"
    }
   ],
   "source": [
    "model.log_model.coef_"
   ]
  },
  {
   "cell_type": "code",
   "execution_count": 199,
   "id": "fa217f64-144c-4b43-b0c1-77e87fb6a1b3",
   "metadata": {},
   "outputs": [
    {
     "name": "stdout",
     "output_type": "stream",
     "text": [
      "-\n",
      "-\n",
      "-\n",
      "-\n",
      "-\n",
      "-\n",
      "-\n",
      "-\n",
      "-\n",
      "-\n",
      "-\n",
      "-\n",
      "-\n",
      "-\n",
      "-\n",
      "-\n",
      "-\n",
      "-\n",
      "-\n",
      "-\n",
      "-\n",
      "-\n",
      "-\n",
      "-\n",
      "-\n",
      "-\n",
      "-\n",
      "-\n",
      "-\n",
      "-\n",
      "-\n",
      "-\n"
     ]
    }
   ],
   "source": [
    "for i in range(len(locks)):\n",
    "    if model.predict(locks[i]) == \"YES\":\n",
    "        print(\"-\")\n",
    "        # print(locks[i])"
   ]
  },
  {
   "cell_type": "code",
   "execution_count": 84,
   "id": "2e736f66-4867-4f55-b0b0-5f3fdd0bf3d3",
   "metadata": {},
   "outputs": [
    {
     "data": {
      "text/plain": [
       "(613, 100)"
      ]
     },
     "execution_count": 84,
     "metadata": {},
     "output_type": "execute_result"
    }
   ],
   "source": [
    "np.concatenate([x1,x2], axis=0).shape"
   ]
  },
  {
   "cell_type": "code",
   "execution_count": 85,
   "id": "ec7a922e-ee44-4f8f-be1f-cc64a98f482d",
   "metadata": {},
   "outputs": [
    {
     "data": {
      "text/plain": [
       "(613,)"
      ]
     },
     "execution_count": 85,
     "metadata": {},
     "output_type": "execute_result"
    }
   ],
   "source": [
    "np.concatenate([[0]*len(x1), [1]*len(x2)]).shape"
   ]
  },
  {
   "cell_type": "code",
   "execution_count": 86,
   "id": "d33157e3-4ce5-4aae-a483-502131112fef",
   "metadata": {},
   "outputs": [],
   "source": [
    "model.save('test_model')"
   ]
  },
  {
   "cell_type": "code",
   "execution_count": 87,
   "id": "67c1825f-1894-4623-9526-b2f7e8bbff72",
   "metadata": {},
   "outputs": [],
   "source": [
    "model1 = ZamokClassifier('test_model')"
   ]
  },
  {
   "cell_type": "code",
   "execution_count": 88,
   "id": "b7637e54-7bc8-4834-b60e-8732d5145b30",
   "metadata": {},
   "outputs": [
    {
     "data": {
      "text/plain": [
       "'NO'"
      ]
     },
     "execution_count": 88,
     "metadata": {},
     "output_type": "execute_result"
    }
   ],
   "source": [
    "model1.predict(locks[101])"
   ]
  },
  {
   "cell_type": "code",
   "execution_count": null,
   "id": "a3ea4ebb-1453-4969-a26d-c6c407279892",
   "metadata": {},
   "outputs": [],
   "source": []
  }
 ],
 "metadata": {
  "kernelspec": {
   "display_name": "Python 3 (ipykernel)",
   "language": "python",
   "name": "python3"
  },
  "language_info": {
   "codemirror_mode": {
    "name": "ipython",
    "version": 3
   },
   "file_extension": ".py",
   "mimetype": "text/x-python",
   "name": "python",
   "nbconvert_exporter": "python",
   "pygments_lexer": "ipython3",
   "version": "3.8.13"
  }
 },
 "nbformat": 4,
 "nbformat_minor": 5
}
