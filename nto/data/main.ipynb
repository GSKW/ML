{
 "cells": [
  {
   "cell_type": "code",
   "execution_count": 54,
   "id": "4385c49e-44f5-4910-b94f-808a1f63fffc",
   "metadata": {},
   "outputs": [],
   "source": [
    "from typing import Optional, List\n",
    "from sklearn.feature_extraction.text import TfidfVectorizer\n",
    "import pickle\n",
    "import os\n",
    "import codecs\n",
    "from sklearn.linear_model import LogisticRegression\n",
    "import numpy as np"
   ]
  },
  {
   "cell_type": "code",
   "execution_count": 78,
   "id": "35124114-a623-4f4f-92c0-97dc458a672f",
   "metadata": {},
   "outputs": [],
   "source": [
    "class ZamokClassifier:\n",
    "    def __init__(self, load_path: Optional[str] = None) -> None:\n",
    "        if load_path:\n",
    "            with open(load_path+'.vectorizer.pk', 'rb') as fin:\n",
    "                self.vectorizer = pickle.load(fin)\n",
    "            with open(load_path+'.model.pk', 'rb') as fin:\n",
    "                self.log_model = pickle.load(fin)\n",
    "        else:\n",
    "            self.vectorizer = TfidfVectorizer(max_features=100)\n",
    "            self.log_model = LogisticRegression(random_state=0)\n",
    "            \n",
    "    def train(self, texts1: List[str], texts2: List[str]) -> None:\n",
    "        # castles_tokens = [token for text in texts1 for token in text.split()]\n",
    "        # locks_tokens = [token for text in texts2 for token in text.split()]\n",
    "        self.vectorizer.fit(texts1+texts2)\n",
    "        x_castles = self.vectorizer.transform(texts1).toarray()\n",
    "        x_locks = self.vectorizer.transform(texts2).toarray()\n",
    "        X = np.concatenate([x_castles, x_locks], axis=0)\n",
    "        y = np.concatenate([[1]*len(x_castles), [0]*len(x_locks)])\n",
    "        self.log_model.fit(X, y)\n",
    "    \n",
    "    def save(self, path: str) -> None:\n",
    "        with open(path+'.vectorizer.pk', 'wb') as fin:\n",
    "            pickle.dump(self.vectorizer, fin)\n",
    "        with open(path+'.model.pk', 'wb') as fin:\n",
    "            pickle.dump(self.log_model, fin)\n",
    "        \n",
    "    \n",
    "    def predict(self, text: str) -> str:\n",
    "        emb = self.vectorizer.transform([text])\n",
    "        class_ = self.log_model.predict(emb)\n",
    "        if class_:\n",
    "            ans = 'YES'\n",
    "        else:\n",
    "            ans = 'NO'\n",
    "        return ans\n",
    "        "
   ]
  },
  {
   "cell_type": "code",
   "execution_count": 79,
   "id": "c1cd58ff-c6ad-478e-ae96-ac305995ce00",
   "metadata": {},
   "outputs": [],
   "source": [
    "model = ZamokClassifier()"
   ]
  },
  {
   "cell_type": "code",
   "execution_count": 80,
   "id": "27c10e77-3894-45f3-ac63-65b057ec4a59",
   "metadata": {},
   "outputs": [],
   "source": [
    "castles = []\n",
    "for filename in os.listdir(\"castles/\"):\n",
    "    if filename[::-1][:4] == 'txt.':\n",
    "        fileObj = codecs.open(\"castles/\"+filename, 'r', \"utf_8_sig\")\n",
    "        txt = fileObj.readlines()\n",
    "        castles.extend(txt)\n",
    "        fileObj.close()\n",
    "        \n",
    "locks = []\n",
    "for filename in os.listdir(\"locks/\"):\n",
    "    if filename[::-1][:4] == 'txt.':\n",
    "        fileObj = codecs.open(\"locks/\"+filename, 'r', \"utf_8_sig\")\n",
    "        txt = fileObj.readlines()\n",
    "        locks.extend(txt)\n",
    "        fileObj.close()"
   ]
  },
  {
   "cell_type": "code",
   "execution_count": 81,
   "id": "787217aa-1789-467b-bc2a-5765f85b99af",
   "metadata": {},
   "outputs": [
    {
     "data": {
      "text/plain": [
       "329"
      ]
     },
     "execution_count": 81,
     "metadata": {},
     "output_type": "execute_result"
    }
   ],
   "source": [
    "len(castles)"
   ]
  },
  {
   "cell_type": "code",
   "execution_count": 82,
   "id": "87b81c26-27fc-4c97-a23c-2349869e861a",
   "metadata": {},
   "outputs": [
    {
     "data": {
      "text/plain": [
       "284"
      ]
     },
     "execution_count": 82,
     "metadata": {},
     "output_type": "execute_result"
    }
   ],
   "source": [
    "len(locks)"
   ]
  },
  {
   "cell_type": "code",
   "execution_count": 83,
   "id": "957daebf-70bd-49ba-be44-9881bb5bd0cd",
   "metadata": {},
   "outputs": [],
   "source": [
    "model.train(castles, locks)"
   ]
  },
  {
   "cell_type": "code",
   "execution_count": 84,
   "id": "2e736f66-4867-4f55-b0b0-5f3fdd0bf3d3",
   "metadata": {},
   "outputs": [
    {
     "data": {
      "text/plain": [
       "(613, 100)"
      ]
     },
     "execution_count": 84,
     "metadata": {},
     "output_type": "execute_result"
    }
   ],
   "source": [
    "np.concatenate([x1,x2], axis=0).shape"
   ]
  },
  {
   "cell_type": "code",
   "execution_count": 85,
   "id": "ec7a922e-ee44-4f8f-be1f-cc64a98f482d",
   "metadata": {},
   "outputs": [
    {
     "data": {
      "text/plain": [
       "(613,)"
      ]
     },
     "execution_count": 85,
     "metadata": {},
     "output_type": "execute_result"
    }
   ],
   "source": [
    "np.concatenate([[0]*len(x1), [1]*len(x2)]).shape"
   ]
  },
  {
   "cell_type": "code",
   "execution_count": 86,
   "id": "d33157e3-4ce5-4aae-a483-502131112fef",
   "metadata": {},
   "outputs": [],
   "source": [
    "model.save('test_model')"
   ]
  },
  {
   "cell_type": "code",
   "execution_count": 87,
   "id": "67c1825f-1894-4623-9526-b2f7e8bbff72",
   "metadata": {},
   "outputs": [],
   "source": [
    "model1 = ZamokClassifier('test_model')"
   ]
  },
  {
   "cell_type": "code",
   "execution_count": 88,
   "id": "b7637e54-7bc8-4834-b60e-8732d5145b30",
   "metadata": {},
   "outputs": [
    {
     "data": {
      "text/plain": [
       "'NO'"
      ]
     },
     "execution_count": 88,
     "metadata": {},
     "output_type": "execute_result"
    }
   ],
   "source": [
    "model1.predict(locks[101])"
   ]
  },
  {
   "cell_type": "code",
   "execution_count": null,
   "id": "0d494482-a5ad-4ac8-a758-3730df741cf2",
   "metadata": {},
   "outputs": [],
   "source": []
  }
 ],
 "metadata": {
  "kernelspec": {
   "display_name": "Python 3 (ipykernel)",
   "language": "python",
   "name": "python3"
  },
  "language_info": {
   "codemirror_mode": {
    "name": "ipython",
    "version": 3
   },
   "file_extension": ".py",
   "mimetype": "text/x-python",
   "name": "python",
   "nbconvert_exporter": "python",
   "pygments_lexer": "ipython3",
   "version": "3.8.13"
  }
 },
 "nbformat": 4,
 "nbformat_minor": 5
}
