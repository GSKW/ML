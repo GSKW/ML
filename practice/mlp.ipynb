{
 "cells": [
  {
   "cell_type": "code",
   "execution_count": 1,
   "metadata": {},
   "outputs": [],
   "source": [
    "import numpy as np\n",
    "import matplotlib.pyplot as plt\n",
    "\n",
    "from sklearn.preprocessing import StandardScaler\n",
    "\n",
    "plt.rcParams['figure.figsize'] = (10, 2)"
   ]
  },
  {
   "cell_type": "code",
   "execution_count": 2,
   "metadata": {
    "tags": []
   },
   "outputs": [
    {
     "name": "stdout",
     "output_type": "stream",
     "text": [
      "Parsing...\n",
      "found broken img: ./notMNIST_small/A/RGVtb2NyYXRpY2FCb2xkT2xkc3R5bGUgQm9sZC50dGY=.png [it's ok if &lt;10 images are broken]\n",
      "Done\n",
      "Train size  =        2808, test_size  = 937\n",
      "Train shape = (2808, 784), test_shape = (937, 784)\n"
     ]
    }
   ],
   "source": [
    "# если клетка падает, то просто перезапусти\n",
    "from notmnist import load_notmnist\n",
    "\n",
    "\n",
    "X_train, y_train, X_test, y_test = load_notmnist(letters='AB')\n",
    "X_train, X_test = X_train.reshape([-1, 784]), X_test.reshape([-1, 784])\n",
    "\n",
    "print(f\"Train size  = {len(X_train):11}, test_size  = {len(X_test)}\")\n",
    "print(f\"Train shape = {X_train.shape}, test_shape = {X_test.shape:}\")"
   ]
  },
  {
   "cell_type": "code",
   "execution_count": 185,
   "metadata": {},
   "outputs": [
    {
     "data": {
      "image/png": "[encoded data removed]",
      "text/plain": [
       "<Figure size 1000x200 with 4 Axes>"
      ]
     },
     "metadata": {},
     "output_type": "display_data"
    }
   ],
   "source": [
    "indeces = [0, 1, 4, 8]\n",
    "for i, ind in enumerate(indeces):\n",
    "    plt.subplot(1, len(indeces), i + 1)\n",
    "    plt.imshow(X_train[ind].reshape([28, 28]))\n",
    "    plt.title(f'$y_{ind}$=' + str(y_train[ind]))"
   ]
  },
  {
   "cell_type": "markdown",
   "metadata": {},
   "source": [
    "Загруженный датасет -- это картинки 28 на 28 с рукописными буквами А и В.\n",
    "\n",
    "Нужно написать на торче классификатор, который умеет отличать одну букву от другой, то есть решить задачу бинарной классификации. Классификатор для буквы А должен выдавать 0, для B -- 1."
   ]
  },
  {
   "cell_type": "markdown",
   "metadata": {},
   "source": [
    "# Пишем Классификатор на Ручных Правилах\n",
    "\n",
    "Для начала предлагаю тебе\n",
    "- забыть обучающую выборку и придумать нейронный классификатор \"из головы\"\n",
    "- заимплементить его,\n",
    "- посчитать качество на валидации.\n",
    "\n",
    "На классификатор есть ограничение: он должен состоять только из линейных функций."
   ]
  },
  {
   "cell_type": "code",
   "execution_count": 186,
   "metadata": {},
   "outputs": [],
   "source": [
    "import torch\n",
    "\n",
    "class Layer():\n",
    "    \"\"\"\n",
    "    Общий класс для слоя нейронной сети. \n",
    "    \"\"\"\n",
    "    def __init__(self):\n",
    "        pass\n",
    "    \n",
    "    def forward(self, input: torch.Tensor) -> torch.Tensor:\n",
    "        \"\"\"\n",
    "        Прямое применение слоя ко входным данным\n",
    "        \"\"\"\n",
    "        return input"
   ]
  },
  {
   "cell_type": "markdown",
   "metadata": {},
   "source": [
    "Для начала создадим слой, который выделяет штрихи, специфичные для буквы B:"
   ]
  },
  {
   "cell_type": "code",
   "execution_count": null,
   "metadata": {},
   "outputs": [],
   "source": [
    "class IlyaLayer1(Layer):\n",
    "    \"\"\"\n",
    "    Первый слой нейронной сети Ильи\n",
    "    \"\"\"\n",
    "    def __init__(self):\n",
    "        ### <YOUR CODE HERE> ###\n",
    "        pass\n",
    "    \n",
    "    def forward(self, input: torch.Tensor) -> torch.Tensor:\n",
    "        \"\"\"\n",
    "        Применение первого слоя сети Ильи к входной картинке input (784,)\n",
    "        \"\"\"\n",
    "        ### <YOUR CODE HERE> ###\n",
    "        return ?\n",
    "\n",
    "\n",
    "layer1 = IlyaLayer1()\n",
    "\n",
    "plt.imshow(layer1.weights.reshape([28, 28]));\n",
    "plt.title('layer1.weights')"
   ]
  },
  {
   "cell_type": "markdown",
   "metadata": {},
   "source": [
    "Теперь мы можем взять случайный пример из тестовой выборки и применить наш линейный слой с одним выходом:"
   ]
  },
  {
   "cell_type": "code",
   "execution_count": 208,
   "metadata": {},
   "outputs": [
    {
     "name": "stdout",
     "output_type": "stream",
     "text": [
      "x shape =  torch.Size([784])\n"
     ]
    },
    {
     "data": {
      "image/png": "[encoded data removed]",
      "text/plain": [
       "<Figure size 1000x200 with 1 Axes>"
      ]
     },
     "metadata": {},
     "output_type": "display_data"
    }
   ],
   "source": [
    "test_ind = 0\n",
    "\n",
    "x = torch.tensor(X_test[test_ind])\n",
    "\n",
    "print(\"x shape = \", x.shape)\n",
    "plt.imshow(x.reshape([28, 28]))\n",
    "plt.title(f'$y_{test_ind}$ = ' + str(y_test[test_ind]));"
   ]
  },
  {
   "cell_type": "code",
   "execution_count": null,
   "metadata": {},
   "outputs": [],
   "source": [
    "activations1 = layer1.forward(x)\n",
    "\n",
    "plt.subplot(1, 4, 1)\n",
    "plt.imshow(x.reshape([28, 28]))\n",
    "plt.title('Входная картинка')\n",
    "\n",
    "plt.subplot(1, 4, 2)\n",
    "plt.imshow(layer1.weights.reshape([28, 28]))\n",
    "plt.title('Веса слоя')\n",
    "\n",
    "plt.subplot(1, 4, 3)\n",
    "plt.imshow((x * layer1.weights).reshape([28, 28]))\n",
    "plt.title('Картинка * веса')\n",
    "\n",
    "plt.subplot(1, 4, 4)\n",
    "plt.imshow(activations1.reshape(1, 1))\n",
    "plt.title('Активации')\n",
    "\n",
    "print('Результат применения 1-ого слоя (активации):', activations1)\n",
    "print('Размерность активаций                      :', activations1.shape)"
   ]
  },
  {
   "cell_type": "markdown",
   "metadata": {},
   "source": [
    "Скорее всего к этому моменту ты придумал **линейную регресиию**. Поздравляю!\n",
    "\n",
    "Давай вспомним, что мы решаем задачу классификации, и на выходе мы хотим получить **вероятность того, что на картинке буква B**, то есть что-то в промежутке $[0, 1]$.\n",
    "\n",
    "Для **превращения регрессора в классификатор** проделаем два шага:\n",
    "\n",
    "**Шаг 1**\n",
    "\n",
    "- попробуй модифицировать первый слой так, чтобы активация >= 0 означала класс 1, а активация < 0 означала класс 0."
   ]
  },
  {
   "cell_type": "code",
   "execution_count": null,
   "metadata": {},
   "outputs": [],
   "source": [
    "activations1_wo_bias = x.dot(layer1.weights)\n",
    "activations1 = layer1.forward(x)\n",
    "\n",
    "print('Результат применения 1-ого слоя без bias:', activations1_wo_bias)\n",
    "print('Результат применения 1-ого слоя c bias  :', activations1)"
   ]
  },
  {
   "cell_type": "markdown",
   "metadata": {},
   "source": [
    "**Шаг 2**\n",
    "\n",
    "- сделаем из активаций первогой слоя что-то между $0$ и $1$, для этого введем новый слой:"
   ]
  },
  {
   "cell_type": "code",
   "execution_count": 190,
   "metadata": {},
   "outputs": [],
   "source": [
    "class IlyaLastLayer(Layer):\n",
    "    \"\"\"\n",
    "    Последний слой нейронной сети Ильи\n",
    "    \"\"\"\n",
    "    def __init__(self):\n",
    "        ### <YOUR CODE HERE> ###\n",
    "#         pass\n",
    "    \n",
    "    def forward(self, input: torch.Tensor) -> torch.Tensor:\n",
    "        \"\"\"\n",
    "        Применение последнео слоя сети Ильи к выходу предыдущих слоев (1,).\n",
    "        Выдает один выход (1,), который означает вероятность буквы B на картинке.\n",
    "        \"\"\"\n",
    "        ### <YOUR CODE HERE> ###\n",
    "        return ?\n",
    "\n",
    "\n",
    "last_layer = IlyaLastLayer()"
   ]
  },
  {
   "cell_type": "code",
   "execution_count": null,
   "metadata": {},
   "outputs": [],
   "source": [
    "activations1 = layer1.forward(x)\n",
    "pred_probas = last_layer.forward(activations1)\n",
    "\n",
    "plt.figure(figsize=(10, 5))\n",
    "\n",
    "plt.subplot(2, 4, 1)\n",
    "plt.imshow(x.reshape([28, 28]))\n",
    "plt.title('Входная картинка')\n",
    "\n",
    "plt.subplot(2, 4, 2)\n",
    "plt.imshow(layer1.weights.reshape([28, 28]))\n",
    "plt.title('Веса слоя 1')\n",
    "\n",
    "plt.subplot(2, 4, 3)\n",
    "plt.imshow((x * layer1.weights).reshape([28, 28]))\n",
    "plt.title('Картинка * веса1')\n",
    "\n",
    "plt.subplot(2, 4, 4)\n",
    "plt.imshow(activations1.reshape(1, 1))\n",
    "plt.title('Активации1')\n",
    "\n",
    "plt.subplot(2, 4, 5)\n",
    "plt.imshow(pred_probas.reshape(1, 1))\n",
    "plt.title('Вероятность')\n",
    "\n",
    "print('Результат применения 1-ого слоя (активации)       :', activations1)\n",
    "print('Размерность активаций1                            :', activations1.shape)\n",
    "\n",
    "print('Результат применения последнего слоя (вероятности):', pred_probas)"
   ]
  },
  {
   "cell_type": "markdown",
   "metadata": {},
   "source": [
    "Круто! А это была **логистическая регрессия** (которая решает задачу совсем не регрессии, а классификации).\n",
    "\n",
    "Можем собрать наш классификатор в один класс:"
   ]
  },
  {
   "cell_type": "code",
   "execution_count": 206,
   "metadata": {},
   "outputs": [
    {
     "data": {
      "text/plain": [
       "tensor(1.0000)"
      ]
     },
     "execution_count": 206,
     "metadata": {},
     "output_type": "execute_result"
    }
   ],
   "source": [
    "class IlyaNetwork(Layer):\n",
    "    \"\"\"\n",
    "    Класс для нашей нейронной сети\n",
    "    \"\"\"\n",
    "    def __init__(self):\n",
    "        self.layer1 = IlyaLayer1()\n",
    "        self.last_layer = IlyaLastLayer()\n",
    "    \n",
    "    def forward(self, input: torch.Tensor) -> torch.Tensor:\n",
    "        \"\"\"\n",
    "        Применение слоев сети в входной картинке input\n",
    "        \"\"\"\n",
    "        output1 = self.layer1.forward(input)\n",
    "        pred_probas = self.last_layer.forward(output1)\n",
    "        return pred_probas\n",
    "   \n",
    "\n",
    "network = IlyaNetwork()\n",
    "network.forward(x)"
   ]
  },
  {
   "cell_type": "markdown",
   "metadata": {},
   "source": [
    "Стоит посчитать его качество на вылидационной выборке:\n",
    "\n",
    "### Качество на Валидации"
   ]
  },
  {
   "cell_type": "code",
   "execution_count": null,
   "metadata": {},
   "outputs": [],
   "source": [
    "def accuracy(predictions: torch.Tensor, targets: torch.Tensor, threshold: float = 0.5):\n",
    "    \"\"\"точность предсказаний - доля верных ответов\"\"\"\n",
    "    ### <YOUR CODE HERE> ###\n",
    "#     return ?"
   ]
  },
  {
   "cell_type": "code",
   "execution_count": 238,
   "metadata": {},
   "outputs": [
    {
     "name": "stdout",
     "output_type": "stream",
     "text": [
      "Мы угадываем правильный класс картинки в 81.11% случаев на валидационной выборке.\n"
     ]
    }
   ],
   "source": [
    "predictions = torch.empty(len(X_test))\n",
    "for i, x in enumerate(X_test):\n",
    "    x_tensor = torch.tensor(x)\n",
    "    predictions[i] = network.forward(x_tensor)\n",
    "    \n",
    "y_test_tensor = torch.tensor(y_test)\n",
    "acc = accuracy(predictions, y_test_tensor)\n",
    "print(f\"Мы угадываем правильный класс картинки в {acc*100:.5}% случаев на валидационной выборке.\")"
   ]
  },
  {
   "cell_type": "markdown",
   "metadata": {},
   "source": [
    "### Оптимизируем с Помощью Мини-Батчей\n",
    "\n",
    "Давайте ускорим код, отвечающий за получения предсказаний и подсчет метрик. Если приглядеться в предыдущий кусок кода, то мы каждую картинку по отдельности пропускаем через сетку и получаем выход сети. Но намного быстрее будет пропустить через сеть сразу несколько примеров. Такая групка примеров называется мини-батчем (mini-batch), или иногда называются просто батчом.\n",
    "\n",
    "**Задание** Перепиши классы выше так, чтобы они могли принимать сразу мини-батч примеров и без помощи for-loops (то есть векторно) получали предсказание. \n",
    "\n",
    "Теперь мы можем получать предсказания быстрее (посчитайте качество, получив предсказания мини-батчами):"
   ]
  },
  {
   "cell_type": "code",
   "execution_count": 240,
   "metadata": {},
   "outputs": [],
   "source": [
    "from typing import Iterator, Tuple\n",
    "from tqdm.auto import trange\n",
    "\n",
    "\n",
    "def iterate_minibatches(inputs: np.ndarray, targets: np.ndarray, batch_size: int, shuffle: bool = False) \\\n",
    "        -> Iterator[Tuple[np.ndarray]]:\n",
    "    \"\"\"\n",
    "    Проходимся по датасету мини-батчами \n",
    "    \"\"\"\n",
    "    assert len(inputs) == len(targets)\n",
    "    \n",
    "    if shuffle:\n",
    "        indices = np.random.permutation(len(inputs))\n",
    "        \n",
    "    for start_idx in trange(0, len(inputs) - batch_size + 1, batch_size):\n",
    "        if shuffle:\n",
    "            excerpt = indices[start_idx: start_idx + batch_size]\n",
    "        else:\n",
    "            excerpt = slice(start_idx, start_idx + batch_size)\n",
    "        yield inputs[excerpt], targets[excerpt]"
   ]
  },
  {
   "cell_type": "code",
   "execution_count": 238,
   "metadata": {},
   "outputs": [
    {
     "name": "stdout",
     "output_type": "stream",
     "text": [
      "Мы угадываем правильный класс картинки в 81.11% случаев на валидационной выборке.\n"
     ]
    }
   ],
   "source": [
    "### <YOUR CODE HERE> ###\n",
    "    \n",
    "acc = ?\n",
    "print(f\"Мы угадываем правильный класс картинки в {acc*100:.5}% случаев на валидационной выборке.\")"
   ]
  },
  {
   "cell_type": "markdown",
   "metadata": {},
   "source": [
    "### Усложняем модель\n",
    "\n",
    "Пока мы построили руками простую линейную регрессию. Мы нашли один характерный паттерн пикселей для символа B. Давай попробуем придумать еще один паттерн для буквы B, и на основе активаций двух паттернов будем решать, какой изображен символ.\n",
    "\n",
    "_Важное условие:_ В качестве строительного материаламожно использовать только дифференцируемые функции (иногда torch потом не сумеет нам аналитически посчитать градиент). Например, это все функции без использования оператора `if` и без циклов."
   ]
  },
  {
   "cell_type": "code",
   "execution_count": null,
   "metadata": {},
   "outputs": [],
   "source": []
  },
  {
   "cell_type": "markdown",
   "metadata": {},
   "source": [
    "Чтобы сделать функцию предсказания сложнее, обычно добавляют следующие нелинейные функции (функции активации):\n",
    "\n",
    "![Функции активации](https://www.researchgate.net/profile/Junxi-Feng/publication/335845675/figure/fig3/AS:804124836765699@1568729709680/Commonly-used-activation-functions-a-Sigmoid-b-Tanh-c-ReLU-and-d-LReLU.ppm)"
   ]
  },
  {
   "cell_type": "code",
   "execution_count": null,
   "metadata": {},
   "outputs": [],
   "source": [
    "class ReLU(Layer):    \n",
    "    def forward(self, x):\n",
    "        \"\"\"f(x) = max(x)\"\"\"\n",
    "        return ?"
   ]
  },
  {
   "cell_type": "markdown",
   "metadata": {},
   "source": [
    "### Качество на Валидации"
   ]
  },
  {
   "cell_type": "code",
   "execution_count": null,
   "metadata": {},
   "outputs": [],
   "source": []
  }
 ],
 "metadata": {
  "kernelspec": {
   "display_name": "Python 3",
   "language": "python",
   "name": "python3"
  },
  "language_info": {
   "codemirror_mode": {
    "name": "ipython",
    "version": 3
   },
   "file_extension": ".py",
   "mimetype": "text/x-python",
   "name": "python",
   "nbconvert_exporter": "python",
   "pygments_lexer": "ipython3",
   "version": "3.7.15"
  },
  "toc": {
   "colors": {
    "hover_highlight": "#DAA520",
    "navigate_num": "#000000",
    "navigate_text": "#333333",
    "running_highlight": "#FF0000",
    "selected_highlight": "#FFD700",
    "sidebar_border": "#EEEEEE",
    "wrapper_background": "#FFFFFF"
   },
   "moveMenuLeft": true,
   "nav_menu": {
    "height": "264px",
    "width": "252px"
   },
   "navigate_menu": true,
   "number_sections": true,
   "sideBar": true,
   "threshold": 4,
   "toc_cell": false,
   "toc_section_display": "block",
   "toc_window_display": false,
   "widenNotebook": false
  }
 },
 "nbformat": 4,
 "nbformat_minor": 4
}
