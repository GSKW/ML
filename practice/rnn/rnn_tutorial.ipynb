{
 "cells": [
  {
   "cell_type": "code",
   "execution_count": 1,
   "metadata": {},
   "outputs": [
    {
     "name": "stderr",
     "output_type": "stream",
     "text": [
      "/home/nkpalchikov/supportai_ml/lib/python3.7/site-packages/tqdm/auto.py:22: TqdmWarning: IProgress not found. Please update jupyter and ipywidgets. See https://ipywidgets.readthedocs.io/en/stable/user_install.html\n",
      "  from .autonotebook import tqdm as notebook_tqdm\n"
     ]
    }
   ],
   "source": [
    "import typing as tp\n",
    "\n",
    "import numpy as np\n",
    "import matplotlib.pyplot as plt\n",
    "import torch\n",
    "from torch.nn import functional as F\n",
    "from sklearn.datasets import load_boston\n",
    "from IPython.display import clear_output"
   ]
  },
  {
   "cell_type": "markdown",
   "metadata": {},
   "source": [
    "## Генерация текстов -- начало\n",
    "\n",
    "Презентация про RNN доступна по ссылке: https://docs.google.com/presentation/d/1tEvg1ozFFX_YzVBhCTR18fhmdsX51W4QgTaGzWRvkEE/edit?usp=sharing\n",
    "\n",
    "Существуют блоки, созданные специально для обработки последовательностей, какой является текст. Можно сказать, что текст -- это последовательность символов, слов, подслов и так далее. Части, из которых состоит текст, называются *токенами*. А первым этапом при решении любой NLP задачи является токенизация.\n",
    "Как правило, разным токенам сопоставляются их id -- числа."
   ]
  },
  {
   "cell_type": "markdown",
   "metadata": {},
   "source": [
    "**Задание 1** Дан файл Names.txt -- содержащий 55 тысяч индийских имён. Научимся же генерировать на их основе новые!\n",
    "\n",
    "1) Прочитайте этот файлик и положите имена в список `all_names`\n",
    "2) Сделайте из него три списка имён -- train, val и test -- разбейте файл в соотношении 0.8, 0.1, и 0.1 соответственно. Для этого подходит функция `train_test_split`из `sklearn`"
   ]
  },
  {
   "cell_type": "code",
   "execution_count": 48,
   "metadata": {},
   "outputs": [],
   "source": [
    "<YOUR CODE>"
   ]
  },
  {
   "cell_type": "code",
   "execution_count": 49,
   "metadata": {},
   "outputs": [],
   "source": [
    "assert set(train + test + val) == set(all_names)\n",
    "assert abs(len(train) / len(all_names) - 0.8) <= 0.01\n",
    "assert abs(len(test) / len(all_names) - 0.1) <= 0.01\n",
    "assert abs(len(val) / len(all_names) - 0.1) <= 0.01"
   ]
  },
  {
   "cell_type": "markdown",
   "metadata": {},
   "source": [
    "**Задание 2** Посчитайте два словарика -- `id2label` и `label2id`. Первый отображает айди токена (в данном случае токен = символ) в токен(символ). Второй словарик же просто обратен первому. Важно, что оба словаря должны быть построены на основе train, причём помимо символов оттуда должны содержаться следующие:\n",
    " - '$' -- этот символ будет обозначать начало последовательности, его id должен быть равен 2\n",
    " - '^' -- этот -- конец последовательности, его id должен быть равен 1\n",
    " - '_' -- этот -- отступ, позже будет объяснено зачем, его id должен быть равен 0"
   ]
  },
  {
   "cell_type": "code",
   "execution_count": 50,
   "metadata": {},
   "outputs": [],
   "source": [
    "<YOUR CODE>"
   ]
  },
  {
   "cell_type": "code",
   "execution_count": 51,
   "metadata": {},
   "outputs": [],
   "source": [
    "assert len(id2label) == len(label2id)\n",
    "assert '_' in label2id\n",
    "assert '$' in label2id\n",
    "assert '^' in label2id\n",
    "assert label2id['_'] == 0\n",
    "assert label2id['$'] == 1\n",
    "assert label2id['^'] == 2\n",
    "for i in id2label:\n",
    "    assert i == label2id[id2label[i]]\n"
   ]
  },
  {
   "cell_type": "markdown",
   "metadata": {},
   "source": [
    "**Задание 3** Реализуйте функцию tokenize"
   ]
  },
  {
   "cell_type": "code",
   "execution_count": 52,
   "metadata": {},
   "outputs": [],
   "source": [
    "def tokenize(name: str) -> tp.List[int]:\n",
    "    \"\"\"принимает на вход имя, возвращает список из айдишников токенов. Так же добавляет токен начала последовательности в начало\n",
    "    и токен конца последовательности в конец\n",
    "    \"\"\"\n",
    "    <YOUR CODE>\n",
    "    "
   ]
  },
  {
   "cell_type": "code",
   "execution_count": 53,
   "metadata": {},
   "outputs": [],
   "source": [
    "assert len(tokenize('hello')) == 7\n",
    "assert len(tokenize('')) == 2"
   ]
  },
  {
   "cell_type": "markdown",
   "metadata": {},
   "source": [
    "Теперь снова вернёмся к нейросетям. Наша цель -- научиться генерировать тексты.\n",
    "\n",
    "#### Как генерировать тексты\n",
    "\n",
    "Для этого обычно учат нейросеть по уже написанному куску текста предсказывать следующий токен. Таким образом, можно генерировать текст токен за токеном (сгенерировали следующий токен, дописали, то, что получилось -- подали сети на вход, и т.д., пока не сгенерируем конечный токен). Такая стратегия называется *жадной генерацией*.\n",
    "\n",
    "**И это рассуждение очень опасно**\n",
    "Если не вдаваться в подробности, то сгенерировав неправильные первые несколько токенов, нейросеть при дальнейшей генерации будет получать неправильный, плохой вход -- и как следствие, будет генерировать неправильный выход.\n",
    "Вся логика следует из такой математики:\n",
    "\n",
    "$$\n",
    "p(x_1, x_2, \\ldots, x_n) = p(x_n | x_{n - 1}, x_{n - 2}, \\ldots, x_1) p(x_{n - 1} | x_{n - 2}, \\ldots, x_1) \\ldots p(x_1 | x_0) p(x_0)\n",
    "$$\n",
    "\n",
    "Слева -- вероятность всего предложения, $x_1, x_2, \\ldots x_n$ -- его токены. Дело в том, что чтобы максимизировать эту вероятность (сделать предложение как можно более правдоподобным), совершенно необязательно оптимизировать множители справа налево. Вполне возможно, что оптимум будет при маленьком $p(x_0)$ -- сгенерированном втором символе, но при этом засчет него остальные множители будут огромны\n",
    "\n",
    "В конце нашего недельного курса мы поговорим об эвристиках, как бороться с этой проблемой, ну а пока что остановимся на жадной генерации\n",
    "\n",
    "#### Как сделать нейросеть, которая делает это\n",
    "Несколько слов про рекуррентные нейронные сети. Естественно, всё уже реализованно в pytorch, поэтому рассмотрим на примере"
   ]
  },
  {
   "cell_type": "markdown",
   "metadata": {},
   "source": [
    "\n",
    "![Image of Yaktocat](https://lena-voita.github.io/resources/lectures/text_clf/neural/rnn/general_cell-min.png)"
   ]
  },
  {
   "cell_type": "code",
   "execution_count": 54,
   "metadata": {},
   "outputs": [],
   "source": [
    "# основа любой рекуррентной нейросети -- подобный блок\n",
    "rnn_cell = nn.RNNCell(\n",
    "    input_size=64,\n",
    "    hidden_size=64,\n",
    ")"
   ]
  },
  {
   "cell_type": "code",
   "execution_count": 55,
   "metadata": {},
   "outputs": [],
   "source": [
    "initial_hidden_state = torch.zeros(1, 64)  # forward метод rnn-cell-а принимает некоторый вектор, называющийся состоянием\n",
    "# сделаем его нулевым. Это состояние -- \"память\" нашего блока.\n",
    "current_input = torch.ones(1, 64) # так rnn_cell принимает текущий input -- это признаки какого-нибудь токена"
   ]
  },
  {
   "cell_type": "code",
   "execution_count": 56,
   "metadata": {},
   "outputs": [],
   "source": [
    "updated_hidden_state = rnn_cell(current_input, initial_hidden_state) "
   ]
  },
  {
   "cell_type": "markdown",
   "metadata": {},
   "source": [
    "RNN взял текущий вектор, взял предыдущие состояние своей \"памяти\" -- initial_hidden_state, и обновил это состояние, получили вектор updated_hidden_state -- обновленную память.\n",
    "Таким образом, если у нас есть некоторая последовательность векторов, то мы можем обработать эту последовательность с помощью rnn_cell, учитывая порядок (по рекуррентности, в каждый момент времени updated_hidden_state будет содержать в себе информацию о векторах, которые мы уже обработали)\n",
    "\n",
    "У нас сейчас есть последовательность токенов. Как можно заметить, это ни разу не векторы -- это последовательность чисел.\n",
    "Но при этом для каждого уникального символа нет никаких проблем завести по отдельному вектору, после этого последовательность токенов превращать в последовательность векторов, просто беря для каждого токена соответствующий вектор.\n",
    "Ровно этим и занимается модуль nn.Embedding"
   ]
  },
  {
   "cell_type": "code",
   "execution_count": 57,
   "metadata": {},
   "outputs": [],
   "source": [
    "embeddings = nn.Embedding(3, 64)  # тут мы заводим 3 вектора размера 64. Это если бы всего уникальных токенов было 3, и их id были бы [0, 1, 2]"
   ]
  },
  {
   "cell_type": "code",
   "execution_count": 58,
   "metadata": {},
   "outputs": [
    {
     "data": {
      "text/plain": [
       "torch.Size([3, 1, 64])"
      ]
     },
     "execution_count": 58,
     "metadata": {},
     "output_type": "execute_result"
    }
   ],
   "source": [
    "token_ids = torch.tensor([0, 1, 2]).unsqueeze(1)\n",
    "token_embeddings = embeddings(token_ids) # а тут мы взяли для каждого токена соответствующий айдишник из таблицы\n",
    "token_embeddings.shape "
   ]
  },
  {
   "cell_type": "code",
   "execution_count": 59,
   "metadata": {},
   "outputs": [
    {
     "data": {
      "text/plain": [
       "(True, True, True)"
      ]
     },
     "execution_count": 59,
     "metadata": {},
     "output_type": "execute_result"
    }
   ],
   "source": [
    "torch.allclose(token_embeddings[0], embeddings.weight[0]), torch.allclose(token_embeddings[1], embeddings.weight[1]), torch.allclose(token_embeddings[2], embeddings.weight[2])\n",
    "# . ^--- убеждаемся в том, что этот модуль просто берет векторы с соответствующими индексами из таблички"
   ]
  },
  {
   "cell_type": "code",
   "execution_count": 60,
   "metadata": {},
   "outputs": [
    {
     "name": "stderr",
     "output_type": "stream",
     "text": [
      "/home/nkpalchikov/supportai_ml/lib/python3.7/site-packages/IPython/core/display.py:724: UserWarning: Consider using IPython.display.IFrame instead\n",
      "  warnings.warn(\"Consider using IPython.display.IFrame instead\")\n"
     ]
    },
    {
     "data": {
      "text/html": [
       "<iframe width=\"560\" height=\"315\" src=\"https://lena-voita.github.io/resources/lectures/text_clf/neural/rnn/rnn_reads_text.mp4\" frameborder=\"0\" allowfullscreen></iframe>"
      ],
      "text/plain": [
       "<IPython.core.display.HTML object>"
      ]
     },
     "execution_count": 60,
     "metadata": {},
     "output_type": "execute_result"
    }
   ],
   "source": [
    "from IPython.display import HTML\n",
    "\n",
    "HTML('<iframe width=\"560\" height=\"315\" src=\"https://lena-voita.github.io/resources/lectures/text_clf/neural/rnn/rnn_reads_text.mp4\" frameborder=\"0\" allowfullscreen></iframe>')"
   ]
  },
  {
   "cell_type": "markdown",
   "metadata": {},
   "source": [
    "Теперь, если мы эти три токена, и прочитаем их справа налево с помощью rnn_cell, то мы получим 3 hidden_state-а для первого, второго и третьего токенов. При этом\n",
    "первый hidden_state учитывает только первый токен, второй -- первые два, а третий -- первые три, то есть всю последовательность. Так, с помощью rnn мы научились обрабатывать получать вектор для начала последовательности любого размера."
   ]
  },
  {
   "cell_type": "code",
   "execution_count": 61,
   "metadata": {},
   "outputs": [],
   "source": [
    "hidden_states = []\n",
    "current_hidden_state = initial_hidden_state\n",
    "for t in range(3):\n",
    "    current_hidden_state = rnn_cell(token_embeddings[t], current_hidden_state)\n",
    "    hidden_states.append(current_hidden_state)"
   ]
  },
  {
   "cell_type": "code",
   "execution_count": 62,
   "metadata": {},
   "outputs": [
    {
     "data": {
      "text/plain": [
       "tensor([[-0.7837,  0.8407, -0.2745, -0.1493, -0.4460,  0.7197, -0.2506,  0.0010,\n",
       "          0.0961, -0.7175,  0.5508, -0.0834, -0.1324, -0.2036, -0.5617,  0.7192,\n",
       "          0.0187,  0.4755, -0.3320, -0.2184,  0.8880, -0.6955, -0.6984,  0.8869,\n",
       "          0.7881,  0.1389, -0.7269, -0.7416, -0.3496,  0.9009, -0.3774,  0.3920,\n",
       "         -0.2197, -0.9028, -0.1793,  0.2232,  0.5920, -0.3861, -0.5051,  0.6581,\n",
       "         -0.7186,  0.3915,  0.4986, -0.4193,  0.5367,  0.6992, -0.4717,  0.4857,\n",
       "          0.6948, -0.5824,  0.4854,  0.3504, -0.2879,  0.7174,  0.1959, -0.9708,\n",
       "          0.4016, -0.0591, -0.7237,  0.2113,  0.4515,  0.0097, -0.6487,  0.1707]],\n",
       "       grad_fn=<TanhBackward0>)"
      ]
     },
     "execution_count": 62,
     "metadata": {},
     "output_type": "execute_result"
    }
   ],
   "source": [
    "hidden_states[0]  # эмбеддинг последовательности [0]\n",
    "hidden_states[1]  # эмбеддинг последовательности [0, 1]\n",
    "hidden_states[2]  # эмбеддинг последовательности [0, 1, 2]"
   ]
  },
  {
   "cell_type": "code",
   "execution_count": 63,
   "metadata": {},
   "outputs": [],
   "source": [
    "all_hidden_states = torch.stack(hidden_states)"
   ]
  },
  {
   "cell_type": "code",
   "execution_count": 64,
   "metadata": {},
   "outputs": [
    {
     "data": {
      "text/plain": [
       "torch.Size([3, 1, 64])"
      ]
     },
     "execution_count": 64,
     "metadata": {},
     "output_type": "execute_result"
    }
   ],
   "source": [
    "all_hidden_states.shape"
   ]
  },
  {
   "cell_type": "markdown",
   "metadata": {},
   "source": [
    "Циклы это не очень хорошо, но есть блок, который делает такой цикл за вас:"
   ]
  },
  {
   "cell_type": "code",
   "execution_count": 65,
   "metadata": {},
   "outputs": [],
   "source": [
    "rnn = nn.RNN(input_size=64, hidden_size=64)"
   ]
  },
  {
   "cell_type": "code",
   "execution_count": 66,
   "metadata": {},
   "outputs": [],
   "source": [
    "all_hidden_states, last_hidden_state = rnn(token_embeddings)"
   ]
  },
  {
   "cell_type": "code",
   "execution_count": 67,
   "metadata": {},
   "outputs": [
    {
     "data": {
      "text/plain": [
       "torch.Size([3, 1, 64])"
      ]
     },
     "execution_count": 67,
     "metadata": {},
     "output_type": "execute_result"
    }
   ],
   "source": [
    "all_hidden_states.shape"
   ]
  },
  {
   "cell_type": "markdown",
   "metadata": {},
   "source": [
    "Держим в голове цель, нам надо предсказать следующий токен по предыдущим, то есть по некоторому началу последовательности нужно предсказать токен, который будет следующим.\n",
    "Векторные представления таких \"начал\" разной длины мы научились предсказывать. Теперь остается только добавить классификатор, у которого количество классов будет равно количеству уникальных токенов. Если бы такое количество было равно трём, то классификатор мог бы выглядеть просто как-то так:"
   ]
  },
  {
   "cell_type": "code",
   "execution_count": 68,
   "metadata": {},
   "outputs": [],
   "source": [
    "classifier = nn.Linear(64, 3)"
   ]
  },
  {
   "cell_type": "code",
   "execution_count": 69,
   "metadata": {},
   "outputs": [
    {
     "data": {
      "text/plain": [
       "torch.Size([3, 1, 3])"
      ]
     },
     "execution_count": 69,
     "metadata": {},
     "output_type": "execute_result"
    }
   ],
   "source": [
    "output = classifier(all_hidden_states) # три распределения для каждой позиции -- что будет идти дальше\n",
    "output.shape"
   ]
  },
  {
   "cell_type": "code",
   "execution_count": 70,
   "metadata": {},
   "outputs": [
    {
     "data": {
      "text/plain": [
       "tensor([[0.2659, 0.3909, 0.3432]], grad_fn=<SoftmaxBackward0>)"
      ]
     },
     "execution_count": 70,
     "metadata": {},
     "output_type": "execute_result"
    }
   ],
   "source": [
    "torch.softmax(output[0], dim=-1)  # \"предикт\" того, что будет идти на позиции 1 \n",
    "torch.softmax(output[1], dim=-1)  # \"предикт\" того, что будет идти на  позиции 2\n",
    "torch.softmax(output[2], dim=-1)  # \"предикт\" того, что будет идти на позиции 3"
   ]
  },
  {
   "cell_type": "markdown",
   "metadata": {},
   "source": [
    "А такой классификатор можно обучать с помощью кросс-энтропии.\n",
    "В торче это тоже уже заимплеменчено\n",
    "```\n",
    "from torch.nn import F\n",
    "loss = F.cross_entropy_loss(predicted, true, ... (тут можно еще передавать параметры, см. документацию))\n",
    "```\n",
    "\n",
    "Теперь соберем всё вместе и научимся генерировать имена :)"
   ]
  },
  {
   "cell_type": "markdown",
   "metadata": {},
   "source": [
    "### Задание 3\n",
    "Реализуйте функцию. Она нужна для того, чтобы потом батчами подавать слова, вычислять функцию потерь, делать шаг градиентного спуска (и так по кругу, как всегда)"
   ]
  },
  {
   "cell_type": "code",
   "execution_count": 71,
   "metadata": {},
   "outputs": [],
   "source": [
    "def collate(names: tp.List[str]) -> torch.Tensor:\n",
    "    \"\"\"принимает на вход батч имён. Токенизирует их, и получившиеся списки токенов\n",
    "    объединяет в тензор, предварительно дополнив каждый из них нулями (индексом токена _) при необходимости\n",
    "\n",
    "    Для этого и пригодился токен _ -- чтобы можно было передавать последовательности разной длины в нейросеть\n",
    "    для параллельной обработки\n",
    "\n",
    "    возвращаемый тензор должен иметь размерность [максимальная длина, размер батча (len(names))]\n",
    "    \"\"\"\n",
    "    <YOUR CODE>\n",
    "    "
   ]
  },
  {
   "cell_type": "code",
   "execution_count": 72,
   "metadata": {},
   "outputs": [],
   "source": [
    "output = collate(['hi', 'my', 'naame'])\n",
    "assert output.shape == (7, 3)\n",
    "assert output[-1][0] == 0\n",
    "output = collate(['hi'])\n",
    "assert output.shape == (4, 1)\n",
    "assert output[-1] == 2\n",
    "assert output[0] == 1"
   ]
  },
  {
   "cell_type": "markdown",
   "metadata": {},
   "source": [
    "### Задание 4\n",
    "Реализуйте простую RNN для генерации имён"
   ]
  },
  {
   "cell_type": "code",
   "execution_count": 73,
   "metadata": {},
   "outputs": [],
   "source": [
    "class RNNNameGenerator(nn.Module):\n",
    "    def __init__(\n",
    "        self,\n",
    "        number_of_unique_tokens: int,\n",
    "        hidden_size: int, \n",
    "        embedding_size: int,\n",
    "    ) -> None:\n",
    "        super().__init__()\n",
    "        self.embeddings = nn.Embedding(\n",
    "            <YOUR CODE>\n",
    "        )\n",
    "        self.rnn = <YOUR CODE>\n",
    "        self.classifier = <YOUR CODE>\n",
    "\n",
    "    def forward(self, prefix_token_ids: torch.Tensor) -> torch.Tensor:\n",
    "        \"\"\"Генерирует предсказания следующих токенов для prefix_token_ids\n",
    "\n",
    "        :param prefix_input_ids: тензор размера (максимальная длина в батче - 1, размер батча)\n",
    "        :type prefix_input_ids: torch.Tensor\n",
    "        :return: тензор размера (максимальная длина в батче - 1, размер батча, количество уникальных токенов)\n",
    "            важно, что должны возвращаться логиты, то есть то, что ДО softmax\n",
    "        :rtype: torch.Tensor\n",
    "        \"\"\"\n",
    "        <YOUR CODE>"
   ]
  },
  {
   "cell_type": "code",
   "execution_count": 74,
   "metadata": {},
   "outputs": [],
   "source": [
    "model = RNNNameGenerator(13, 32, 64)\n",
    "output = model(torch.ones(24, 3).long())\n",
    "assert output.shape == (24, 3, 13)\n",
    "model = RNNNameGenerator(13, 32, 64)\n",
    "output = model(torch.ones(24, 1).long())\n",
    "assert output.shape == (24, 1, 13)\n",
    "\n",
    "assert output[0].sum() != 1.0, \"plz return logits, это то, что до софтмакса\""
   ]
  },
  {
   "cell_type": "code",
   "execution_count": 75,
   "metadata": {},
   "outputs": [
    {
     "data": {
      "text/plain": [
       "torch.Size([24, 1, 13])"
      ]
     },
     "execution_count": 75,
     "metadata": {},
     "output_type": "execute_result"
    }
   ],
   "source": [
    "output.shape"
   ]
  },
  {
   "cell_type": "markdown",
   "metadata": {},
   "source": [
    "### Задание 5\n",
    "Напишите лосс функцию"
   ]
  },
  {
   "cell_type": "code",
   "execution_count": 76,
   "metadata": {},
   "outputs": [],
   "source": [
    "def calculate_loss_function(\n",
    "    logits: torch.Tensor,\n",
    "    true_labels: torch.Tensor\n",
    ") -> torch.Tensor:\n",
    "    \"\"\"\n",
    "    Считает кроссэнтропию, но усредненную только по позициям, где не символ '_'\n",
    "    (считаем, что учить предсказывать этот символ бессмысленно)\n",
    "    hint: используйте F.cross_entropy_loss c reduction='none', усредните лосс самостоятельно\n",
    "    :param logits: of shape[max_len - 1, batch_size, num_unique_tokens]\n",
    "    :type logits: torch.Tensor\n",
    "    :param true_labels: of shape[max_len - 1, batch_size]\n",
    "    :type true_labels: torch.Tensor\n",
    "    \"\"\"\n",
    "    <YOUR CODE>"
   ]
  },
  {
   "cell_type": "code",
   "execution_count": 77,
   "metadata": {},
   "outputs": [],
   "source": [
    "output = model(torch.ones(24, 3).long())\n",
    "loss = calculate_loss_function(output, torch.ones(24, 3).long())\n",
    "assert loss.shape == ()"
   ]
  },
  {
   "cell_type": "code",
   "execution_count": null,
   "metadata": {},
   "outputs": [],
   "source": []
  },
  {
   "cell_type": "markdown",
   "metadata": {},
   "source": [
    "Объявим вспомогательные классы для работы с даннными:"
   ]
  },
  {
   "cell_type": "code",
   "execution_count": 78,
   "metadata": {},
   "outputs": [],
   "source": [
    "class Dataset(torch.utils.data.Dataset):\n",
    "    def __init__(self, words: tp.List[str]):\n",
    "        self.words = words\n",
    "\n",
    "    def __len__(self): \n",
    "        return len(self.words)\n",
    "\n",
    "    def __getitem__(self, idx):\n",
    "        return self.words[idx]"
   ]
  },
  {
   "cell_type": "code",
   "execution_count": 79,
   "metadata": {},
   "outputs": [],
   "source": [
    "train_dataset= Dataset(train)\n",
    "val_dataset = Dataset(val)\n",
    "test_dataset = Dataset(test)"
   ]
  },
  {
   "cell_type": "code",
   "execution_count": 80,
   "metadata": {},
   "outputs": [],
   "source": [
    "train_dataloader = torch.utils.data.DataLoader(\n",
    "    train_dataset,\n",
    "    batch_size=128,\n",
    "    shuffle=True,\n",
    "    collate_fn=collate,\n",
    ")\n",
    "val_dataloader = torch.utils.data.DataLoader(\n",
    "    train_dataset,\n",
    "    batch_size=128,\n",
    "    shuffle=False,\n",
    "    collate_fn=collate,\n",
    "    drop_last=True\n",
    ")\n",
    "test_dataloader = torch.utils.data.DataLoader(\n",
    "    train_dataset,\n",
    "    batch_size=128,\n",
    "    shuffle=False,\n",
    "    collate_fn=collate,\n",
    "    drop_last=True,\n",
    ")"
   ]
  },
  {
   "cell_type": "markdown",
   "metadata": {},
   "source": [
    "### Задание 6\n",
    "Реализуйте функцию"
   ]
  },
  {
   "cell_type": "code",
   "execution_count": 81,
   "metadata": {},
   "outputs": [],
   "source": [
    "def generate(model):\n",
    "    current = [1]  # начинаем с токена \"начало последовательности\"\n",
    "    while current[-1] != 2:\n",
    "        out = <YOUR CODE>  # получаем вероятности символов следующего токена\n",
    "        next = <YOUR CODE>  # сэмплируем этот токен пропорционально полученным вероятностям (torch.distributions.Categorical)\n",
    "        current.append(next.item())\n",
    "    \n",
    "    return \"\".join([id2label[c] for c in current[1:-1]])\n"
   ]
  },
  {
   "cell_type": "code",
   "execution_count": 82,
   "metadata": {},
   "outputs": [
    {
     "data": {
      "text/plain": [
       "'$-CF CAAF.$AACAA'"
      ]
     },
     "execution_count": 82,
     "metadata": {},
     "output_type": "execute_result"
    }
   ],
   "source": [
    "generate(model) # необученная генерация "
   ]
  },
  {
   "cell_type": "code",
   "execution_count": 83,
   "metadata": {},
   "outputs": [],
   "source": [
    "n_epochs = 20\n",
    "hidden_size = 64\n",
    "embedding_size = 64"
   ]
  },
  {
   "cell_type": "code",
   "execution_count": 84,
   "metadata": {},
   "outputs": [],
   "source": [
    "model = RNNNameGenerator(\n",
    "    number_of_unique_tokens=len(id2label),\n",
    "    hidden_size=hidden_size,\n",
    "    embedding_size=embedding_size,\n",
    ")\n",
    "optimizer = torch.optim.Adam(model.parameters())"
   ]
  },
  {
   "cell_type": "markdown",
   "metadata": {},
   "source": [
    "### Задание 7 \n",
    "Всё вместе"
   ]
  },
  {
   "cell_type": "code",
   "execution_count": 85,
   "metadata": {},
   "outputs": [
    {
     "data": {
      "image/png": "[encoded data removed]",
      "text/plain": [
       "<Figure size 432x288 with 1 Axes>"
      ]
     },
     "metadata": {
      "needs_background": "light"
     },
     "output_type": "display_data"
    }
   ],
   "source": [
    "train_step = []\n",
    "validation_step = []\n",
    "train_loss_history = []\n",
    "validation_loss_history = []\n",
    "global_step = 0\n",
    "\n",
    "for epoch in range(n_epochs):\n",
    "    print(epoch)\n",
    "    for train_batch in train_dataloader:\n",
    "        # если хотим для каждого токена кроме последнего предсказать следующий, то что\n",
    "        # здесь на вход модели, а что на выход? (не стесняйтесь просить хинты)\n",
    "        x, y = <YOUR CODE>\n",
    "        # считаем логиты\n",
    "        <YOUR CODE>\n",
    "        # считаем лосс\n",
    "        <YOUR CODE>\n",
    "        # backward шаг\n",
    "        <YOUR CODE>\n",
    "        # шаг оптимизатора и зануление старых градиентов\n",
    "        optimizer.step()\n",
    "        optimizer.zero_grad()\n",
    "        global_step += 1\n",
    "        train_step.append(global_step)\n",
    "        train_loss_history.append(loss.item()) \n",
    "    \n",
    "    total_val_loss = 0.0\n",
    "    for val_batch in val_dataloader:\n",
    "        with torch.no_grad():\n",
    "            x, y = <YOUR CODE>\n",
    "            logits = model(x)\n",
    "            loss = calculate_loss_function(logits, y)\n",
    "            total_val_loss += loss.item()\n",
    "    total_val_loss /= len(val_dataloader)\n",
    "    validation_step.append(global_step)\n",
    "    validation_loss_history.append(total_val_loss)\n",
    "\n",
    "    clear_output()\n",
    "    plt.plot(train_step, train_loss_history, label='train')\n",
    "    plt.plot(validation_step, validation_loss_history, label='validation')\n",
    "    plt.xlabel('training step')\n",
    "    plt.ylabel('cross entropy')\n",
    "    plt.title('training name generator')\n",
    "    plt.grid()\n",
    "    plt.legend()\n",
    "    plt.show()\n",
    "        \n"
   ]
  },
  {
   "cell_type": "code",
   "execution_count": 86,
   "metadata": {},
   "outputs": [],
   "source": [
    "total_test_loss = 0.0\n",
    "for test_batch in test_dataloader:\n",
    "    with torch.no_grad():\n",
    "        x, y = <YOUR CODE>\n",
    "        logits = model(x)\n",
    "        loss = calculate_loss_function(logits, y)\n",
    "        total_test_loss += loss.item()\n",
    "total_test_loss /= len(test_dataloader)\n",
    "\n",
    "\n",
    "assert total_test_loss < 2"
   ]
  },
  {
   "cell_type": "code",
   "execution_count": null,
   "metadata": {},
   "outputs": [],
   "source": [
    "print(\"Generated names\")  # обученная генерация\n",
    "for _ in range(20):\n",
    "    print(generate(model))\n"
   ]
  },
  {
   "cell_type": "markdown",
   "metadata": {},
   "source": [
    "## Бонус"
   ]
  },
  {
   "cell_type": "markdown",
   "metadata": {},
   "source": [
    "Генерировать можно очень много чего, и на разных данных. Еще данные можно смешивать, и тогда получается особенно весело --\n",
    "тексты выглядят как будто смесь из первых данных и вторых.\n",
    "Например, можно обучиться на Льве Толстом и анекдотах :)\n",
    "\n",
    "Здесь творческое задание, пожалуйста, творите :):)"
   ]
  }
 ],
 "metadata": {
  "kernelspec": {
   "display_name": "Python 3 (ipykernel)",
   "language": "python",
   "name": "python3"
  },
  "language_info": {
   "codemirror_mode": {
    "name": "ipython",
    "version": 3
   },
   "file_extension": ".py",
   "mimetype": "text/x-python",
   "name": "python",
   "nbconvert_exporter": "python",
   "pygments_lexer": "ipython3",
   "version": "3.7.15"
  },
  "vscode": {
   "interpreter": {
    "hash": "7b57e1ee3ce2d9880d8a1431cc6218bd6dd8233a03980e7e673f351183fa295a"
   }
  }
 },
 "nbformat": 4,
 "nbformat_minor": 2
}
