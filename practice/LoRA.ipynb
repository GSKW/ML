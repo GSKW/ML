{
 "cells": [
  {
   "cell_type": "code",
   "execution_count": 1,
   "metadata": {},
   "outputs": [],
   "source": [
    "# imports\n",
    "import torch\n",
    "import torchvision\n",
    "import torchvision.transforms as transforms # common image transformations that can be chained together using Compose\n",
    "import torch.nn as nn\n",
    "import torch.nn.functional as F\n",
    "import math\n",
    "import matplotlib.pyplot as plt\n",
    "import numpy as np"
   ]
  },
  {
   "cell_type": "code",
   "execution_count": 2,
   "metadata": {},
   "outputs": [
    {
     "name": "stdout",
     "output_type": "stream",
     "text": [
      "MPS is available!\n"
     ]
    }
   ],
   "source": [
    "# set up MPS\n",
    "device = 'cpu'\n",
    "\n",
    "if not torch.backends.mps.is_available():\n",
    "    if not torch.backends.mps.is_built():\n",
    "        print(\"MPS not available because the current PyTorch install was not \"\n",
    "              \"built with MPS enabled.\")\n",
    "    else:\n",
    "        print(\"MPS not available.\")\n",
    "\n",
    "else:\n",
    "    device = torch.device(\"mps\")\n",
    "    print(\"MPS is available!\")"
   ]
  },
  {
   "attachments": {},
   "cell_type": "markdown",
   "metadata": {},
   "source": [
    "The first step is to download our training and test datasets -- this is easy enough to do with `torchvision.datasets`. We apply a transform while downloading to convert the images into pytorch tensors and normalize their pixel values. From there, we create dataloaders"
   ]
  },
  {
   "cell_type": "code",
   "execution_count": 3,
   "metadata": {},
   "outputs": [],
   "source": [
    "transform = transforms.Compose(\n",
    "    [transforms.ToTensor(), # convert image to tensor\n",
    "      transforms.Normalize((0.5, 0.5, 0.5), (0.5, 0.5, 0.5))]) # normalize pixel values of image"
   ]
  },
  {
   "cell_type": "code",
   "execution_count": 4,
   "metadata": {},
   "outputs": [
    {
     "name": "stdout",
     "output_type": "stream",
     "text": [
      "Downloading https://www.cs.toronto.edu/~kriz/cifar-10-python.tar.gz to ./data/cifar-10-python.tar.gz\n"
     ]
    },
    {
     "name": "stderr",
     "output_type": "stream",
     "text": [
      "100%|████████████████████████| 170498071/170498071 [01:31<00:00, 1858112.60it/s]\n"
     ]
    },
    {
     "name": "stdout",
     "output_type": "stream",
     "text": [
      "Extracting ./data/cifar-10-python.tar.gz to ./data\n",
      "Files already downloaded and verified\n"
     ]
    }
   ],
   "source": [
    "batch_size = 4 # number of images per batch\n",
    "\n",
    "# download training dataset, apply transform, and load into DataLoader\n",
    "trainset = torchvision.datasets.CIFAR10(root='./data', train=True,\n",
    "                                        download=True, transform=transform)\n",
    "\n",
    "trainloader = torch.utils.data.DataLoader(trainset, batch_size=batch_size, # load data in batches\n",
    "                                          shuffle=True, num_workers=2)\n",
    "\n",
    "testset = torchvision.datasets.CIFAR10(root='./data', train=False, # download test dataset\n",
    "                                        download=True, transform=transform)\n",
    "\n",
    "testloader = torch.utils.data.DataLoader(testset, batch_size=batch_size, # load data in batches\n",
    "                                          shuffle=False, num_workers=2)\n",
    "\n",
    "classes = ('plane', 'car', 'bird', 'cat', 'deer', # class labels\n",
    "            'dog', 'frog', 'horse', 'ship', 'truck')\n",
    "\n"
   ]
  },
  {
   "cell_type": "code",
   "execution_count": 5,
   "metadata": {},
   "outputs": [],
   "source": [
    "# utility function to show one image\n",
    "def showimg(img):\n",
    "  img = img / 2 + 0.5 # unnormalize\n",
    "  npimg = img.numpy() # convert to numpy array\n",
    "  plt.imshow(np.transpose(npimg, (1, 2, 0))) # transpose to get correct image orientation\n",
    "  plt.show()"
   ]
  },
  {
   "cell_type": "code",
   "execution_count": 6,
   "metadata": {},
   "outputs": [],
   "source": [
    "# get some random training images\n",
    "dataiter = iter(trainloader) # create an iterator\n",
    "images, labels = next(dataiter) # get the next batch of images and labels"
   ]
  },
  {
   "attachments": {},
   "cell_type": "markdown",
   "metadata": {},
   "source": [
    "Next, we'll create a simple CNN to classify the images. This CNN consists of a few convolutional layers with maxpool layers between then, and then a few linear layers. The linear layers are the layers that will eventually be replaced with LoRA layers."
   ]
  },
  {
   "cell_type": "code",
   "execution_count": 7,
   "metadata": {},
   "outputs": [],
   "source": [
    "class ConvNet(nn.Module):\n",
    "    def __init__(self):\n",
    "        super().__init__()\n",
    "        # network layers defined below\n",
    "        self.conv1 = nn.Conv2d(\n",
    "            3, 6, 5\n",
    "        ) # 3 input channels, 6 output channels, 5x5 kernel\n",
    "        self.pool = nn.MaxPool2d(2, 2)  # 2x2 kernel, stride of 2\n",
    "        self.conv2 = nn.Conv2d(\n",
    "            6, 16, 5\n",
    "        ) # 6 input channels, 16 output channels, 5x5 kernel\n",
    "        self.conv3 = nn.Conv2d(\n",
    "            16, 32, 5\n",
    "        ) # 16 input channels, 32 output channels, 5x5 kernel\n",
    "        self.fc1 = nn.Linear(\n",
    "            16 * 5 * 5, 120\n",
    "        ) # 16 * 5 * 5 input features, 120 output features\n",
    "        self.fc2 = nn.Linear(120, 84)  # 120 input features, 84 output features\n",
    "        self.fc3 = nn.Linear(84, 10)  # 84 input features, 10 output features\n",
    "\n",
    "    def forward(self, x):  # define the forward pass\n",
    "        x = self.pool(F.relu(self.conv1(x)))  # convolve, apply ReLU, then pool\n",
    "        x = self.pool(F.relu(self.conv2(x)))  # convolve, apply ReLU, then pool\n",
    "        x = torch.flatten(x, 1)  # flatten all dimensions except batch\n",
    "        x = F.relu(self.fc1(x))  # apply ReLU\n",
    "        x = F.relu(self.fc2(x))  # apply ReLU\n",
    "        x = self.fc3(x)  # output layer\n",
    "        return x"
   ]
  },
  {
   "attachments": {},
   "cell_type": "markdown",
   "metadata": {},
   "source": [
    "We'll also want a function to check out a model and print which parameters are or aren't trainable.\n",
    "\n",
    "The assumption behind LoRA is that most large models are over-parameterized -- i.e., they have more weights than minimally required to represent the functions they're learning. LoRA carries this assumption even further and assumes that this concept also applies to model adaptations.\n",
    "\n",
    "This means that, when finetuning a model, you only need to change a small subset (low-rank) of the weights. LoRA does this in an interesting and efficient way. Instead of directly choosing a subset of a model's weights to change, LoRA trains \"auxiliary matrices\" `A` and `B` instead. Think of the dot product of these matrices as \"weight deltas\" that can be added to the weights in the original layer to implement the adaptation.\n",
    "\n",
    "For example, say you have a simple linear layer with `in_dim=100` and `out_dim=120`. `A` would be of shape `[in_dim, rank]` and `B` would be of shape `[rank, out_dim]`. The weights in the linear layer would be frozen and the auxiliary matrices would be trained instead. Afterward, at inference time, the output of the linear layer would be calculated as `output = linear(x) + B @ A`, effectively implementing the adaptations.\n",
    "\n",
    "`rank` is a hyperparameter that can be changed to reduce the memory and compute required to train the auxiliary matrices."
   ]
  },
  {
   "cell_type": "code",
   "execution_count": 9,
   "metadata": {},
   "outputs": [],
   "source": [
    "def print_params(model: nn.Module):\n",
    "  \"\"\"\n",
    "  Print the number of trainable and untrainable parameters in the model.\n",
    "  \n",
    "  Args:\n",
    "    model: The model to print the parameters of.\n",
    "  \"\"\"\n",
    "  trainable = 0 # number of trainable parameters\n",
    "  untrainable = 0 # number of untrainable parameters\n",
    "  trainable_size = 0 # size in mb of trainable parameters\n",
    "\n",
    "  print(\"Layers:\")\n",
    "  for name, param in model.named_parameters():\n",
    "    print(f\"- {name} of size {param.size()} -> {'trainable' if param.requires_grad else 'untrainable'}\")\n",
    "\n",
    "    if param.requires_grad: # if the parameter requires a gradient\n",
    "      trainable += param.numel() # increment the number of trainable parameters\n",
    "      trainable_size += param.numel() * param.element_size() # increment the size of trainable parameters\n",
    "    else: # otherwise\n",
    "      untrainable += param.numel() # increment the number of untrainable parameters\n",
    "\n",
    "  print(f\"\\nTrainable parameters: {trainable}\")\n",
    "  print(f\"Untrainable parameters: {untrainable}\")\n",
    "  print(f\"Total parameters: {trainable + untrainable}\")\n",
    "  print(f\"Percent trainable: {100 * trainable / (trainable + untrainable)}%\")\n",
    "  percentage = trainable_size / 1e6\n",
    "  print(f\"Size of trainable parameters: {percentage:.2f} mb\")"
   ]
  },
  {
   "cell_type": "code",
   "execution_count": 102,
   "metadata": {},
   "outputs": [
    {
     "name": "stdout",
     "output_type": "stream",
     "text": [
      "Layers:\n",
      "- conv1.weight of size torch.Size([6, 3, 5, 5]) -> trainable\n",
      "- conv1.bias of size torch.Size([6]) -> trainable\n",
      "- conv2.weight of size torch.Size([16, 6, 5, 5]) -> trainable\n",
      "- conv2.bias of size torch.Size([16]) -> trainable\n",
      "- conv3.weight of size torch.Size([32, 16, 5, 5]) -> trainable\n",
      "- conv3.bias of size torch.Size([32]) -> trainable\n",
      "- fc1.weight of size torch.Size([120, 400]) -> trainable\n",
      "- fc1.bias of size torch.Size([120]) -> trainable\n",
      "- fc2.weight of size torch.Size([84, 120]) -> trainable\n",
      "- fc2.bias of size torch.Size([84]) -> trainable\n",
      "- fc3.weight of size torch.Size([10, 84]) -> trainable\n",
      "- fc3.bias of size torch.Size([10]) -> trainable\n",
      "\n",
      "Trainable parameters: 74838\n",
      "Untrainable parameters: 0\n",
      "Total parameters: 74838\n",
      "Percent trainable: 100.0%\n",
      "Size of trainable parameters: 0.30 mb\n"
     ]
    }
   ],
   "source": [
    "net = ConvNet() # create a ConvNet object\n",
    "print_params(net) # print the number of trainable and untrainable parameters in the model"
   ]
  },
  {
   "cell_type": "code",
   "execution_count": 103,
   "metadata": {},
   "outputs": [],
   "source": [
    "import torch.optim as optim # package with common optimization algorithms\n",
    "\n",
    "criterion = nn.CrossEntropyLoss() # loss function\n",
    "optimizer = optim.SGD(net.parameters(), lr=0.001, momentum=0.9) # optimizer"
   ]
  },
  {
   "cell_type": "code",
   "execution_count": 104,
   "metadata": {},
   "outputs": [],
   "source": [
    "def train(model, criterion, optimizer, trainloader, num_epochs=2, device='cpu', announce=2000):\n",
    "    model.to(device)  # move the model to the device\n",
    "\n",
    "    for epoch in range(num_epochs):\n",
    "        running_loss = 0.0  # keep track of running loss\n",
    "        for i, data in enumerate(trainloader, 0):  # iterate over data\n",
    "            inputs, labels = data[0].to(device), data[1].to(device)  # get inputs and labels\n",
    "\n",
    "            # zero the parameter gradients (otherwise they are accumulated)\n",
    "            optimizer.zero_grad()\n",
    "\n",
    "            # forward + backward + optimize\n",
    "            outputs = model(inputs)  # forward pass\n",
    "            loss = criterion(outputs, labels)  # compute loss\n",
    "            loss.backward()  # backward pass\n",
    "            optimizer.step()  # optimize\n",
    "\n",
    "            # print statistics\n",
    "            running_loss += loss.item()\n",
    "            if i % 2000 == 1999:  # print every 2000 mini-batches\n",
    "                print('[%d, %5d] loss: %.3f' %\n",
    "                      (epoch + 1, i + 1, running_loss / announce))\n",
    "                running_loss = 0.0\n",
    "        print('Finished epoch %d' % (epoch + 1))\n",
    "\n",
    "    print('Finished training')"
   ]
  },
  {
   "cell_type": "code",
   "execution_count": 105,
   "metadata": {},
   "outputs": [
    {
     "name": "stdout",
     "output_type": "stream",
     "text": [
      "[1,  2000] loss: 2.199\n",
      "[1,  4000] loss: 1.849\n",
      "[1,  6000] loss: 1.656\n",
      "[1,  8000] loss: 1.562\n",
      "[1, 10000] loss: 1.500\n",
      "[1, 12000] loss: 1.446\n",
      "Finished epoch 1\n",
      "[2,  2000] loss: 1.388\n",
      "[2,  4000] loss: 1.372\n",
      "[2,  6000] loss: 1.323\n",
      "[2,  8000] loss: 1.298\n",
      "[2, 10000] loss: 1.317\n",
      "[2, 12000] loss: 1.264\n",
      "Finished epoch 2\n",
      "Finished training\n"
     ]
    }
   ],
   "source": [
    "train(net, criterion, optimizer, trainloader, num_epochs=2, device=device)"
   ]
  },
  {
   "cell_type": "code",
   "execution_count": 14,
   "metadata": {},
   "outputs": [],
   "source": [
    "PATH = './cifar_net.pth' # path to save the model\n",
    "torch.save(net.state_dict(), PATH) # save the model"
   ]
  },
  {
   "cell_type": "code",
   "execution_count": 75,
   "metadata": {},
   "outputs": [],
   "source": [
    "def test_model(model, testloader, classes):\n",
    "    \"\"\"\n",
    "    Test the model and print out the total accuracy and the accuracy for each class.\n",
    "    \n",
    "    Args:\n",
    "        model: The model to test.\n",
    "        testloader: The DataLoader for the test data.\n",
    "        classes: The class labels.\n",
    "    \"\"\"\n",
    "    dataiter = iter(testloader) # create an iterator\n",
    "    images, labels = next(dataiter) # get the next batch of images and labels\n",
    "\n",
    "    # print images\n",
    "    showimg(torchvision.utils.make_grid(images))\n",
    "    print('GroundTruth: ', ' '.join('%5s' % classes[labels[j]] for j in range(batch_size)))\n",
    "\n",
    "    images = images.to(device)\n",
    "    outputs = net(images) # get the network's predictions\n",
    "\n",
    "    _, predicted = torch.max(outputs, 1) # get the class with the highest score\n",
    "    print('Predicted: ', ' '.join('%5s' % classes[predicted[j]]\n",
    "                                for j in range(batch_size)))\n",
    "\n",
    "\n",
    "    correct = 0\n",
    "    total = 0\n",
    "    class_correct = list(0. for i in range(len(classes)))\n",
    "    class_total = list(0. for i in range(len(classes)))\n",
    "    accuracy_dict = {}\n",
    "\n",
    "    with torch.no_grad(): # don't compute gradients\n",
    "        for data in testloader: # iterate over data\n",
    "            images, labels = data[0].to(device), data[1].to(device) # get inputs and labels\n",
    "            outputs = model(images) # get the network's predictions\n",
    "            _, predicted = torch.max(outputs.data, 1) # get the class with the highest score\n",
    "            total += labels.size(0) # increment total by the number of labels\n",
    "            correct += (predicted == labels).sum().item() # increment correct by the number of correct predictions\n",
    "\n",
    "            c = (predicted == labels).squeeze()\n",
    "            for i in range(len(labels)):\n",
    "                label = labels[i]\n",
    "                class_correct[label] += c[i].item()\n",
    "                class_total[label] += 1\n",
    "\n",
    "    print(f\"Accuracy of the network on the 10000 test images: {100 * correct / total}%\\n\")\n",
    "\n",
    "    for i in range(len(classes)):\n",
    "        print('Accuracy of %5s : %2d %%' % (\n",
    "            classes[i], 100 * class_correct[i] / class_total[i]))\n",
    "        accuracy_dict[classes[i]] = 100 * class_correct[i] / class_total[i]\n",
    "\n",
    "    return accuracy_dict"
   ]
  },
  {
   "cell_type": "code",
   "execution_count": 107,
   "metadata": {},
   "outputs": [
    {
     "data": {
      "image/png": "[encoded data removed]",
      "text/plain": [
       "<Figure size 640x480 with 1 Axes>"
      ]
     },
     "metadata": {},
     "output_type": "display_data"
    },
    {
     "name": "stdout",
     "output_type": "stream",
     "text": [
      "GroundTruth:    cat  ship  ship plane\n",
      "Predicted:    cat  ship  ship  ship\n",
      "Accuracy of the network on the 10000 test images: 52.62%\n",
      "\n",
      "Accuracy of plane : 33 %\n",
      "Accuracy of   car : 52 %\n",
      "Accuracy of  bird : 49 %\n",
      "Accuracy of   cat : 18 %\n",
      "Accuracy of  deer : 57 %\n",
      "Accuracy of   dog : 46 %\n",
      "Accuracy of  frog : 69 %\n",
      "Accuracy of horse : 59 %\n",
      "Accuracy of  ship : 85 %\n",
      "Accuracy of truck : 56 %\n"
     ]
    }
   ],
   "source": [
    "initial_accuracy = test_model(net, testloader, classes)"
   ]
  },
  {
   "attachments": {},
   "cell_type": "markdown",
   "metadata": {},
   "source": [
    "The `LoRALinear` class is implemented below. This could be implemented in a ton of ways, but I chose create it in such a way that it could take the original linear layer as an argument and return a LoRA-adapted linear layer.\n",
    "\n",
    "Note that the original weights and biases from the linear layer are copied into `self.pretrained` and are then frozen so that the parameters won't be modified."
   ]
  },
  {
   "cell_type": "code",
   "execution_count": 97,
   "metadata": {},
   "outputs": [],
   "source": [
    "# let's start building out a LoRALinear layer\n",
    "class LoRALinear(nn.Module):\n",
    "  \"\"\"\n",
    "  This is a low-rank adapted linear layer that can be used to replace a standard linear layer.\n",
    "  \n",
    "  \n",
    "  Args:\n",
    "    module: The linear layer module to adapt.\n",
    "    rank: The rank of the approximation.\n",
    "    alpha: The alpha parameter.\n",
    "  \"\"\"\n",
    "\n",
    "  def __init__(\n",
    "    self,\n",
    "    module: nn.Module,\n",
    "    # in_dim: int,\n",
    "    # out_dim: int,\n",
    "    rank: int = 4,\n",
    "    alpha: float = 4.0\n",
    "  ):\n",
    "    # ensure the module is a linear layer\n",
    "    assert isinstance(module, nn.Linear), \"Module must be a linear layer.\"\n",
    "\n",
    "    super(LoRALinear, self).__init__() # call the __init__() method of the parent class\n",
    "    self.rank = rank # rank of the approximation\n",
    "    self.alpha = alpha # alpha parameter\n",
    "    self.scaling = self.alpha / self.rank # scaling factor\n",
    "    self.in_dim = module.in_features # number of input features\n",
    "    self.out_dim = module.out_features # number of output features\n",
    "    # self.device = module.device\n",
    "\n",
    "    # make sure that rank is at least 1\n",
    "    assert self.rank >= 1, \"Rank must be at least 1.\"\n",
    "\n",
    "    # recreate the linear layer and freeze it\n",
    "    # note: we will copy over the pretrained weights after initializing\n",
    "    self.new_layer = nn.Linear(self.in_dim, self.out_dim, bias=True, device = device)\n",
    "    for name, param in module.named_parameters():\n",
    "        setattr(self.new_layer, name, nn.Parameter(param.detach().clone(),requires_grad=False))\n",
    "    self.new_layer.requires_grad = False\n",
    "\n",
    "    # create the A and initialize with Kaiming\n",
    "    self.A = torch.empty((self.in_dim, self.rank))\n",
    "    nn.init.kaiming_normal_(self.A, mode='fan_out', nonlinearity='relu')\n",
    "    self.A = nn.Parameter(self.A.to(device), requires_grad=True)\n",
    "\n",
    "    # create B and initialize with zeros\n",
    "    self.B = nn.Parameter(torch.zeros((self.rank, self.out_dim)).to(device), requires_grad=True)\n",
    "\n",
    "    # setattr(self.new_layer, 'weight', self.new_layer.weight.clone().detach() + (self.A @ self.B).T)\n",
    "\n",
    "    # self.new_layer.requires_grad = False\n",
    "    # self.A.requires_grad = True\n",
    "    # self.B.requires_grad = True\n",
    "    \n",
    "\n",
    "  def forward(self, x: torch.Tensor):\n",
    "    \"\"\"\n",
    "    Perform the forward pass of the layer.\n",
    "    \n",
    "    Args:\n",
    "      x: The input tensor. [bs, in_dim]\n",
    "    \"\"\"\n",
    "    # self.A @ self.B [in_dim, out_dim]\n",
    "    # x_out [bs, out_dim]\n",
    "    x = self.new_layer(x) + x @ (self.A @ self.B) * (self.alpha / self.rank)\n",
    "    \n",
    "    return x\n",
    "  \n",
    "\n",
    "\n",
    "\n"
   ]
  },
  {
   "attachments": {},
   "cell_type": "markdown",
   "metadata": {},
   "source": [
    "Now we just need a few utility functions. Most importantly, I want to be able to take any given pytorch model that has `nn.Linear` layers and quickly adapt it so that it uses `LoRALinear` layers instead."
   ]
  },
  {
   "cell_type": "code",
   "execution_count": 98,
   "metadata": {},
   "outputs": [],
   "source": [
    "def freeze_parameters(model: nn.Module):\n",
    "  \"\"\"\n",
    "  Freeze all parameters in the model.\n",
    "  \n",
    "  Args:\n",
    "    model: The model to freeze the parameters of.\n",
    "  \"\"\"\n",
    "  for param in model.parameters(): # iterate over the parameters of the model\n",
    "    param.requires_grad = False # freeze the parameter\n",
    "\n",
    "def unfreeze_parameters(model: nn.Module):\n",
    "  \"\"\"\n",
    "  Unfreeze all parameters in the model.\n",
    "  \n",
    "  Args:\n",
    "    model: The model to unfreeze the parameters of.\n",
    "  \"\"\"\n",
    "  for param in model.parameters(): # iterate over the parameters of the model\n",
    "    param.requires_grad = True # unfreeze the parameter\n",
    "\n",
    "# create a function to replace all linear layers in the the net with LoRALinear layers\n",
    "def update_model(model: nn.Module, rank: int = 4, alpha: float = 4.0, device: str = 'cpu'):\n",
    "  \"\"\"\n",
    "  Replaces all linear layers in the model with LoRALinear layers.\n",
    "  \n",
    "  Args:\n",
    "    model: The model to update.\n",
    "    rank: The rank of the approximation.\n",
    "    alpha: The alpha parameter.\n",
    "  \"\"\"\n",
    "  # make sure there are no LoRALinear layers in the model; return if there are\n",
    "  for name, module in model.named_modules():\n",
    "    if isinstance(module, LoRALinear):\n",
    "      print(\"Model already contains LoRALinear layers.\")\n",
    "      return\n",
    "      \n",
    "  freeze_parameters(model) # freeze all parameters in the model\n",
    "\n",
    "  for name, module in model.named_children(): # iterate over the children of the model\n",
    "    if isinstance(module, nn.Linear): # if the module is a linear layer\n",
    "      setattr(model, name, LoRALinear(module, rank, alpha)) # replace it with a LoRALinear layer\n",
    "      print(f\"Replaced {name} with LoRALinear layer.\")\n",
    "    else: # otherwise\n",
    "      update_model(module, rank, alpha) # recursively call the function on the module\n",
    "\n",
    "  # move the model to the device\n",
    "  model.to(device)\n",
    "\n",
    "  # ensure low-rank matrices are trainable\n",
    "  # for name, module in model.named_modules():\n",
    "  #   if isinstance(module, LoRALinear):\n",
    "  #     module.A.requires_grad = True\n",
    "  #     module.B.requires_grad = True"
   ]
  },
  {
   "cell_type": "code",
   "execution_count": 99,
   "metadata": {},
   "outputs": [
    {
     "name": "stdout",
     "output_type": "stream",
     "text": [
      "Layers:\n",
      "- conv1.weight of size torch.Size([6, 3, 5, 5]) -> untrainable\n",
      "- conv1.bias of size torch.Size([6]) -> untrainable\n",
      "- conv2.weight of size torch.Size([16, 6, 5, 5]) -> untrainable\n",
      "- conv2.bias of size torch.Size([16]) -> untrainable\n",
      "- conv3.weight of size torch.Size([32, 16, 5, 5]) -> untrainable\n",
      "- conv3.bias of size torch.Size([32]) -> untrainable\n",
      "- fc1.weight of size torch.Size([120, 400]) -> untrainable\n",
      "- fc1.bias of size torch.Size([120]) -> untrainable\n",
      "- fc2.weight of size torch.Size([84, 120]) -> untrainable\n",
      "- fc2.bias of size torch.Size([84]) -> untrainable\n",
      "- fc3.weight of size torch.Size([10, 84]) -> untrainable\n",
      "- fc3.bias of size torch.Size([10]) -> untrainable\n",
      "\n",
      "Trainable parameters: 0\n",
      "Untrainable parameters: 74838\n",
      "Total parameters: 74838\n",
      "Percent trainable: 0.0%\n",
      "Size of trainable parameters: 0.00 mb\n",
      "Layers:\n",
      "- conv1.weight of size torch.Size([6, 3, 5, 5]) -> trainable\n",
      "- conv1.bias of size torch.Size([6]) -> trainable\n",
      "- conv2.weight of size torch.Size([16, 6, 5, 5]) -> trainable\n",
      "- conv2.bias of size torch.Size([16]) -> trainable\n",
      "- conv3.weight of size torch.Size([32, 16, 5, 5]) -> trainable\n",
      "- conv3.bias of size torch.Size([32]) -> trainable\n",
      "- fc1.weight of size torch.Size([120, 400]) -> trainable\n",
      "- fc1.bias of size torch.Size([120]) -> trainable\n",
      "- fc2.weight of size torch.Size([84, 120]) -> trainable\n",
      "- fc2.bias of size torch.Size([84]) -> trainable\n",
      "- fc3.weight of size torch.Size([10, 84]) -> trainable\n",
      "- fc3.bias of size torch.Size([10]) -> trainable\n",
      "\n",
      "Trainable parameters: 74838\n",
      "Untrainable parameters: 0\n",
      "Total parameters: 74838\n",
      "Percent trainable: 100.0%\n",
      "Size of trainable parameters: 0.30 mb\n"
     ]
    }
   ],
   "source": [
    "freeze_parameters(net)\n",
    "print_params(net)\n",
    "unfreeze_parameters(net)\n",
    "print_params(net)"
   ]
  },
  {
   "attachments": {},
   "cell_type": "markdown",
   "metadata": {},
   "source": [
    "After updating the model, only the `LoRALinear` parameters in the `A` and `B` matrices should be trainable. All other layers are frozen.\n",
    "\n",
    "Note how this drastically reduces the memory required to store trainable parameters. This is one great advantage of LoRA -- someone can finetune a model and send you a small file of parameter deltas (instead of ALL of the weights) which you can use to immediately apply that same finetune to the same pretrained model."
   ]
  },
  {
   "cell_type": "code",
   "execution_count": 100,
   "metadata": {},
   "outputs": [
    {
     "data": {
      "text/plain": [
       "[('weight',\n",
       "  Parameter containing:\n",
       "  tensor([[-2.8449e-02,  4.4771e-02,  3.6745e-02,  ...,  3.4814e-02,\n",
       "            1.7128e-02, -3.9610e-02],\n",
       "          [-9.0741e-03, -4.4619e-02, -5.0150e-03,  ..., -3.3829e-02,\n",
       "            2.7165e-03,  5.2799e-03],\n",
       "          [ 2.7940e-02,  4.3016e-02, -4.2266e-03,  ..., -3.5760e-02,\n",
       "           -1.8691e-02,  6.0437e-03],\n",
       "          ...,\n",
       "          [-4.5211e-02,  2.4336e-02, -7.1353e-05,  ..., -4.2900e-02,\n",
       "           -4.4919e-02,  4.7379e-03],\n",
       "          [-2.5816e-02,  1.9286e-02, -1.1731e-03,  ..., -1.1278e-02,\n",
       "            4.7169e-02, -4.9127e-02],\n",
       "          [-3.2293e-02, -3.8510e-02,  2.2522e-02,  ..., -2.7863e-02,\n",
       "           -2.3704e-02, -1.8172e-02]], requires_grad=True)),\n",
       " ('bias',\n",
       "  Parameter containing:\n",
       "  tensor([-0.0438, -0.0462,  0.0062,  0.0294,  0.0209, -0.0326,  0.0494, -0.0218,\n",
       "          -0.0483,  0.0093, -0.0129,  0.0134, -0.0482,  0.0161, -0.0005, -0.0423,\n",
       "          -0.0493, -0.0318,  0.0132,  0.0493, -0.0044, -0.0113, -0.0270, -0.0072,\n",
       "           0.0224,  0.0400,  0.0412, -0.0139, -0.0074,  0.0299, -0.0411,  0.0283,\n",
       "           0.0148,  0.0381, -0.0273,  0.0211,  0.0276,  0.0177,  0.0198, -0.0200,\n",
       "          -0.0332,  0.0401, -0.0420,  0.0164, -0.0061,  0.0183, -0.0257,  0.0338,\n",
       "          -0.0436,  0.0249, -0.0145,  0.0058, -0.0133, -0.0440,  0.0251, -0.0280,\n",
       "           0.0444, -0.0031, -0.0419,  0.0313, -0.0184,  0.0318, -0.0375,  0.0006,\n",
       "          -0.0307,  0.0179, -0.0455, -0.0223, -0.0155,  0.0219,  0.0006, -0.0447,\n",
       "          -0.0473,  0.0274,  0.0086, -0.0496, -0.0283,  0.0400,  0.0066,  0.0389,\n",
       "          -0.0043, -0.0351, -0.0008,  0.0307, -0.0217, -0.0178, -0.0491, -0.0405,\n",
       "           0.0490, -0.0085, -0.0301,  0.0300,  0.0197,  0.0058, -0.0424,  0.0349,\n",
       "          -0.0269, -0.0217,  0.0354,  0.0191, -0.0497,  0.0188,  0.0258, -0.0253,\n",
       "           0.0090, -0.0056, -0.0409,  0.0489,  0.0165,  0.0165, -0.0180, -0.0040,\n",
       "           0.0263,  0.0042,  0.0154, -0.0162,  0.0344, -0.0319, -0.0148,  0.0475],\n",
       "         requires_grad=True))]"
      ]
     },
     "execution_count": 100,
     "metadata": {},
     "output_type": "execute_result"
    }
   ],
   "source": [
    "[x for x in net.fc1.named_parameters()]"
   ]
  },
  {
   "cell_type": "code",
   "execution_count": 106,
   "metadata": {},
   "outputs": [
    {
     "name": "stdout",
     "output_type": "stream",
     "text": [
      "Replaced fc1 with LoRALinear layer.\n",
      "Replaced fc2 with LoRALinear layer.\n",
      "Replaced fc3 with LoRALinear layer.\n",
      "Layers:\n",
      "- conv1.weight of size torch.Size([6, 3, 5, 5]) -> untrainable\n",
      "- conv1.bias of size torch.Size([6]) -> untrainable\n",
      "- conv2.weight of size torch.Size([16, 6, 5, 5]) -> untrainable\n",
      "- conv2.bias of size torch.Size([16]) -> untrainable\n",
      "- conv3.weight of size torch.Size([32, 16, 5, 5]) -> untrainable\n",
      "- conv3.bias of size torch.Size([32]) -> untrainable\n",
      "- fc1.A of size torch.Size([400, 4]) -> trainable\n",
      "- fc1.B of size torch.Size([4, 120]) -> trainable\n",
      "- fc1.new_layer.weight of size torch.Size([120, 400]) -> untrainable\n",
      "- fc1.new_layer.bias of size torch.Size([120]) -> untrainable\n",
      "- fc2.A of size torch.Size([120, 4]) -> trainable\n",
      "- fc2.B of size torch.Size([4, 84]) -> trainable\n",
      "- fc2.new_layer.weight of size torch.Size([84, 120]) -> untrainable\n",
      "- fc2.new_layer.bias of size torch.Size([84]) -> untrainable\n",
      "- fc3.A of size torch.Size([84, 4]) -> trainable\n",
      "- fc3.B of size torch.Size([4, 10]) -> trainable\n",
      "- fc3.new_layer.weight of size torch.Size([10, 84]) -> untrainable\n",
      "- fc3.new_layer.bias of size torch.Size([10]) -> untrainable\n",
      "\n",
      "Trainable parameters: 3272\n",
      "Untrainable parameters: 74838\n",
      "Total parameters: 78110\n",
      "Percent trainable: 4.188964281141979%\n",
      "Size of trainable parameters: 0.01 mb\n"
     ]
    }
   ],
   "source": [
    "update_model(net, device=device) # update the model\n",
    "print_params(net) # print the number of parameters"
   ]
  },
  {
   "cell_type": "code",
   "execution_count": 108,
   "metadata": {},
   "outputs": [
    {
     "data": {
      "image/png": "[encoded data removed]",
      "text/plain": [
       "<Figure size 640x480 with 1 Axes>"
      ]
     },
     "metadata": {},
     "output_type": "display_data"
    }
   ],
   "source": [
    "# it looks like the 'cat', 'bird', and 'dog' classes had a low accuracy; let's fine tune the\n",
    "# lora-adapted model on those classes\n",
    "\n",
    "f'''\n",
    "Accuracy of plane : 33 %\n",
    "Accuracy of   car : 52 %\n",
    "Accuracy of  bird : 49 %\n",
    "Accuracy of   cat : 18 %\n",
    "Accuracy of  deer : 57 %\n",
    "Accuracy of   dog : 46 %\n",
    "Accuracy of  frog : 69 %\n",
    "Accuracy of horse : 59 %\n",
    "Accuracy of  ship : 85 %\n",
    "Accuracy of truck : 56 %\n",
    "'''\n",
    "\n",
    "# create a new trainset that only contains the cat, bird, and dog classes\n",
    "new_trainset = [data for data in trainset if data[1] == classes.index('cat') or data[1] == classes.index('bird') or data[1] == classes.index('dog')]\n",
    "\n",
    "# create a trainloader for only the cat, bird, and dog classes\n",
    "new_trainloader = torch.utils.data.DataLoader(new_trainset, batch_size=4, shuffle=True, num_workers=2)\n",
    "\n",
    "# let's print a few of the cat images# Display some of the cat images\n",
    "new_dataiter = iter(new_trainloader) # create an iterator\n",
    "new_images, new_labels = next(new_dataiter) # get the next batch of images and labels\n",
    "\n",
    "# print images\n",
    "showimg(torchvision.utils.make_grid(new_images))\n"
   ]
  },
  {
   "cell_type": "code",
   "execution_count": 109,
   "metadata": {},
   "outputs": [
    {
     "name": "stdout",
     "output_type": "stream",
     "text": [
      "[1,  2000] loss: 23.853\n",
      "Finished epoch 1\n",
      "[2,  2000] loss: 16.878\n",
      "Finished epoch 2\n",
      "Finished training\n"
     ]
    }
   ],
   "source": [
    "# let's continue training the lora-adapted model on just the cat class\n",
    "optimizer = optim.SGD(net.parameters(), lr=0.0001, momentum=0.9) # update the optimizer for the new parameters\n",
    "train(net, criterion, optimizer, new_trainloader, num_epochs=2, device=device, announce=100)\n"
   ]
  },
  {
   "attachments": {},
   "cell_type": "markdown",
   "metadata": {},
   "source": [
    "After finetuning the LoRA model, we would expect that the `B` matrices aren't all zeros anymore. We would also expect that the classification accuracy on dogs, cats, and birds has increased."
   ]
  },
  {
   "cell_type": "code",
   "execution_count": 110,
   "metadata": {},
   "outputs": [
    {
     "name": "stdout",
     "output_type": "stream",
     "text": [
      "Layers:\n",
      "- conv1.weight of size torch.Size([6, 3, 5, 5]) -> untrainable\n",
      "- conv1.bias of size torch.Size([6]) -> untrainable\n",
      "- conv2.weight of size torch.Size([16, 6, 5, 5]) -> untrainable\n",
      "- conv2.bias of size torch.Size([16]) -> untrainable\n",
      "- conv3.weight of size torch.Size([32, 16, 5, 5]) -> untrainable\n",
      "- conv3.bias of size torch.Size([32]) -> untrainable\n",
      "- fc1.A of size torch.Size([400, 4]) -> trainable\n",
      "- fc1.B of size torch.Size([4, 120]) -> trainable\n",
      "- fc1.new_layer.weight of size torch.Size([120, 400]) -> untrainable\n",
      "- fc1.new_layer.bias of size torch.Size([120]) -> untrainable\n",
      "- fc2.A of size torch.Size([120, 4]) -> trainable\n",
      "- fc2.B of size torch.Size([4, 84]) -> trainable\n",
      "- fc2.new_layer.weight of size torch.Size([84, 120]) -> untrainable\n",
      "- fc2.new_layer.bias of size torch.Size([84]) -> untrainable\n",
      "- fc3.A of size torch.Size([84, 4]) -> trainable\n",
      "- fc3.B of size torch.Size([4, 10]) -> trainable\n",
      "- fc3.new_layer.weight of size torch.Size([10, 84]) -> untrainable\n",
      "- fc3.new_layer.bias of size torch.Size([10]) -> untrainable\n",
      "\n",
      "Trainable parameters: 3272\n",
      "Untrainable parameters: 74838\n",
      "Total parameters: 78110\n",
      "Percent trainable: 4.188964281141979%\n",
      "Size of trainable parameters: 0.01 mb\n"
     ]
    }
   ],
   "source": [
    "# double check the params\n",
    "print_params(net)\n",
    "\n",
    "# some of the A and B matrices should have changed\n",
    "# check to see if B weights are non-zero\n",
    "for name, param in net.named_parameters():\n",
    "  if 'B.weight' in name:\n",
    "    print(f\"{name} has all zero weights: {torch.all(param == 0)}\")"
   ]
  },
  {
   "cell_type": "code",
   "execution_count": 111,
   "metadata": {},
   "outputs": [
    {
     "data": {
      "image/png": "[encoded data removed]",
      "text/plain": [
       "<Figure size 640x480 with 1 Axes>"
      ]
     },
     "metadata": {},
     "output_type": "display_data"
    },
    {
     "name": "stdout",
     "output_type": "stream",
     "text": [
      "GroundTruth:    cat  ship  ship plane\n",
      "Predicted:    cat  ship  bird  bird\n",
      "Accuracy of the network on the 10000 test images: 25.39%\n",
      "\n",
      "Accuracy of plane :  1 %\n",
      "Accuracy of   car : 23 %\n",
      "Accuracy of  bird : 72 %\n",
      "Accuracy of   cat : 52 %\n",
      "Accuracy of  deer :  0 %\n",
      "Accuracy of   dog : 57 %\n",
      "Accuracy of  frog :  0 %\n",
      "Accuracy of horse :  1 %\n",
      "Accuracy of  ship : 24 %\n",
      "Accuracy of truck : 20 %\n"
     ]
    }
   ],
   "source": [
    "# let's check the accuracy on all classes again; we should see an improvement in the cat class\n",
    "new_accuracy = test_model(net, testloader, classes)"
   ]
  },
  {
   "cell_type": "code",
   "execution_count": 112,
   "metadata": {},
   "outputs": [
    {
     "name": "stdout",
     "output_type": "stream",
     "text": [
      "plane: -32.3%\n",
      "car: -28.6%\n",
      "bird: +23.9%\n",
      "cat: +33.8%\n",
      "deer: -57.0%\n",
      "dog: +11.4%\n",
      "frog: -69.4%\n",
      "horse: -57.5%\n",
      "ship: -60.9%\n",
      "truck: -35.7%\n"
     ]
    }
   ],
   "source": [
    "# compare initial_accuracy and new_accuracy by printing the change in\n",
    "# accuracy for each class \n",
    "for key in initial_accuracy.keys():\n",
    "  change = new_accuracy[key] - initial_accuracy[key]\n",
    "  if change > 0:\n",
    "    print(f\"{key}: +{change:.1f}%\")\n",
    "  else:\n",
    "    print(f\"{key}: {change:.1f}%\")"
   ]
  },
  {
   "cell_type": "code",
   "execution_count": null,
   "metadata": {},
   "outputs": [],
   "source": []
  }
 ],
 "metadata": {
  "kernelspec": {
   "display_name": "Python 3 (ipykernel)",
   "language": "python",
   "name": "python3"
  },
  "language_info": {
   "codemirror_mode": {
    "name": "ipython",
    "version": 3
   },
   "file_extension": ".py",
   "mimetype": "text/x-python",
   "name": "python",
   "nbconvert_exporter": "python",
   "pygments_lexer": "ipython3",
   "version": "3.12.0"
  }
 },
 "nbformat": 4,
 "nbformat_minor": 4
}
