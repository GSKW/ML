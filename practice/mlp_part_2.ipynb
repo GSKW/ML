{
 "cells": [
  {
   "cell_type": "code",
   "execution_count": 3,
   "metadata": {
    "scrolled": true
   },
   "outputs": [],
   "source": [
    "import numpy as np\n",
    "import torch\n",
    "import matplotlib.pyplot as plt\n",
    "import pandas as pd\n",
    "from sklearn.model_selection import train_test_split\n",
    "from sklearn.preprocessing import StandardScaler\n",
    "\n",
    "plt.rcParams['figure.figsize'] = (10, 2)"
   ]
  },
  {
   "cell_type": "markdown",
   "metadata": {},
   "source": [
    "Для разминки:\n",
    "###  Задание 1\n",
    "\n",
    "Посчитай направление наибольшего роста функции $f(x, y) = 3x^2 + y^2$ в точке $z_0 = (1, 3train_test_split"
   ]
  },
  {
   "cell_type": "raw",
   "metadata": {},
   "source": [
    "f'(x,y) = 6x+2y\n",
    "f'_x(x,y) = 6x\n",
    "f'_y(x,y) = 2y\n",
    "\n",
    "f'_x(x,y) = 6x^2 # 6\n",
    "f'_y(x,y) = 3y^2 # 27"
   ]
  },
  {
   "cell_type": "code",
   "execution_count": 4,
   "metadata": {},
   "outputs": [
    {
     "name": "stdout",
     "output_type": "stream",
     "text": [
      "tensor(6.) tensor(27.)\n"
     ]
    }
   ],
   "source": [
    "def func(x,y):\n",
    "    return 3*x**2+y**2\n",
    "\n",
    "def func2(x,y):\n",
    "    return 2*x**3+y**3\n",
    "\n",
    "x = torch.tensor(1., requires_grad=True)\n",
    "\n",
    "y = torch.tensor(3., requires_grad=True)\n",
    "\n",
    "result = func2(x, y)\n",
    "result.backward()\n",
    "print(x.grad, y.grad)\n",
    "\n",
    "#"
   ]
  },
  {
   "cell_type": "markdown",
   "metadata": {},
   "source": [
    "###  Задание 2\n",
    "\n",
    "Найди минимум функции $f(x, y) = 3x^2 + y^2$."
   ]
  },
  {
   "cell_type": "raw",
   "metadata": {},
   "source": [
    "f'(x,y) = 6x+2y = 0 # y = -3x"
   ]
  },
  {
   "cell_type": "code",
   "execution_count": 5,
   "metadata": {},
   "outputs": [],
   "source": [
    "x = torch.tensor(1., requires_grad=True)\n",
    "y = torch.tensor(3., requires_grad=True)"
   ]
  },
  {
   "cell_type": "code",
   "execution_count": 6,
   "metadata": {},
   "outputs": [
    {
     "name": "stdout",
     "output_type": "stream",
     "text": [
      "tensor(6.) tensor(6.)\n",
      "tensor(0.4000, requires_grad=True) tensor(2.4000, requires_grad=True) tensor(6.2400, grad_fn=<AddBackward0>)\n",
      "tensor(2.4000) tensor(4.8000)\n",
      "tensor(0.1600, requires_grad=True) tensor(1.9200, requires_grad=True) tensor(3.7632, grad_fn=<AddBackward0>)\n",
      "tensor(0.9600) tensor(3.8400)\n",
      "tensor(0.0640, requires_grad=True) tensor(1.5360, requires_grad=True) tensor(2.3716, grad_fn=<AddBackward0>)\n",
      "tensor(0.3840) tensor(3.0720)\n",
      "tensor(0.0256, requires_grad=True) tensor(1.2288, requires_grad=True) tensor(1.5119, grad_fn=<AddBackward0>)\n",
      "tensor(0.1536) tensor(2.4576)\n",
      "tensor(0.0102, requires_grad=True) tensor(0.9830, requires_grad=True) tensor(0.9667, grad_fn=<AddBackward0>)\n",
      "tensor(0.0614) tensor(1.9661)\n",
      "tensor(0.0041, requires_grad=True) tensor(0.7864, requires_grad=True) tensor(0.6185, grad_fn=<AddBackward0>)\n",
      "tensor(0.0246) tensor(1.5729)\n",
      "tensor(0.0016, requires_grad=True) tensor(0.6291, requires_grad=True) tensor(0.3958, grad_fn=<AddBackward0>)\n",
      "tensor(0.0098) tensor(1.2583)\n",
      "tensor(0.0007, requires_grad=True) tensor(0.5033, requires_grad=True) tensor(0.2533, grad_fn=<AddBackward0>)\n",
      "tensor(0.0039) tensor(1.0066)\n",
      "tensor(0.0003, requires_grad=True) tensor(0.4027, requires_grad=True) tensor(0.1621, grad_fn=<AddBackward0>)\n",
      "tensor(0.0016) tensor(0.8053)\n",
      "tensor(0.0001, requires_grad=True) tensor(0.3221, requires_grad=True) tensor(0.1038, grad_fn=<AddBackward0>)\n",
      "tensor(0.0006) tensor(0.6442)\n",
      "tensor(4.1943e-05, requires_grad=True) tensor(0.2577, requires_grad=True) tensor(0.0664, grad_fn=<AddBackward0>)\n",
      "tensor(0.0003) tensor(0.5154)\n",
      "tensor(1.6777e-05, requires_grad=True) tensor(0.2062, requires_grad=True) tensor(0.0425, grad_fn=<AddBackward0>)\n",
      "tensor(0.0001) tensor(0.4123)\n",
      "tensor(6.7109e-06, requires_grad=True) tensor(0.1649, requires_grad=True) tensor(0.0272, grad_fn=<AddBackward0>)\n",
      "tensor(4.0265e-05) tensor(0.3299)\n",
      "tensor(2.6844e-06, requires_grad=True) tensor(0.1319, requires_grad=True) tensor(0.0174, grad_fn=<AddBackward0>)\n",
      "tensor(1.6106e-05) tensor(0.2639)\n",
      "tensor(1.0737e-06, requires_grad=True) tensor(0.1056, requires_grad=True) tensor(0.0111, grad_fn=<AddBackward0>)\n",
      "tensor(6.4424e-06) tensor(0.2111)\n",
      "tensor(4.2950e-07, requires_grad=True) tensor(0.0844, requires_grad=True) tensor(0.0071, grad_fn=<AddBackward0>)\n",
      "tensor(2.5770e-06) tensor(0.1689)\n",
      "tensor(1.7180e-07, requires_grad=True) tensor(0.0676, requires_grad=True) tensor(0.0046, grad_fn=<AddBackward0>)\n",
      "tensor(1.0308e-06) tensor(0.1351)\n",
      "tensor(6.8719e-08, requires_grad=True) tensor(0.0540, requires_grad=True) tensor(0.0029, grad_fn=<AddBackward0>)\n",
      "tensor(4.1232e-07) tensor(0.1081)\n",
      "tensor(2.7488e-08, requires_grad=True) tensor(0.0432, requires_grad=True) tensor(0.0019, grad_fn=<AddBackward0>)\n",
      "tensor(1.6493e-07) tensor(0.0865)\n",
      "tensor(1.0995e-08, requires_grad=True) tensor(0.0346, requires_grad=True) tensor(0.0012, grad_fn=<AddBackward0>)\n",
      "tensor(6.5971e-08) tensor(0.0692)\n",
      "tensor(4.3980e-09, requires_grad=True) tensor(0.0277, requires_grad=True) tensor(0.0008, grad_fn=<AddBackward0>)\n",
      "tensor(2.6388e-08) tensor(0.0553)\n",
      "tensor(1.7592e-09, requires_grad=True) tensor(0.0221, requires_grad=True) tensor(0.0005, grad_fn=<AddBackward0>)\n",
      "tensor(1.0555e-08) tensor(0.0443)\n",
      "tensor(7.0369e-10, requires_grad=True) tensor(0.0177, requires_grad=True) tensor(0.0003, grad_fn=<AddBackward0>)\n",
      "tensor(4.2221e-09) tensor(0.0354)\n",
      "tensor(2.8147e-10, requires_grad=True) tensor(0.0142, requires_grad=True) tensor(0.0002, grad_fn=<AddBackward0>)\n",
      "tensor(1.6888e-09) tensor(0.0283)\n",
      "tensor(1.1259e-10, requires_grad=True) tensor(0.0113, requires_grad=True) tensor(0.0001, grad_fn=<AddBackward0>)\n",
      "tensor(6.7554e-10) tensor(0.0227)\n",
      "tensor(4.5036e-11, requires_grad=True) tensor(0.0091, requires_grad=True) tensor(8.2209e-05, grad_fn=<AddBackward0>)\n",
      "tensor(2.7022e-10) tensor(0.0181)\n",
      "tensor(1.8014e-11, requires_grad=True) tensor(0.0073, requires_grad=True) tensor(5.2614e-05, grad_fn=<AddBackward0>)\n",
      "tensor(1.0809e-10) tensor(0.0145)\n",
      "tensor(7.2057e-12, requires_grad=True) tensor(0.0058, requires_grad=True) tensor(3.3673e-05, grad_fn=<AddBackward0>)\n",
      "tensor(4.3234e-11) tensor(0.0116)\n",
      "tensor(2.8823e-12, requires_grad=True) tensor(0.0046, requires_grad=True) tensor(2.1551e-05, grad_fn=<AddBackward0>)\n",
      "tensor(1.7294e-11) tensor(0.0093)\n",
      "tensor(1.1529e-12, requires_grad=True) tensor(0.0037, requires_grad=True) tensor(1.3792e-05, grad_fn=<AddBackward0>)\n",
      "tensor(6.9175e-12) tensor(0.0074)\n",
      "tensor(4.6117e-13, requires_grad=True) tensor(0.0030, requires_grad=True) tensor(8.8272e-06, grad_fn=<AddBackward0>)\n",
      "tensor(2.7670e-12) tensor(0.0059)\n",
      "tensor(1.8447e-13, requires_grad=True) tensor(0.0024, requires_grad=True) tensor(5.6494e-06, grad_fn=<AddBackward0>)\n",
      "tensor(1.1068e-12) tensor(0.0048)\n",
      "tensor(7.3787e-14, requires_grad=True) tensor(0.0019, requires_grad=True) tensor(3.6156e-06, grad_fn=<AddBackward0>)\n",
      "tensor(4.4272e-13) tensor(0.0038)\n",
      "tensor(2.9515e-14, requires_grad=True) tensor(0.0015, requires_grad=True) tensor(2.3140e-06, grad_fn=<AddBackward0>)\n",
      "tensor(1.7709e-13) tensor(0.0030)\n",
      "tensor(1.1806e-14, requires_grad=True) tensor(0.0012, requires_grad=True) tensor(1.4810e-06, grad_fn=<AddBackward0>)\n",
      "tensor(7.0835e-14) tensor(0.0024)\n",
      "tensor(4.7224e-15, requires_grad=True) tensor(0.0010, requires_grad=True) tensor(9.4781e-07, grad_fn=<AddBackward0>)\n",
      "tensor(2.8334e-14) tensor(0.0019)\n",
      "tensor(1.8889e-15, requires_grad=True) tensor(0.0008, requires_grad=True) tensor(6.0660e-07, grad_fn=<AddBackward0>)\n",
      "tensor(1.1334e-14) tensor(0.0016)\n",
      "tensor(7.5558e-16, requires_grad=True) tensor(0.0006, requires_grad=True) tensor(3.8822e-07, grad_fn=<AddBackward0>)\n",
      "tensor(4.5335e-15) tensor(0.0012)\n",
      "tensor(3.0223e-16, requires_grad=True) tensor(0.0005, requires_grad=True) tensor(2.4846e-07, grad_fn=<AddBackward0>)\n",
      "tensor(1.8134e-15) tensor(0.0010)\n",
      "tensor(1.2089e-16, requires_grad=True) tensor(0.0004, requires_grad=True) tensor(1.5902e-07, grad_fn=<AddBackward0>)\n",
      "tensor(7.2535e-16) tensor(0.0008)\n",
      "tensor(4.8357e-17, requires_grad=True) tensor(0.0003, requires_grad=True) tensor(1.0177e-07, grad_fn=<AddBackward0>)\n",
      "tensor(2.9014e-16) tensor(0.0006)\n",
      "tensor(1.9343e-17, requires_grad=True) tensor(0.0003, requires_grad=True) tensor(6.5133e-08, grad_fn=<AddBackward0>)\n",
      "tensor(1.1606e-16) tensor(0.0005)\n",
      "tensor(7.7371e-18, requires_grad=True) tensor(0.0002, requires_grad=True) tensor(4.1685e-08, grad_fn=<AddBackward0>)\n",
      "tensor(4.6423e-17) tensor(0.0004)\n",
      "tensor(3.0948e-18, requires_grad=True) tensor(0.0002, requires_grad=True) tensor(2.6678e-08, grad_fn=<AddBackward0>)\n",
      "tensor(1.8569e-17) tensor(0.0003)\n",
      "tensor(1.2379e-18, requires_grad=True) tensor(0.0001, requires_grad=True) tensor(1.7074e-08, grad_fn=<AddBackward0>)\n",
      "tensor(7.4276e-18) tensor(0.0003)\n",
      "tensor(4.9518e-19, requires_grad=True) tensor(0.0001, requires_grad=True) tensor(1.0928e-08, grad_fn=<AddBackward0>)\n",
      "tensor(2.9711e-18) tensor(0.0002)\n",
      "tensor(1.9807e-19, requires_grad=True) tensor(8.3628e-05, requires_grad=True) tensor(6.9936e-09, grad_fn=<AddBackward0>)\n",
      "tensor(1.1884e-18) tensor(0.0002)\n",
      "tensor(7.9228e-20, requires_grad=True) tensor(6.6902e-05, requires_grad=True) tensor(4.4759e-09, grad_fn=<AddBackward0>)\n",
      "tensor(4.7537e-19) tensor(0.0001)\n",
      "tensor(3.1691e-20, requires_grad=True) tensor(5.3522e-05, requires_grad=True) tensor(2.8646e-09, grad_fn=<AddBackward0>)\n",
      "tensor(1.9015e-19) tensor(0.0001)\n",
      "tensor(1.2676e-20, requires_grad=True) tensor(4.2817e-05, requires_grad=True) tensor(1.8333e-09, grad_fn=<AddBackward0>)\n",
      "tensor(7.6059e-20) tensor(8.5635e-05)\n",
      "tensor(5.0706e-21, requires_grad=True) tensor(3.4254e-05, requires_grad=True) tensor(1.1733e-09, grad_fn=<AddBackward0>)\n",
      "tensor(3.0424e-20) tensor(6.8508e-05)\n",
      "tensor(2.0282e-21, requires_grad=True) tensor(2.7403e-05, requires_grad=True) tensor(7.5093e-10, grad_fn=<AddBackward0>)\n",
      "tensor(1.2169e-20) tensor(5.4806e-05)\n",
      "tensor(8.1130e-22, requires_grad=True) tensor(2.1923e-05, requires_grad=True) tensor(4.8060e-10, grad_fn=<AddBackward0>)\n",
      "tensor(4.8678e-21) tensor(4.3845e-05)\n",
      "tensor(3.2452e-22, requires_grad=True) tensor(1.7538e-05, requires_grad=True) tensor(3.0758e-10, grad_fn=<AddBackward0>)\n",
      "tensor(1.9471e-21) tensor(3.5076e-05)\n",
      "tensor(1.2981e-22, requires_grad=True) tensor(1.4030e-05, requires_grad=True) tensor(1.9685e-10, grad_fn=<AddBackward0>)\n",
      "tensor(7.7884e-22) tensor(2.8061e-05)\n",
      "tensor(5.1923e-23, requires_grad=True) tensor(1.1224e-05, requires_grad=True) tensor(1.2599e-10, grad_fn=<AddBackward0>)\n",
      "tensor(3.1154e-22) tensor(2.2449e-05)\n",
      "tensor(2.0769e-23, requires_grad=True) tensor(8.9795e-06, requires_grad=True) tensor(8.0631e-11, grad_fn=<AddBackward0>)\n",
      "tensor(1.2461e-22) tensor(1.7959e-05)\n",
      "tensor(8.3077e-24, requires_grad=True) tensor(7.1836e-06, requires_grad=True) tensor(5.1604e-11, grad_fn=<AddBackward0>)\n",
      "tensor(4.9846e-23) tensor(1.4367e-05)\n",
      "tensor(3.3231e-24, requires_grad=True) tensor(5.7469e-06, requires_grad=True) tensor(3.3026e-11, grad_fn=<AddBackward0>)\n",
      "tensor(1.9938e-23) tensor(1.1494e-05)\n",
      "tensor(1.3292e-24, requires_grad=True) tensor(4.5975e-06, requires_grad=True) tensor(2.1137e-11, grad_fn=<AddBackward0>)\n",
      "tensor(7.9754e-24) tensor(9.1950e-06)\n",
      "tensor(5.3169e-25, requires_grad=True) tensor(3.6780e-06, requires_grad=True) tensor(1.3528e-11, grad_fn=<AddBackward0>)\n",
      "tensor(3.1901e-24) tensor(7.3560e-06)\n",
      "tensor(2.1268e-25, requires_grad=True) tensor(2.9424e-06, requires_grad=True) tensor(8.6577e-12, grad_fn=<AddBackward0>)\n",
      "tensor(1.2761e-24) tensor(5.8848e-06)\n",
      "tensor(8.5070e-26, requires_grad=True) tensor(2.3539e-06, requires_grad=True) tensor(5.5409e-12, grad_fn=<AddBackward0>)\n",
      "tensor(5.1042e-25) tensor(4.7078e-06)\n",
      "tensor(3.4028e-26, requires_grad=True) tensor(1.8831e-06, requires_grad=True) tensor(3.5462e-12, grad_fn=<AddBackward0>)\n",
      "tensor(2.0417e-25) tensor(3.7663e-06)\n",
      "tensor(1.3611e-26, requires_grad=True) tensor(1.5065e-06, requires_grad=True) tensor(2.2696e-12, grad_fn=<AddBackward0>)\n",
      "tensor(8.1668e-26) tensor(3.0130e-06)\n",
      "tensor(5.4445e-27, requires_grad=True) tensor(1.2052e-06, requires_grad=True) tensor(1.4525e-12, grad_fn=<AddBackward0>)\n",
      "tensor(3.2667e-26) tensor(2.4104e-06)\n",
      "tensor(2.1778e-27, requires_grad=True) tensor(9.6416e-07, requires_grad=True) tensor(9.2961e-13, grad_fn=<AddBackward0>)\n",
      "tensor(1.3067e-26) tensor(1.9283e-06)\n",
      "tensor(8.7112e-28, requires_grad=True) tensor(7.7133e-07, requires_grad=True) tensor(5.9495e-13, grad_fn=<AddBackward0>)\n",
      "tensor(5.2267e-27) tensor(1.5427e-06)\n",
      "tensor(3.4845e-28, requires_grad=True) tensor(6.1706e-07, requires_grad=True) tensor(3.8077e-13, grad_fn=<AddBackward0>)\n",
      "tensor(2.0907e-27) tensor(1.2341e-06)\n",
      "tensor(1.3938e-28, requires_grad=True) tensor(4.9365e-07, requires_grad=True) tensor(2.4369e-13, grad_fn=<AddBackward0>)\n",
      "tensor(8.3628e-28) tensor(9.8730e-07)\n",
      "tensor(5.5752e-29, requires_grad=True) tensor(3.9492e-07, requires_grad=True) tensor(1.5596e-13, grad_fn=<AddBackward0>)\n",
      "tensor(3.3451e-28) tensor(7.8984e-07)\n",
      "tensor(2.2301e-29, requires_grad=True) tensor(3.1594e-07, requires_grad=True) tensor(9.9816e-14, grad_fn=<AddBackward0>)\n",
      "tensor(1.3380e-28) tensor(6.3187e-07)\n",
      "tensor(8.9203e-30, requires_grad=True) tensor(2.5275e-07, requires_grad=True) tensor(6.3882e-14, grad_fn=<AddBackward0>)\n",
      "tensor(5.3522e-29) tensor(5.0550e-07)\n",
      "tensor(3.5681e-30, requires_grad=True) tensor(2.0220e-07, requires_grad=True) tensor(4.0885e-14, grad_fn=<AddBackward0>)\n",
      "tensor(2.1409e-29) tensor(4.0440e-07)\n",
      "tensor(1.4272e-30, requires_grad=True) tensor(1.6176e-07, requires_grad=True) tensor(2.6166e-14, grad_fn=<AddBackward0>)\n",
      "tensor(8.5635e-30) tensor(3.2352e-07)\n",
      "tensor(5.7090e-31, requires_grad=True) tensor(1.2941e-07, requires_grad=True) tensor(1.6746e-14, grad_fn=<AddBackward0>)\n",
      "tensor(3.4254e-30) tensor(2.5882e-07)\n",
      "tensor(2.2836e-31, requires_grad=True) tensor(1.0353e-07, requires_grad=True) tensor(1.0718e-14, grad_fn=<AddBackward0>)\n",
      "tensor(1.3702e-30) tensor(2.0705e-07)\n",
      "tensor(9.1344e-32, requires_grad=True) tensor(8.2821e-08, requires_grad=True) tensor(6.8593e-15, grad_fn=<AddBackward0>)\n",
      "tensor(5.4806e-31) tensor(1.6564e-07)\n",
      "tensor(3.6537e-32, requires_grad=True) tensor(6.6257e-08, requires_grad=True) tensor(4.3900e-15, grad_fn=<AddBackward0>)\n",
      "tensor(2.1922e-31) tensor(1.3251e-07)\n",
      "tensor(1.4615e-32, requires_grad=True) tensor(5.3005e-08, requires_grad=True) tensor(2.8096e-15, grad_fn=<AddBackward0>)\n",
      "tensor(8.7690e-32) tensor(1.0601e-07)\n",
      "tensor(5.8460e-33, requires_grad=True) tensor(4.2404e-08, requires_grad=True) tensor(1.7981e-15, grad_fn=<AddBackward0>)\n",
      "tensor(3.5076e-32) tensor(8.4809e-08)\n",
      "tensor(2.3384e-33, requires_grad=True) tensor(3.3923e-08, requires_grad=True) tensor(1.1508e-15, grad_fn=<AddBackward0>)\n",
      "tensor(1.4030e-32) tensor(6.7847e-08)\n",
      "tensor(9.3536e-34, requires_grad=True) tensor(2.7139e-08, requires_grad=True) tensor(7.3651e-16, grad_fn=<AddBackward0>)\n",
      "tensor(5.6122e-33) tensor(5.4278e-08)\n",
      "tensor(3.7414e-34, requires_grad=True) tensor(2.1711e-08, requires_grad=True) tensor(4.7137e-16, grad_fn=<AddBackward0>)\n",
      "tensor(2.2449e-33) tensor(4.3422e-08)\n",
      "tensor(1.4966e-34, requires_grad=True) tensor(1.7369e-08, requires_grad=True) tensor(3.0168e-16, grad_fn=<AddBackward0>)\n",
      "tensor(8.9794e-34) tensor(3.4738e-08)\n",
      "tensor(5.9863e-35, requires_grad=True) tensor(1.3895e-08, requires_grad=True) tensor(1.9307e-16, grad_fn=<AddBackward0>)\n",
      "tensor(3.5918e-34) tensor(2.7790e-08)\n",
      "tensor(2.3945e-35, requires_grad=True) tensor(1.1116e-08, requires_grad=True) tensor(1.2357e-16, grad_fn=<AddBackward0>)\n",
      "tensor(1.4367e-34) tensor(2.2232e-08)\n",
      "tensor(9.5781e-36, requires_grad=True) tensor(8.8928e-09, requires_grad=True) tensor(7.9082e-17, grad_fn=<AddBackward0>)\n",
      "tensor(5.7468e-35) tensor(1.7786e-08)\n",
      "tensor(3.8312e-36, requires_grad=True) tensor(7.1143e-09, requires_grad=True) tensor(5.0613e-17, grad_fn=<AddBackward0>)\n",
      "tensor(2.2987e-35) tensor(1.4229e-08)\n",
      "tensor(1.5325e-36, requires_grad=True) tensor(5.6914e-09, requires_grad=True) tensor(3.2392e-17, grad_fn=<AddBackward0>)\n",
      "tensor(9.1949e-36) tensor(1.1383e-08)\n",
      "tensor(6.1300e-37, requires_grad=True) tensor(4.5531e-09, requires_grad=True) tensor(2.0731e-17, grad_fn=<AddBackward0>)\n",
      "tensor(3.6780e-36) tensor(9.1063e-09)\n",
      "tensor(2.4520e-37, requires_grad=True) tensor(3.6425e-09, requires_grad=True) tensor(1.3268e-17, grad_fn=<AddBackward0>)\n",
      "tensor(1.4712e-36) tensor(7.2850e-09)\n",
      "tensor(9.8079e-38, requires_grad=True) tensor(2.9140e-09, requires_grad=True) tensor(8.4914e-18, grad_fn=<AddBackward0>)\n",
      "tensor(5.8848e-37) tensor(5.8280e-09)\n",
      "tensor(3.9232e-38, requires_grad=True) tensor(2.3312e-09, requires_grad=True) tensor(5.4345e-18, grad_fn=<AddBackward0>)\n",
      "tensor(2.3539e-37) tensor(4.6624e-09)\n",
      "tensor(1.5693e-38, requires_grad=True) tensor(1.8650e-09, requires_grad=True) tensor(3.4781e-18, grad_fn=<AddBackward0>)\n",
      "tensor(9.4156e-38) tensor(3.7299e-09)\n",
      "tensor(6.2771e-39, requires_grad=True) tensor(1.4920e-09, requires_grad=True) tensor(2.2260e-18, grad_fn=<AddBackward0>)\n",
      "tensor(3.7663e-38) tensor(2.9839e-09)\n",
      "tensor(2.5108e-39, requires_grad=True) tensor(1.1936e-09, requires_grad=True) tensor(1.4246e-18, grad_fn=<AddBackward0>)\n",
      "tensor(1.5065e-38) tensor(2.3872e-09)\n",
      "tensor(1.0043e-39, requires_grad=True) tensor(9.5486e-10, requires_grad=True) tensor(9.1176e-19, grad_fn=<AddBackward0>)\n",
      "tensor(6.0260e-39) tensor(1.9097e-09)\n",
      "tensor(4.0173e-40, requires_grad=True) tensor(7.6389e-10, requires_grad=True) tensor(5.8353e-19, grad_fn=<AddBackward0>)\n",
      "tensor(2.4104e-39) tensor(1.5278e-09)\n",
      "tensor(1.6069e-40, requires_grad=True) tensor(6.1111e-10, requires_grad=True) tensor(3.7346e-19, grad_fn=<AddBackward0>)\n"
     ]
    }
   ],
   "source": [
    "for _ in range(100):    \n",
    "    result = func(x, y)\n",
    "    result.backward()\n",
    "    print(x.grad, y.grad)\n",
    "    x.data -= x.grad*0.1\n",
    "    y.data -= y.grad*0.1\n",
    "    print(x, y, func(x,y))\n",
    "    x.grad.data.zero_()\n",
    "    y.grad.data.zero_()"
   ]
  },
  {
   "cell_type": "markdown",
   "metadata": {},
   "source": [
    "## Высокоуровневый PyTorch\n",
    "\n",
    "В этом ноутбуке мы не будем вручную создавать переменные и вручную считать производные. В торче есть много абстракций и инструментов, которые облегчают жизнь (хоть и вручную можно создать что угодно)\n",
    "\n",
    "Самая главная из них это nn.Module.Посмотрим на его документацию:"
   ]
  },
  {
   "cell_type": "code",
   "execution_count": 7,
   "metadata": {},
   "outputs": [
    {
     "name": "stdout",
     "output_type": "stream",
     "text": [
      "Base class for all neural network modules.\n",
      "\n",
      "    Your models should also subclass this class.\n",
      "\n",
      "    Modules can also contain other Modules, allowing to nest them in\n",
      "    a tree structure. You can assign the submodules as regular attributes::\n",
      "\n",
      "        import torch.nn as nn\n",
      "        import torch.nn.functional as F\n",
      "\n",
      "        class Model(nn.Module):\n",
      "            def __init__(self):\n",
      "                super().__init__()\n",
      "                self.conv1 = nn.Conv2d(1, 20, 5)\n",
      "                self.conv2 = nn.Conv2d(20, 20, 5)\n",
      "\n",
      "            def forward(self, x):\n",
      "                x = F.relu(self.conv1(x))\n",
      "                return F.relu(self.conv2(x))\n",
      "\n",
      "    Submodules assigned in this way will be registered, and will have their\n",
      "    parameters converted too when you call :meth:`to`, etc.\n",
      "\n",
      "    .. note::\n",
      "        As per the example above, an ``__init__()`` call to the parent class\n",
      "        must be made before assignment on the child.\n",
      "\n",
      "    :ivar training: Boolean represents whether this module is in training or\n",
      "                    evaluation mode.\n",
      "    :vartype training: bool\n",
      "    \n"
     ]
    }
   ],
   "source": [
    "from torch import nn\n",
    "import torch.nn.functional as F\n",
    "\n",
    "print(nn.Module.__doc__)"
   ]
  },
  {
   "cell_type": "markdown",
   "metadata": {},
   "source": [
    "Для удобства сделано, что все архитектуры (\"модули\") написанные вами на pytorch-e должны быть отнаследованы от nn.Module.\n",
    "\n",
    "Каждый модуль -- это нечто, что принимает на вход какие-то тензоры, и возвращает какие-то тензоры. Это как раз forward pass -- его и нужно описывать в методе `forward`. В примере выше описана нейросеть, в которой два слоя (self.conv1 и self.conv2). В forward() описана логика того, как должен быть предобработан входной тензор `x`. \n",
    "В примере выше сначала применяется первый слой, потом функция активации, потом второй слой, а потом еще раз функция активации.\n",
    "\n",
    "Многие классы из torch.nn являются наследниками `nn.Module`-я -- их и рекомендуется использовать в качестве \"строительных блоков\" вашей нейросети."
   ]
  },
  {
   "cell_type": "markdown",
   "metadata": {},
   "source": [
    "#### nn.Module"
   ]
  },
  {
   "cell_type": "code",
   "execution_count": 8,
   "metadata": {},
   "outputs": [],
   "source": [
    "class Block(nn.Module):\n",
    "    def __init__(self):\n",
    "        super().__init__()  # не стоит забывать так писать\n",
    "        self.linear_first = nn.Linear(64, 64)\n",
    "        self.activation = nn.ReLU()\n",
    "        self.linear_second = nn.Linear(64, 1)\n",
    "    \n",
    "    def forward(self, inp: torch.Tensor) -> torch.Tensor:\n",
    "        result = self.linear_first(inp)\n",
    "        result = self.activation(result)\n",
    "        result = self.linear_second(result)\n",
    "        result = self.activation(result) \n",
    "        return result"
   ]
  },
  {
   "cell_type": "code",
   "execution_count": 9,
   "metadata": {},
   "outputs": [],
   "source": [
    "block = Block()"
   ]
  },
  {
   "cell_type": "code",
   "execution_count": 10,
   "metadata": {},
   "outputs": [],
   "source": [
    "inp = torch.ones(100, 64) "
   ]
  },
  {
   "cell_type": "code",
   "execution_count": 11,
   "metadata": {},
   "outputs": [
    {
     "data": {
      "text/plain": [
       "tensor([[0.],\n",
       "        [0.],\n",
       "        [0.],\n",
       "        [0.],\n",
       "        [0.],\n",
       "        [0.],\n",
       "        [0.],\n",
       "        [0.],\n",
       "        [0.],\n",
       "        [0.],\n",
       "        [0.],\n",
       "        [0.],\n",
       "        [0.],\n",
       "        [0.],\n",
       "        [0.],\n",
       "        [0.],\n",
       "        [0.],\n",
       "        [0.],\n",
       "        [0.],\n",
       "        [0.],\n",
       "        [0.],\n",
       "        [0.],\n",
       "        [0.],\n",
       "        [0.],\n",
       "        [0.],\n",
       "        [0.],\n",
       "        [0.],\n",
       "        [0.],\n",
       "        [0.],\n",
       "        [0.],\n",
       "        [0.],\n",
       "        [0.],\n",
       "        [0.],\n",
       "        [0.],\n",
       "        [0.],\n",
       "        [0.],\n",
       "        [0.],\n",
       "        [0.],\n",
       "        [0.],\n",
       "        [0.],\n",
       "        [0.],\n",
       "        [0.],\n",
       "        [0.],\n",
       "        [0.],\n",
       "        [0.],\n",
       "        [0.],\n",
       "        [0.],\n",
       "        [0.],\n",
       "        [0.],\n",
       "        [0.],\n",
       "        [0.],\n",
       "        [0.],\n",
       "        [0.],\n",
       "        [0.],\n",
       "        [0.],\n",
       "        [0.],\n",
       "        [0.],\n",
       "        [0.],\n",
       "        [0.],\n",
       "        [0.],\n",
       "        [0.],\n",
       "        [0.],\n",
       "        [0.],\n",
       "        [0.],\n",
       "        [0.],\n",
       "        [0.],\n",
       "        [0.],\n",
       "        [0.],\n",
       "        [0.],\n",
       "        [0.],\n",
       "        [0.],\n",
       "        [0.],\n",
       "        [0.],\n",
       "        [0.],\n",
       "        [0.],\n",
       "        [0.],\n",
       "        [0.],\n",
       "        [0.],\n",
       "        [0.],\n",
       "        [0.],\n",
       "        [0.],\n",
       "        [0.],\n",
       "        [0.],\n",
       "        [0.],\n",
       "        [0.],\n",
       "        [0.],\n",
       "        [0.],\n",
       "        [0.],\n",
       "        [0.],\n",
       "        [0.],\n",
       "        [0.],\n",
       "        [0.],\n",
       "        [0.],\n",
       "        [0.],\n",
       "        [0.],\n",
       "        [0.],\n",
       "        [0.],\n",
       "        [0.],\n",
       "        [0.],\n",
       "        [0.]], grad_fn=<ReluBackward0>)"
      ]
     },
     "execution_count": 11,
     "metadata": {},
     "output_type": "execute_result"
    }
   ],
   "source": [
    "# nn.Module-и можно вызывать прямо так, и под капотом будет вызвано то, что реализовано в методе .forward()\n",
    "block(inp)"
   ]
  },
  {
   "cell_type": "code",
   "execution_count": 12,
   "metadata": {},
   "outputs": [
    {
     "data": {
      "text/plain": [
       "torch.Size([100, 1])"
      ]
     },
     "execution_count": 12,
     "metadata": {},
     "output_type": "execute_result"
    }
   ],
   "source": [
    "block(inp).shape"
   ]
  },
  {
   "cell_type": "markdown",
   "metadata": {},
   "source": [
    "Рассмотрим другой способ создать ту же самую нейросеть с помощью строительного блока `nn.Sequential`. Он сделан для того, чтобы применять подряд другие блоки, например:"
   ]
  },
  {
   "cell_type": "code",
   "execution_count": 13,
   "metadata": {},
   "outputs": [],
   "source": [
    "block_seq = nn.Sequential(\n",
    "    nn.Linear(64, 64),  # линейный слой 64 признака в 64 признака\n",
    "    nn.ReLU(),  # функция активации\n",
    "    nn.Linear(64, 1),  # линейный слой 64 признака в 1 признак\n",
    "    nn.ReLU(),  #  еще одна функция активации\n",
    ")"
   ]
  },
  {
   "cell_type": "code",
   "execution_count": 14,
   "metadata": {},
   "outputs": [
    {
     "data": {
      "text/plain": [
       "tensor([[0.1118],\n",
       "        [0.1118],\n",
       "        [0.1118],\n",
       "        [0.1118],\n",
       "        [0.1118],\n",
       "        [0.1118],\n",
       "        [0.1118],\n",
       "        [0.1118],\n",
       "        [0.1118],\n",
       "        [0.1118],\n",
       "        [0.1118],\n",
       "        [0.1118],\n",
       "        [0.1118],\n",
       "        [0.1118],\n",
       "        [0.1118],\n",
       "        [0.1118],\n",
       "        [0.1118],\n",
       "        [0.1118],\n",
       "        [0.1118],\n",
       "        [0.1118],\n",
       "        [0.1118],\n",
       "        [0.1118],\n",
       "        [0.1118],\n",
       "        [0.1118],\n",
       "        [0.1118],\n",
       "        [0.1118],\n",
       "        [0.1118],\n",
       "        [0.1118],\n",
       "        [0.1118],\n",
       "        [0.1118],\n",
       "        [0.1118],\n",
       "        [0.1118],\n",
       "        [0.1118],\n",
       "        [0.1118],\n",
       "        [0.1118],\n",
       "        [0.1118],\n",
       "        [0.1118],\n",
       "        [0.1118],\n",
       "        [0.1118],\n",
       "        [0.1118],\n",
       "        [0.1118],\n",
       "        [0.1118],\n",
       "        [0.1118],\n",
       "        [0.1118],\n",
       "        [0.1118],\n",
       "        [0.1118],\n",
       "        [0.1118],\n",
       "        [0.1118],\n",
       "        [0.1118],\n",
       "        [0.1118],\n",
       "        [0.1118],\n",
       "        [0.1118],\n",
       "        [0.1118],\n",
       "        [0.1118],\n",
       "        [0.1118],\n",
       "        [0.1118],\n",
       "        [0.1118],\n",
       "        [0.1118],\n",
       "        [0.1118],\n",
       "        [0.1118],\n",
       "        [0.1118],\n",
       "        [0.1118],\n",
       "        [0.1118],\n",
       "        [0.1118],\n",
       "        [0.1118],\n",
       "        [0.1118],\n",
       "        [0.1118],\n",
       "        [0.1118],\n",
       "        [0.1118],\n",
       "        [0.1118],\n",
       "        [0.1118],\n",
       "        [0.1118],\n",
       "        [0.1118],\n",
       "        [0.1118],\n",
       "        [0.1118],\n",
       "        [0.1118],\n",
       "        [0.1118],\n",
       "        [0.1118],\n",
       "        [0.1118],\n",
       "        [0.1118],\n",
       "        [0.1118],\n",
       "        [0.1118],\n",
       "        [0.1118],\n",
       "        [0.1118],\n",
       "        [0.1118],\n",
       "        [0.1118],\n",
       "        [0.1118],\n",
       "        [0.1118],\n",
       "        [0.1118],\n",
       "        [0.1118],\n",
       "        [0.1118],\n",
       "        [0.1118],\n",
       "        [0.1118],\n",
       "        [0.1118],\n",
       "        [0.1118],\n",
       "        [0.1118],\n",
       "        [0.1118],\n",
       "        [0.1118],\n",
       "        [0.1118],\n",
       "        [0.1118]], grad_fn=<ReluBackward0>)"
      ]
     },
     "execution_count": 14,
     "metadata": {},
     "output_type": "execute_result"
    }
   ],
   "source": [
    "block_seq(inp)"
   ]
  },
  {
   "cell_type": "code",
   "execution_count": 15,
   "metadata": {},
   "outputs": [
    {
     "data": {
      "text/plain": [
       "torch.Size([100, 1])"
      ]
     },
     "execution_count": 15,
     "metadata": {},
     "output_type": "execute_result"
    }
   ],
   "source": [
    "block_seq(inp).shape"
   ]
  },
  {
   "cell_type": "code",
   "execution_count": 16,
   "metadata": {},
   "outputs": [
    {
     "data": {
      "text/plain": [
       "False"
      ]
     },
     "execution_count": 16,
     "metadata": {},
     "output_type": "execute_result"
    }
   ],
   "source": [
    "torch.allclose(block(inp), block_seq(inp))"
   ]
  },
  {
   "cell_type": "markdown",
   "metadata": {},
   "source": [
    "**Почему в последней ячейке вывелось False?**. Веса нейронной сети для хорошей оптимизации обычно инициализируют рандомно, причем инициализация должна быть *правильной*.\n",
    "В торче стратегии инициализации весов уже реализованы за вас, и если объявлять модули, то веса модуля уже будут рандомно инициализированы. Так как они рандомно инициализированы, то и выход двух заново созданных модулей (`block` и `block_seq`) будет разным."
   ]
  },
  {
   "cell_type": "markdown",
   "metadata": {},
   "source": [
    "#### Optimizers"
   ]
  },
  {
   "cell_type": "code",
   "execution_count": 17,
   "metadata": {},
   "outputs": [],
   "source": [
    "from torch.optim import SGD\n",
    "from torch.optim import Adam"
   ]
  },
  {
   "cell_type": "markdown",
   "metadata": {},
   "source": [
    "В pytorch так же есть реализации наиболее известных оптимизаторов -- например, стохастический градиентный спуск.\n",
    "Чтобы инициализировать почти любой оптимизатор, ему нужно передать список из тензоров (или словарей тензоров), которые нужно оптимизировать.\n",
    "Чтобы получить веса nn.Module нужно вызвать у него метод parameters()\n",
    "Так, чтобы оптимизировать веса `block`-а, подойдет например вот такой оптимизатор:"
   ]
  },
  {
   "cell_type": "code",
   "execution_count": 18,
   "metadata": {},
   "outputs": [],
   "source": [
    "optimizer = SGD(block.parameters(), lr=0.05)\n",
    "optimizer1 = Adam(block.parameters(), lr=0.05)\n",
    "#  сюда мы так же передали lr -- наш learning-rate"
   ]
  },
  {
   "cell_type": "code",
   "execution_count": 19,
   "metadata": {},
   "outputs": [
    {
     "data": {
      "text/plain": [
       "[('linear_first.weight',\n",
       "  Parameter containing:\n",
       "  tensor([[-0.0976,  0.1048,  0.0307,  ...,  0.0450, -0.1108, -0.1220],\n",
       "          [ 0.1033, -0.0756,  0.0891,  ..., -0.0987,  0.0437,  0.1142],\n",
       "          [ 0.1087, -0.1066, -0.0709,  ..., -0.1084, -0.0075,  0.0911],\n",
       "          ...,\n",
       "          [ 0.0504,  0.0190, -0.0433,  ..., -0.1018, -0.1243,  0.0382],\n",
       "          [-0.0776,  0.0034,  0.0421,  ...,  0.0346, -0.0780, -0.0010],\n",
       "          [-0.0161, -0.0373,  0.0353,  ...,  0.1208, -0.0905,  0.1169]],\n",
       "         requires_grad=True)),\n",
       " ('linear_first.bias',\n",
       "  Parameter containing:\n",
       "  tensor([ 0.0462, -0.0991,  0.0340, -0.0923,  0.0256, -0.0233, -0.0558, -0.0358,\n",
       "           0.0645,  0.0598,  0.1152,  0.0360,  0.0945, -0.0561, -0.0071,  0.0733,\n",
       "          -0.1237, -0.1072,  0.0006, -0.0820,  0.1008,  0.0500,  0.0377, -0.1071,\n",
       "          -0.0875, -0.0605,  0.0227,  0.0350, -0.0115, -0.0486, -0.0513, -0.0974,\n",
       "           0.0626, -0.0455,  0.0537,  0.0352, -0.0813,  0.0348,  0.0484,  0.0910,\n",
       "           0.0775,  0.0715,  0.0258,  0.0716, -0.0792,  0.0690,  0.0973, -0.1208,\n",
       "          -0.0500, -0.0770, -0.0826, -0.1084,  0.1007,  0.0897,  0.0832,  0.0488,\n",
       "          -0.0733, -0.1091, -0.1225, -0.0882,  0.0416, -0.0572, -0.0467, -0.0360],\n",
       "         requires_grad=True)),\n",
       " ('linear_second.weight',\n",
       "  Parameter containing:\n",
       "  tensor([[-0.1217, -0.1086, -0.0609,  0.0717, -0.0539, -0.1208, -0.1062, -0.0180,\n",
       "           -0.0097, -0.0030, -0.0598,  0.0482, -0.0974, -0.1147, -0.1244,  0.1102,\n",
       "            0.0744,  0.0624,  0.0635,  0.0074, -0.0427,  0.0247, -0.1237,  0.0731,\n",
       "           -0.0543,  0.0163, -0.0265,  0.0904, -0.1173, -0.0556, -0.1187,  0.0353,\n",
       "            0.0893, -0.0698,  0.0101, -0.0564, -0.0320, -0.0400, -0.0433, -0.0866,\n",
       "           -0.0498, -0.0172, -0.0455, -0.0252,  0.1135,  0.1220, -0.0159, -0.1064,\n",
       "            0.0296, -0.0121, -0.0640,  0.0377,  0.0681, -0.0861, -0.0674, -0.0949,\n",
       "           -0.0092,  0.0166, -0.0672,  0.0138,  0.1014,  0.0972, -0.0693, -0.0544]],\n",
       "         requires_grad=True)),\n",
       " ('linear_second.bias',\n",
       "  Parameter containing:\n",
       "  tensor([-0.1028], requires_grad=True))]"
      ]
     },
     "execution_count": 19,
     "metadata": {},
     "output_type": "execute_result"
    }
   ],
   "source": [
    "list(block.named_parameters())"
   ]
  },
  {
   "cell_type": "code",
   "execution_count": 20,
   "metadata": {},
   "outputs": [
    {
     "data": {
      "text/plain": [
       "Adam (\n",
       "Parameter Group 0\n",
       "    amsgrad: False\n",
       "    betas: (0.9, 0.999)\n",
       "    capturable: False\n",
       "    differentiable: False\n",
       "    eps: 1e-08\n",
       "    foreach: None\n",
       "    fused: False\n",
       "    lr: 0.05\n",
       "    maximize: False\n",
       "    weight_decay: 0\n",
       ")"
      ]
     },
     "execution_count": 20,
     "metadata": {},
     "output_type": "execute_result"
    }
   ],
   "source": [
    "optimizer1"
   ]
  },
  {
   "cell_type": "markdown",
   "metadata": {},
   "source": [
    "Теперь нам хватает знаний, чтобы закодить логистическую регрессию, которая отличает букву A на картинке от буквы B"
   ]
  },
  {
   "cell_type": "code",
   "execution_count": 21,
   "metadata": {},
   "outputs": [
    {
     "name": "stdout",
     "output_type": "stream",
     "text": [
      "Parsing...\n",
      "found broken img: ./notMNIST_small/A/RGVtb2NyYXRpY2FCb2xkT2xkc3R5bGUgQm9sZC50dGY=.png [it's ok if &lt;10 images are broken]\n",
      "Done\n",
      "Train size  =        2808, test_size  = 937\n",
      "Train shape = (2808, 784), test_shape = (937, 784)\n"
     ]
    }
   ],
   "source": [
    "# если клетка падает, то просто перезапусти\n",
    "from notmnist import load_notmnist\n",
    "\n",
    "\n",
    "X_train, y_train, X_test, y_test = load_notmnist(letters='AB')\n",
    "X_train, X_test = X_train.reshape([-1, 784]), X_test.reshape([-1, 784])\n",
    "\n",
    "print(f\"Train size  = {len(X_train):11}, test_size  = {len(X_test)}\")\n",
    "print(f\"Train shape = {X_train.shape}, test_shape = {X_test.shape:}\")"
   ]
  },
  {
   "cell_type": "code",
   "execution_count": 22,
   "metadata": {},
   "outputs": [
    {
     "data": {
      "image/png": "[encoded data removed]",
      "text/plain": [
       "<Figure size 1000x200 with 4 Axes>"
      ]
     },
     "metadata": {},
     "output_type": "display_data"
    }
   ],
   "source": [
    "indeces = [0, 1, 4, 8]\n",
    "for i, ind in enumerate(indeces):\n",
    "    plt.subplot(1, len(indeces), i + 1)\n",
    "    plt.imshow(X_train[ind].reshape([28, 28]))\n",
    "    plt.title(f'$y_{ind}$=' + str(y_train[ind]))"
   ]
  },
  {
   "cell_type": "code",
   "execution_count": 23,
   "metadata": {},
   "outputs": [],
   "source": [
    "model = nn.Sequential(\n",
    "    nn.Linear(784, 1),  # на вход картинки 28 на 28 -- ровно 784 значения\n",
    "    nn.Sigmoid(),  # на выход числа от 0 до 1, где 1 -- вероятность того, что на картинке B\n",
    ")"
   ]
  },
  {
   "cell_type": "markdown",
   "metadata": {},
   "source": [
    "Посмотрим на параметры модели:"
   ]
  },
  {
   "cell_type": "code",
   "execution_count": 24,
   "metadata": {},
   "outputs": [
    {
     "name": "stdout",
     "output_type": "stream",
     "text": [
      "Weight shapes: [torch.Size([1, 784]), torch.Size([1])]\n"
     ]
    }
   ],
   "source": [
    "print(\"Weight shapes:\", [w.shape for w in model.parameters()])"
   ]
  },
  {
   "cell_type": "code",
   "execution_count": 25,
   "metadata": {},
   "outputs": [
    {
     "data": {
      "text/plain": [
       "tensor([0.4420, 0.5629, 0.5607], grad_fn=<SelectBackward0>)"
      ]
     },
     "execution_count": 25,
     "metadata": {},
     "output_type": "execute_result"
    }
   ],
   "source": [
    "# тензор размера 3 на 784 -- ровно три первых картинки из тренировочной выборки\n",
    "x = torch.tensor(X_train[:3], dtype=torch.float32)\n",
    "\n",
    "# тензор размера 3 -- ровно три первых ответа из тренировочной выборки\n",
    "y = torch.tensor(y_train[:3], dtype=torch.float32)\n",
    "\n",
    "# то, что предсказывает необученная модель\n",
    "y_predicted = model(x)[:, 0]\n",
    "\n",
    "y_predicted"
   ]
  },
  {
   "cell_type": "markdown",
   "metadata": {},
   "source": [
    "Для обучения необходимо вычислить функцию ошибки. В данном случае подходит лог-лосс, или бинарная кросс-энтропия. Вы реализовали ровно в одной из функций из начала этой тетрадки :) Воспользуйтесь ей, чтобы посчитать лосс"
   ]
  },
  {
   "cell_type": "code",
   "execution_count": 26,
   "metadata": {},
   "outputs": [
    {
     "data": {
      "text/plain": [
       "tensor(0.8222, grad_fn=<NegBackward0>)"
      ]
     },
     "execution_count": 26,
     "metadata": {},
     "output_type": "execute_result"
    }
   ],
   "source": [
    "# <YOUR-CODE-HERE>\n",
    "def log_loss(predicted_probas, y_true): \n",
    "    return -torch.mean(torch.log(torch.abs(predicted_probas-(1-y_true))))\n",
    "\n",
    "loss = log_loss(y_predicted, y)\n",
    "loss"
   ]
  },
  {
   "cell_type": "code",
   "execution_count": 27,
   "metadata": {},
   "outputs": [],
   "source": [
    "assert tuple(loss.size()) == tuple(), \"Лосс должен быть скаляром\"\n",
    "assert loss.data.numpy() > 0, \"лог лосс должен быть больше нуля, ноль -- только для идеального предсказания\"\n",
    "assert loss.data.numpy() <= np.log(3), \"Лосс слишком большой для нетренированной модели. Пожалуйста, перепроверьте его\""
   ]
  },
  {
   "cell_type": "code",
   "execution_count": 28,
   "metadata": {},
   "outputs": [],
   "source": [
    "optimizer = SGD(model.parameters(), lr=0.05)  # создаем оптимизатор\n",
    "#  теперь как им пользоваться:"
   ]
  },
  {
   "cell_type": "code",
   "execution_count": 29,
   "metadata": {},
   "outputs": [],
   "source": [
    "loss = log_loss(y_predicted, y)  # посчитали значение (скаляр), которое хотим минимизировать\n",
    "loss.backward()  # теперь у каждой переменной, где require_grad=True, есть градиент (производная). Для всех параметров нашего модуля это выполнено\n",
    "optimizer.step()  # делаем шаг градиентного спуска\n",
    "optimizer.zero_grad()  # очищаем параметры от уже посчитанных градиентов, чтобы те не мешали нам на следующих шагах\n",
    "\n",
    "# и да, это надо делать в цикле, который называется training_loop"
   ]
  },
  {
   "cell_type": "code",
   "execution_count": 30,
   "metadata": {},
   "outputs": [],
   "source": [
    "from typing import Iterator, Tuple\n",
    "from tqdm.auto import trange\n",
    "\n",
    "\n",
    "def iterate_minibatches(inputs: np.ndarray, targets: np.ndarray, batch_size: int, shuffle: bool = False) \\\n",
    "        -> Iterator[Tuple[np.ndarray]]:\n",
    "    \"\"\"\n",
    "    Проходимся по датасету мини-батчами \n",
    "    \"\"\"\n",
    "    assert len(inputs) == len(targets)\n",
    "    \n",
    "    if shuffle:\n",
    "        indices = np.random.permutation(len(inputs))\n",
    "    \n",
    "    for start_idx in range(0, len(inputs), batch_size):\n",
    "        if shuffle:\n",
    "            excerpt = indices[start_idx: start_idx + batch_size]\n",
    "        else:\n",
    "            excerpt = slice(start_idx, start_idx + batch_size)\n",
    "        \n",
    "        yield inputs[excerpt], targets[excerpt]"
   ]
  },
  {
   "cell_type": "markdown",
   "metadata": {},
   "source": [
    "#### Теперь всё вместе"
   ]
  },
  {
   "cell_type": "code",
   "execution_count": 31,
   "metadata": {},
   "outputs": [],
   "source": [
    "model = nn.Sequential(\n",
    "    nn.Linear(784, 128), # 784*64 + 64\n",
    "    nn.LeakyReLU(),\n",
    "    nn.Linear(128,128), # 64*32 + 32\n",
    "    nn.LeakyReLU(),\n",
    "    nn.Linear(128,64), # 64*32 + 32\n",
    "    nn.LeakyReLU(),\n",
    "    nn.Linear(64,1), # 32*1 + 1\n",
    "    nn.Sigmoid()\n",
    ")\n",
    "optimizer = Adam(model.parameters(), lr=0.000075)"
   ]
  },
  {
   "cell_type": "code",
   "execution_count": 32,
   "metadata": {},
   "outputs": [],
   "source": [
    "from tqdm.notebook import tqdm"
   ]
  },
  {
   "cell_type": "code",
   "execution_count": 33,
   "metadata": {},
   "outputs": [
    {
     "data": {
      "application/vnd.jupyter.widget-view+json": {
       "model_id": "6b5a1ea8d2b24e21bd10f039276d556c",
       "version_major": 2,
       "version_minor": 0
      },
      "text/plain": [
       "  0%|          | 0/120 [00:00<?, ?it/s]"
      ]
     },
     "metadata": {},
     "output_type": "display_data"
    }
   ],
   "source": [
    "for epoch in tqdm(range(120)):    \n",
    "    history = []\n",
    "\n",
    "    # итерируемся по мини-батчам в цикле\n",
    "    for X_batch, y_batch in iterate_minibatches(X_train, y_train, 64):\n",
    "\n",
    "        # предскажи вероятности\n",
    "        y_predicted = model(torch.tensor(X_batch))[:,0]\n",
    "\n",
    "        assert y_predicted.dim() == 1, \"вы забыли второе измерение с помощью [:, 0]\"\n",
    "\n",
    "        # посчитай лосс\n",
    "        loss = log_loss(y_predicted, torch.tensor(y_batch))\n",
    "        history.append(loss.detach().numpy())\n",
    "\n",
    "        # посчитай градиенты\n",
    "        loss.backward()\n",
    "\n",
    "        # шаг градиентного спуска\n",
    "        optimizer.step()\n",
    "\n",
    "\n",
    "        # чистим градиенты\n",
    "        optimizer.zero_grad()\n",
    "\n",
    "        # if i % 5 == 0:\n",
    "            # print(\"step #%i | mean loss = %.3f\" % (i, np.mean(history[-10:])))"
   ]
  },
  {
   "cell_type": "code",
   "execution_count": 34,
   "metadata": {},
   "outputs": [
    {
     "data": {
      "text/plain": [
       "array(1.3057136e-05, dtype=float32)"
      ]
     },
     "execution_count": 34,
     "metadata": {},
     "output_type": "execute_result"
    }
   ],
   "source": [
    "history[-1]"
   ]
  },
  {
   "cell_type": "markdown",
   "metadata": {},
   "source": [
    "Тестируем:"
   ]
  },
  {
   "cell_type": "code",
   "execution_count": 35,
   "metadata": {},
   "outputs": [
    {
     "name": "stdout",
     "output_type": "stream",
     "text": [
      "Test accuracy: 0.97759\n"
     ]
    }
   ],
   "source": [
    "# посчитай качество на валидационной выборке\n",
    "def accuracy(predictions: torch.Tensor, targets: torch.Tensor, threshold: float = 0.5):\n",
    "    \"\"\"точность предсказаний - доля верных ответов\"\"\"\n",
    "    ### <YOUR CODE HERE> ###\n",
    "    arr = (predictions>threshold) == targets\n",
    "    return torch.sum(arr)/arr.shape[0]\n",
    "\n",
    "predictions = torch.empty(len(X_test))\n",
    "for i, x in enumerate(X_test):\n",
    "    x_tensor = torch.tensor(x)\n",
    "    predictions[i] = model(x_tensor.reshape(1, len(x_tensor)))\n",
    "    \n",
    "y_test_tensor = torch.tensor(y_test)\n",
    "acc = accuracy(predictions, y_test_tensor, 0.5)\n",
    "\n",
    "\n",
    "print(\"Test accuracy: %.5f\" % acc)\n",
    "assert acc > 0.94, \"попробуй потренировать подольше\""
   ]
  },
  {
   "cell_type": "markdown",
   "metadata": {},
   "source": [
    "## Бонус 1"
   ]
  },
  {
   "cell_type": "markdown",
   "metadata": {},
   "source": [
    "Попробуй добиться того, чтобы accuracy на тестовой выборке стала больше чем 0.96 (для этого можно модицифировать архитектуру нейросети, менять параметры выше). Копипастить из этой же тетрадки или других можно :)"
   ]
  },
  {
   "cell_type": "markdown",
   "metadata": {
    "tags": []
   },
   "source": [
    "## Бонус 2. MLP + регрессия\n",
    "\n",
    "Попробуй построить нейросеть, которая решает задачу регрессии для датасета House Prices."
   ]
  },
  {
   "cell_type": "code",
   "execution_count": 69,
   "metadata": {},
   "outputs": [],
   "source": [
    "import random"
   ]
  },
  {
   "cell_type": "code",
   "execution_count": 70,
   "metadata": {},
   "outputs": [],
   "source": [
    "def mse_loss(y_predicted, y_true):\n",
    "    return torch.mean(torch.pow(y_predicted-y_true, 2))\n",
    "def rmse(y_pred, y_true):\n",
    "    return torch.square(torch.mean(torch.pow(y_true-y_pred, 2)))"
   ]
  },
  {
   "cell_type": "code",
   "execution_count": 73,
   "metadata": {},
   "outputs": [],
   "source": [
    "# https://www.kaggle.com/c/house-prices-advanced-regression-techniques\n",
    "features = ['LotArea', 'TotalBsmtSF', 'GrLivArea', '1stFlrSF', '2ndFlrSF']\n",
    "data = pd.read_csv('house-prices-advanced-regression-techniques/train.csv')[features + ['SalePrice']]\n",
    "\n",
    "# train, valid = train_test_split(data, test_size=0.33, random_state=42)\n",
    "\n",
    "# X_train = train[features].values\n",
    "# y_train = train['SalePrice'].values[..., np.newaxis]\n",
    "\n",
    "# X_valid = valid[features].values\n",
    "# y_valid = valid['SalePrice'].values[..., np.newaxis]\n",
    "x_train_ind = list(range(len(data)))\n",
    "X_train, y = data.drop(columns=['SalePrice']).values, data['SalePrice'].values[..., np.newaxis]\n",
    "\n",
    "random.seed(123)\n",
    "random.shuffle(x_train_ind)\n",
    "X_train = X_train[x_train_ind]\n",
    "y_train = y[x_train_ind]\n",
    "\n",
    "num_train_train = int(len(X_train)*0.8)\n",
    "\n",
    "x_train_train = X_train[:num_train_train]\n",
    "y_train_train = y_train[:num_train_train]\n",
    "\n",
    "y_train_test = y_train[int(len(X_train)*0.8):]\n",
    "x_train_test = X_train[int(len(X_train)*0.8):]\n",
    "\n",
    "scaler = StandardScaler()\n",
    "\n",
    "X_train = scaler.fit_transform(x_train_train)\n",
    "X_valid = scaler.transform(x_train_test)\n",
    "\n",
    "y_train_std = y_train_train.std()\n",
    "y_train = y_train_train / y_train_std\n",
    "y_valid = y_train_test / y_train_std"
   ]
  },
  {
   "cell_type": "code",
   "execution_count": 74,
   "metadata": {},
   "outputs": [
    {
     "data": {
      "text/plain": [
       "(1168, 5)"
      ]
     },
     "execution_count": 74,
     "metadata": {},
     "output_type": "execute_result"
    }
   ],
   "source": [
    "X_train.shape"
   ]
  },
  {
   "cell_type": "code",
   "execution_count": 85,
   "metadata": {},
   "outputs": [],
   "source": [
    "model = nn.Sequential(\n",
    "    nn.Linear(5, 5),\n",
    "    nn.LeakyReLU(),\n",
    "    nn.Linear(5, 5),\n",
    "    nn.LeakyReLU(),\n",
    "    nn.Linear(5, 5),\n",
    "    nn.LeakyReLU(),\n",
    "    nn.Linear(5, 1),\n",
    "    \n",
    ")\n",
    "optimizer = SGD(model.parameters(), lr=0.001)"
   ]
  },
  {
   "cell_type": "code",
   "execution_count": 86,
   "metadata": {},
   "outputs": [
    {
     "data": {
      "application/vnd.jupyter.widget-view+json": {
       "model_id": "d2abb6845d284732bb01f898f3d35d48",
       "version_major": 2,
       "version_minor": 0
      },
      "text/plain": [
       "  0%|          | 0/600 [00:00<?, ?it/s]"
      ]
     },
     "metadata": {},
     "output_type": "display_data"
    }
   ],
   "source": [
    "for epoch in tqdm(range(600)):    \n",
    "    history = []\n",
    "    for X_batch, y_batch in iterate_minibatches(X_train, y_train, 64):\n",
    "    # for X, y in zip(X_train, y_train):\n",
    "        y_predicted = model(torch.tensor(X_batch).to(torch.float32))\n",
    "        loss = mse_loss(y_predicted, torch.tensor(y_batch))\n",
    "        history.append(loss.detach().numpy())\n",
    "        loss.backward()\n",
    "        optimizer.step()\n",
    "        optimizer.zero_grad()"
   ]
  },
  {
   "cell_type": "code",
   "execution_count": 87,
   "metadata": {},
   "outputs": [
    {
     "data": {
      "text/plain": [
       "[<matplotlib.lines.Line2D at 0x28f4e0550>]"
      ]
     },
     "execution_count": 87,
     "metadata": {},
     "output_type": "execute_result"
    },
    {
     "data": {
      "image/png": "[encoded data removed]",
      "text/plain": [
       "<Figure size 1000x200 with 1 Axes>"
      ]
     },
     "metadata": {},
     "output_type": "display_data"
    }
   ],
   "source": [
    "plt.plot(np.arange(len(history)), history)"
   ]
  },
  {
   "cell_type": "code",
   "execution_count": 88,
   "metadata": {},
   "outputs": [],
   "source": [
    "y_pred = model(torch.tensor(X_valid).to(torch.float32))"
   ]
  },
  {
   "cell_type": "code",
   "execution_count": 89,
   "metadata": {},
   "outputs": [
    {
     "name": "stdout",
     "output_type": "stream",
     "text": [
      "tensor(0.1405, dtype=torch.float64, grad_fn=<PowBackward0>)\n"
     ]
    }
   ],
   "source": [
    "print(rmse(y_pred, torch.tensor(y_valid)))"
   ]
  },
  {
   "cell_type": "code",
   "execution_count": 67,
   "metadata": {},
   "outputs": [
    {
     "data": {
      "text/plain": [
       "tensor([[1.7765],\n",
       "        [4.0561],\n",
       "        [1.6941],\n",
       "        [2.2313],\n",
       "        [3.1796],\n",
       "        [1.3999],\n",
       "        [2.6036],\n",
       "        [1.8610],\n",
       "        [1.4016],\n",
       "        [2.0815],\n",
       "        [1.9816],\n",
       "        [1.5708],\n",
       "        [1.7059],\n",
       "        [2.9605],\n",
       "        [2.3482],\n",
       "        [1.6855],\n",
       "        [2.4536],\n",
       "        [1.7756],\n",
       "        [1.6922],\n",
       "        [2.7958],\n",
       "        [2.5208],\n",
       "        [2.2605],\n",
       "        [2.0954],\n",
       "        [1.5874],\n",
       "        [2.6990],\n",
       "        [2.0579],\n",
       "        [2.4486],\n",
       "        [1.6887],\n",
       "        [2.3114],\n",
       "        [2.4667],\n",
       "        [1.4055],\n",
       "        [2.9943],\n",
       "        [4.1904],\n",
       "        [1.6119],\n",
       "        [3.1841],\n",
       "        [1.8957],\n",
       "        [2.7118],\n",
       "        [2.7884],\n",
       "        [3.8870],\n",
       "        [1.3815],\n",
       "        [1.4238],\n",
       "        [2.7432],\n",
       "        [1.6276],\n",
       "        [3.8383],\n",
       "        [1.6788],\n",
       "        [3.0425],\n",
       "        [1.5848],\n",
       "        [1.6093],\n",
       "        [3.8157],\n",
       "        [2.2091],\n",
       "        [1.5756],\n",
       "        [3.0753],\n",
       "        [1.4765],\n",
       "        [3.7590],\n",
       "        [1.5281],\n",
       "        [3.3820],\n",
       "        [2.2769],\n",
       "        [2.0097],\n",
       "        [1.7790],\n",
       "        [1.3885],\n",
       "        [1.3991],\n",
       "        [2.1858],\n",
       "        [3.6305],\n",
       "        [2.9012],\n",
       "        [3.3360],\n",
       "        [2.9398],\n",
       "        [1.5481],\n",
       "        [3.5558],\n",
       "        [1.6750],\n",
       "        [1.9239],\n",
       "        [1.3816],\n",
       "        [1.7500],\n",
       "        [1.5867],\n",
       "        [1.3816],\n",
       "        [4.1434],\n",
       "        [2.2947],\n",
       "        [3.5573],\n",
       "        [3.5573],\n",
       "        [1.9296],\n",
       "        [1.5051],\n",
       "        [1.4227],\n",
       "        [1.6729],\n",
       "        [1.8244],\n",
       "        [1.3985],\n",
       "        [1.9688],\n",
       "        [2.0189],\n",
       "        [2.8066],\n",
       "        [2.7475],\n",
       "        [1.5281],\n",
       "        [2.1318],\n",
       "        [3.0478],\n",
       "        [2.3758],\n",
       "        [1.5326],\n",
       "        [4.1744],\n",
       "        [3.4462],\n",
       "        [2.3869],\n",
       "        [2.1176],\n",
       "        [1.9114],\n",
       "        [2.8831],\n",
       "        [3.2352],\n",
       "        [3.2479],\n",
       "        [2.5174],\n",
       "        [4.0024],\n",
       "        [1.5316],\n",
       "        [2.5920],\n",
       "        [2.8262],\n",
       "        [1.7187],\n",
       "        [3.4347],\n",
       "        [1.6687],\n",
       "        [3.0741],\n",
       "        [1.3986],\n",
       "        [1.7385],\n",
       "        [1.7509],\n",
       "        [2.0336],\n",
       "        [2.5786],\n",
       "        [1.5119],\n",
       "        [1.5679],\n",
       "        [1.5585],\n",
       "        [1.3991],\n",
       "        [3.9435],\n",
       "        [1.4594],\n",
       "        [1.5281],\n",
       "        [2.2523],\n",
       "        [2.5260],\n",
       "        [2.6235],\n",
       "        [1.6767],\n",
       "        [3.2747],\n",
       "        [1.4591],\n",
       "        [1.8301],\n",
       "        [2.4156],\n",
       "        [2.2505],\n",
       "        [3.6946],\n",
       "        [2.6002],\n",
       "        [2.3148],\n",
       "        [1.3990],\n",
       "        [3.3307],\n",
       "        [3.3501],\n",
       "        [1.6082],\n",
       "        [3.2739],\n",
       "        [6.1426],\n",
       "        [4.4257],\n",
       "        [1.6639],\n",
       "        [2.2401],\n",
       "        [2.3004],\n",
       "        [2.0766],\n",
       "        [1.5622],\n",
       "        [3.0365],\n",
       "        [2.6745],\n",
       "        [1.4982],\n",
       "        [1.5598],\n",
       "        [1.5480],\n",
       "        [1.8808],\n",
       "        [3.8667],\n",
       "        [3.3714],\n",
       "        [1.7274],\n",
       "        [2.5756],\n",
       "        [2.1544],\n",
       "        [2.5400],\n",
       "        [1.3990],\n",
       "        [1.6342],\n",
       "        [2.1641],\n",
       "        [1.7775],\n",
       "        [3.2424],\n",
       "        [2.4771],\n",
       "        [1.6923],\n",
       "        [3.5217],\n",
       "        [2.7679],\n",
       "        [3.9183],\n",
       "        [4.4876],\n",
       "        [3.4872],\n",
       "        [3.6594],\n",
       "        [1.5539],\n",
       "        [1.4885],\n",
       "        [2.0524],\n",
       "        [4.1629],\n",
       "        [1.3883],\n",
       "        [2.0408],\n",
       "        [2.4855],\n",
       "        [1.8510],\n",
       "        [2.0578],\n",
       "        [2.1725],\n",
       "        [1.4437],\n",
       "        [1.6140],\n",
       "        [1.7805],\n",
       "        [2.8816],\n",
       "        [2.1696],\n",
       "        [3.1597],\n",
       "        [2.6491],\n",
       "        [2.5193],\n",
       "        [1.4538],\n",
       "        [1.7361],\n",
       "        [1.8192],\n",
       "        [1.6329],\n",
       "        [1.8357],\n",
       "        [2.3439],\n",
       "        [2.6329],\n",
       "        [2.1752],\n",
       "        [1.8578],\n",
       "        [2.2886],\n",
       "        [1.7481],\n",
       "        [3.2176],\n",
       "        [2.3968],\n",
       "        [1.9540],\n",
       "        [3.9757],\n",
       "        [2.4389],\n",
       "        [1.6652],\n",
       "        [2.8882],\n",
       "        [1.8732],\n",
       "        [1.9226],\n",
       "        [1.5710],\n",
       "        [2.9705],\n",
       "        [1.5261],\n",
       "        [1.7479],\n",
       "        [1.9293],\n",
       "        [2.8140],\n",
       "        [3.0700],\n",
       "        [2.3794],\n",
       "        [1.9177],\n",
       "        [2.0248],\n",
       "        [1.3877],\n",
       "        [1.5961],\n",
       "        [2.3961],\n",
       "        [2.9217],\n",
       "        [1.5374],\n",
       "        [2.7949],\n",
       "        [2.1206],\n",
       "        [1.5666],\n",
       "        [1.4972],\n",
       "        [2.3453],\n",
       "        [1.6832],\n",
       "        [1.3816],\n",
       "        [2.1218],\n",
       "        [1.5543],\n",
       "        [2.1295],\n",
       "        [2.7770],\n",
       "        [1.9790],\n",
       "        [2.0790],\n",
       "        [1.6212],\n",
       "        [3.0591],\n",
       "        [1.5924],\n",
       "        [1.4360],\n",
       "        [2.9098],\n",
       "        [2.4609],\n",
       "        [4.5522],\n",
       "        [2.6631],\n",
       "        [2.0987],\n",
       "        [2.1838],\n",
       "        [1.9490],\n",
       "        [1.7849],\n",
       "        [1.5031],\n",
       "        [3.0388],\n",
       "        [1.7516],\n",
       "        [1.9898],\n",
       "        [1.4430],\n",
       "        [1.8296],\n",
       "        [1.8234],\n",
       "        [1.6149],\n",
       "        [1.6851],\n",
       "        [2.1965],\n",
       "        [2.9985],\n",
       "        [3.6774],\n",
       "        [2.0933],\n",
       "        [1.5915],\n",
       "        [3.0786],\n",
       "        [3.3857],\n",
       "        [2.9551],\n",
       "        [2.2710],\n",
       "        [1.5281],\n",
       "        [1.7090],\n",
       "        [1.6533],\n",
       "        [3.8489],\n",
       "        [2.4292],\n",
       "        [2.8255],\n",
       "        [1.4671],\n",
       "        [1.3815],\n",
       "        [1.6748],\n",
       "        [2.2538],\n",
       "        [3.6397],\n",
       "        [2.8234],\n",
       "        [2.0792],\n",
       "        [2.6729],\n",
       "        [1.4000],\n",
       "        [2.2259],\n",
       "        [1.5124],\n",
       "        [3.3510],\n",
       "        [2.8588],\n",
       "        [2.7322],\n",
       "        [1.6707],\n",
       "        [2.9519],\n",
       "        [2.0540],\n",
       "        [2.1581],\n",
       "        [1.5591],\n",
       "        [2.3755],\n",
       "        [2.2119],\n",
       "        [1.5238],\n",
       "        [2.2306],\n",
       "        [2.2691],\n",
       "        [1.5864],\n",
       "        [2.3343],\n",
       "        [1.5811],\n",
       "        [2.6841],\n",
       "        [2.8781],\n",
       "        [1.5452],\n",
       "        [1.8108],\n",
       "        [2.6197],\n",
       "        [2.5367],\n",
       "        [1.9672],\n",
       "        [3.2912],\n",
       "        [3.5575],\n",
       "        [1.5373],\n",
       "        [1.9993],\n",
       "        [3.1953],\n",
       "        [1.5214],\n",
       "        [3.8253],\n",
       "        [2.1112],\n",
       "        [2.1392],\n",
       "        [2.0303],\n",
       "        [1.6681],\n",
       "        [3.5364],\n",
       "        [1.3816],\n",
       "        [2.8958],\n",
       "        [2.1397],\n",
       "        [1.5320],\n",
       "        [1.5441],\n",
       "        [3.3117],\n",
       "        [2.6839],\n",
       "        [1.5504],\n",
       "        [2.3236],\n",
       "        [2.9124],\n",
       "        [1.5665],\n",
       "        [1.9134],\n",
       "        [2.5807],\n",
       "        [1.5223],\n",
       "        [2.4537],\n",
       "        [1.8244],\n",
       "        [1.7773],\n",
       "        [1.6805],\n",
       "        [1.9451],\n",
       "        [1.5802],\n",
       "        [2.6991],\n",
       "        [2.3646],\n",
       "        [1.5535],\n",
       "        [2.4851],\n",
       "        [2.6497],\n",
       "        [2.8309],\n",
       "        [2.9347],\n",
       "        [3.4785],\n",
       "        [1.6279],\n",
       "        [3.4713],\n",
       "        [1.4893],\n",
       "        [3.9890],\n",
       "        [4.1241],\n",
       "        [3.1926],\n",
       "        [2.3405],\n",
       "        [3.3234],\n",
       "        [1.6921],\n",
       "        [1.6334],\n",
       "        [1.4965],\n",
       "        [2.3661],\n",
       "        [3.9536],\n",
       "        [2.7300],\n",
       "        [1.7657],\n",
       "        [3.1241],\n",
       "        [2.8791],\n",
       "        [1.9109],\n",
       "        [2.6356],\n",
       "        [1.9495],\n",
       "        [1.6541],\n",
       "        [1.9546],\n",
       "        [2.7316],\n",
       "        [1.7229],\n",
       "        [2.3287],\n",
       "        [1.3943],\n",
       "        [2.0145],\n",
       "        [2.5035],\n",
       "        [1.5947],\n",
       "        [3.3956],\n",
       "        [3.5642],\n",
       "        [1.4227],\n",
       "        [3.1804],\n",
       "        [1.8048],\n",
       "        [2.6914],\n",
       "        [2.2038],\n",
       "        [2.0257],\n",
       "        [2.3179],\n",
       "        [2.4675],\n",
       "        [1.8668],\n",
       "        [2.8527],\n",
       "        [3.9239],\n",
       "        [2.2887],\n",
       "        [1.5929],\n",
       "        [1.3810],\n",
       "        [1.7575],\n",
       "        [3.5337],\n",
       "        [2.0915],\n",
       "        [4.2906],\n",
       "        [1.7561],\n",
       "        [2.4457],\n",
       "        [2.0713],\n",
       "        [1.3975],\n",
       "        [2.0495],\n",
       "        [4.0373],\n",
       "        [2.7287],\n",
       "        [1.8285],\n",
       "        [1.8533],\n",
       "        [1.5733],\n",
       "        [2.4872],\n",
       "        [3.1004],\n",
       "        [4.0486],\n",
       "        [2.3647],\n",
       "        [2.4834],\n",
       "        [2.8256],\n",
       "        [1.3989],\n",
       "        [3.3623],\n",
       "        [2.2504],\n",
       "        [3.7432],\n",
       "        [1.5677],\n",
       "        [3.1862],\n",
       "        [3.1897],\n",
       "        [1.7668],\n",
       "        [2.9871],\n",
       "        [2.8738],\n",
       "        [2.3649],\n",
       "        [2.2107],\n",
       "        [3.4062],\n",
       "        [2.2061],\n",
       "        [2.4900],\n",
       "        [1.7032],\n",
       "        [2.1171],\n",
       "        [3.0719],\n",
       "        [1.5600],\n",
       "        [1.7074],\n",
       "        [2.8347],\n",
       "        [1.7678],\n",
       "        [1.9679],\n",
       "        [2.3576],\n",
       "        [1.7550],\n",
       "        [4.9340],\n",
       "        [2.7687],\n",
       "        [1.4254],\n",
       "        [2.1964],\n",
       "        [3.6627],\n",
       "        [2.3999],\n",
       "        [2.3180],\n",
       "        [2.6779],\n",
       "        [1.8927],\n",
       "        [2.2617],\n",
       "        [2.8967],\n",
       "        [1.8456],\n",
       "        [1.7583],\n",
       "        [1.5835],\n",
       "        [2.4595],\n",
       "        [2.8717],\n",
       "        [2.5729],\n",
       "        [1.7178],\n",
       "        [2.2669],\n",
       "        [3.7151],\n",
       "        [3.3004],\n",
       "        [2.9135],\n",
       "        [2.4261],\n",
       "        [1.7306],\n",
       "        [1.3989],\n",
       "        [3.3616],\n",
       "        [3.1344],\n",
       "        [2.5993],\n",
       "        [6.4530],\n",
       "        [2.5388],\n",
       "        [2.6356],\n",
       "        [2.2748],\n",
       "        [3.4908],\n",
       "        [1.5537],\n",
       "        [1.3817],\n",
       "        [1.5929],\n",
       "        [1.5353],\n",
       "        [2.7469],\n",
       "        [3.9363],\n",
       "        [1.7732],\n",
       "        [2.1062],\n",
       "        [1.7721],\n",
       "        [2.6149],\n",
       "        [1.6235],\n",
       "        [2.4788]], grad_fn=<AddmmBackward0>)"
      ]
     },
     "execution_count": 67,
     "metadata": {},
     "output_type": "execute_result"
    }
   ],
   "source": [
    "y_pred"
   ]
  },
  {
   "cell_type": "code",
   "execution_count": null,
   "metadata": {},
   "outputs": [],
   "source": []
  }
 ],
 "metadata": {
  "kernelspec": {
   "display_name": "Python 3 (ipykernel)",
   "language": "python",
   "name": "python3"
  },
  "language_info": {
   "codemirror_mode": {
    "name": "ipython",
    "version": 3
   },
   "file_extension": ".py",
   "mimetype": "text/x-python",
   "name": "python",
   "nbconvert_exporter": "python",
   "pygments_lexer": "ipython3",
   "version": "3.8.13"
  },
  "vscode": {
   "interpreter": {
    "hash": "7b57e1ee3ce2d9880d8a1431cc6218bd6dd8233a03980e7e673f351183fa295a"
   }
  }
 },
 "nbformat": 4,
 "nbformat_minor": 4
}
