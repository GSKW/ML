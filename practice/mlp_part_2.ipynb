{
 "cells": [
  {
   "cell_type": "code",
   "execution_count": 4,
   "metadata": {
    "scrolled": true
   },
   "outputs": [],
   "source": [
    "import numpy as np\n",
    "import torch\n",
    "import matplotlib.pyplot as plt\n",
    "\n",
    "plt.rcParams['figure.figsize'] = (10, 2)"
   ]
  },
  {
   "cell_type": "markdown",
   "metadata": {},
   "source": [
    "Для разминки:\n",
    "###  Задание 1\n",
    "\n",
    "Посчитай направление наибольшего роста функции $f(x, y) = 3x^2 + y^2$ в точке $z_0 = (1, 3)$."
   ]
  },
  {
   "cell_type": "code",
   "execution_count": null,
   "metadata": {},
   "outputs": [],
   "source": []
  },
  {
   "cell_type": "markdown",
   "metadata": {},
   "source": [
    "###  Задание 2\n",
    "\n",
    "Найди минимум функции $f(x, y) = 3x^2 + y^2$."
   ]
  },
  {
   "cell_type": "code",
   "execution_count": null,
   "metadata": {},
   "outputs": [],
   "source": []
  },
  {
   "cell_type": "markdown",
   "metadata": {},
   "source": [
    "## Высокоуровневый PyTorch\n",
    "\n",
    "В этом ноутбуке мы не будем вручную создавать переменные и вручную считать производные. В торче есть много абстракций и инструментов, которые облегчают жизнь (хоть и вручную можно создать что угодно)\n",
    "\n",
    "Самая главная из них это nn.Module.Посмотрим на его документацию:"
   ]
  },
  {
   "cell_type": "code",
   "execution_count": 5,
   "metadata": {},
   "outputs": [
    {
     "name": "stdout",
     "output_type": "stream",
     "text": [
      "Base class for all neural network modules.\n",
      "\n",
      "    Your models should also subclass this class.\n",
      "\n",
      "    Modules can also contain other Modules, allowing to nest them in\n",
      "    a tree structure. You can assign the submodules as regular attributes::\n",
      "\n",
      "        import torch.nn as nn\n",
      "        import torch.nn.functional as F\n",
      "\n",
      "        class Model(nn.Module):\n",
      "            def __init__(self):\n",
      "                super().__init__()\n",
      "                self.conv1 = nn.Conv2d(1, 20, 5)\n",
      "                self.conv2 = nn.Conv2d(20, 20, 5)\n",
      "\n",
      "            def forward(self, x):\n",
      "                x = F.relu(self.conv1(x))\n",
      "                return F.relu(self.conv2(x))\n",
      "\n",
      "    Submodules assigned in this way will be registered, and will have their\n",
      "    parameters converted too when you call :meth:`to`, etc.\n",
      "\n",
      "    .. note::\n",
      "        As per the example above, an ``__init__()`` call to the parent class\n",
      "        must be made before assignment on the child.\n",
      "\n",
      "    :ivar training: Boolean represents whether this module is in training or\n",
      "                    evaluation mode.\n",
      "    :vartype training: bool\n",
      "    \n"
     ]
    }
   ],
   "source": [
    "from torch import nn\n",
    "import torch.nn.functional as F\n",
    "\n",
    "print(nn.Module.__doc__)"
   ]
  },
  {
   "cell_type": "markdown",
   "metadata": {},
   "source": [
    "Для удобства сделано, что все архитектуры (\"модули\") написанные вами на pytorch-e должны быть отнаследованы от nn.Module.\n",
    "\n",
    "Каждый модуль -- это нечто, что принимает на вход какие-то тензоры, и возвращает какие-то тензоры. Это как раз forward pass -- его и нужно описывать в методе `forward`. В примере выше описана нейросеть, в которой два слоя (self.conv1 и self.conv2). В forward() описана логика того, как должен быть предобработан входной тензор `x`. \n",
    "В примере выше сначала применяется первый слой, потом функция активации, потом второй слой, а потом еще раз функция активации.\n",
    "\n",
    "Многие классы из torch.nn являются наследниками `nn.Module`-я -- их и рекомендуется использовать в качестве \"строительных блоков\" вашей нейросети."
   ]
  },
  {
   "cell_type": "markdown",
   "metadata": {},
   "source": [
    "#### nn.Module"
   ]
  },
  {
   "cell_type": "code",
   "execution_count": 14,
   "metadata": {},
   "outputs": [],
   "source": [
    "class Block(nn.Module):\n",
    "    def __init__(self):\n",
    "        super().__init__()  # не стоит забывать так писать\n",
    "        self.linear_first = nn.Linear(64, 64)\n",
    "        self.activation = nn.ReLU()\n",
    "        self.linear_second = nn.Linear(64, 1)\n",
    "    \n",
    "    def forward(self, inp: torch.Tensor) -> torch.Tensor:\n",
    "        result = self.linear_first(inp)\n",
    "        result = self.activation(result)\n",
    "        result = self.linear_second(result)\n",
    "        result = self.activation(result) \n",
    "        return result"
   ]
  },
  {
   "cell_type": "code",
   "execution_count": 15,
   "metadata": {},
   "outputs": [],
   "source": [
    "block = Block()"
   ]
  },
  {
   "cell_type": "code",
   "execution_count": 16,
   "metadata": {},
   "outputs": [],
   "source": [
    "inp = torch.ones(100, 64) "
   ]
  },
  {
   "cell_type": "code",
   "execution_count": 17,
   "metadata": {},
   "outputs": [
    {
     "data": {
      "text/plain": [
       "tensor([[0.0425],\n",
       "        [0.0425],\n",
       "        [0.0425],\n",
       "        [0.0425],\n",
       "        [0.0425],\n",
       "        [0.0425],\n",
       "        [0.0425],\n",
       "        [0.0425],\n",
       "        [0.0425],\n",
       "        [0.0425],\n",
       "        [0.0425],\n",
       "        [0.0425],\n",
       "        [0.0425],\n",
       "        [0.0425],\n",
       "        [0.0425],\n",
       "        [0.0425],\n",
       "        [0.0425],\n",
       "        [0.0425],\n",
       "        [0.0425],\n",
       "        [0.0425],\n",
       "        [0.0425],\n",
       "        [0.0425],\n",
       "        [0.0425],\n",
       "        [0.0425],\n",
       "        [0.0425],\n",
       "        [0.0425],\n",
       "        [0.0425],\n",
       "        [0.0425],\n",
       "        [0.0425],\n",
       "        [0.0425],\n",
       "        [0.0425],\n",
       "        [0.0425],\n",
       "        [0.0425],\n",
       "        [0.0425],\n",
       "        [0.0425],\n",
       "        [0.0425],\n",
       "        [0.0425],\n",
       "        [0.0425],\n",
       "        [0.0425],\n",
       "        [0.0425],\n",
       "        [0.0425],\n",
       "        [0.0425],\n",
       "        [0.0425],\n",
       "        [0.0425],\n",
       "        [0.0425],\n",
       "        [0.0425],\n",
       "        [0.0425],\n",
       "        [0.0425],\n",
       "        [0.0425],\n",
       "        [0.0425],\n",
       "        [0.0425],\n",
       "        [0.0425],\n",
       "        [0.0425],\n",
       "        [0.0425],\n",
       "        [0.0425],\n",
       "        [0.0425],\n",
       "        [0.0425],\n",
       "        [0.0425],\n",
       "        [0.0425],\n",
       "        [0.0425],\n",
       "        [0.0425],\n",
       "        [0.0425],\n",
       "        [0.0425],\n",
       "        [0.0425],\n",
       "        [0.0425],\n",
       "        [0.0425],\n",
       "        [0.0425],\n",
       "        [0.0425],\n",
       "        [0.0425],\n",
       "        [0.0425],\n",
       "        [0.0425],\n",
       "        [0.0425],\n",
       "        [0.0425],\n",
       "        [0.0425],\n",
       "        [0.0425],\n",
       "        [0.0425],\n",
       "        [0.0425],\n",
       "        [0.0425],\n",
       "        [0.0425],\n",
       "        [0.0425],\n",
       "        [0.0425],\n",
       "        [0.0425],\n",
       "        [0.0425],\n",
       "        [0.0425],\n",
       "        [0.0425],\n",
       "        [0.0425],\n",
       "        [0.0425],\n",
       "        [0.0425],\n",
       "        [0.0425],\n",
       "        [0.0425],\n",
       "        [0.0425],\n",
       "        [0.0425],\n",
       "        [0.0425],\n",
       "        [0.0425],\n",
       "        [0.0425],\n",
       "        [0.0425],\n",
       "        [0.0425],\n",
       "        [0.0425],\n",
       "        [0.0425],\n",
       "        [0.0425]], grad_fn=<ReluBackward0>)"
      ]
     },
     "execution_count": 17,
     "metadata": {},
     "output_type": "execute_result"
    }
   ],
   "source": [
    "# nn.Module-и можно вызывать прямо так, и под капотом будет вызвано то, что реализовано в методе .forward()\n",
    "block(inp)"
   ]
  },
  {
   "cell_type": "code",
   "execution_count": 18,
   "metadata": {},
   "outputs": [
    {
     "data": {
      "text/plain": [
       "torch.Size([100, 1])"
      ]
     },
     "execution_count": 18,
     "metadata": {},
     "output_type": "execute_result"
    }
   ],
   "source": [
    "block(inp).shape"
   ]
  },
  {
   "cell_type": "markdown",
   "metadata": {},
   "source": [
    "Рассмотрим другой способ создать ту же самую нейросеть с помощью строительного блока `nn.Sequential`. Он сделан для того, чтобы применять подряд другие блоки, например:"
   ]
  },
  {
   "cell_type": "code",
   "execution_count": 19,
   "metadata": {},
   "outputs": [],
   "source": [
    "block_seq = nn.Sequential(\n",
    "    nn.Linear(64, 64),  # линейный слой 64 признака в 64 признака\n",
    "    nn.ReLU(),  # функция активации\n",
    "    nn.Linear(64, 1),  # линейный слой 64 признака в 1 признак\n",
    "    nn.ReLU(),  #  еще одна функция активации\n",
    ")"
   ]
  },
  {
   "cell_type": "code",
   "execution_count": 20,
   "metadata": {},
   "outputs": [
    {
     "data": {
      "text/plain": [
       "tensor([[0.],\n",
       "        [0.],\n",
       "        [0.],\n",
       "        [0.],\n",
       "        [0.],\n",
       "        [0.],\n",
       "        [0.],\n",
       "        [0.],\n",
       "        [0.],\n",
       "        [0.],\n",
       "        [0.],\n",
       "        [0.],\n",
       "        [0.],\n",
       "        [0.],\n",
       "        [0.],\n",
       "        [0.],\n",
       "        [0.],\n",
       "        [0.],\n",
       "        [0.],\n",
       "        [0.],\n",
       "        [0.],\n",
       "        [0.],\n",
       "        [0.],\n",
       "        [0.],\n",
       "        [0.],\n",
       "        [0.],\n",
       "        [0.],\n",
       "        [0.],\n",
       "        [0.],\n",
       "        [0.],\n",
       "        [0.],\n",
       "        [0.],\n",
       "        [0.],\n",
       "        [0.],\n",
       "        [0.],\n",
       "        [0.],\n",
       "        [0.],\n",
       "        [0.],\n",
       "        [0.],\n",
       "        [0.],\n",
       "        [0.],\n",
       "        [0.],\n",
       "        [0.],\n",
       "        [0.],\n",
       "        [0.],\n",
       "        [0.],\n",
       "        [0.],\n",
       "        [0.],\n",
       "        [0.],\n",
       "        [0.],\n",
       "        [0.],\n",
       "        [0.],\n",
       "        [0.],\n",
       "        [0.],\n",
       "        [0.],\n",
       "        [0.],\n",
       "        [0.],\n",
       "        [0.],\n",
       "        [0.],\n",
       "        [0.],\n",
       "        [0.],\n",
       "        [0.],\n",
       "        [0.],\n",
       "        [0.],\n",
       "        [0.],\n",
       "        [0.],\n",
       "        [0.],\n",
       "        [0.],\n",
       "        [0.],\n",
       "        [0.],\n",
       "        [0.],\n",
       "        [0.],\n",
       "        [0.],\n",
       "        [0.],\n",
       "        [0.],\n",
       "        [0.],\n",
       "        [0.],\n",
       "        [0.],\n",
       "        [0.],\n",
       "        [0.],\n",
       "        [0.],\n",
       "        [0.],\n",
       "        [0.],\n",
       "        [0.],\n",
       "        [0.],\n",
       "        [0.],\n",
       "        [0.],\n",
       "        [0.],\n",
       "        [0.],\n",
       "        [0.],\n",
       "        [0.],\n",
       "        [0.],\n",
       "        [0.],\n",
       "        [0.],\n",
       "        [0.],\n",
       "        [0.],\n",
       "        [0.],\n",
       "        [0.],\n",
       "        [0.],\n",
       "        [0.]], grad_fn=<ReluBackward0>)"
      ]
     },
     "execution_count": 20,
     "metadata": {},
     "output_type": "execute_result"
    }
   ],
   "source": [
    "block_seq(inp)"
   ]
  },
  {
   "cell_type": "code",
   "execution_count": 21,
   "metadata": {},
   "outputs": [
    {
     "data": {
      "text/plain": [
       "torch.Size([100, 1])"
      ]
     },
     "execution_count": 21,
     "metadata": {},
     "output_type": "execute_result"
    }
   ],
   "source": [
    "block_seq(inp).shape"
   ]
  },
  {
   "cell_type": "code",
   "execution_count": 22,
   "metadata": {},
   "outputs": [
    {
     "data": {
      "text/plain": [
       "False"
      ]
     },
     "execution_count": 22,
     "metadata": {},
     "output_type": "execute_result"
    }
   ],
   "source": [
    "torch.allclose(block(inp), block_seq(inp))"
   ]
  },
  {
   "cell_type": "markdown",
   "metadata": {},
   "source": [
    "**Почему в последней ячейке вывелось False?**. Веса нейронной сети для хорошей оптимизации обычно инициализируют рандомно, причем инициализация должна быть *правильной*.\n",
    "В торче стратегии инициализации весов уже реализованы за вас, и если объявлять модули, то веса модуля уже будут рандомно инициализированы. Так как они рандомно инициализированы, то и выход двух заново созданных модулей (`block` и `block_seq`) будет разным."
   ]
  },
  {
   "cell_type": "markdown",
   "metadata": {},
   "source": [
    "#### Optimizers"
   ]
  },
  {
   "cell_type": "code",
   "execution_count": 23,
   "metadata": {},
   "outputs": [],
   "source": [
    "from torch.optim import SGD"
   ]
  },
  {
   "cell_type": "markdown",
   "metadata": {},
   "source": [
    "В pytorch так же есть реализации наиболее известных оптимизаторов -- например, стохастический градиентный спуск.\n",
    "Чтобы инициализировать почти любой оптимизатор, ему нужно передать список из тензоров (или словарей тензоров), которые нужно оптимизировать.\n",
    "Чтобы получить веса nn.Module нужно вызвать у него метод parameters()\n",
    "Так, чтобы оптимизировать веса `block`-а, подойдет например вот такой оптимизатор:"
   ]
  },
  {
   "cell_type": "code",
   "execution_count": 24,
   "metadata": {},
   "outputs": [],
   "source": [
    "optimizer = SGD(block.parameters(), lr=0.05)\n",
    "#  сюда мы так же передали lr -- наш learning-rate"
   ]
  },
  {
   "cell_type": "code",
   "execution_count": 25,
   "metadata": {},
   "outputs": [
    {
     "data": {
      "text/plain": [
       "SGD (\n",
       "Parameter Group 0\n",
       "    dampening: 0\n",
       "    lr: 0.05\n",
       "    maximize: False\n",
       "    momentum: 0\n",
       "    nesterov: False\n",
       "    weight_decay: 0\n",
       ")"
      ]
     },
     "execution_count": 25,
     "metadata": {},
     "output_type": "execute_result"
    }
   ],
   "source": [
    "optimizer"
   ]
  },
  {
   "cell_type": "markdown",
   "metadata": {},
   "source": [
    "Теперь нам хватает знаний, чтобы закодить логистическую регрессию, которая отличает букву A на картинке от буквы B"
   ]
  },
  {
   "cell_type": "code",
   "execution_count": 26,
   "metadata": {},
   "outputs": [
    {
     "name": "stdout",
     "output_type": "stream",
     "text": [
      "Parsing...\n",
      "found broken img: ./notMNIST_small/A/RGVtb2NyYXRpY2FCb2xkT2xkc3R5bGUgQm9sZC50dGY=.png [it's ok if &lt;10 images are broken]\n",
      "Done\n",
      "Train size  =        2808, test_size  = 937\n",
      "Train shape = (2808, 784), test_shape = (937, 784)\n"
     ]
    }
   ],
   "source": [
    "# если клетка падает, то просто перезапусти\n",
    "from notmnist import load_notmnist\n",
    "\n",
    "\n",
    "X_train, y_train, X_test, y_test = load_notmnist(letters='AB')\n",
    "X_train, X_test = X_train.reshape([-1, 784]), X_test.reshape([-1, 784])\n",
    "\n",
    "print(f\"Train size  = {len(X_train):11}, test_size  = {len(X_test)}\")\n",
    "print(f\"Train shape = {X_train.shape}, test_shape = {X_test.shape:}\")"
   ]
  },
  {
   "cell_type": "code",
   "execution_count": 27,
   "metadata": {},
   "outputs": [
    {
     "data": {
      "image/png": "[encoded data removed]",
      "text/plain": [
       "<Figure size 1000x200 with 4 Axes>"
      ]
     },
     "metadata": {},
     "output_type": "display_data"
    }
   ],
   "source": [
    "indeces = [0, 1, 4, 8]\n",
    "for i, ind in enumerate(indeces):\n",
    "    plt.subplot(1, len(indeces), i + 1)\n",
    "    plt.imshow(X_train[ind].reshape([28, 28]))\n",
    "    plt.title(f'$y_{ind}$=' + str(y_train[ind]))"
   ]
  },
  {
   "cell_type": "code",
   "execution_count": 28,
   "metadata": {},
   "outputs": [],
   "source": [
    "model = nn.Sequential(\n",
    "    nn.Linear(784, 1),  # на вход картинки 28 на 28 -- ровно 784 значения\n",
    "    nn.Sigmoid(),  # на выход числа от 0 до 1, где 1 -- вероятность того, что на картинке B\n",
    ")"
   ]
  },
  {
   "cell_type": "markdown",
   "metadata": {},
   "source": [
    "Посмотрим на параметры модели:"
   ]
  },
  {
   "cell_type": "code",
   "execution_count": 29,
   "metadata": {},
   "outputs": [
    {
     "name": "stdout",
     "output_type": "stream",
     "text": [
      "Weight shapes: [torch.Size([1, 784]), torch.Size([1])]\n"
     ]
    }
   ],
   "source": [
    "print(\"Weight shapes:\", [w.shape for w in model.parameters()])"
   ]
  },
  {
   "cell_type": "code",
   "execution_count": 30,
   "metadata": {},
   "outputs": [
    {
     "data": {
      "text/plain": [
       "tensor([0.2675, 0.4357, 0.8015], grad_fn=<SelectBackward0>)"
      ]
     },
     "execution_count": 30,
     "metadata": {},
     "output_type": "execute_result"
    }
   ],
   "source": [
    "# тензор размера 3 на 784 -- ровно три первых картинки из тренировочной выборки\n",
    "x = torch.tensor(X_train[:3], dtype=torch.float32)\n",
    "\n",
    "# тензор размера 3 -- ровно три первых ответа из тренировочной выборки\n",
    "y = torch.tensor(y_train[:3], dtype=torch.float32)\n",
    "\n",
    "# то, что предсказывает необученная модель\n",
    "y_predicted = model(x)[:, 0]\n",
    "\n",
    "y_predicted"
   ]
  },
  {
   "cell_type": "markdown",
   "metadata": {},
   "source": [
    "Для обучения необходимо вычислить функцию ошибки. В данном случае подходит лог-лосс, или бинарная кросс-энтропия. Вы реализовали ровно в одной из функций из начала этой тетрадки :) Воспользуйтесь ей, чтобы посчитать лосс"
   ]
  },
  {
   "cell_type": "code",
   "execution_count": null,
   "metadata": {},
   "outputs": [],
   "source": [
    "# <YOUR-CODE-HERE>\n",
    "\n",
    "loss = log_loss(y_predicted, y)\n",
    "loss"
   ]
  },
  {
   "cell_type": "code",
   "execution_count": null,
   "metadata": {},
   "outputs": [],
   "source": [
    "assert tuple(loss.size()) == tuple(), \"Лосс должен быть скаляром\"\n",
    "assert loss.data.numpy() > 0, \"лог лосс должен быть больше нуля, ноль -- только для идеального предсказания\"\n",
    "assert loss.data.numpy() <= np.log(3), \"Лосс слишком большой для нетренированной модели. Пожалуйста, перепроверьте его\""
   ]
  },
  {
   "cell_type": "code",
   "execution_count": 33,
   "metadata": {},
   "outputs": [],
   "source": [
    "optimizer = SGD(model.parameters(), lr=0.05)  # создаем оптимизатор\n",
    "#  теперь как им пользоваться:"
   ]
  },
  {
   "cell_type": "code",
   "execution_count": 42,
   "metadata": {},
   "outputs": [],
   "source": [
    "loss = log_loss(y_predicted, y)  # посчитали значение (скаляр), которое хотим минимизировать\n",
    "loss.backward()  # теперь у каждой переменной, где require_grad=True, есть градиент (производная). Для всех параметров нашего модуля это выполнено\n",
    "optimizer.step()  # делаем шаг градиентного спуска\n",
    "optimizer.zero_grad()  # очищаем параметры от уже посчитанных градиентов, чтобы те не мешали нам на следующих шагах\n",
    "\n",
    "# и да, это надо делать в цикле, который называется training_loop"
   ]
  },
  {
   "cell_type": "markdown",
   "metadata": {},
   "source": [
    "#### Теперь всё вместе"
   ]
  },
  {
   "cell_type": "code",
   "execution_count": 43,
   "metadata": {},
   "outputs": [],
   "source": [
    "model = nn.Sequential(\n",
    "    nn.Linear(784, 1),\n",
    "    nn.Sigmoid(),\n",
    ")\n",
    "optimizer = SGD(model.parameters(), lr=0.05)"
   ]
  },
  {
   "cell_type": "code",
   "execution_count": null,
   "metadata": {},
   "outputs": [],
   "source": [
    "history = []\n",
    "\n",
    "# итерируемся по мини-батчам в цикле\n",
    "for X_batch, y_batch in <YOUR CODE>:\n",
    "    \n",
    "    # предскажи вероятности\n",
    "    <YOUR CODE>\n",
    "\n",
    "    assert y_predicted.dim() == 1, \"вы забыли второе измерение с помощью [:, 0]\"\n",
    "\n",
    "    # посчитай лосс\n",
    "    # <YOUR CODE>\n",
    "\n",
    "    # посчитай градиенты\n",
    "    <YOUR CODE>\n",
    "\n",
    "    # шаг градиентного спуска\n",
    "    <YOUR CODE>\n",
    "    \n",
    "\n",
    "    # чистим градиенты\n",
    "    <YOUR CODE>\n",
    "\n",
    "    if i % 5 == 0:\n",
    "        print(\"step #%i | mean loss = %.3f\" % (i, np.mean(history[-10:])))"
   ]
  },
  {
   "cell_type": "markdown",
   "metadata": {},
   "source": [
    "Тестируем:"
   ]
  },
  {
   "cell_type": "code",
   "execution_count": 45,
   "metadata": {},
   "outputs": [
    {
     "name": "stdout",
     "output_type": "stream",
     "text": [
      "Test accuracy: 0.94237\n"
     ]
    }
   ],
   "source": [
    "# посчитай качество на валидационной выборке\n",
    "\n",
    "accuracy = <YOUR CODE>\n",
    "\n",
    "print(\"Test accuracy: %.5f\" % accuracy)\n",
    "assert accuracy > 0.94, \"попробуй потренировать подольше\""
   ]
  },
  {
   "cell_type": "markdown",
   "metadata": {},
   "source": [
    "## Бонус 1"
   ]
  },
  {
   "cell_type": "markdown",
   "metadata": {},
   "source": [
    "Попробуй добиться того, чтобы accuracy на тестовой выборке стала больше чем 0.96 (для этого можно модицифировать архитектуру нейросети, менять параметры выше). Копипастить из этой же тетрадки или других можно :)"
   ]
  },
  {
   "cell_type": "markdown",
   "metadata": {},
   "source": [
    "## Бонус 2. MLP + регрессия\n",
    "\n",
    "Попробуй построить нейросеть, которая решает задачу регрессии для датасета House Prices."
   ]
  },
  {
   "cell_type": "code",
   "execution_count": null,
   "metadata": {},
   "outputs": [],
   "source": [
    "# https://www.kaggle.com/c/house-prices-advanced-regression-techniques\n",
    "features = ['LotArea', 'TotalBsmtSF', 'GrLivArea', '1stFlrSF', '2ndFlrSF']\n",
    "data = pd.read_csv('./house_prices.csv')[features + ['SalePrice']]\n",
    "\n",
    "train, valid = train_test_split(data, test_size=0.33, random_state=42)\n",
    "\n",
    "X_train = train[features].values\n",
    "y_train = train['SalePrice'].values[..., np.newaxis]\n",
    "\n",
    "X_valid = valid[features].values\n",
    "y_valid = valid['SalePrice'].values[..., np.newaxis]\n",
    "\n",
    "scaler = StandardScaler()\n",
    "\n",
    "X_train = scaler.fit_transform(X_train)\n",
    "X_valid = scaler.transform(X_valid)\n",
    "\n",
    "y_train_std = y_train.std()\n",
    "y_train = y_train / y_train_std\n",
    "y_valid = y_valid / y_train_std"
   ]
  }
 ],
 "metadata": {
  "kernelspec": {
   "display_name": "Python 3",
   "language": "python",
   "name": "python3"
  },
  "language_info": {
   "codemirror_mode": {
    "name": "ipython",
    "version": 3
   },
   "file_extension": ".py",
   "mimetype": "text/x-python",
   "name": "python",
   "nbconvert_exporter": "python",
   "pygments_lexer": "ipython3",
   "version": "3.7.15"
  },
  "vscode": {
   "interpreter": {
    "hash": "7b57e1ee3ce2d9880d8a1431cc6218bd6dd8233a03980e7e673f351183fa295a"
   }
  }
 },
 "nbformat": 4,
 "nbformat_minor": 4
}
