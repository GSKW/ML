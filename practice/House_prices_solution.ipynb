{
 "cells": [
  {
   "cell_type": "code",
   "execution_count": 19,
   "metadata": {
    "_cell_guid": "b1076dfc-b9ad-4769-8c92-a6c4dae69d19",
    "_uuid": "8f2839f25d086af736a60e9eeb907d3b93b6e0e5",
    "tags": []
   },
   "outputs": [],
   "source": [
    "# This Python 3 environment comes with many helpful analytics libraries installed\n",
    "# It is defined by the kaggle/python Docker image: https://github.com/kaggle/docker-python\n",
    "# For example, here's several helpful packages to load\n",
    "\n",
    "import numpy as np # linear algebra\n",
    "import pandas as pd # data processing, CSV file I/O (e.g. pd.read_csv)\n",
    "import matplotlib.pyplot as plt\n",
    "from tqdm import tqdm\n",
    "\n",
    "# Input data files are available in the read-only \"../input/\" directory\n",
    "# For example, running this (by clicking run or pressing Shift+Enter) will list all files under the input directory\n",
    "import random\n",
    "import os\n",
    "# for dirname, _, filenames in os.walk('/kaggle/input'):\n",
    "#     for filename in filenames:\n",
    "#         print(os.path.join(dirname, filename))\n",
    "data_sample_submission = pd.read_csv(\"./house-prices-advanced-regression-techniques/sample_submission.csv\")\n",
    "data_train = pd.read_csv(\"./house-prices-advanced-regression-techniques/train.csv\")\n",
    "data_test = pd.read_csv(\"./house-prices-advanced-regression-techniques/test.csv\")\n",
    "\n",
    "\n",
    "# You can write up to 20GB to the current directory (/kaggle/working/) that gets preserved as output when you create a version using \"Save & Run All\" \n",
    "# You can also write temporary files to /kaggle/temp/, but they won't be saved outside of the current session"
   ]
  },
  {
   "cell_type": "code",
   "execution_count": 20,
   "metadata": {
    "tags": []
   },
   "outputs": [],
   "source": [
    "from sklearn.linear_model import LinearRegression, Lasso\n",
    "from sklearn.linear_model import SGDRegressor, Ridge\n",
    "from sklearn.preprocessing import PolynomialFeatures"
   ]
  },
  {
   "cell_type": "code",
   "execution_count": 21,
   "metadata": {
    "tags": []
   },
   "outputs": [],
   "source": [
    "def metrics_function(predictions, labels):\n",
    "    predictions[predictions <= 0] = 0.0001\n",
    "    pred_log, lbl_log = np.log(predictions), np.log(labels)\n",
    "    se = (pred_log - lbl_log)**2\n",
    "    mse = np.sum(se)/len(se)\n",
    "    rmse = np.sqrt(mse)\n",
    "    return rmse"
   ]
  },
  {
   "cell_type": "code",
   "execution_count": 22,
   "metadata": {
    "tags": []
   },
   "outputs": [],
   "source": [
    "def get_quadratic_features(x, include_bias=True):\n",
    "    \"\"\"Generate quadratic and interaction features.\n",
    "\n",
    "    # x: np.ndarray [num_samples, num_feature]\n",
    "    # include_bias: boolean [True, False]\n",
    "\n",
    "    include_bias=True\n",
    "    [x_0         [[x_0, 1]        [[x_0, x_0^2, 1]\n",
    "    x_1..   ->    [x_1, 1]... ->   [x_1, x_1^2, 1]\n",
    "    x_n]          [x_n, 1]         [x_n, x_n^2, 1]\n",
    "\n",
    "    [x_0, z_0]         [[x_0, z_0, 1]        [[x_0, z_0, x_0^2, z_0^2, x_0*z_0, 1]\n",
    "    x_1, z_1   ->      [x_1, z_1, 1]... ->   [x_1, z_1, x_1^2, z_1^2, z_1*z_1, 1]\n",
    "    x_n, z_n]          [x_n, z_n, 1]         [x_n, z_n, x_n^2, z_n^2, x_n*z_n, 1]\n",
    "\n",
    "    [x_0, z_0, k_0]        [[x_0, z_0, x_0^2, z_0^2, x_0*z_0, x_0*k_0, z_0*k_0, 1]\n",
    "    x_1, z_1, k_1   ->     [x_1, z_1, x_1^2, z_1^2, z_1*z_1, 1]\n",
    "    x_n, z_n, k_n]         [x_n, z_n, x_n^2, z_n^2, x_n*z_n, 1]\n",
    "\n",
    "    Generate a new feature matrix consisting of all quadratic combinations\n",
    "    of the features.\n",
    "    For example, if an input sample is two dimensional and of the form [a, b],\n",
    "    the degree-2 polynomial features are [1, a, b, a^2, ab, b^2].\"\"\"\n",
    "\n",
    "\n",
    "    if include_bias:\n",
    "        K = len(x[0])\n",
    "        arr = np.empty([len(x), int(K * (K + 1) / 2 + 1) + K])\n",
    "    else:\n",
    "        K = len(x[0])\n",
    "        arr = np.empty([len(x), int(K * (K + 1) / 2) + K])\n",
    "\n",
    "    for row in range(len(x)):\n",
    "        n_row = []\n",
    "        if include_bias:\n",
    "            n_row.append(1)\n",
    "        i = 0\n",
    "        for val1 in x[row]:\n",
    "            i += 1\n",
    "            n_row.append(val1)\n",
    "            for val2 in x[row][:i]:\n",
    "                n_row.append(val1*val2)\n",
    "        for vl in range(len(n_row)):\n",
    "            arr[row][vl] = n_row[vl]\n",
    "    return arr"
   ]
  },
  {
   "cell_type": "code",
   "execution_count": 23,
   "metadata": {
    "tags": []
   },
   "outputs": [],
   "source": [
    "def calc_cross_val_rmse(fold_num, X, Y):\n",
    "    if fold_num < 2:\n",
    "        raise ValueError(\"fold_num should be more than 2!\")\n",
    "    folds_x = []\n",
    "    folds_y = []\n",
    "    for num in range(fold_num+1):\n",
    "        folds_x.append(X[num*int(len(X)/fold_num):(num+1)*int(len(X)/fold_num)])\n",
    "    for num in range(fold_num+1):\n",
    "        folds_y.append(Y[num*int(len(Y)/fold_num):(num+1)*int(len(Y)/fold_num)])\n",
    "    folds_x[-2] = np.concatenate((folds_x[-2], folds_x[-1]))\n",
    "    folds_y[-2] = np.concatenate((folds_y[-2], folds_y[-1]))\n",
    "    folds_x.pop(-1)\n",
    "    folds_y.pop(-1)\n",
    "    glob_rmse = 0\n",
    "    for i in range(fold_num):\n",
    "        valid_x = folds_x[i]\n",
    "        valid_y = folds_y[i]\n",
    "        train_x = np.concatenate(folds_x[:i]+folds_x[i:])\n",
    "        train_y = np.concatenate(folds_y[:i]+folds_y[i:])\n",
    "        model = LinearRegression()\n",
    "        model.fit(train_x, train_y)\n",
    "        pred = model.predict(valid_x)\n",
    "        glob_rmse += metrics_function(pred, valid_y)\n",
    "    return glob_rmse/fold_num\n",
    "    \n",
    "        "
   ]
  },
  {
   "cell_type": "code",
   "execution_count": 24,
   "metadata": {
    "tags": []
   },
   "outputs": [],
   "source": [
    "data_full = pd.concat([data_train, data_test])\n",
    "num_train = len(data_train)"
   ]
  },
  {
   "cell_type": "code",
   "execution_count": 25,
   "metadata": {
    "tags": []
   },
   "outputs": [],
   "source": [
    "for column in data_full.columns:\n",
    "    if data_full.dtypes[column] == object:\n",
    "        data_full[column] = data_full[column].astype('category').cat.codes"
   ]
  },
  {
   "cell_type": "code",
   "execution_count": 26,
   "metadata": {
    "tags": []
   },
   "outputs": [],
   "source": [
    "data_full.dropna(axis=\"columns\", inplace=True, thresh=1460*0.3)"
   ]
  },
  {
   "cell_type": "code",
   "execution_count": 27,
   "metadata": {
    "tags": []
   },
   "outputs": [],
   "source": [
    "ListOfNan = []"
   ]
  },
  {
   "cell_type": "code",
   "execution_count": 28,
   "metadata": {
    "tags": []
   },
   "outputs": [],
   "source": [
    "for column in data_full.columns:\n",
    "    if (np.sum(np.isnan(data_full[column])) and column != 'SalePrice'):\n",
    "        ListOfNan.append(column)"
   ]
  },
  {
   "cell_type": "code",
   "execution_count": 29,
   "metadata": {
    "tags": []
   },
   "outputs": [],
   "source": [
    "for column in ListOfNan:\n",
    "    mode = data_full[~data_full[column].isna()][column].mode()[0]\n",
    "    data_full[column].fillna(mode, inplace=True)\n",
    "    #print(type(mode), mode, data_full[column].isna().sum())\n",
    "    "
   ]
  },
  {
   "cell_type": "code",
   "execution_count": 30,
   "metadata": {
    "tags": []
   },
   "outputs": [],
   "source": [
    "data_full = data_full.drop(columns=[\"MSZoning\",\"LandSlope\",\"BldgType\",\"ExterCond\",\"Heating\",\"CentralAir\",\"PoolQC\"])\n",
    "y = data_full['SalePrice'].values # train + test\n",
    "X = data_full.drop(columns=['SalePrice']).values # train + test\n",
    "\n",
    "\n",
    "\n",
    "# first num_train samples are from train\n",
    "X_train, X_test = X[:num_train], X[num_train:]\n",
    "\n",
    "x_train_ind = list(range(num_train))\n",
    "random.seed(123)\n",
    "random.shuffle(x_train_ind)\n",
    "X_train = X_train[x_train_ind]\n",
    "y_train = y[:num_train][x_train_ind]\n",
    "\n",
    "num_train_train = int(len(X_train)*0.8)\n",
    "\n",
    "x_train_train = X_train[:num_train_train]\n",
    "y_train_train = y_train[:num_train_train]\n",
    "\n",
    "y_train_test = y_train[int(len(X_train)*0.8):]\n",
    "x_train_test = X_train[int(len(X_train)*0.8):]\n"
   ]
  },
  {
   "cell_type": "code",
   "execution_count": 31,
   "metadata": {
    "tags": []
   },
   "outputs": [
    {
     "name": "stdout",
     "output_type": "stream",
     "text": [
      "0.14961839071360275\n"
     ]
    }
   ],
   "source": [
    "print(calc_cross_val_rmse(10, X_train, y_train))"
   ]
  },
  {
   "cell_type": "code",
   "execution_count": 32,
   "metadata": {
    "tags": []
   },
   "outputs": [],
   "source": [
    "from sklearn.linear_model import Ridge"
   ]
  },
  {
   "cell_type": "code",
   "execution_count": 33,
   "metadata": {
    "tags": []
   },
   "outputs": [
    {
     "name": "stdout",
     "output_type": "stream",
     "text": [
      "(2919, 74)\n"
     ]
    }
   ],
   "source": [
    "print(data_full.shape)"
   ]
  },
  {
   "cell_type": "code",
   "execution_count": null,
   "metadata": {},
   "outputs": [],
   "source": []
  },
  {
   "cell_type": "code",
   "execution_count": null,
   "metadata": {},
   "outputs": [],
   "source": []
  },
  {
   "cell_type": "code",
   "execution_count": 34,
   "metadata": {
    "tags": []
   },
   "outputs": [
    {
     "name": "stdout",
     "output_type": "stream",
     "text": [
      "(1460, 73)\n"
     ]
    }
   ],
   "source": [
    "print(X_train.shape)"
   ]
  },
  {
   "cell_type": "code",
   "execution_count": 35,
   "metadata": {
    "tags": []
   },
   "outputs": [
    {
     "name": "stdout",
     "output_type": "stream",
     "text": [
      "   Id  MSSubClass  LotFrontage  LotArea  Street  Alley  LotShape  LandContour  \\\n",
      "0   1          60         65.0     8450       1     -1         3            3   \n",
      "1   2          20         80.0     9600       1     -1         3            3   \n",
      "2   3          60         68.0    11250       1     -1         0            3   \n",
      "3   4          70         60.0     9550       1     -1         0            3   \n",
      "4   5          60         84.0    14260       1     -1         0            3   \n",
      "\n",
      "   Utilities  LotConfig  ...  ScreenPorch  PoolArea  Fence  MiscFeature  \\\n",
      "0          0          4  ...            0         0     -1           -1   \n",
      "1          0          2  ...            0         0     -1           -1   \n",
      "2          0          4  ...            0         0     -1           -1   \n",
      "3          0          0  ...            0         0     -1           -1   \n",
      "4          0          2  ...            0         0     -1           -1   \n",
      "\n",
      "   MiscVal  MoSold  YrSold  SaleType  SaleCondition  SalePrice  \n",
      "0        0       2    2008         8              4   208500.0  \n",
      "1        0       5    2007         8              4   181500.0  \n",
      "2        0       9    2008         8              4   223500.0  \n",
      "3        0       2    2006         8              0   140000.0  \n",
      "4        0      12    2008         8              4   250000.0  \n",
      "\n",
      "[5 rows x 74 columns]\n"
     ]
    }
   ],
   "source": [
    "print(data_full.head())"
   ]
  },
  {
   "cell_type": "code",
   "execution_count": 36,
   "metadata": {
    "tags": []
   },
   "outputs": [],
   "source": [
    "lst = []"
   ]
  },
  {
   "cell_type": "code",
   "execution_count": 37,
   "metadata": {
    "tags": []
   },
   "outputs": [
    {
     "name": "stdout",
     "output_type": "stream",
     "text": [
      "[]\n"
     ]
    }
   ],
   "source": [
    "print(lst)"
   ]
  },
  {
   "cell_type": "code",
   "execution_count": 38,
   "metadata": {
    "tags": []
   },
   "outputs": [
    {
     "name": "stdout",
     "output_type": "stream",
     "text": [
      "(1459, 73)\n"
     ]
    }
   ],
   "source": [
    "print(np.delete(X_test, lst, 1).shape)\n",
    "            "
   ]
  },
  {
   "cell_type": "code",
   "execution_count": 42,
   "metadata": {
    "tags": []
   },
   "outputs": [],
   "source": [
    "def find_optimal_learning_rate():\n",
    "    lst_alpha, lst_rmse = [], []\n",
    "    mmin, malpha = 20, 0\n",
    "    for x in range(10, 1000, 3):\n",
    "        model = SGDRegressor(eta0=x/1000)\n",
    "        model.fit(x_train_train, y_train_train)\n",
    "        prd = metrics_function(model.predict(x_train_test), y_train_test)\n",
    "        lst_alpha.append(x)\n",
    "        lst_rmse.append(prd)\n",
    "        if prd < mmin:\n",
    "            malpha = x\n",
    "            mmin = prd\n",
    "    plt.plot(lst_alpha, lst_rmse, label='SGD')\n",
    "    print(mmin)\n",
    "    plt.legend()\n",
    "    return malpha"
   ]
  },
  {
   "cell_type": "code",
   "execution_count": 43,
   "metadata": {
    "tags": []
   },
   "outputs": [],
   "source": [
    "def find_optimal_alpha(model_class):\n",
    "    lst_alpha, lst_rmse = [], []\n",
    "    mmin, malpha = 20, 0\n",
    "    if model_class in [Ridge, Lasso]:\n",
    "        for x in tqdm(range(1, 2000, 10)):\n",
    "            model = model_class(alpha=x)\n",
    "            model.fit(x_train_train, y_train_train)\n",
    "            prd = metrics_function(model.predict(x_train_test), y_train_test)\n",
    "            lst_alpha.append(x)\n",
    "            lst_rmse.append(prd)\n",
    "            if prd < mmin:\n",
    "                malpha = x\n",
    "                mmin = prd\n",
    "        plt.plot(lst_alpha, lst_rmse, label=str(model_class.__name__))\n",
    "        plt.xticks([malpha], [malpha], color='red')\n",
    "        plt.yticks([mmin], [round(mmin, 3)], color='red')\n",
    "    else:\n",
    "        model = model_class()\n",
    "        model.fit(x_train_train, y_train_train)\n",
    "        prd = metrics_function(model.predict(x_train_test), y_train_test)\n",
    "        plt.plot([1, 20000], [prd]*2, label=str(model_class.__name__))\n",
    "    plt.legend()\n",
    "    return malpha"
   ]
  },
  {
   "cell_type": "code",
   "execution_count": 44,
   "metadata": {
    "tags": []
   },
   "outputs": [
    {
     "name": "stderr",
     "output_type": "stream",
     "text": [
      "  0%|                                                     | 0/1 [00:00<?, ?it/s]\n",
      "  0%|                                                   | 0/200 [00:00<?, ?it/s]\u001b[A\n",
      "  1%|▍                                          | 2/200 [00:00<00:38,  5.21it/s]\u001b[A\n",
      "  2%|▋                                          | 3/200 [00:00<00:46,  4.22it/s]\u001b[A\n",
      "  2%|▊                                          | 4/200 [00:01<00:51,  3.77it/s]\u001b[A\n",
      "  2%|█                                          | 5/200 [00:01<00:52,  3.74it/s]\u001b[A\n",
      "  3%|█▎                                         | 6/200 [00:01<00:54,  3.56it/s]\u001b[A\n",
      "  4%|█▌                                         | 7/200 [00:01<00:55,  3.48it/s]\u001b[A\n",
      "  4%|█▋                                         | 8/200 [00:02<00:54,  3.51it/s]\u001b[A\n",
      "  4%|█▉                                         | 9/200 [00:02<00:54,  3.51it/s]\u001b[A\n",
      "  5%|██                                        | 10/200 [00:02<00:54,  3.46it/s]\u001b[A\n",
      "  6%|██▎                                       | 11/200 [00:03<00:55,  3.39it/s]\u001b[A\n",
      "  6%|██▌                                       | 12/200 [00:03<00:53,  3.52it/s]\u001b[A\n",
      "  6%|██▋                                       | 13/200 [00:03<00:55,  3.37it/s]\u001b[A\n",
      "  7%|██▉                                       | 14/200 [00:03<00:53,  3.50it/s]\u001b[A\n",
      "  8%|███▏                                      | 15/200 [00:04<00:53,  3.48it/s]\u001b[A\n",
      "  8%|███▎                                      | 16/200 [00:04<00:54,  3.36it/s]\u001b[A\n",
      "  8%|███▌                                      | 17/200 [00:04<00:52,  3.45it/s]\u001b[A\n",
      "  9%|███▊                                      | 18/200 [00:05<00:52,  3.44it/s]\u001b[A\n",
      " 10%|███▉                                      | 19/200 [00:05<00:51,  3.51it/s]\u001b[A\n",
      " 10%|████▏                                     | 20/200 [00:05<00:51,  3.48it/s]\u001b[A\n",
      " 10%|████▍                                     | 21/200 [00:05<00:51,  3.45it/s]\u001b[A\n",
      " 11%|████▌                                     | 22/200 [00:06<00:50,  3.52it/s]\u001b[A\n",
      " 12%|█████                                     | 24/200 [00:06<00:43,  4.09it/s]\u001b[A\n",
      " 12%|█████▎                                    | 25/200 [00:06<00:44,  3.91it/s]\u001b[A\n",
      " 13%|█████▍                                    | 26/200 [00:07<00:45,  3.86it/s]\u001b[A\n",
      " 14%|█████▋                                    | 27/200 [00:07<00:45,  3.76it/s]\u001b[A\n",
      " 14%|█████▉                                    | 28/200 [00:07<00:46,  3.67it/s]\u001b[A\n",
      " 14%|██████                                    | 29/200 [00:08<00:47,  3.61it/s]\u001b[A\n",
      " 15%|██████▎                                   | 30/200 [00:08<00:46,  3.68it/s]\u001b[A\n",
      " 16%|██████▌                                   | 31/200 [00:08<00:45,  3.70it/s]\u001b[A\n",
      " 16%|██████▋                                   | 32/200 [00:08<00:46,  3.64it/s]\u001b[A\n",
      " 16%|██████▉                                   | 33/200 [00:09<00:43,  3.85it/s]\u001b[A\n",
      " 17%|███████▏                                  | 34/200 [00:09<00:41,  3.97it/s]\u001b[A\n",
      " 18%|███████▎                                  | 35/200 [00:09<00:42,  3.84it/s]\u001b[A\n",
      " 18%|███████▌                                  | 36/200 [00:09<00:43,  3.77it/s]\u001b[A\n",
      " 18%|███████▊                                  | 37/200 [00:10<00:43,  3.77it/s]\u001b[A\n",
      " 19%|███████▉                                  | 38/200 [00:10<00:42,  3.81it/s]\u001b[A\n",
      " 20%|████████▏                                 | 39/200 [00:10<00:42,  3.81it/s]\u001b[A\n",
      " 20%|████████▍                                 | 40/200 [00:10<00:43,  3.70it/s]\u001b[A\n",
      " 20%|████████▌                                 | 41/200 [00:11<00:42,  3.76it/s]\u001b[A\n",
      " 21%|████████▊                                 | 42/200 [00:11<00:41,  3.77it/s]\u001b[A\n",
      " 22%|█████████                                 | 43/200 [00:11<00:40,  3.85it/s]\u001b[A\n",
      " 22%|█████████▏                                | 44/200 [00:11<00:39,  3.94it/s]\u001b[A\n",
      " 22%|█████████▍                                | 45/200 [00:12<00:39,  3.96it/s]\u001b[A\n",
      " 23%|█████████▋                                | 46/200 [00:12<00:38,  3.99it/s]\u001b[A\n",
      " 24%|█████████▊                                | 47/200 [00:12<00:38,  3.99it/s]\u001b[A\n",
      " 24%|██████████                                | 48/200 [00:12<00:33,  4.50it/s]\u001b[A\n",
      " 24%|██████████▎                               | 49/200 [00:13<00:32,  4.65it/s]\u001b[A\n",
      " 25%|██████████▌                               | 50/200 [00:13<00:33,  4.53it/s]\u001b[A\n",
      " 26%|██████████▋                               | 51/200 [00:13<00:31,  4.75it/s]\u001b[A\n",
      " 26%|██████████▉                               | 52/200 [00:13<00:32,  4.62it/s]\u001b[A\n",
      " 26%|███████████▏                              | 53/200 [00:13<00:31,  4.69it/s]\u001b[A\n",
      " 27%|███████████▎                              | 54/200 [00:14<00:31,  4.59it/s]\u001b[A\n",
      " 28%|███████████▌                              | 55/200 [00:14<00:29,  4.93it/s]\u001b[A\n",
      " 28%|███████████▊                              | 56/200 [00:14<00:28,  5.04it/s]\u001b[A\n",
      " 28%|███████████▉                              | 57/200 [00:14<00:31,  4.59it/s]\u001b[A\n",
      " 29%|████████████▏                             | 58/200 [00:15<00:33,  4.20it/s]\u001b[A\n",
      " 30%|████████████▍                             | 59/200 [00:15<00:35,  3.96it/s]\u001b[A\n",
      " 30%|████████████▌                             | 60/200 [00:15<00:36,  3.89it/s]\u001b[A\n",
      " 30%|████████████▊                             | 61/200 [00:15<00:33,  4.14it/s]\u001b[A\n",
      " 31%|█████████████                             | 62/200 [00:15<00:31,  4.42it/s]\u001b[A\n",
      " 32%|█████████████▏                            | 63/200 [00:16<00:30,  4.52it/s]\u001b[A\n",
      " 32%|█████████████▍                            | 64/200 [00:16<00:31,  4.29it/s]\u001b[A\n",
      " 32%|█████████████▋                            | 65/200 [00:16<00:30,  4.36it/s]\u001b[A\n",
      " 33%|█████████████▊                            | 66/200 [00:16<00:32,  4.17it/s]\u001b[A\n",
      " 34%|██████████████                            | 67/200 [00:17<00:29,  4.46it/s]\u001b[A\n",
      " 34%|██████████████▎                           | 68/200 [00:17<00:30,  4.32it/s]\u001b[A\n",
      " 34%|██████████████▍                           | 69/200 [00:17<00:30,  4.27it/s]\u001b[A\n",
      " 35%|██████████████▋                           | 70/200 [00:17<00:32,  4.01it/s]\u001b[A\n",
      " 36%|██████████████▉                           | 71/200 [00:18<00:30,  4.20it/s]\u001b[A\n",
      " 36%|███████████████                           | 72/200 [00:18<00:30,  4.21it/s]\u001b[A\n",
      " 36%|███████████████▎                          | 73/200 [00:18<00:30,  4.14it/s]\u001b[A\n",
      " 37%|███████████████▌                          | 74/200 [00:18<00:31,  4.03it/s]\u001b[A\n",
      " 38%|███████████████▊                          | 75/200 [00:19<00:28,  4.32it/s]\u001b[A\n",
      " 38%|███████████████▉                          | 76/200 [00:19<00:28,  4.33it/s]\u001b[A\n",
      " 38%|████████████████▏                         | 77/200 [00:19<00:24,  5.00it/s]\u001b[A\n",
      " 39%|████████████████▍                         | 78/200 [00:19<00:25,  4.76it/s]\u001b[A\n",
      " 40%|████████████████▌                         | 79/200 [00:19<00:25,  4.72it/s]\u001b[A\n",
      " 40%|████████████████▊                         | 80/200 [00:20<00:24,  4.97it/s]\u001b[A\n",
      " 40%|█████████████████                         | 81/200 [00:20<00:23,  5.15it/s]\u001b[A\n",
      " 41%|█████████████████▏                        | 82/200 [00:20<00:22,  5.22it/s]\u001b[A\n",
      " 42%|█████████████████▍                        | 83/200 [00:20<00:20,  5.60it/s]\u001b[A\n",
      " 42%|█████████████████▋                        | 84/200 [00:20<00:20,  5.53it/s]\u001b[A\n",
      " 42%|█████████████████▊                        | 85/200 [00:20<00:20,  5.59it/s]\u001b[A\n",
      " 43%|██████████████████                        | 86/200 [00:21<00:22,  5.04it/s]\u001b[A\n",
      " 44%|██████████████████▎                       | 87/200 [00:21<00:21,  5.35it/s]\u001b[A\n",
      " 44%|██████████████████▍                       | 88/200 [00:21<00:20,  5.36it/s]\u001b[A\n",
      " 44%|██████████████████▋                       | 89/200 [00:21<00:20,  5.36it/s]\u001b[A\n",
      " 45%|██████████████████▉                       | 90/200 [00:21<00:23,  4.74it/s]\u001b[A\n",
      " 46%|███████████████████                       | 91/200 [00:22<00:21,  5.14it/s]\u001b[A\n",
      " 46%|███████████████████▎                      | 92/200 [00:22<00:20,  5.28it/s]\u001b[A\n",
      " 46%|███████████████████▌                      | 93/200 [00:22<00:19,  5.52it/s]\u001b[A\n",
      " 47%|███████████████████▋                      | 94/200 [00:22<00:19,  5.48it/s]\u001b[A\n",
      " 48%|███████████████████▉                      | 95/200 [00:22<00:19,  5.29it/s]\u001b[A\n",
      " 48%|████████████████████▏                     | 96/200 [00:23<00:21,  4.93it/s]\u001b[A\n",
      " 48%|████████████████████▎                     | 97/200 [00:23<00:21,  4.86it/s]\u001b[A\n",
      " 49%|████████████████████▌                     | 98/200 [00:23<00:21,  4.69it/s]\u001b[A\n",
      " 50%|████████████████████▊                     | 99/200 [00:23<00:21,  4.65it/s]\u001b[A\n",
      " 50%|████████████████████▌                    | 100/200 [00:23<00:21,  4.59it/s]\u001b[A\n",
      " 50%|████████████████████▋                    | 101/200 [00:24<00:22,  4.43it/s]\u001b[A\n",
      " 51%|████████████████████▉                    | 102/200 [00:24<00:22,  4.40it/s]\u001b[A\n",
      " 52%|█████████████████████                    | 103/200 [00:24<00:21,  4.50it/s]\u001b[A\n",
      " 52%|█████████████████████▎                   | 104/200 [00:24<00:21,  4.37it/s]\u001b[A\n",
      " 52%|█████████████████████▌                   | 105/200 [00:25<00:21,  4.50it/s]\u001b[A\n",
      " 53%|█████████████████████▋                   | 106/200 [00:25<00:20,  4.60it/s]\u001b[A\n",
      " 54%|█████████████████████▉                   | 107/200 [00:25<00:20,  4.48it/s]\u001b[A\n",
      " 54%|██████████████████████▏                  | 108/200 [00:25<00:20,  4.47it/s]\u001b[A\n",
      " 55%|██████████████████████▎                  | 109/200 [00:26<00:21,  4.31it/s]\u001b[A\n",
      " 55%|██████████████████████▌                  | 110/200 [00:26<00:21,  4.24it/s]\u001b[A\n",
      " 56%|██████████████████████▊                  | 111/200 [00:26<00:22,  4.02it/s]\u001b[A\n",
      " 56%|██████████████████████▉                  | 112/200 [00:26<00:23,  3.81it/s]\u001b[A\n",
      " 56%|███████████████████████▏                 | 113/200 [00:27<00:21,  4.06it/s]\u001b[A\n",
      " 57%|███████████████████████▎                 | 114/200 [00:27<00:20,  4.21it/s]\u001b[A\n",
      " 57%|███████████████████████▌                 | 115/200 [00:27<00:20,  4.24it/s]\u001b[A\n",
      " 58%|███████████████████████▊                 | 116/200 [00:27<00:20,  4.08it/s]\u001b[A\n",
      " 58%|███████████████████████▉                 | 117/200 [00:28<00:20,  3.98it/s]\u001b[A\n",
      " 59%|████████████████████████▏                | 118/200 [00:28<00:19,  4.16it/s]\u001b[A\n",
      " 60%|████████████████████████▍                | 119/200 [00:28<00:19,  4.23it/s]\u001b[A\n",
      " 60%|████████████████████████▌                | 120/200 [00:28<00:18,  4.28it/s]\u001b[A\n",
      " 60%|████████████████████████▊                | 121/200 [00:28<00:18,  4.30it/s]\u001b[A\n",
      " 61%|█████████████████████████                | 122/200 [00:29<00:15,  4.92it/s]\u001b[A\n",
      " 62%|█████████████████████████▏               | 123/200 [00:29<00:15,  4.93it/s]\u001b[A\n",
      " 62%|█████████████████████████▍               | 124/200 [00:29<00:14,  5.15it/s]\u001b[A\n",
      " 62%|█████████████████████████▋               | 125/200 [00:29<00:13,  5.36it/s]\u001b[A\n",
      " 63%|█████████████████████████▊               | 126/200 [00:29<00:14,  5.06it/s]\u001b[A\n",
      " 64%|██████████████████████████               | 127/200 [00:30<00:14,  5.20it/s]\u001b[A\n",
      " 64%|██████████████████████████▏              | 128/200 [00:30<00:13,  5.50it/s]\u001b[A\n",
      " 64%|██████████████████████████▍              | 129/200 [00:30<00:13,  5.08it/s]\u001b[A\n",
      " 65%|██████████████████████████▋              | 130/200 [00:30<00:15,  4.58it/s]\u001b[A\n",
      " 66%|██████████████████████████▊              | 131/200 [00:30<00:14,  4.68it/s]\u001b[A\n",
      " 66%|███████████████████████████              | 132/200 [00:31<00:15,  4.48it/s]\u001b[A\n",
      " 66%|███████████████████████████▎             | 133/200 [00:31<00:15,  4.46it/s]\u001b[A\n",
      " 67%|███████████████████████████▍             | 134/200 [00:31<00:13,  4.84it/s]\u001b[A\n",
      " 68%|███████████████████████████▋             | 135/200 [00:31<00:13,  4.76it/s]\u001b[A\n",
      " 68%|███████████████████████████▉             | 136/200 [00:31<00:12,  5.07it/s]\u001b[A\n",
      " 68%|████████████████████████████             | 137/200 [00:32<00:11,  5.28it/s]\u001b[A\n",
      " 69%|████████████████████████████▎            | 138/200 [00:32<00:11,  5.29it/s]\u001b[A\n",
      " 70%|████████████████████████████▍            | 139/200 [00:32<00:13,  4.68it/s]\u001b[A\n",
      " 70%|████████████████████████████▋            | 140/200 [00:32<00:13,  4.39it/s]\u001b[A\n",
      " 70%|████████████████████████████▉            | 141/200 [00:32<00:12,  4.92it/s]\u001b[A\n",
      " 71%|█████████████████████████████            | 142/200 [00:33<00:11,  4.88it/s]\u001b[A\n",
      " 72%|█████████████████████████████▎           | 143/200 [00:33<00:12,  4.57it/s]\u001b[A\n",
      " 72%|█████████████████████████████▌           | 144/200 [00:33<00:11,  4.73it/s]\u001b[A\n",
      " 72%|█████████████████████████████▋           | 145/200 [00:33<00:12,  4.53it/s]\u001b[A\n",
      " 73%|█████████████████████████████▉           | 146/200 [00:34<00:12,  4.40it/s]\u001b[A\n",
      " 74%|██████████████████████████████▏          | 147/200 [00:34<00:10,  5.09it/s]\u001b[A\n",
      " 74%|██████████████████████████████▎          | 148/200 [00:34<00:11,  4.49it/s]\u001b[A\n",
      " 74%|██████████████████████████████▌          | 149/200 [00:34<00:11,  4.33it/s]\u001b[A\n",
      " 75%|██████████████████████████████▊          | 150/200 [00:34<00:11,  4.40it/s]\u001b[A\n",
      " 76%|██████████████████████████████▉          | 151/200 [00:35<00:09,  5.11it/s]\u001b[A\n",
      " 76%|███████████████████████████████▏         | 152/200 [00:35<00:10,  4.59it/s]\u001b[A\n",
      " 76%|███████████████████████████████▎         | 153/200 [00:35<00:09,  5.08it/s]\u001b[A\n",
      " 77%|███████████████████████████████▌         | 154/200 [00:35<00:09,  5.04it/s]\u001b[A\n",
      " 78%|███████████████████████████████▊         | 155/200 [00:35<00:09,  4.80it/s]\u001b[A\n",
      " 78%|███████████████████████████████▉         | 156/200 [00:36<00:08,  5.17it/s]\u001b[A\n",
      " 78%|████████████████████████████████▏        | 157/200 [00:36<00:07,  5.76it/s]\u001b[A\n",
      " 79%|████████████████████████████████▍        | 158/200 [00:36<00:07,  5.55it/s]\u001b[A\n",
      " 80%|████████████████████████████████▌        | 159/200 [00:36<00:07,  5.13it/s]\u001b[A\n",
      " 80%|████████████████████████████████▊        | 160/200 [00:36<00:07,  5.30it/s]\u001b[A\n",
      " 80%|█████████████████████████████████        | 161/200 [00:37<00:08,  4.84it/s]\u001b[A\n",
      " 81%|█████████████████████████████████▏       | 162/200 [00:37<00:08,  4.71it/s]\u001b[A\n",
      " 82%|█████████████████████████████████▍       | 163/200 [00:37<00:07,  5.04it/s]\u001b[A\n",
      " 82%|█████████████████████████████████▌       | 164/200 [00:37<00:07,  5.05it/s]\u001b[A\n",
      " 82%|█████████████████████████████████▊       | 165/200 [00:37<00:06,  5.43it/s]\u001b[A\n",
      " 83%|██████████████████████████████████       | 166/200 [00:37<00:06,  5.32it/s]\u001b[A\n",
      " 84%|██████████████████████████████████▏      | 167/200 [00:38<00:06,  5.47it/s]\u001b[A\n",
      " 84%|██████████████████████████████████▍      | 168/200 [00:38<00:05,  5.64it/s]\u001b[A\n",
      " 84%|██████████████████████████████████▋      | 169/200 [00:38<00:05,  5.23it/s]\u001b[A\n",
      " 85%|██████████████████████████████████▊      | 170/200 [00:38<00:06,  4.91it/s]\u001b[A\n",
      " 86%|███████████████████████████████████      | 171/200 [00:39<00:06,  4.55it/s]\u001b[A\n",
      " 86%|███████████████████████████████████▎     | 172/200 [00:39<00:06,  4.25it/s]\u001b[A\n",
      " 86%|███████████████████████████████████▍     | 173/200 [00:39<00:06,  4.25it/s]\u001b[A\n",
      " 87%|███████████████████████████████████▋     | 174/200 [00:39<00:06,  4.19it/s]\u001b[A\n",
      " 88%|███████████████████████████████████▉     | 175/200 [00:39<00:05,  4.50it/s]\u001b[A\n",
      " 88%|████████████████████████████████████     | 176/200 [00:40<00:05,  4.72it/s]\u001b[A\n",
      " 88%|████████████████████████████████████▎    | 177/200 [00:40<00:05,  4.45it/s]\u001b[A\n",
      " 89%|████████████████████████████████████▍    | 178/200 [00:40<00:05,  4.30it/s]\u001b[A\n",
      " 90%|████████████████████████████████████▋    | 179/200 [00:40<00:04,  4.23it/s]\u001b[A\n",
      " 90%|████████████████████████████████████▉    | 180/200 [00:41<00:04,  4.27it/s]\u001b[A\n",
      " 90%|█████████████████████████████████████    | 181/200 [00:41<00:04,  4.66it/s]\u001b[A\n",
      " 91%|█████████████████████████████████████▎   | 182/200 [00:41<00:03,  4.58it/s]\u001b[A\n",
      " 92%|█████████████████████████████████████▌   | 183/200 [00:41<00:03,  4.78it/s]\u001b[A\n",
      " 92%|█████████████████████████████████████▋   | 184/200 [00:41<00:03,  4.74it/s]\u001b[A\n",
      " 92%|█████████████████████████████████████▉   | 185/200 [00:42<00:03,  4.55it/s]\u001b[A\n",
      " 93%|██████████████████████████████████████▏  | 186/200 [00:42<00:03,  4.56it/s]\u001b[A\n",
      " 94%|██████████████████████████████████████▎  | 187/200 [00:42<00:02,  4.77it/s]\u001b[A\n",
      " 94%|██████████████████████████████████████▌  | 188/200 [00:42<00:02,  4.71it/s]\u001b[A\n",
      " 94%|██████████████████████████████████████▋  | 189/200 [00:43<00:02,  4.81it/s]\u001b[A\n",
      " 95%|██████████████████████████████████████▉  | 190/200 [00:43<00:02,  4.57it/s]\u001b[A\n",
      " 96%|███████████████████████████████████████▏ | 191/200 [00:43<00:01,  5.04it/s]\u001b[A\n",
      " 96%|███████████████████████████████████████▎ | 192/200 [00:43<00:01,  5.06it/s]\u001b[A\n",
      " 96%|███████████████████████████████████████▌ | 193/200 [00:43<00:01,  5.13it/s]\u001b[A\n",
      " 97%|███████████████████████████████████████▊ | 194/200 [00:43<00:01,  5.35it/s]\u001b[A\n",
      " 98%|███████████████████████████████████████▉ | 195/200 [00:44<00:00,  5.25it/s]\u001b[A\n",
      " 98%|████████████████████████████████████████▏| 196/200 [00:44<00:00,  4.92it/s]\u001b[A\n",
      " 98%|████████████████████████████████████████▍| 197/200 [00:44<00:00,  4.62it/s]\u001b[A\n",
      " 99%|████████████████████████████████████████▌| 198/200 [00:44<00:00,  4.37it/s]\u001b[A\n",
      "100%|████████████████████████████████████████▊| 199/200 [00:45<00:00,  4.87it/s]\u001b[A\n",
      "100%|█████████████████████████████████████████| 200/200 [00:45<00:00,  4.42it/s]\u001b[A\n",
      "100%|█████████████████████████████████████████████| 1/1 [00:45<00:00, 45.34s/it]\n"
     ]
    },
    {
     "data": {
      "image/png": "[encoded data removed]",
      "text/plain": [
       "<Figure size 640x480 with 1 Axes>"
      ]
     },
     "metadata": {},
     "output_type": "display_data"
    }
   ],
   "source": [
    "arr = [Lasso]\n",
    "for tp in tqdm(arr):\n",
    "    find_optimal_alpha(tp)"
   ]
  },
  {
   "cell_type": "code",
   "execution_count": null,
   "metadata": {
    "tags": []
   },
   "outputs": [],
   "source": [
    "# find_optimal_learning_rate()"
   ]
  },
  {
   "cell_type": "code",
   "execution_count": 45,
   "metadata": {
    "tags": []
   },
   "outputs": [
    {
     "data": {
      "text/html": [
       "<style>#sk-container-id-1 {color: black;background-color: white;}#sk-container-id-1 pre{padding: 0;}#sk-container-id-1 div.sk-toggleable {background-color: white;}#sk-container-id-1 label.sk-toggleable__label {cursor: pointer;display: block;width: 100%;margin-bottom: 0;padding: 0.3em;box-sizing: border-box;text-align: center;}#sk-container-id-1 label.sk-toggleable__label-arrow:before {content: \"▸\";float: left;margin-right: 0.25em;color: #696969;}#sk-container-id-1 label.sk-toggleable__label-arrow:hover:before {color: black;}#sk-container-id-1 div.sk-estimator:hover label.sk-toggleable__label-arrow:before {color: black;}#sk-container-id-1 div.sk-toggleable__content {max-height: 0;max-width: 0;overflow: hidden;text-align: left;background-color: #f0f8ff;}#sk-container-id-1 div.sk-toggleable__content pre {margin: 0.2em;color: black;border-radius: 0.25em;background-color: #f0f8ff;}#sk-container-id-1 input.sk-toggleable__control:checked~div.sk-toggleable__content {max-height: 200px;max-width: 100%;overflow: auto;}#sk-container-id-1 input.sk-toggleable__control:checked~label.sk-toggleable__label-arrow:before {content: \"▾\";}#sk-container-id-1 div.sk-estimator input.sk-toggleable__control:checked~label.sk-toggleable__label {background-color: #d4ebff;}#sk-container-id-1 div.sk-label input.sk-toggleable__control:checked~label.sk-toggleable__label {background-color: #d4ebff;}#sk-container-id-1 input.sk-hidden--visually {border: 0;clip: rect(1px 1px 1px 1px);clip: rect(1px, 1px, 1px, 1px);height: 1px;margin: -1px;overflow: hidden;padding: 0;position: absolute;width: 1px;}#sk-container-id-1 div.sk-estimator {font-family: monospace;background-color: #f0f8ff;border: 1px dotted black;border-radius: 0.25em;box-sizing: border-box;margin-bottom: 0.5em;}#sk-container-id-1 div.sk-estimator:hover {background-color: #d4ebff;}#sk-container-id-1 div.sk-parallel-item::after {content: \"\";width: 100%;border-bottom: 1px solid gray;flex-grow: 1;}#sk-container-id-1 div.sk-label:hover label.sk-toggleable__label {background-color: #d4ebff;}#sk-container-id-1 div.sk-serial::before {content: \"\";position: absolute;border-left: 1px solid gray;box-sizing: border-box;top: 0;bottom: 0;left: 50%;z-index: 0;}#sk-container-id-1 div.sk-serial {display: flex;flex-direction: column;align-items: center;background-color: white;padding-right: 0.2em;padding-left: 0.2em;position: relative;}#sk-container-id-1 div.sk-item {position: relative;z-index: 1;}#sk-container-id-1 div.sk-parallel {display: flex;align-items: stretch;justify-content: center;background-color: white;position: relative;}#sk-container-id-1 div.sk-item::before, #sk-container-id-1 div.sk-parallel-item::before {content: \"\";position: absolute;border-left: 1px solid gray;box-sizing: border-box;top: 0;bottom: 0;left: 50%;z-index: -1;}#sk-container-id-1 div.sk-parallel-item {display: flex;flex-direction: column;z-index: 1;position: relative;background-color: white;}#sk-container-id-1 div.sk-parallel-item:first-child::after {align-self: flex-end;width: 50%;}#sk-container-id-1 div.sk-parallel-item:last-child::after {align-self: flex-start;width: 50%;}#sk-container-id-1 div.sk-parallel-item:only-child::after {width: 0;}#sk-container-id-1 div.sk-dashed-wrapped {border: 1px dashed gray;margin: 0 0.4em 0.5em 0.4em;box-sizing: border-box;padding-bottom: 0.4em;background-color: white;}#sk-container-id-1 div.sk-label label {font-family: monospace;font-weight: bold;display: inline-block;line-height: 1.2em;}#sk-container-id-1 div.sk-label-container {text-align: center;}#sk-container-id-1 div.sk-container {/* jupyter's `normalize.less` sets `[hidden] { display: none; }` but bootstrap.min.css set `[hidden] { display: none !important; }` so we also need the `!important` here to be able to override the default hidden behavior on the sphinx rendered scikit-learn.org. See: https://github.com/scikit-learn/scikit-learn/issues/21755 */display: inline-block !important;position: relative;}#sk-container-id-1 div.sk-text-repr-fallback {display: none;}</style><div id=\"sk-container-id-1\" class=\"sk-top-container\"><div class=\"sk-text-repr-fallback\"><pre>Lasso(alpha=971)</pre><b>In a Jupyter environment, please rerun this cell to show the HTML representation or trust the notebook. <br />On GitHub, the HTML representation is unable to render, please try loading this page with nbviewer.org.</b></div><div class=\"sk-container\" hidden><div class=\"sk-item\"><div class=\"sk-estimator sk-toggleable\"><input class=\"sk-toggleable__control sk-hidden--visually\" id=\"sk-estimator-id-1\" type=\"checkbox\" checked><label for=\"sk-estimator-id-1\" class=\"sk-toggleable__label sk-toggleable__label-arrow\">Lasso</label><div class=\"sk-toggleable__content\"><pre>Lasso(alpha=971)</pre></div></div></div></div></div>"
      ],
      "text/plain": [
       "Lasso(alpha=971)"
      ]
     },
     "execution_count": 45,
     "metadata": {},
     "output_type": "execute_result"
    }
   ],
   "source": [
    "model1 = Lasso(alpha=971)\n",
    "model1.fit(x_train_train, y_train_train)"
   ]
  },
  {
   "cell_type": "code",
   "execution_count": 46,
   "metadata": {
    "tags": []
   },
   "outputs": [
    {
     "name": "stdout",
     "output_type": "stream",
     "text": [
      "[\"Street\",\"Alley\",\"LandContour\",\"Utilities\",\"Condition2\",\"HouseStyle\",\"RoofMatl\",\"Exterior2nd\",\"Foundation\",\"BsmtCond\",\"BsmtFinType1\",\"BsmtFinType2\",\"Electrical\",\"BsmtFullBath\",\"BsmtHalfBath\",\"FullBath\",\"HalfBath\",\"KitchenAbvGr\",\"FireplaceQu\",\"GarageType\",\"GarageCars\",\"GarageQual\",\"GarageCond\",\"PavedDrive\",\"Fence\",\"MiscFeature\",]"
     ]
    }
   ],
   "source": [
    "print(\"[\", end='')\n",
    "for x in range(len(model1.coef_)):\n",
    "    if abs(model1.coef_[x]) < 0.1:\n",
    "        print('\"', data_full.columns[x], '\",', sep='', end='')\n",
    "print(\"]\", end='')"
   ]
  },
  {
   "cell_type": "code",
   "execution_count": 47,
   "metadata": {
    "tags": []
   },
   "outputs": [
    {
     "data": {
      "text/html": [
       "<style>#sk-container-id-2 {color: black;background-color: white;}#sk-container-id-2 pre{padding: 0;}#sk-container-id-2 div.sk-toggleable {background-color: white;}#sk-container-id-2 label.sk-toggleable__label {cursor: pointer;display: block;width: 100%;margin-bottom: 0;padding: 0.3em;box-sizing: border-box;text-align: center;}#sk-container-id-2 label.sk-toggleable__label-arrow:before {content: \"▸\";float: left;margin-right: 0.25em;color: #696969;}#sk-container-id-2 label.sk-toggleable__label-arrow:hover:before {color: black;}#sk-container-id-2 div.sk-estimator:hover label.sk-toggleable__label-arrow:before {color: black;}#sk-container-id-2 div.sk-toggleable__content {max-height: 0;max-width: 0;overflow: hidden;text-align: left;background-color: #f0f8ff;}#sk-container-id-2 div.sk-toggleable__content pre {margin: 0.2em;color: black;border-radius: 0.25em;background-color: #f0f8ff;}#sk-container-id-2 input.sk-toggleable__control:checked~div.sk-toggleable__content {max-height: 200px;max-width: 100%;overflow: auto;}#sk-container-id-2 input.sk-toggleable__control:checked~label.sk-toggleable__label-arrow:before {content: \"▾\";}#sk-container-id-2 div.sk-estimator input.sk-toggleable__control:checked~label.sk-toggleable__label {background-color: #d4ebff;}#sk-container-id-2 div.sk-label input.sk-toggleable__control:checked~label.sk-toggleable__label {background-color: #d4ebff;}#sk-container-id-2 input.sk-hidden--visually {border: 0;clip: rect(1px 1px 1px 1px);clip: rect(1px, 1px, 1px, 1px);height: 1px;margin: -1px;overflow: hidden;padding: 0;position: absolute;width: 1px;}#sk-container-id-2 div.sk-estimator {font-family: monospace;background-color: #f0f8ff;border: 1px dotted black;border-radius: 0.25em;box-sizing: border-box;margin-bottom: 0.5em;}#sk-container-id-2 div.sk-estimator:hover {background-color: #d4ebff;}#sk-container-id-2 div.sk-parallel-item::after {content: \"\";width: 100%;border-bottom: 1px solid gray;flex-grow: 1;}#sk-container-id-2 div.sk-label:hover label.sk-toggleable__label {background-color: #d4ebff;}#sk-container-id-2 div.sk-serial::before {content: \"\";position: absolute;border-left: 1px solid gray;box-sizing: border-box;top: 0;bottom: 0;left: 50%;z-index: 0;}#sk-container-id-2 div.sk-serial {display: flex;flex-direction: column;align-items: center;background-color: white;padding-right: 0.2em;padding-left: 0.2em;position: relative;}#sk-container-id-2 div.sk-item {position: relative;z-index: 1;}#sk-container-id-2 div.sk-parallel {display: flex;align-items: stretch;justify-content: center;background-color: white;position: relative;}#sk-container-id-2 div.sk-item::before, #sk-container-id-2 div.sk-parallel-item::before {content: \"\";position: absolute;border-left: 1px solid gray;box-sizing: border-box;top: 0;bottom: 0;left: 50%;z-index: -1;}#sk-container-id-2 div.sk-parallel-item {display: flex;flex-direction: column;z-index: 1;position: relative;background-color: white;}#sk-container-id-2 div.sk-parallel-item:first-child::after {align-self: flex-end;width: 50%;}#sk-container-id-2 div.sk-parallel-item:last-child::after {align-self: flex-start;width: 50%;}#sk-container-id-2 div.sk-parallel-item:only-child::after {width: 0;}#sk-container-id-2 div.sk-dashed-wrapped {border: 1px dashed gray;margin: 0 0.4em 0.5em 0.4em;box-sizing: border-box;padding-bottom: 0.4em;background-color: white;}#sk-container-id-2 div.sk-label label {font-family: monospace;font-weight: bold;display: inline-block;line-height: 1.2em;}#sk-container-id-2 div.sk-label-container {text-align: center;}#sk-container-id-2 div.sk-container {/* jupyter's `normalize.less` sets `[hidden] { display: none; }` but bootstrap.min.css set `[hidden] { display: none !important; }` so we also need the `!important` here to be able to override the default hidden behavior on the sphinx rendered scikit-learn.org. See: https://github.com/scikit-learn/scikit-learn/issues/21755 */display: inline-block !important;position: relative;}#sk-container-id-2 div.sk-text-repr-fallback {display: none;}</style><div id=\"sk-container-id-2\" class=\"sk-top-container\"><div class=\"sk-text-repr-fallback\"><pre>LinearRegression()</pre><b>In a Jupyter environment, please rerun this cell to show the HTML representation or trust the notebook. <br />On GitHub, the HTML representation is unable to render, please try loading this page with nbviewer.org.</b></div><div class=\"sk-container\" hidden><div class=\"sk-item\"><div class=\"sk-estimator sk-toggleable\"><input class=\"sk-toggleable__control sk-hidden--visually\" id=\"sk-estimator-id-2\" type=\"checkbox\" checked><label for=\"sk-estimator-id-2\" class=\"sk-toggleable__label sk-toggleable__label-arrow\">LinearRegression</label><div class=\"sk-toggleable__content\"><pre>LinearRegression()</pre></div></div></div></div></div>"
      ],
      "text/plain": [
       "LinearRegression()"
      ]
     },
     "execution_count": 47,
     "metadata": {},
     "output_type": "execute_result"
    }
   ],
   "source": [
    "model2 = LinearRegression()\n",
    "model2.fit(x_train_train, y_train_train)"
   ]
  },
  {
   "cell_type": "code",
   "execution_count": 48,
   "metadata": {
    "tags": []
   },
   "outputs": [
    {
     "data": {
      "text/html": [
       "<style>#sk-container-id-3 {color: black;background-color: white;}#sk-container-id-3 pre{padding: 0;}#sk-container-id-3 div.sk-toggleable {background-color: white;}#sk-container-id-3 label.sk-toggleable__label {cursor: pointer;display: block;width: 100%;margin-bottom: 0;padding: 0.3em;box-sizing: border-box;text-align: center;}#sk-container-id-3 label.sk-toggleable__label-arrow:before {content: \"▸\";float: left;margin-right: 0.25em;color: #696969;}#sk-container-id-3 label.sk-toggleable__label-arrow:hover:before {color: black;}#sk-container-id-3 div.sk-estimator:hover label.sk-toggleable__label-arrow:before {color: black;}#sk-container-id-3 div.sk-toggleable__content {max-height: 0;max-width: 0;overflow: hidden;text-align: left;background-color: #f0f8ff;}#sk-container-id-3 div.sk-toggleable__content pre {margin: 0.2em;color: black;border-radius: 0.25em;background-color: #f0f8ff;}#sk-container-id-3 input.sk-toggleable__control:checked~div.sk-toggleable__content {max-height: 200px;max-width: 100%;overflow: auto;}#sk-container-id-3 input.sk-toggleable__control:checked~label.sk-toggleable__label-arrow:before {content: \"▾\";}#sk-container-id-3 div.sk-estimator input.sk-toggleable__control:checked~label.sk-toggleable__label {background-color: #d4ebff;}#sk-container-id-3 div.sk-label input.sk-toggleable__control:checked~label.sk-toggleable__label {background-color: #d4ebff;}#sk-container-id-3 input.sk-hidden--visually {border: 0;clip: rect(1px 1px 1px 1px);clip: rect(1px, 1px, 1px, 1px);height: 1px;margin: -1px;overflow: hidden;padding: 0;position: absolute;width: 1px;}#sk-container-id-3 div.sk-estimator {font-family: monospace;background-color: #f0f8ff;border: 1px dotted black;border-radius: 0.25em;box-sizing: border-box;margin-bottom: 0.5em;}#sk-container-id-3 div.sk-estimator:hover {background-color: #d4ebff;}#sk-container-id-3 div.sk-parallel-item::after {content: \"\";width: 100%;border-bottom: 1px solid gray;flex-grow: 1;}#sk-container-id-3 div.sk-label:hover label.sk-toggleable__label {background-color: #d4ebff;}#sk-container-id-3 div.sk-serial::before {content: \"\";position: absolute;border-left: 1px solid gray;box-sizing: border-box;top: 0;bottom: 0;left: 50%;z-index: 0;}#sk-container-id-3 div.sk-serial {display: flex;flex-direction: column;align-items: center;background-color: white;padding-right: 0.2em;padding-left: 0.2em;position: relative;}#sk-container-id-3 div.sk-item {position: relative;z-index: 1;}#sk-container-id-3 div.sk-parallel {display: flex;align-items: stretch;justify-content: center;background-color: white;position: relative;}#sk-container-id-3 div.sk-item::before, #sk-container-id-3 div.sk-parallel-item::before {content: \"\";position: absolute;border-left: 1px solid gray;box-sizing: border-box;top: 0;bottom: 0;left: 50%;z-index: -1;}#sk-container-id-3 div.sk-parallel-item {display: flex;flex-direction: column;z-index: 1;position: relative;background-color: white;}#sk-container-id-3 div.sk-parallel-item:first-child::after {align-self: flex-end;width: 50%;}#sk-container-id-3 div.sk-parallel-item:last-child::after {align-self: flex-start;width: 50%;}#sk-container-id-3 div.sk-parallel-item:only-child::after {width: 0;}#sk-container-id-3 div.sk-dashed-wrapped {border: 1px dashed gray;margin: 0 0.4em 0.5em 0.4em;box-sizing: border-box;padding-bottom: 0.4em;background-color: white;}#sk-container-id-3 div.sk-label label {font-family: monospace;font-weight: bold;display: inline-block;line-height: 1.2em;}#sk-container-id-3 div.sk-label-container {text-align: center;}#sk-container-id-3 div.sk-container {/* jupyter's `normalize.less` sets `[hidden] { display: none; }` but bootstrap.min.css set `[hidden] { display: none !important; }` so we also need the `!important` here to be able to override the default hidden behavior on the sphinx rendered scikit-learn.org. See: https://github.com/scikit-learn/scikit-learn/issues/21755 */display: inline-block !important;position: relative;}#sk-container-id-3 div.sk-text-repr-fallback {display: none;}</style><div id=\"sk-container-id-3\" class=\"sk-top-container\"><div class=\"sk-text-repr-fallback\"><pre>LinearRegression()</pre><b>In a Jupyter environment, please rerun this cell to show the HTML representation or trust the notebook. <br />On GitHub, the HTML representation is unable to render, please try loading this page with nbviewer.org.</b></div><div class=\"sk-container\" hidden><div class=\"sk-item\"><div class=\"sk-estimator sk-toggleable\"><input class=\"sk-toggleable__control sk-hidden--visually\" id=\"sk-estimator-id-3\" type=\"checkbox\" checked><label for=\"sk-estimator-id-3\" class=\"sk-toggleable__label sk-toggleable__label-arrow\">LinearRegression</label><div class=\"sk-toggleable__content\"><pre>LinearRegression()</pre></div></div></div></div></div>"
      ],
      "text/plain": [
       "LinearRegression()"
      ]
     },
     "execution_count": 48,
     "metadata": {},
     "output_type": "execute_result"
    }
   ],
   "source": [
    "model3 = LinearRegression()\n",
    "model3.fit(X_train, y_train)"
   ]
  },
  {
   "cell_type": "code",
   "execution_count": 49,
   "metadata": {
    "tags": []
   },
   "outputs": [
    {
     "data": {
      "text/plain": [
       "0.15246550629804703"
      ]
     },
     "execution_count": 49,
     "metadata": {},
     "output_type": "execute_result"
    }
   ],
   "source": [
    "metrics_function(model1.predict(X_train), y_train)"
   ]
  },
  {
   "cell_type": "code",
   "execution_count": 50,
   "metadata": {
    "tags": []
   },
   "outputs": [],
   "source": [
    "# predictions for test\n",
    "y_test = model1.predict(X_test)"
   ]
  },
  {
   "cell_type": "code",
   "execution_count": 51,
   "metadata": {
    "tags": []
   },
   "outputs": [
    {
     "name": "stdout",
     "output_type": "stream",
     "text": [
      "Metrics on train data\n",
      "0.14798150063629795\n",
      "--------------------\n",
      "Metrics on valid data\n",
      "0.1692174782087137\n"
     ]
    }
   ],
   "source": [
    "print(\"Metrics on train data\")\n",
    "print(metrics_function(model1.predict(x_train_train), y_train_train))\n",
    "print(\"-\"*20)\n",
    "print(\"Metrics on valid data\")\n",
    "print(metrics_function(model1.predict(x_train_test), y_train_test))"
   ]
  },
  {
   "cell_type": "code",
   "execution_count": 52,
   "metadata": {
    "tags": []
   },
   "outputs": [],
   "source": [
    "# print(\"Metrics on train data\")\n",
    "# print(metrics_function(model.predict(x_train_train), y_train_train))\n",
    "# print(\"-\"*20)\n",
    "\n"
   ]
  },
  {
   "cell_type": "code",
   "execution_count": 53,
   "metadata": {
    "tags": []
   },
   "outputs": [
    {
     "name": "stdout",
     "output_type": "stream",
     "text": [
      "Metrics on train data\n",
      "0.1678300451947093\n",
      "--------------------\n",
      "Metrics on valid data\n",
      "0.19484295875589325\n"
     ]
    }
   ],
   "source": [
    "print(\"Metrics on train data\")\n",
    "print(metrics_function(model2.predict(x_train_train), y_train_train))\n",
    "print(\"-\"*20)\n",
    "print(\"Metrics on valid data\")\n",
    "print(metrics_function(model2.predict(x_train_test), y_train_test))\n",
    "\n"
   ]
  },
  {
   "cell_type": "code",
   "execution_count": 54,
   "metadata": {
    "tags": []
   },
   "outputs": [
    {
     "name": "stdout",
     "output_type": "stream",
     "text": [
      "Metrics on train data\n",
      "--------------------\n",
      "Metrics on valid data\n"
     ]
    },
    {
     "data": {
      "text/plain": [
       "0.17093804221888098"
      ]
     },
     "execution_count": 54,
     "metadata": {},
     "output_type": "execute_result"
    }
   ],
   "source": [
    "print(\"Metrics on train data\")\n",
    "metrics_function(model3.predict(x_train_train), y_train_train)\n",
    "print(\"-\"*20)\n",
    "print(\"Metrics on valid data\")\n",
    "metrics_function(model3.predict(x_train_test), y_train_test)"
   ]
  },
  {
   "cell_type": "markdown",
   "metadata": {},
   "source": []
  },
  {
   "cell_type": "code",
   "execution_count": 55,
   "metadata": {
    "tags": []
   },
   "outputs": [],
   "source": [
    "data_test['SalePrice'] = y_test"
   ]
  },
  {
   "cell_type": "code",
   "execution_count": 56,
   "metadata": {
    "tags": []
   },
   "outputs": [
    {
     "ename": "OSError",
     "evalue": "Cannot save file into a non-existent directory: '/kaggle/working'",
     "output_type": "error",
     "traceback": [
      "\u001b[0;31m---------------------------------------------------------------------------\u001b[0m",
      "\u001b[0;31mOSError\u001b[0m                                   Traceback (most recent call last)",
      "Cell \u001b[0;32mIn [56], line 1\u001b[0m\n\u001b[0;32m----> 1\u001b[0m \u001b[43mdata_test\u001b[49m\u001b[43m[\u001b[49m\u001b[43m[\u001b[49m\u001b[38;5;124;43m'\u001b[39;49m\u001b[38;5;124;43mId\u001b[39;49m\u001b[38;5;124;43m'\u001b[39;49m\u001b[43m,\u001b[49m\u001b[43m \u001b[49m\u001b[38;5;124;43m'\u001b[39;49m\u001b[38;5;124;43mSalePrice\u001b[39;49m\u001b[38;5;124;43m'\u001b[39;49m\u001b[43m]\u001b[49m\u001b[43m]\u001b[49m\u001b[38;5;241;43m.\u001b[39;49m\u001b[43mto_csv\u001b[49m\u001b[43m(\u001b[49m\u001b[38;5;124;43m'\u001b[39;49m\u001b[38;5;124;43m/kaggle/working/submission.csv\u001b[39;49m\u001b[38;5;124;43m'\u001b[39;49m\u001b[43m,\u001b[49m\u001b[43m \u001b[49m\u001b[43mindex\u001b[49m\u001b[38;5;241;43m=\u001b[39;49m\u001b[38;5;28;43;01mFalse\u001b[39;49;00m\u001b[43m)\u001b[49m\n",
      "File \u001b[0;32m~/.pyenv/versions/3.8.13/envs/3_8_jupyter/lib/python3.8/site-packages/pandas/util/_decorators.py:211\u001b[0m, in \u001b[0;36mdeprecate_kwarg.<locals>._deprecate_kwarg.<locals>.wrapper\u001b[0;34m(*args, **kwargs)\u001b[0m\n\u001b[1;32m    209\u001b[0m     \u001b[38;5;28;01melse\u001b[39;00m:\n\u001b[1;32m    210\u001b[0m         kwargs[new_arg_name] \u001b[38;5;241m=\u001b[39m new_arg_value\n\u001b[0;32m--> 211\u001b[0m \u001b[38;5;28;01mreturn\u001b[39;00m \u001b[43mfunc\u001b[49m\u001b[43m(\u001b[49m\u001b[38;5;241;43m*\u001b[39;49m\u001b[43margs\u001b[49m\u001b[43m,\u001b[49m\u001b[43m \u001b[49m\u001b[38;5;241;43m*\u001b[39;49m\u001b[38;5;241;43m*\u001b[39;49m\u001b[43mkwargs\u001b[49m\u001b[43m)\u001b[49m\n",
      "File \u001b[0;32m~/.pyenv/versions/3.8.13/envs/3_8_jupyter/lib/python3.8/site-packages/pandas/core/generic.py:3720\u001b[0m, in \u001b[0;36mNDFrame.to_csv\u001b[0;34m(self, path_or_buf, sep, na_rep, float_format, columns, header, index, index_label, mode, encoding, compression, quoting, quotechar, lineterminator, chunksize, date_format, doublequote, escapechar, decimal, errors, storage_options)\u001b[0m\n\u001b[1;32m   3709\u001b[0m df \u001b[38;5;241m=\u001b[39m \u001b[38;5;28mself\u001b[39m \u001b[38;5;28;01mif\u001b[39;00m \u001b[38;5;28misinstance\u001b[39m(\u001b[38;5;28mself\u001b[39m, ABCDataFrame) \u001b[38;5;28;01melse\u001b[39;00m \u001b[38;5;28mself\u001b[39m\u001b[38;5;241m.\u001b[39mto_frame()\n\u001b[1;32m   3711\u001b[0m formatter \u001b[38;5;241m=\u001b[39m DataFrameFormatter(\n\u001b[1;32m   3712\u001b[0m     frame\u001b[38;5;241m=\u001b[39mdf,\n\u001b[1;32m   3713\u001b[0m     header\u001b[38;5;241m=\u001b[39mheader,\n\u001b[0;32m   (...)\u001b[0m\n\u001b[1;32m   3717\u001b[0m     decimal\u001b[38;5;241m=\u001b[39mdecimal,\n\u001b[1;32m   3718\u001b[0m )\n\u001b[0;32m-> 3720\u001b[0m \u001b[38;5;28;01mreturn\u001b[39;00m \u001b[43mDataFrameRenderer\u001b[49m\u001b[43m(\u001b[49m\u001b[43mformatter\u001b[49m\u001b[43m)\u001b[49m\u001b[38;5;241;43m.\u001b[39;49m\u001b[43mto_csv\u001b[49m\u001b[43m(\u001b[49m\n\u001b[1;32m   3721\u001b[0m \u001b[43m    \u001b[49m\u001b[43mpath_or_buf\u001b[49m\u001b[43m,\u001b[49m\n\u001b[1;32m   3722\u001b[0m \u001b[43m    \u001b[49m\u001b[43mlineterminator\u001b[49m\u001b[38;5;241;43m=\u001b[39;49m\u001b[43mlineterminator\u001b[49m\u001b[43m,\u001b[49m\n\u001b[1;32m   3723\u001b[0m \u001b[43m    \u001b[49m\u001b[43msep\u001b[49m\u001b[38;5;241;43m=\u001b[39;49m\u001b[43msep\u001b[49m\u001b[43m,\u001b[49m\n\u001b[1;32m   3724\u001b[0m \u001b[43m    \u001b[49m\u001b[43mencoding\u001b[49m\u001b[38;5;241;43m=\u001b[39;49m\u001b[43mencoding\u001b[49m\u001b[43m,\u001b[49m\n\u001b[1;32m   3725\u001b[0m \u001b[43m    \u001b[49m\u001b[43merrors\u001b[49m\u001b[38;5;241;43m=\u001b[39;49m\u001b[43merrors\u001b[49m\u001b[43m,\u001b[49m\n\u001b[1;32m   3726\u001b[0m \u001b[43m    \u001b[49m\u001b[43mcompression\u001b[49m\u001b[38;5;241;43m=\u001b[39;49m\u001b[43mcompression\u001b[49m\u001b[43m,\u001b[49m\n\u001b[1;32m   3727\u001b[0m \u001b[43m    \u001b[49m\u001b[43mquoting\u001b[49m\u001b[38;5;241;43m=\u001b[39;49m\u001b[43mquoting\u001b[49m\u001b[43m,\u001b[49m\n\u001b[1;32m   3728\u001b[0m \u001b[43m    \u001b[49m\u001b[43mcolumns\u001b[49m\u001b[38;5;241;43m=\u001b[39;49m\u001b[43mcolumns\u001b[49m\u001b[43m,\u001b[49m\n\u001b[1;32m   3729\u001b[0m \u001b[43m    \u001b[49m\u001b[43mindex_label\u001b[49m\u001b[38;5;241;43m=\u001b[39;49m\u001b[43mindex_label\u001b[49m\u001b[43m,\u001b[49m\n\u001b[1;32m   3730\u001b[0m \u001b[43m    \u001b[49m\u001b[43mmode\u001b[49m\u001b[38;5;241;43m=\u001b[39;49m\u001b[43mmode\u001b[49m\u001b[43m,\u001b[49m\n\u001b[1;32m   3731\u001b[0m \u001b[43m    \u001b[49m\u001b[43mchunksize\u001b[49m\u001b[38;5;241;43m=\u001b[39;49m\u001b[43mchunksize\u001b[49m\u001b[43m,\u001b[49m\n\u001b[1;32m   3732\u001b[0m \u001b[43m    \u001b[49m\u001b[43mquotechar\u001b[49m\u001b[38;5;241;43m=\u001b[39;49m\u001b[43mquotechar\u001b[49m\u001b[43m,\u001b[49m\n\u001b[1;32m   3733\u001b[0m \u001b[43m    \u001b[49m\u001b[43mdate_format\u001b[49m\u001b[38;5;241;43m=\u001b[39;49m\u001b[43mdate_format\u001b[49m\u001b[43m,\u001b[49m\n\u001b[1;32m   3734\u001b[0m \u001b[43m    \u001b[49m\u001b[43mdoublequote\u001b[49m\u001b[38;5;241;43m=\u001b[39;49m\u001b[43mdoublequote\u001b[49m\u001b[43m,\u001b[49m\n\u001b[1;32m   3735\u001b[0m \u001b[43m    \u001b[49m\u001b[43mescapechar\u001b[49m\u001b[38;5;241;43m=\u001b[39;49m\u001b[43mescapechar\u001b[49m\u001b[43m,\u001b[49m\n\u001b[1;32m   3736\u001b[0m \u001b[43m    \u001b[49m\u001b[43mstorage_options\u001b[49m\u001b[38;5;241;43m=\u001b[39;49m\u001b[43mstorage_options\u001b[49m\u001b[43m,\u001b[49m\n\u001b[1;32m   3737\u001b[0m \u001b[43m\u001b[49m\u001b[43m)\u001b[49m\n",
      "File \u001b[0;32m~/.pyenv/versions/3.8.13/envs/3_8_jupyter/lib/python3.8/site-packages/pandas/util/_decorators.py:211\u001b[0m, in \u001b[0;36mdeprecate_kwarg.<locals>._deprecate_kwarg.<locals>.wrapper\u001b[0;34m(*args, **kwargs)\u001b[0m\n\u001b[1;32m    209\u001b[0m     \u001b[38;5;28;01melse\u001b[39;00m:\n\u001b[1;32m    210\u001b[0m         kwargs[new_arg_name] \u001b[38;5;241m=\u001b[39m new_arg_value\n\u001b[0;32m--> 211\u001b[0m \u001b[38;5;28;01mreturn\u001b[39;00m \u001b[43mfunc\u001b[49m\u001b[43m(\u001b[49m\u001b[38;5;241;43m*\u001b[39;49m\u001b[43margs\u001b[49m\u001b[43m,\u001b[49m\u001b[43m \u001b[49m\u001b[38;5;241;43m*\u001b[39;49m\u001b[38;5;241;43m*\u001b[39;49m\u001b[43mkwargs\u001b[49m\u001b[43m)\u001b[49m\n",
      "File \u001b[0;32m~/.pyenv/versions/3.8.13/envs/3_8_jupyter/lib/python3.8/site-packages/pandas/io/formats/format.py:1189\u001b[0m, in \u001b[0;36mDataFrameRenderer.to_csv\u001b[0;34m(self, path_or_buf, encoding, sep, columns, index_label, mode, compression, quoting, quotechar, lineterminator, chunksize, date_format, doublequote, escapechar, errors, storage_options)\u001b[0m\n\u001b[1;32m   1168\u001b[0m     created_buffer \u001b[38;5;241m=\u001b[39m \u001b[38;5;28;01mFalse\u001b[39;00m\n\u001b[1;32m   1170\u001b[0m csv_formatter \u001b[38;5;241m=\u001b[39m CSVFormatter(\n\u001b[1;32m   1171\u001b[0m     path_or_buf\u001b[38;5;241m=\u001b[39mpath_or_buf,\n\u001b[1;32m   1172\u001b[0m     lineterminator\u001b[38;5;241m=\u001b[39mlineterminator,\n\u001b[0;32m   (...)\u001b[0m\n\u001b[1;32m   1187\u001b[0m     formatter\u001b[38;5;241m=\u001b[39m\u001b[38;5;28mself\u001b[39m\u001b[38;5;241m.\u001b[39mfmt,\n\u001b[1;32m   1188\u001b[0m )\n\u001b[0;32m-> 1189\u001b[0m \u001b[43mcsv_formatter\u001b[49m\u001b[38;5;241;43m.\u001b[39;49m\u001b[43msave\u001b[49m\u001b[43m(\u001b[49m\u001b[43m)\u001b[49m\n\u001b[1;32m   1191\u001b[0m \u001b[38;5;28;01mif\u001b[39;00m created_buffer:\n\u001b[1;32m   1192\u001b[0m     \u001b[38;5;28;01massert\u001b[39;00m \u001b[38;5;28misinstance\u001b[39m(path_or_buf, StringIO)\n",
      "File \u001b[0;32m~/.pyenv/versions/3.8.13/envs/3_8_jupyter/lib/python3.8/site-packages/pandas/io/formats/csvs.py:241\u001b[0m, in \u001b[0;36mCSVFormatter.save\u001b[0;34m(self)\u001b[0m\n\u001b[1;32m    237\u001b[0m \u001b[38;5;124;03m\"\"\"\u001b[39;00m\n\u001b[1;32m    238\u001b[0m \u001b[38;5;124;03mCreate the writer & save.\u001b[39;00m\n\u001b[1;32m    239\u001b[0m \u001b[38;5;124;03m\"\"\"\u001b[39;00m\n\u001b[1;32m    240\u001b[0m \u001b[38;5;66;03m# apply compression and byte/text conversion\u001b[39;00m\n\u001b[0;32m--> 241\u001b[0m \u001b[38;5;28;01mwith\u001b[39;00m \u001b[43mget_handle\u001b[49m\u001b[43m(\u001b[49m\n\u001b[1;32m    242\u001b[0m \u001b[43m    \u001b[49m\u001b[38;5;28;43mself\u001b[39;49m\u001b[38;5;241;43m.\u001b[39;49m\u001b[43mfilepath_or_buffer\u001b[49m\u001b[43m,\u001b[49m\n\u001b[1;32m    243\u001b[0m \u001b[43m    \u001b[49m\u001b[38;5;28;43mself\u001b[39;49m\u001b[38;5;241;43m.\u001b[39;49m\u001b[43mmode\u001b[49m\u001b[43m,\u001b[49m\n\u001b[1;32m    244\u001b[0m \u001b[43m    \u001b[49m\u001b[43mencoding\u001b[49m\u001b[38;5;241;43m=\u001b[39;49m\u001b[38;5;28;43mself\u001b[39;49m\u001b[38;5;241;43m.\u001b[39;49m\u001b[43mencoding\u001b[49m\u001b[43m,\u001b[49m\n\u001b[1;32m    245\u001b[0m \u001b[43m    \u001b[49m\u001b[43merrors\u001b[49m\u001b[38;5;241;43m=\u001b[39;49m\u001b[38;5;28;43mself\u001b[39;49m\u001b[38;5;241;43m.\u001b[39;49m\u001b[43merrors\u001b[49m\u001b[43m,\u001b[49m\n\u001b[1;32m    246\u001b[0m \u001b[43m    \u001b[49m\u001b[43mcompression\u001b[49m\u001b[38;5;241;43m=\u001b[39;49m\u001b[38;5;28;43mself\u001b[39;49m\u001b[38;5;241;43m.\u001b[39;49m\u001b[43mcompression\u001b[49m\u001b[43m,\u001b[49m\n\u001b[1;32m    247\u001b[0m \u001b[43m    \u001b[49m\u001b[43mstorage_options\u001b[49m\u001b[38;5;241;43m=\u001b[39;49m\u001b[38;5;28;43mself\u001b[39;49m\u001b[38;5;241;43m.\u001b[39;49m\u001b[43mstorage_options\u001b[49m\u001b[43m,\u001b[49m\n\u001b[1;32m    248\u001b[0m \u001b[43m\u001b[49m\u001b[43m)\u001b[49m \u001b[38;5;28;01mas\u001b[39;00m handles:\n\u001b[1;32m    249\u001b[0m \n\u001b[1;32m    250\u001b[0m     \u001b[38;5;66;03m# Note: self.encoding is irrelevant here\u001b[39;00m\n\u001b[1;32m    251\u001b[0m     \u001b[38;5;28mself\u001b[39m\u001b[38;5;241m.\u001b[39mwriter \u001b[38;5;241m=\u001b[39m csvlib\u001b[38;5;241m.\u001b[39mwriter(\n\u001b[1;32m    252\u001b[0m         handles\u001b[38;5;241m.\u001b[39mhandle,\n\u001b[1;32m    253\u001b[0m         lineterminator\u001b[38;5;241m=\u001b[39m\u001b[38;5;28mself\u001b[39m\u001b[38;5;241m.\u001b[39mlineterminator,\n\u001b[0;32m   (...)\u001b[0m\n\u001b[1;32m    258\u001b[0m         quotechar\u001b[38;5;241m=\u001b[39m\u001b[38;5;28mself\u001b[39m\u001b[38;5;241m.\u001b[39mquotechar,\n\u001b[1;32m    259\u001b[0m     )\n\u001b[1;32m    261\u001b[0m     \u001b[38;5;28mself\u001b[39m\u001b[38;5;241m.\u001b[39m_save()\n",
      "File \u001b[0;32m~/.pyenv/versions/3.8.13/envs/3_8_jupyter/lib/python3.8/site-packages/pandas/io/common.py:734\u001b[0m, in \u001b[0;36mget_handle\u001b[0;34m(path_or_buf, mode, encoding, compression, memory_map, is_text, errors, storage_options)\u001b[0m\n\u001b[1;32m    732\u001b[0m \u001b[38;5;66;03m# Only for write methods\u001b[39;00m\n\u001b[1;32m    733\u001b[0m \u001b[38;5;28;01mif\u001b[39;00m \u001b[38;5;124m\"\u001b[39m\u001b[38;5;124mr\u001b[39m\u001b[38;5;124m\"\u001b[39m \u001b[38;5;129;01mnot\u001b[39;00m \u001b[38;5;129;01min\u001b[39;00m mode \u001b[38;5;129;01mand\u001b[39;00m is_path:\n\u001b[0;32m--> 734\u001b[0m     \u001b[43mcheck_parent_directory\u001b[49m\u001b[43m(\u001b[49m\u001b[38;5;28;43mstr\u001b[39;49m\u001b[43m(\u001b[49m\u001b[43mhandle\u001b[49m\u001b[43m)\u001b[49m\u001b[43m)\u001b[49m\n\u001b[1;32m    736\u001b[0m \u001b[38;5;28;01mif\u001b[39;00m compression:\n\u001b[1;32m    737\u001b[0m     \u001b[38;5;28;01mif\u001b[39;00m compression \u001b[38;5;241m!=\u001b[39m \u001b[38;5;124m\"\u001b[39m\u001b[38;5;124mzstd\u001b[39m\u001b[38;5;124m\"\u001b[39m:\n\u001b[1;32m    738\u001b[0m         \u001b[38;5;66;03m# compression libraries do not like an explicit text-mode\u001b[39;00m\n",
      "File \u001b[0;32m~/.pyenv/versions/3.8.13/envs/3_8_jupyter/lib/python3.8/site-packages/pandas/io/common.py:597\u001b[0m, in \u001b[0;36mcheck_parent_directory\u001b[0;34m(path)\u001b[0m\n\u001b[1;32m    595\u001b[0m parent \u001b[38;5;241m=\u001b[39m Path(path)\u001b[38;5;241m.\u001b[39mparent\n\u001b[1;32m    596\u001b[0m \u001b[38;5;28;01mif\u001b[39;00m \u001b[38;5;129;01mnot\u001b[39;00m parent\u001b[38;5;241m.\u001b[39mis_dir():\n\u001b[0;32m--> 597\u001b[0m     \u001b[38;5;28;01mraise\u001b[39;00m \u001b[38;5;167;01mOSError\u001b[39;00m(\u001b[38;5;124mrf\u001b[39m\u001b[38;5;124m\"\u001b[39m\u001b[38;5;124mCannot save file into a non-existent directory: \u001b[39m\u001b[38;5;124m'\u001b[39m\u001b[38;5;132;01m{\u001b[39;00mparent\u001b[38;5;132;01m}\u001b[39;00m\u001b[38;5;124m'\u001b[39m\u001b[38;5;124m\"\u001b[39m)\n",
      "\u001b[0;31mOSError\u001b[0m: Cannot save file into a non-existent directory: '/kaggle/working'"
     ]
    }
   ],
   "source": [
    "data_test[['Id', 'SalePrice']].to_csv('/kaggle/working/submission.csv', index=False)"
   ]
  },
  {
   "cell_type": "code",
   "execution_count": null,
   "metadata": {},
   "outputs": [],
   "source": []
  }
 ],
 "metadata": {
  "kernelspec": {
   "display_name": "Python 3 (ipykernel)",
   "language": "python",
   "name": "python3"
  },
  "language_info": {
   "codemirror_mode": {
    "name": "ipython",
    "version": 3
   },
   "file_extension": ".py",
   "mimetype": "text/x-python",
   "name": "python",
   "nbconvert_exporter": "python",
   "pygments_lexer": "ipython3",
   "version": "3.8.13"
  }
 },
 "nbformat": 4,
 "nbformat_minor": 4
}
