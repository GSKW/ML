{
 "cells": [
  {
   "cell_type": "code",
   "execution_count": 76,
   "id": "ac747d68-396c-447c-ac6a-9edfd51be147",
   "metadata": {},
   "outputs": [],
   "source": [
    "import csv"
   ]
  },
  {
   "cell_type": "code",
   "execution_count": 77,
   "id": "ab3fc2b4-e797-4c7c-9157-a064dc876201",
   "metadata": {},
   "outputs": [],
   "source": [
    "import numpy as np"
   ]
  },
  {
   "cell_type": "code",
   "execution_count": 78,
   "id": "9a35c6c7-d495-4510-ab61-c81562b39307",
   "metadata": {},
   "outputs": [],
   "source": [
    "import sklearn"
   ]
  },
  {
   "cell_type": "code",
   "execution_count": 79,
   "id": "dca25993-81d5-43c2-84b9-d3a9e9dd35a1",
   "metadata": {},
   "outputs": [],
   "source": [
    "import matplotlib.pyplot as plt"
   ]
  },
  {
   "cell_type": "code",
   "execution_count": 80,
   "id": "2f4ff440-0204-4b9f-84c4-331cace02454",
   "metadata": {},
   "outputs": [],
   "source": [
    "def file_opener(path, rtype):\n",
    "    with open(path, rtype) as f:\n",
    "        csv_arr = f.readlines()\n",
    "        for row in range(1, len(csv_arr)):\n",
    "            csv_arr[row] = csv_arr[row].split(',')\n",
    "            csv_arr[row][0], csv_arr[row][1] = float(csv_arr[row][0]), float(csv_arr[row][1][:-1])\n",
    "        csv_arr = csv_arr[1:]\n",
    "    return csv_arr"
   ]
  },
  {
   "cell_type": "code",
   "execution_count": 81,
   "id": "831aa861-4b6c-4f2c-a099-695d05092ac8",
   "metadata": {},
   "outputs": [],
   "source": [
    "csv_arr = file_opener(\"business_proj.csv\", \"r\")"
   ]
  },
  {
   "cell_type": "code",
   "execution_count": 82,
   "id": "dad20cc8-4f90-4788-9d32-a482e5f5faef",
   "metadata": {},
   "outputs": [],
   "source": [
    "from sklearn.linear_model import SGDClassifier"
   ]
  },
  {
   "cell_type": "code",
   "execution_count": 83,
   "id": "57da83a3-44fa-4b03-b4eb-0254beba8638",
   "metadata": {},
   "outputs": [],
   "source": [
    "model = SGDClassifier(loss='log')"
   ]
  },
  {
   "cell_type": "code",
   "execution_count": 84,
   "id": "dadb578f-e380-4377-aa7b-7db0e6df9d98",
   "metadata": {},
   "outputs": [],
   "source": [
    "csv_arr = np.array(csv_arr, dtype=float)\n",
    "x_train = csv_arr[:,0].reshape(csv_arr.shape[0], 1)\n",
    "y_train = csv_arr[:,1]"
   ]
  },
  {
   "cell_type": "code",
   "execution_count": 85,
   "id": "c4d6ec47-2457-46f0-bea0-9b6f3de89cee",
   "metadata": {},
   "outputs": [
    {
     "name": "stdout",
     "output_type": "stream",
     "text": [
      "(10000, 1)\n"
     ]
    }
   ],
   "source": [
    "print(x_train.shape)"
   ]
  },
  {
   "cell_type": "code",
   "execution_count": 86,
   "id": "2dcfdf77-bb8b-453b-91db-eec2f221009f",
   "metadata": {},
   "outputs": [
    {
     "data": {
      "text/plain": [
       "SGDClassifier(loss='log')"
      ]
     },
     "execution_count": 86,
     "metadata": {},
     "output_type": "execute_result"
    }
   ],
   "source": [
    "model.fit(x_train, y_train)"
   ]
  },
  {
   "cell_type": "code",
   "execution_count": 87,
   "id": "19d54fc9-88ea-44ab-8fcf-50651c8942d9",
   "metadata": {},
   "outputs": [],
   "source": [
    "csv_valid = file_opener(\"task_test.csv\", \"r\")"
   ]
  },
  {
   "cell_type": "code",
   "execution_count": 88,
   "id": "a1e935fb-5694-4433-9686-f8154e78d265",
   "metadata": {},
   "outputs": [],
   "source": [
    "import seaborn as sns\n",
    "\n",
    "\n",
    "def calc_tp(y_true, y_pred) -> int:\n",
    "    i = 0\n",
    "    for x in range(len(y_true)):\n",
    "        if y_pred[x] and y_true[x]:\n",
    "            i += 1\n",
    "    return i\n",
    "\n",
    "def calc_fp(y_true, y_pred) -> int:\n",
    "    i = 0\n",
    "    for x in range(len(y_true)):\n",
    "        if y_pred[x] and (not y_true[x]):\n",
    "            i += 1\n",
    "    return i\n",
    "\n",
    "def calc_tn(y_true, y_pred) -> int:\n",
    "    i = 0\n",
    "    for x in range(len(y_true)):\n",
    "        if (not y_pred[x]) and (not y_true[x]):\n",
    "            i += 1\n",
    "    return i\n",
    "\n",
    "def calc_fn(y_true, y_pred) -> int:\n",
    "    i = 0\n",
    "    for x in range(len(y_true)):\n",
    "        if (not y_pred[x]) and y_true[x]:\n",
    "            i += 1\n",
    "    return i\n",
    "\n",
    "def calc_confusion_matrix(y_true, y_pred) -> np.array:\n",
    "    arr = np.array([[calc_tn(y_true, y_pred), calc_fp(y_true, y_pred)],\n",
    "                    [calc_fn(y_true, y_pred), calc_tp(y_true, y_pred)]])\n",
    "    return arr\n",
    "    pass\n",
    "    \n",
    "def plot_confusion_matrix(y_true, y_pred) -> None:\n",
    "    ## Calculate confusion matrix first\n",
    "    cf_matrix = calc_confusion_matrix(y_true, y_pred)\n",
    "    \n",
    "    ## Create heatmap\n",
    "    ax = sns.heatmap(cf_matrix, annot=True, cmap='Blues')\n",
    "\n",
    "    ax.set_title('Seaborn Confusion Matrix with labels\\n\\n');\n",
    "    ax.set_xlabel('\\nPredicted Values')\n",
    "    ax.set_ylabel('Actual Values ');\n",
    "\n",
    "    ## Ticket labels - List must be in alphabetical order\n",
    "    ax.xaxis.set_ticklabels(['False','True'])\n",
    "    ax.yaxis.set_ticklabels(['False','True'])\n",
    "\n",
    "    ## Display the visualization of the Confusion Matrix.\n",
    "    plt.show()\n",
    "\n",
    "def calc_precision(y_true, y_pred) -> float:\n",
    "    try:\n",
    "        return calc_tp(y_true, y_pred)/(calc_tp(y_true, y_pred)+calc_fp(y_true, y_pred))\n",
    "    except ZeroDivisionError:\n",
    "        return 0\n",
    "\n",
    "\n",
    "def calc_recall(y_true, y_pred) -> float:\n",
    "    try:\n",
    "        return calc_tp(y_true, y_pred)/(calc_tp(y_true, y_pred) + calc_fn(y_true, y_pred))\n",
    "    except ZeroDivisionError:\n",
    "        return 0\n",
    "\n",
    "\n",
    "def calc_f1_measure(y_true, y_pred) -> float:\n",
    "    try:\n",
    "        return 2*calc_recall(y_true, y_pred)*calc_precision(y_true, y_pred)/(calc_recall(y_true, y_pred)+calc_precision(y_true, y_pred))\n",
    "    except ZeroDivisionError:\n",
    "        return 0  \n",
    "    \n",
    "def calc_accuracy(y_true, y_pred) -> float:\n",
    "    try:\n",
    "        return (calc_tp(y_true, y_pred)+calc_tn(y_true, y_pred))/\\\n",
    "    (calc_tp(y_true, y_pred)+calc_tn(y_true, y_pred)+calc_fp(y_true, y_pred)+calc_fn(y_true, y_pred))\n",
    "    except ZeroDivisionError:\n",
    "        return 0"
   ]
  },
  {
   "cell_type": "code",
   "execution_count": 89,
   "id": "41ad9f47-46dc-4aa4-8fe7-f8055e2aa3d6",
   "metadata": {},
   "outputs": [],
   "source": [
    "arr11 = np.array([0,0,0,0,0,0])\n",
    "arr22 = np.array([1,1,1,1,1,1])\n",
    "assert calc_recall(arr11, arr22) == 0, \"wrong recall\""
   ]
  },
  {
   "cell_type": "code",
   "execution_count": 90,
   "id": "06a897e1-574a-49a1-b706-e7f4d6f3c992",
   "metadata": {},
   "outputs": [
    {
     "name": "stdout",
     "output_type": "stream",
     "text": [
      "0.6666666666666666\n",
      "0.8\n"
     ]
    }
   ],
   "source": [
    "arr1 = np.array([0,1,0,1,1,0])\n",
    "arr2 = np.array([0,1,0,1,0,0])\n",
    "print(calc_recall(arr1, arr2))\n",
    "print(calc_f1_measure(arr1, arr2))"
   ]
  },
  {
   "cell_type": "code",
   "execution_count": 91,
   "id": "ab7b7905-7054-4869-8ccd-26bd3c0a2eb0",
   "metadata": {},
   "outputs": [
    {
     "data": {
      "image/png": "[encoded data removed]",
      "text/plain": [
       "<Figure size 432x288 with 2 Axes>"
      ]
     },
     "metadata": {
      "needs_background": "light"
     },
     "output_type": "display_data"
    }
   ],
   "source": [
    "arr1 = np.array([0,1,0,1,1,0])\n",
    "arr2 = np.array([0,1,0,1,0,0])\n",
    "assert calc_tp(arr1, arr2) == 2, 'wrong tp'\n",
    "assert calc_fp(arr1, arr2) == 0, 'wrong fp'\n",
    "assert calc_tn(arr1, arr2) == 3, 'wrong tn'\n",
    "assert calc_fn(arr1, arr2) == 1, 'wrong fn'\n",
    "assert np.all(calc_confusion_matrix(arr1, arr2) == np.array([[3, 0],[1, 2]])), 'wrong confusion matrix'\n",
    "plot_confusion_matrix(arr1, arr2)"
   ]
  },
  {
   "cell_type": "code",
   "execution_count": 99,
   "id": "8187fd4b-b166-4444-b090-2443c2e40d49",
   "metadata": {},
   "outputs": [],
   "source": [
    "csv_valid = np.array(csv_valid, dtype=float)\n",
    "y_true = csv_valid[:,1]\n",
    "x_valid = csv_valid[:,:1]\n",
    "y_pred = model.predict_proba(x_valid)[:,1]>0.645"
   ]
  },
  {
   "cell_type": "code",
   "execution_count": 93,
   "id": "1cd64c0f-d27c-456d-bbbe-13b069fcfac9",
   "metadata": {},
   "outputs": [],
   "source": [
    "plt_arr1 = [[],[]]\n",
    "plt_arr2 = [[],[]]\n",
    "plt_arr3 = [[],[]]\n",
    "plt_arr4 = [[],[]]\n",
    "for x in range(1, 1000):\n",
    "    i = x/1000\n",
    "    y_pred = model.predict_proba(x_valid)[:,1]>i\n",
    "    plt_arr1[0].append(i)\n",
    "    plt_arr1[1].append(calc_precision(y_true, y_pred))\n",
    "    plt_arr2[0].append(i)\n",
    "    plt_arr2[1].append(calc_recall(y_true, y_pred))\n",
    "    plt_arr3[0].append(i)\n",
    "    plt_arr3[1].append(calc_f1_measure(y_true, y_pred))\n",
    "    plt_arr4[0].append(i)\n",
    "    plt_arr4[1].append(calc_accuracy(y_true, y_pred))"
   ]
  },
  {
   "cell_type": "code",
   "execution_count": 94,
   "id": "c09e4847-63dd-40e1-a4c7-5fbf0adf7702",
   "metadata": {},
   "outputs": [
    {
     "name": "stdout",
     "output_type": "stream",
     "text": [
      "0\n"
     ]
    },
    {
     "data": {
      "text/plain": [
       "<matplotlib.legend.Legend at 0x131781320>"
      ]
     },
     "execution_count": 94,
     "metadata": {},
     "output_type": "execute_result"
    },
    {
     "data": {
      "image/png": "[encoded data removed]",
      "text/plain": [
       "<Figure size 432x288 with 1 Axes>"
      ]
     },
     "metadata": {
      "needs_background": "light"
     },
     "output_type": "display_data"
    },
    {
     "data": {
      "image/png": "[encoded data removed]",
      "text/plain": [
       "<Figure size 432x288 with 1 Axes>"
      ]
     },
     "metadata": {
      "needs_background": "light"
     },
     "output_type": "display_data"
    }
   ],
   "source": [
    "plt.figure()\n",
    "plt.plot(plt_arr1[0], plt_arr1[1], label=\"precision\")\n",
    "plt.plot(plt_arr2[0], plt_arr2[1], label=\"recall\")\n",
    "plt.plot(plt_arr3[0], plt_arr3[1], label=\"f1\")\n",
    "for x in range(len(plt_arr2[1])):\n",
    "    if plt_arr2[1][x] == 1:\n",
    "        plt.scatter([plt_arr2[0][x]], [1], label=\"best\")\n",
    "        print(x)\n",
    "        break\n",
    "mn, mn_t = 0, 0\n",
    "for x in range(len(plt_arr1[1])):\n",
    "    if plt_arr1[1][x] > mn:\n",
    "        mn = plt_arr1[1][x]\n",
    "        mn_t = plt_arr1[0][x]\n",
    "\n",
    "plt.scatter([mn_t], [mn], label='best1')\n",
    "plt.legend(loc=\"upper right\")\n",
    "plt.figure()\n",
    "plt.plot(plt_arr4[0], plt_arr4[1], label=\"accuracy\")\n",
    "plt.legend(loc=\"upper right\")\n"
   ]
  },
  {
   "cell_type": "code",
   "execution_count": 95,
   "id": "1dc98b0d-cf7f-4ff4-9e1d-5ddae93c4036",
   "metadata": {},
   "outputs": [
    {
     "name": "stdout",
     "output_type": "stream",
     "text": [
      "Treshold for max precision: 0.645\n"
     ]
    }
   ],
   "source": [
    "print(f\"Treshold for max precision: {mn_t}\")"
   ]
  },
  {
   "cell_type": "code",
   "execution_count": 101,
   "id": "4a5a2467-c8a5-4dd2-8790-e19817c43f0d",
   "metadata": {},
   "outputs": [
    {
     "name": "stdout",
     "output_type": "stream",
     "text": [
      "0.5\n",
      "0.075\n",
      "0.13043478260869565\n",
      "0.99\n"
     ]
    }
   ],
   "source": [
    "print(calc_precision(y_true, y_pred))\n",
    "print(calc_recall(y_true, y_pred))\n",
    "print(calc_f1_measure(y_true, y_pred))\n",
    "print(calc_accuracy(y_true, y_pred))"
   ]
  },
  {
   "cell_type": "code",
   "execution_count": 100,
   "id": "69b4c9a7-66aa-4c41-81bc-09ad549c07b1",
   "metadata": {},
   "outputs": [
    {
     "data": {
      "image/png": "[encoded data removed]",
      "text/plain": [
       "<Figure size 432x288 with 2 Axes>"
      ]
     },
     "metadata": {
      "needs_background": "light"
     },
     "output_type": "display_data"
    }
   ],
   "source": [
    "plot_confusion_matrix(y_true, y_pred)"
   ]
  },
  {
   "cell_type": "code",
   "execution_count": 98,
   "id": "6c28c85d-690a-4631-9f4c-011863de5b0d",
   "metadata": {},
   "outputs": [
    {
     "name": "stdout",
     "output_type": "stream",
     "text": [
      "0.24\n"
     ]
    }
   ],
   "source": [
    "print(6/25)"
   ]
  },
  {
   "cell_type": "code",
   "execution_count": null,
   "id": "8cf22c14-277d-49bb-9b2d-c7045d8092fe",
   "metadata": {},
   "outputs": [],
   "source": []
  }
 ],
 "metadata": {
  "kernelspec": {
   "display_name": "Python 3",
   "language": "python",
   "name": "python3"
  },
  "language_info": {
   "codemirror_mode": {
    "name": "ipython",
    "version": 3
   },
   "file_extension": ".py",
   "mimetype": "text/x-python",
   "name": "python",
   "nbconvert_exporter": "python",
   "pygments_lexer": "ipython3",
   "version": "3.6.15"
  }
 },
 "nbformat": 4,
 "nbformat_minor": 5
}
