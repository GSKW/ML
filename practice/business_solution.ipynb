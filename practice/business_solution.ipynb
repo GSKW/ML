{
 "cells": [
  {
   "cell_type": "markdown",
   "id": "stone-adrian",
   "metadata": {},
   "source": [
    "# Business Task\n",
    "\n",
    "```\n",
    "B: Hi, I'm a businessman and recently we decided to add AI into our project. We have labeled 10k samples for this purpose. Can you train a perfect classifier for my problem?\n",
    "```\n",
    "\n",
    "### 1. Train Classifier"
   ]
  },
  {
   "cell_type": "code",
   "execution_count": 35,
   "id": "ac747d68-396c-447c-ac6a-9edfd51be147",
   "metadata": {},
   "outputs": [],
   "source": [
    "import csv"
   ]
  },
  {
   "cell_type": "code",
   "execution_count": 36,
   "id": "ab3fc2b4-e797-4c7c-9157-a064dc876201",
   "metadata": {},
   "outputs": [],
   "source": [
    "import numpy as np"
   ]
  },
  {
   "cell_type": "code",
   "execution_count": 37,
   "id": "9a35c6c7-d495-4510-ab61-c81562b39307",
   "metadata": {},
   "outputs": [],
   "source": [
    "import sklearn"
   ]
  },
  {
   "cell_type": "code",
   "execution_count": 38,
   "id": "dca25993-81d5-43c2-84b9-d3a9e9dd35a1",
   "metadata": {},
   "outputs": [],
   "source": [
    "import matplotlib.pyplot as plt"
   ]
  },
  {
   "cell_type": "code",
   "execution_count": 39,
   "id": "2f4ff440-0204-4b9f-84c4-331cace02454",
   "metadata": {},
   "outputs": [],
   "source": [
    "def file_opener(path, rtype):\n",
    "    with open(path, rtype) as f:\n",
    "        csv_arr = f.readlines()\n",
    "        for row in range(1, len(csv_arr)):\n",
    "            csv_arr[row] = csv_arr[row].split(',')\n",
    "            csv_arr[row][0], csv_arr[row][1] = float(csv_arr[row][0]), float(csv_arr[row][1][:-1])\n",
    "        csv_arr = csv_arr[1:]\n",
    "    return csv_arr"
   ]
  },
  {
   "cell_type": "code",
   "execution_count": 40,
   "id": "831aa861-4b6c-4f2c-a099-695d05092ac8",
   "metadata": {},
   "outputs": [],
   "source": [
    "csv_arr = file_opener(\"business_proj.csv\", \"r\")"
   ]
  },
  {
   "cell_type": "code",
   "execution_count": 41,
   "id": "dad20cc8-4f90-4788-9d32-a482e5f5faef",
   "metadata": {},
   "outputs": [],
   "source": [
    "from sklearn.linear_model import SGDClassifier"
   ]
  },
  {
   "cell_type": "code",
   "execution_count": 42,
   "id": "57da83a3-44fa-4b03-b4eb-0254beba8638",
   "metadata": {},
   "outputs": [],
   "source": [
    "model = SGDClassifier(loss='log')"
   ]
  },
  {
   "cell_type": "code",
   "execution_count": 43,
   "id": "dadb578f-e380-4377-aa7b-7db0e6df9d98",
   "metadata": {},
   "outputs": [],
   "source": [
    "csv_arr = np.array(csv_arr, dtype=float)\n",
    "x_train = csv_arr[:,0].reshape(csv_arr.shape[0], 1)\n",
    "y_train = csv_arr[:,1]"
   ]
  },
  {
   "cell_type": "code",
   "execution_count": 44,
   "id": "c4d6ec47-2457-46f0-bea0-9b6f3de89cee",
   "metadata": {},
   "outputs": [
    {
     "name": "stdout",
     "output_type": "stream",
     "text": [
      "(10000, 1)\n"
     ]
    }
   ],
   "source": [
    "print(x_train.shape)"
   ]
  },
  {
   "cell_type": "code",
   "execution_count": 45,
   "id": "2dcfdf77-bb8b-453b-91db-eec2f221009f",
   "metadata": {},
   "outputs": [
    {
     "data": {
      "text/plain": [
       "SGDClassifier(loss='log')"
      ]
     },
     "execution_count": 45,
     "metadata": {},
     "output_type": "execute_result"
    }
   ],
   "source": [
    "model.fit(x_train, y_train)"
   ]
  },
  {
   "cell_type": "markdown",
   "id": "blind-mainland",
   "metadata": {},
   "source": [
    "### 2. Classification quality on Validation Data"
   ]
  },
  {
   "cell_type": "code",
   "execution_count": 46,
   "id": "19d54fc9-88ea-44ab-8fcf-50651c8942d9",
   "metadata": {},
   "outputs": [],
   "source": [
    "csv_valid = file_opener(\"task_test.csv\", \"r\")"
   ]
  },
  {
   "cell_type": "code",
   "execution_count": 77,
   "id": "a1e935fb-5694-4433-9686-f8154e78d265",
   "metadata": {},
   "outputs": [],
   "source": [
    "import seaborn as sns\n",
    "\n",
    "\n",
    "def calc_tp(y_true, y_pred) -> int:\n",
    "    i = 0\n",
    "    for x in range(len(y_true)):\n",
    "        if y_pred[x] and y_true[x]:\n",
    "            i += 1\n",
    "    return i\n",
    "\n",
    "def calc_fp(y_true, y_pred) -> int:\n",
    "    i = 0\n",
    "    for x in range(len(y_true)):\n",
    "        if y_pred[x] and (not y_true[x]):\n",
    "            i += 1\n",
    "    return i\n",
    "\n",
    "def calc_tn(y_true, y_pred) -> int:\n",
    "    i = 0\n",
    "    for x in range(len(y_true)):\n",
    "        if (not y_pred[x]) and (not y_true[x]):\n",
    "            i += 1\n",
    "    return i\n",
    "\n",
    "def calc_fn(y_true, y_pred) -> int:\n",
    "    i = 0\n",
    "    for x in range(len(y_true)):\n",
    "        if (not y_pred[x]) and y_true[x]:\n",
    "            i += 1\n",
    "    return i\n",
    "\n",
    "def calc_confusion_matrix(y_true, y_pred) -> np.array:\n",
    "    arr = np.array([[calc_tn(y_true, y_pred), calc_fp(y_true, y_pred)],\n",
    "                    [calc_fn(y_true, y_pred), calc_tp(y_true, y_pred)]])\n",
    "    return arr\n",
    "    pass\n",
    "    \n",
    "def plot_confusion_matrix(y_true, y_pred) -> None:\n",
    "    ## Calculate confusion matrix first\n",
    "    cf_matrix = calc_confusion_matrix(y_true, y_pred)\n",
    "    \n",
    "    ## Create heatmap\n",
    "    ax = sns.heatmap(cf_matrix, annot=True, cmap='Blues')\n",
    "\n",
    "    ax.set_title('Seaborn Confusion Matrix with labels\\n\\n');\n",
    "    ax.set_xlabel('\\nPredicted Values')\n",
    "    ax.set_ylabel('Actual Values ');\n",
    "\n",
    "    ## Ticket labels - List must be in alphabetical order\n",
    "    ax.xaxis.set_ticklabels(['False','True'])\n",
    "    ax.yaxis.set_ticklabels(['False','True'])\n",
    "\n",
    "    ## Display the visualization of the Confusion Matrix.\n",
    "    plt.show()\n",
    "    \n",
    "\n",
    "def calc_accuracy(y_true, y_pred) -> float:\n",
    "    pass\n",
    "\n",
    "\n",
    "def calc_precision(y_true, y_pred) -> float:\n",
    "    try:\n",
    "        return calc_tp(y_true, y_pred)/(calc_tp(y_true, y_pred) + calc_fp(y_true, y_pred))\n",
    "    except ZeroDivisionError:\n",
    "        return 0\n",
    "    \n",
    "\n",
    "\n",
    "def calc_recall(y_true, y_pred) -> float:\n",
    "    return float(calc_tp(y_true, y_pred)/(calc_tp(y_true, y_pred) + calc_fn(y_true, y_pred)))\n",
    "\n",
    "\n",
    "def calc_f1_measure(y_true, y_pred) -> float:\n",
    "    try:\n",
    "        return 2*((calc_precision(y_true, y_pred)*calc_recall(y_true, y_pred))/(calc_precision(y_true, y_pred)+calc_recall(y_true, y_pred)))\n",
    "    except ZeroDivisionError:\n",
    "        return 0"
   ]
  },
  {
   "cell_type": "code",
   "execution_count": 78,
   "id": "c3a31b53-db40-4a2a-b526-128454fb6023",
   "metadata": {},
   "outputs": [],
   "source": [
    "arr1 = np.array([0,1,0,1,1,0])\n",
    "arr2 = np.array([0,1,0,1,0,0])\n",
    "assert calc_tp(arr1, arr2) == 2, 'wrong tp'\n",
    "assert calc_fp(arr1, arr2) == 0, 'wrong fp'\n",
    "assert calc_tn(arr1, arr2) == 3, 'wrong tn'\n",
    "assert calc_fn(arr1, arr2) == 1, 'wrong fn'\n",
    "assert calc_precision(arr1, arr2) == 1, 'wrong precision'\n",
    "assert np.all(calc_confusion_matrix(arr1, arr2) == np.array([[3, 0],[1, 2]])), 'wrong confusion matrix'"
   ]
  },
  {
   "cell_type": "code",
   "execution_count": 79,
   "id": "06a897e1-574a-49a1-b706-e7f4d6f3c992",
   "metadata": {},
   "outputs": [
    {
     "name": "stdout",
     "output_type": "stream",
     "text": [
      "0.6666666666666666\n",
      "0.8\n"
     ]
    }
   ],
   "source": [
    "print(calc_recall(arr1, arr2))\n",
    "print(calc_f1_measure(arr1, arr2))"
   ]
  },
  {
   "cell_type": "code",
   "execution_count": 80,
   "id": "ab7b7905-7054-4869-8ccd-26bd3c0a2eb0",
   "metadata": {},
   "outputs": [
    {
     "data": {
      "image/png": "[encoded data removed]",
      "text/plain": [
       "<Figure size 432x288 with 2 Axes>"
      ]
     },
     "metadata": {
      "needs_background": "light"
     },
     "output_type": "display_data"
    }
   ],
   "source": [
    "plot_confusion_matrix(arr1, arr2)"
   ]
  },
  {
   "cell_type": "code",
   "execution_count": 81,
   "id": "8187fd4b-b166-4444-b090-2443c2e40d49",
   "metadata": {},
   "outputs": [],
   "source": [
    "csv_valid = np.array(csv_valid, dtype=float)\n",
    "y_true = csv_valid[:,1]\n",
    "x_valid = csv_valid[:,:1]\n",
    "y_pred = model.predict(x_valid)"
   ]
  },
  {
   "cell_type": "code",
   "execution_count": 82,
   "id": "4a5a2467-c8a5-4dd2-8790-e19817c43f0d",
   "metadata": {},
   "outputs": [
    {
     "name": "stdout",
     "output_type": "stream",
     "text": [
      "0\n",
      "0.0\n",
      "0\n"
     ]
    }
   ],
   "source": [
    "print(calc_precision(y_true, y_pred))\n",
    "print(calc_recall(y_true, y_pred))\n",
    "print(calc_f1_measure(y_true, y_pred))"
   ]
  },
  {
   "cell_type": "code",
   "execution_count": 83,
   "id": "69b4c9a7-66aa-4c41-81bc-09ad549c07b1",
   "metadata": {},
   "outputs": [
    {
     "data": {
      "image/png": "[encoded data removed]",
      "text/plain": [
       "<Figure size 432x288 with 2 Axes>"
      ]
     },
     "metadata": {
      "needs_background": "light"
     },
     "output_type": "display_data"
    }
   ],
   "source": [
    "plot_confusion_matrix(y_true, y_pred)"
   ]
  },
  {
   "cell_type": "code",
   "execution_count": null,
   "id": "6c28c85d-690a-4631-9f4c-011863de5b0d",
   "metadata": {},
   "outputs": [],
   "source": []
  },
  {
   "cell_type": "code",
   "execution_count": null,
   "id": "0d7a2305-2bde-414b-9453-0da3b92c880a",
   "metadata": {},
   "outputs": [],
   "source": []
  }
 ],
 "metadata": {
  "kernelspec": {
   "display_name": "Python 3",
   "language": "python",
   "name": "python3"
  },
  "language_info": {
   "codemirror_mode": {
    "name": "ipython",
    "version": 3
   },
   "file_extension": ".py",
   "mimetype": "text/x-python",
   "name": "python",
   "nbconvert_exporter": "python",
   "pygments_lexer": "ipython3",
   "version": "3.7.9"
  }
 },
 "nbformat": 4,
 "nbformat_minor": 5
}
