{
 "cells": [
  {
   "cell_type": "code",
   "execution_count": 2,
   "id": "ac747d68-396c-447c-ac6a-9edfd51be147",
   "metadata": {},
   "outputs": [],
   "source": [
    "import csv"
   ]
  },
  {
   "cell_type": "code",
   "execution_count": 3,
   "id": "ab3fc2b4-e797-4c7c-9157-a064dc876201",
   "metadata": {},
   "outputs": [],
   "source": [
    "import numpy as np"
   ]
  },
  {
   "cell_type": "code",
   "execution_count": 4,
   "id": "9a35c6c7-d495-4510-ab61-c81562b39307",
   "metadata": {},
   "outputs": [],
   "source": [
    "import sklearn"
   ]
  },
  {
   "cell_type": "code",
   "execution_count": 5,
   "id": "dca25993-81d5-43c2-84b9-d3a9e9dd35a1",
   "metadata": {},
   "outputs": [],
   "source": [
    "import matplotlib.pyplot as plt"
   ]
  },
  {
   "cell_type": "code",
   "execution_count": 6,
   "id": "2f4ff440-0204-4b9f-84c4-331cace02454",
   "metadata": {},
   "outputs": [],
   "source": [
    "def file_opener(path, rtype):\n",
    "    with open(path, rtype) as f:\n",
    "        csv_arr = f.readlines()\n",
    "        for row in range(1, len(csv_arr)):\n",
    "            csv_arr[row] = csv_arr[row].split(',')\n",
    "            csv_arr[row][0], csv_arr[row][1] = float(csv_arr[row][0]), float(csv_arr[row][1][:-1])\n",
    "        csv_arr = csv_arr[1:]\n",
    "    return csv_arr"
   ]
  },
  {
   "cell_type": "code",
   "execution_count": 7,
   "id": "831aa861-4b6c-4f2c-a099-695d05092ac8",
   "metadata": {},
   "outputs": [],
   "source": [
    "csv_arr = file_opener(\"business_proj.csv\", \"r\")"
   ]
  },
  {
   "cell_type": "code",
   "execution_count": 8,
   "id": "dad20cc8-4f90-4788-9d32-a482e5f5faef",
   "metadata": {},
   "outputs": [],
   "source": [
    "from sklearn.linear_model import SGDClassifier"
   ]
  },
  {
   "cell_type": "code",
   "execution_count": 9,
   "id": "57da83a3-44fa-4b03-b4eb-0254beba8638",
   "metadata": {},
   "outputs": [],
   "source": [
    "model = SGDClassifier(loss='log')"
   ]
  },
  {
   "cell_type": "code",
   "execution_count": 10,
   "id": "dadb578f-e380-4377-aa7b-7db0e6df9d98",
   "metadata": {},
   "outputs": [],
   "source": [
    "csv_arr = np.array(csv_arr, dtype=float)\n",
    "x_train = csv_arr[:,0].reshape(csv_arr.shape[0], 1)\n",
    "y_train = csv_arr[:,1]"
   ]
  },
  {
   "cell_type": "code",
   "execution_count": 11,
   "id": "c4d6ec47-2457-46f0-bea0-9b6f3de89cee",
   "metadata": {},
   "outputs": [
    {
     "name": "stdout",
     "output_type": "stream",
     "text": [
      "(10000, 1)\n"
     ]
    }
   ],
   "source": [
    "print(x_train.shape)"
   ]
  },
  {
   "cell_type": "code",
   "execution_count": 12,
   "id": "2dcfdf77-bb8b-453b-91db-eec2f221009f",
   "metadata": {},
   "outputs": [
    {
     "data": {
      "text/plain": [
       "SGDClassifier(loss='log')"
      ]
     },
     "execution_count": 12,
     "metadata": {},
     "output_type": "execute_result"
    }
   ],
   "source": [
    "model.fit(x_train, y_train)"
   ]
  },
  {
   "cell_type": "code",
   "execution_count": 13,
   "id": "19d54fc9-88ea-44ab-8fcf-50651c8942d9",
   "metadata": {},
   "outputs": [],
   "source": [
    "csv_valid = file_opener(\"task_test.csv\", \"r\")"
   ]
  },
  {
   "cell_type": "code",
   "execution_count": 23,
   "id": "a1e935fb-5694-4433-9686-f8154e78d265",
   "metadata": {},
   "outputs": [],
   "source": [
    "import seaborn as sns\n",
    "\n",
    "\n",
    "def calc_tp(y_true, y_pred) -> int:\n",
    "    i = 0\n",
    "    for x in range(len(y_true)):\n",
    "        if y_pred[x] and y_true[x]:\n",
    "            i += 1\n",
    "    return i\n",
    "\n",
    "def calc_fp(y_true, y_pred) -> int:\n",
    "    i = 0\n",
    "    for x in range(len(y_true)):\n",
    "        if y_pred[x] and (not y_true[x]):\n",
    "            i += 1\n",
    "    return i\n",
    "\n",
    "def calc_tn(y_true, y_pred) -> int:\n",
    "    i = 0\n",
    "    for x in range(len(y_true)):\n",
    "        if (not y_pred[x]) and (not y_true[x]):\n",
    "            i += 1\n",
    "    return i\n",
    "\n",
    "def calc_fn(y_true, y_pred) -> int:\n",
    "    i = 0\n",
    "    for x in range(len(y_true)):\n",
    "        if (not y_pred[x]) and y_true[x]:\n",
    "            i += 1\n",
    "    return i\n",
    "\n",
    "def calc_confusion_matrix(y_true, y_pred) -> np.array:\n",
    "    arr = np.array([[calc_tn(y_true, y_pred), calc_fp(y_true, y_pred)],\n",
    "                    [calc_fn(y_true, y_pred), calc_tp(y_true, y_pred)]])\n",
    "    return arr\n",
    "    pass\n",
    "    \n",
    "def plot_confusion_matrix(y_true, y_pred) -> None:\n",
    "    ## Calculate confusion matrix first\n",
    "    cf_matrix = calc_confusion_matrix(y_true, y_pred)\n",
    "    \n",
    "    ## Create heatmap\n",
    "    ax = sns.heatmap(cf_matrix, annot=True, cmap='Blues')\n",
    "\n",
    "    ax.set_title('Seaborn Confusion Matrix with labels\\n\\n');\n",
    "    ax.set_xlabel('\\nPredicted Values')\n",
    "    ax.set_ylabel('Actual Values ');\n",
    "\n",
    "    ## Ticket labels - List must be in alphabetical order\n",
    "    ax.xaxis.set_ticklabels(['False','True'])\n",
    "    ax.yaxis.set_ticklabels(['False','True'])\n",
    "\n",
    "    ## Display the visualization of the Confusion Matrix.\n",
    "    plt.show()\n",
    "\n",
    "def calc_precision(y_true, y_pred) -> float:\n",
    "    pass\n",
    "\n",
    "\n",
    "def calc_recall(y_true, y_pred) -> float:\n",
    "    try:\n",
    "        return calc_tp(y_true, y_pred)/(calc_tp(y_true, y_pred) + calc_fn(y_true, y_pred))\n",
    "    except ZeroDivisionError as message:\n",
    "        print(message)\n",
    "        return 0\n",
    "\n",
    "\n",
    "def calc_f1_measure(y_true, y_pred) -> float:\n",
    "    pass"
   ]
  },
  {
   "cell_type": "code",
   "execution_count": 24,
   "id": "41ad9f47-46dc-4aa4-8fe7-f8055e2aa3d6",
   "metadata": {},
   "outputs": [
    {
     "name": "stdout",
     "output_type": "stream",
     "text": [
      "division by zero\n"
     ]
    }
   ],
   "source": [
    "arr11 = np.array([0,0,0,0,0,0])\n",
    "arr22 = np.array([1,1,1,1,1,1])\n",
    "assert calc_recall(arr11, arr22) == 0, \"wrong recall\""
   ]
  },
  {
   "cell_type": "code",
   "execution_count": 25,
   "id": "c3a31b53-db40-4a2a-b526-128454fb6023",
   "metadata": {},
=======
   "execution_count": 24,
   "id": "41ad9f47-46dc-4aa4-8fe7-f8055e2aa3d6",
   "metadata": {},
   "outputs": [
    {
     "name": "stdout",
     "output_type": "stream",
     "text": [
      "division by zero\n"
     ]
    }
   ],
   "source": [
    "arr11 = np.array([0,0,0,0,0,0])\n",
    "arr22 = np.array([1,1,1,1,1,1])\n",
    "assert calc_recall(arr11, arr22) == 0, \"wrong recall\""
   ]
  },
  {
   "cell_type": "code",
   "execution_count": 25,
   "id": "c3a31b53-db40-4a2a-b526-128454fb6023",
   "metadata": {},
   "outputs": [],
   "source": [
    "arr1 = np.array([0,1,0,1,1,0])\n",
    "arr2 = np.array([0,1,0,1,0,0])\n",
    "assert calc_tp(arr1, arr2) == 2, 'wrong tp'\n",
    "assert calc_fp(arr1, arr2) == 0, 'wrong fp'\n",
    "assert calc_tn(arr1, arr2) == 3, 'wrong tn'\n",
    "assert calc_fn(arr1, arr2) == 1, 'wrong fn'\n",
    "assert calc_precision(arr1, arr2) == 1, 'wrong precision'\n",
    "assert np.all(calc_confusion_matrix(arr1, arr2) == np.array([[3, 0],[1, 2]])), 'wrong confusion matrix'"
   ]
  },
  {
   "cell_type": "code",
   "execution_count": 26,
   "id": "06a897e1-574a-49a1-b706-e7f4d6f3c992",
   "metadata": {},
   "outputs": [
    {
     "name": "stdout",
     "output_type": "stream",
     "text": [
      "0.6666666666666666\n",
      "0.8\n"
     ]
    }
   ],
   "source": [
    "print(calc_recall(arr1, arr2))\n",
    "print(calc_f1_measure(arr1, arr2))"
   ]
  },
  {
   "cell_type": "code",
   "execution_count": 17,
   "id": "ab7b7905-7054-4869-8ccd-26bd3c0a2eb0",
   "metadata": {},
>>>>>>> afdd6ca (feat: added new business_solution)
   "outputs": [
    {
     "data": {
      "image/png": "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\n",
      "text/plain": [
       "<Figure size 432x288 with 2 Axes>"
      ]
     },
     "metadata": {
      "needs_background": "light"
     },
     "output_type": "display_data"
    }
   ],
   "source": [
    "arr1 = np.array([0,1,0,1,1,0])\n",
    "arr2 = np.array([0,1,0,1,0,0])\n",
    "assert calc_tp(arr1, arr2) == 2, 'wrong tp'\n",
    "assert calc_fp(arr1, arr2) == 0, 'wrong fp'\n",
    "assert calc_tn(arr1, arr2) == 3, 'wrong tn'\n",
    "assert calc_fn(arr1, arr2) == 1, 'wrong fn'\n",
    "assert np.all(calc_confusion_matrix(arr1, arr2) == np.array([[3, 0],[1, 2]])), 'wrong confusion matrix'\n",
    "plot_confusion_matrix(arr1, arr2)"
   ]
  },
  {
   "cell_type": "code",
   "execution_count": 18,
   "id": "8187fd4b-b166-4444-b090-2443c2e40d49",
   "metadata": {},
   "outputs": [],
   "source": [
    "csv_valid = np.array(csv_valid, dtype=float)\n",
    "y_true = csv_valid[:,1]\n",
    "x_valid = csv_valid[:,:1]\n",
    "y_pred = model.predict(x_valid)"
   ]
  },
  {
   "cell_type": "code",
   "execution_count": 19,
   "id": "4a5a2467-c8a5-4dd2-8790-e19817c43f0d",
   "metadata": {},
   "outputs": [
    {
     "name": "stdout",
     "output_type": "stream",
     "text": [
      "0.42857142857142855\n",
      "0.075\n",
      "0.1276595744680851\n"
     ]
    }
   ],
   "source": [
    "print(calc_precision(y_true, y_pred))\n",
    "print(calc_recall(y_true, y_pred))\n",
    "print(calc_f1_measure(y_true, y_pred))"
   ]
  },
  {
   "cell_type": "code",
   "execution_count": 20,
   "id": "69b4c9a7-66aa-4c41-81bc-09ad549c07b1",
   "metadata": {},
   "outputs": [
    {
     "data": {
      "image/png": "iVBORw0KGgoAAAANSUhEUgAAAXUAAAFACAYAAABDSuzWAAAAOXRFWHRTb2Z0d2FyZQBNYXRwbG90bGliIHZlcnNpb24zLjMuNCwgaHR0cHM6Ly9tYXRwbG90bGliLm9yZy8QVMy6AAAACXBIWXMAAAsTAAALEwEAmpwYAAAqr0lEQVR4nO3debwVdf3H8df7XlBQREVREXDHDE2RFHfFDXEpt9wLNYssLXMp119qZZmVpVkW7pa55UYuIaG45IYLIriSYoAgKogsynL5/P6Y79XD9S7nLueew/B+8pjHnfnO8v3OZe5nvuczc2YUEZiZWT5UlbsBZmbWdhzUzcxyxEHdzCxHHNTNzHLEQd3MLEcc1M3McsRBvQ1JukDS38rdjlKQdLCkyZLmStq6FduZIGlg27Ws/UnaRdJrJa5jrqSNGpk/SdJeRW7rOEmPF7lsi4/hPB//y5LlMqhL2lnSE5JmS5op6T+Sti13u1pLUg9J10iaJmmOpFclXShp5TbY/G+AkyOiS0S80NKNRMTmETG6DdqzFEmjJYWkreqU35XKBxa5nZC0SWPLRMRjEfGFlre2aen3/GZq0/WSfl7K+iw/lrugLqkrcC/wB6Ab0BO4EFhQznbVJam6mct3A54EOgM7RMQqwN7AasDGbdCk9YEJbbCdUnodGFI7IWkNYAfgvbaqQFKHttqWWSksd0Ed2BQgIm6OiJqI+DgiHoyIcbULSPqmpFckzZI0QtL6BfMuS2mIjyQ9J2mXOtvvJOnW1FN+vrDnKOmLqUf5YUpDfLVg3vWSrpR0v6R5wO7pI/YZksalTxW3SurUwH6dBswBvh4Rk9I+To6IU2r3TdKOksakbY2RtGNB/aMl/Sx9apkj6UFJa0paUdJcoBp4UdJ/0/JL9WgLe5NpvXvTfs6U9JikqjTv07RB2vbvJb2Tht9LWjHNGyhpiqTTJc1Inz6Ob+L/9ibgiIIT4lHAXcDCgnYOkPRkats0SVdIWiHNezQt9mJKfxxR0I4zJU0HrqstS+tsnPaxf5peV9J79X0ykHS8pH8WTL8h6faC6cmS+hX+fiUNBY4Bfpza9M+CTfYr8tio247WHMPrSroj7eNbkn7QQB2dJP1N0gfpdz1G0trFtM9aZ3kM6q8DNZJukLSvpNULZ0o6EDgHOAToDjwG3FywyBigH1kv/+/A7XX+mA4Ebi+Yf7ekjpI6Av8EHgTWAr4P3CSp8GP80cBFwCpAbQ70cGAwsCGwJXBcA/u1F3BnRCypb6aynvx9wOXAGsClwH3KerOF9R+f2rcCcEZELIiILmn+VhFRTK//dGAK2e9vbbLfZ33PozgX2J7s97kVMAA4r2D+OsCqZJ+mTgD+WPf/q453gJeBQWl6CHBjnWVqgFOBNcl68XsC3wOIiF3TMlul9MetBe3oRvZpZWjhxiLiv8CZwN8krQRcB9zQQIrpEWAXSVWS1iX7He8AoCx/3gUYV7hCRAwjO1ldktr0lYLZxR4bdbX0GK4iO4ZfJPs/2RP4oaR96qnjWLL/u95kx9uJwMdFts9aYbkL6hHxEbAzWZC5CnhP0vCCXsSJwC8j4pWIWAz8gqxHtH5a/28R8UFELI6I3wIrAoWB+bmI+EdELCILnJ3IAtf2ZH+0F0fEwoh4iCwNdFTBuvdExH8iYklEfJLKLo+IdyJiJtkfVL8Gdm0NYFoju74/8EZE/DW1/WbgVaAwSFwXEa9HxMfAbY3U1ZRFQA9g/YhYlHLQ9QX1Y4CfRsSMiHiPLA32jTrb+Wnaxv3AXJb+XdfnRmCIpM2A1SLiycKZEfFcRDyVfgeTgL8AuzWxzSXA+ekE97nAFBFXAROBp9N+n1vfRlKOfA7Z73VXYATwTmrrbsBjDZ2UG1DssVG3HS09hrcFukfET9Mx/CbZ39CR9VSziOyY3CR9In4u/e1ZiS13QR0gBezjIqIXsAWwLvD7NHt94LL0kfFDYCYgsp4JytIhr6SPvB+S9UbWLNj85IJ6lpD1WNdNw+Q6f7Rv12637roFpheMzyc7MdTnA7KA0pB1U32F6tZfbF1N+TVZkHtQ0puSziqyTW+nslofpBNrc9p0J7AHcDLw17ozJW2aUkPTJX1EdtJes+5ydbxXcJJtyFVkx9IfIqKx6zOPAAPJgvojwGiygL5bmm6OFv1/teIYXh9Yt/ZvI617Dtmnsbr+SnbSuiWl1i5Jn1atxJbLoF4oIl4Frif7g4TsgP5ORKxWMHSOiCdS7vHHZB97V4+I1YDZZEG/Vu/akfRxtRdZWuAdoHdtbjlZD5ha2JxW7Mq/gYPrbL/QO2R/lIXq1t8c84GVCqbXqR2JiDkRcXpEbAR8FThN0p5FtGm9VNZiETEfeAD4LvUEdeBKsk8ofSKiK1lQUj3LLbXZxmZK6kLWKbgGuCCluhpSG9R3SeOP0HRQb7NHqbbyGJ4MvFXnb2OViNjvcw3OPl1dGBF9gR2BAyi4iG2ls9wFdUmbpYtvvdJ0b7IUyFNpkT8DZ0vaPM1fVdJhad4qwGKyuyk6SPoJ0LVOFV+WdIiyuyR+SHZXzVNkH83nk13w6pgupH0FuKWNdu3S1JYbalNFknpKulTSlsD9wKaSjpbUQdIRQF+yFFBLjAWOllQtaTAFKQxJB6SLfCILGDVkKYy6bgbOk9Rd0prAT4C2uM/5HGC32gvGdawCfATMTWmP79aZ/y7Q4P3hDbgMeDYivkV23eLPjSz7CLA70DkippBdsxlMlqpo6FbRlrSpIa05hp8B5ii7aNw5/d9voXpuB5a0u6QvKbto/RFZOqY5qSVroeUuqJPlNLcDnlZ2l8lTwHiyi3tExF3Ar8g+Nn6U5u2b1h0B/IvsYuvbwCd8PmVyD3AEMIssP3xI6rUsJAvi+wLvA38ChqRPCq2W8qo7kv3xPC1pDjCKLKhOjIgPyHpLp5Olan4MHBAR77ewylPI9udDstz43QXz+pB9cphLdpvlnyLi4Xq28XPgWbKLgy8Bz6eyVkl55oa+bHMG2QXhOWQpk1vrzL+A7MT4oaTDm6orXVgfzGcnh9OA/pKOaaBtr5P9Xh5L0x8BbwL/iYiaBqq5Buib2nR3U21qQmuO4RqyY6gf8BbZcXw1WfqmrnWAf5AF9FfITmb1fXKyNqb6r1+ZmdmyaHnsqZuZ5ZaDuplZjjiom5nliIO6mVmOOKibmeWIg7qZWY44qJuZ5YiDuplZjjiom5nliIO6mVmOOKibmeWIg7qZWY44qJuZ5YiDuplZjjiom5nliIO6mVmOOKibmeWIg7qZWY44qJuZ5YiDuplZjjiom5nliIO6mVmOOKibmeWIg7qZWY44qJuZ5YiDuplZjjiom5nliIO6mVmOOKibmeWIg7qZWY44qJuZ5YiDuplZjjiom5nliIO6mVmOOKibmeVIh3I3oCGdtz45yt0GqzyzxlxR7iZYBerUAbV2G82JOR+/cEWr6yuVig3qZmbtSvlIXDiom5kBqGI7383ioG5mBu6pm5nlinvqZmY5UlVd7ha0CQd1MzNw+sXMLFecfjEzyxH31M3McsQ9dTOzHPGFUjOzHHH6xcwsRxzUzcxypMo5dTOz/HBP3cwsR3z3i5lZjvjuFzOzHHH6xcwsR5x+MTPLEffUzcxyJCc99XycmszMWququvihEZI6SXpG0ouSJki6MJVfL+ktSWPT0C+VS9LlkiZKGiepf8G2jpX0RhqOLWY33FM3M4O2TL8sAPaIiLmSOgKPS3ogzftRRPyjzvL7An3SsB1wJbCdpG7A+cA2QADPSRoeEbMaq9w9dTMzyIJ6sUMjIjM3TXZMQzSyyoHAjWm9p4DVJPUA9gFGRsTMFMhHAoOb2g0HdTMzyHLqxQ5NbkrVksYCM8gC89Np1kUpxfI7SSumsp7A5ILVp6Syhsob5aBuZgbN6qlLGirp2YJhaOGmIqImIvoBvYABkrYAzgY2A7YFugFnlmI3HNTNzKBZPfWIGBYR2xQMw+rbZER8CDwMDI6IaSnFsgC4DhiQFpsK9C5YrVcqa6i8UQ7qZmbQlne/dJe0WhrvDOwNvJry5EgScBAwPq0yHBiS7oLZHpgdEdOAEcAgSatLWh0YlMoa5btfzMwAtd196j2AGyRVk3Wcb4uIeyU9JKk7IGAscGJa/n5gP2AiMB84HiAiZkr6GTAmLffTiJjZVOUO6mZmtF1Qj4hxwNb1lO/RwPIBnNTAvGuBa5tTv4O6mRlk/ecccFA3M6NN0y9l5aBuZoaDuplZrlRV5eNmQAd1MzNwTt3MLE+cfjEzyxEHdTOzHHFQNzPLEVU5qJuZ5YZ76mZmOeKgbmaWIw7qZmZ5ko+Y7qBuZgbuqRdF0krA6cB6EfFtSX2AL0TEvaWs18ysufLymIBS78V1wAJghzQ9Ffh5ies0M2s2SUUPlazUQX3jiLgEWAQQEfPJTebKzHJFzRgqWKlz6gvTO/oCQNLGZD13M7OKUuk98GKVOqifD/wL6C3pJmAn4LgS12lm1mx5CeolTb9ExEjgELJAfjOwTUSMLmWdZmYt0VY5dUmdJD0j6UVJEyRdmMo3lPS0pImSbpW0QipfMU1PTPM3KNjW2an8NUn7FLMfJQ3qknYCPomI+4DVgHMkrV/KOitZVZV48uYzueOyE5teuAlnfHMQ4+85nxfv+j/22uGLAKy4Qgce++sZPH3rWTz3j3M578T9Wl2PVaaamhoOP/QgTv7ed8rdlNxQlYoemrAA2CMitgL6AYMlbQ/8CvhdRGwCzAJOSMufAMxK5b9LyyGpL3AksDkwGPiTpOqmKi/1hdIrgfmStgJOA/4L3FjiOivWyUfvzmtvvdusdV6978LPlW220Toctk9/+n/tIr560p+47OzDqaoSCxYuZvDQy9nuiIvZ7shfMmjHvgz40gZt1HqrJDf99UY22mjjcjcjV9qqpx6ZuWmyYxoC2AP4Ryq/ATgojR+Ypknz91RWyYHALRGxICLeAiYCA5raj1IH9cUREalxf4yIPwKrlLjOitRzrdUYvPPmXHfXE5+Wbf3F3jx49Sn856YfM/yPJ7HOml2L2tYBA7fk9hHPs3DRYt5+5wP+O/l9tt1iAwDmfbwQgI4dqunQoZrs12958u706Tz26GgOPvRr5W5KrjQnqEsaKunZgmFonW1VSxoLzABGknVoP4yIxWmRKUDPNN4TmAyQ5s8G1igsr2edBpX6QukcSWcDXwd2lVRFdtZa7vz6R4dy7mV302WlTgB06FDFpWcexmGnDuP9WXP52qD+XHDSVzjxwpua3FbP7qvy9EuTPp2eOmMW6661KpCleJ74+5ls3Ls7f7n1UcaMf7sk+2Plc8nFv+DU03/EvHnzyt2UXGnOhdKIGAYMa2R+DdBP0mrAXcBmrW1fsUod1I8AjgZOiIjpktYDft3QwulsNxSgQ6+BdFhz8xI3r33su8sWzJg5hxdemcwuX+4DwKbrr03fjXtw75UnA1BdVcX092cD8OMT9uGQvbcGoEf3VXnqlrMAeHLsm5x68W2N1rVkSbD9kRezapfO3Hrpt+m7cQ9e/u+0Uu2atbNHRj9Mt27d6Lv5Fox55ulyNydfSnDzS0R8KOlhsi9griapQ+qN9yL7MibpZ29giqQOwKrABwXltQrXaVBJg3pETAcuLZj+H43k1AvPfp23Pjk3eYMd+m3EAbt9icE7b86KK3Sk68qd+L/v7s8rb05n4LG//dzyl1wzgkuuGQFkOfXtj7x4qflT35tNr3VW/3S651qr886M2UstM3vuxzzy7OsM2rGvg3qOjH3heUaPfojHH3uUBQsWMG/eXM4+8wx++avflLtpy7y2ekyApO7AohTQOwN7k138fBj4GnALcCxwT1pleJp+Ms1/KCJC0nDg75IuBdYF+gDPNLkfbbIXdUiaI+mjeoY5kj4qRZ2V7Cd/GM4mg/+PzfY/nyFnXcfoMa8z5KzrWHO1Lmy35YZAlo754kbrFLW9+0aP47B9+rNCxw6sv+4abLJed8aMn8Saq3dh1S6dAei0Ykf23G4zXpvUvAuzVtlOOfV0Rj70KA+MfIhf/eZStt1uewf0NiIVPzShB/CwpHHAGGBket7VmcBpkiaS5cyvSctfA6yRyk8DzgKIiAnAbcDLZN/3OSmldRpVkp56RCyXF0ObY9HiGo7+0dX89szD6NqlEx2qq7nipod55c3pTa77ypvTuePBF3jhjnNZXLOEH158G0uWBOus2ZWrfvoNqquqqKoSd4x8ngceG98Oe2O27GurLx9FxDhg63rK36Seu1ci4hPgsAa2dRFwUXPqV3vcHSFpLaBT7XRKwzQqT+kXazuzxlxR7iZYBerUofUZ8U1//K+iY87rlwyu2K+flvrLR1+V9AbwFvAIMAl4oJR1mpm1hJ/SWJyfAdsDr0fEhsCewFMlrtPMrNnaMKdeVqW+pXFRRHwgqUpSVUQ8LOn3Ja7TzKzZqqsrPFoXqdRB/UNJXYBHgZskzQD8jQkzqziVnlYpVqluaVwvjR4IzAdOJbsl57/AV0pRp5lZazj90ri7gf4RMU/SHRFxKJ89sMbMrOLkpadeqqBe+NvZqER1mJm1GQf1xkUD42ZmFSknMb1kQX2r9DgAAZ0LHg0gsscNF/eMWTOzdlLV9MsvlgmlekxAk2/nMDOrJE6/mJnlSE5iuoO6mRm4p25mlis5iekO6mZm4AulZma54vSLmVmO5CSmO6ibmUF+euqlfp66mdkyoa0e6CWpt6SHJb0saYKkU1L5BZKmShqbhv0K1jlb0kRJr0nap6B8cCqbKOmsYvbDPXUzM9q0p74YOD0inpe0CvCcpJFp3u8iYqk3hUvqCxwJbA6sC/xb0qZp9h+BvYEpwBhJwyPi5cYqb7KnLukSSV0ldZQ0StJ7kr7erF00M6twVVUqemhMREyLiOfT+BzgFaBnI6scCNwSEQsi4i1gItkLqgcAEyPizYhYCNySlm18P4rY10ER8RFwANk7RjcBflTEemZmy4xSvKNU0gbA1sDTqehkSeMkXStp9VTWE5hcsNqUVNZQeaOKCeq1KZr9gdsjYnYR65iZLVOak1OXNFTSswXD0M9vT12AO4Afpo7xlcDGQD9gGvDbUuxHMTn1eyW9CnwMfFdSd+CTUjTGzKxcmtMDj4hhwLBGttWRLKDfFBF3pnXeLZh/FXBvmpwK9C5YvVcqo5HyBjXZU4+Is4AdgW0iYhHZ6+mazOuYmS1L2vDuFwHXAK9ExKUF5T0KFjsYGJ/GhwNHSlpR0oZAH+AZYAzQR9KGklYgu5g6vKn9aLKnLmkl4HvAesBQsquzX+Czs4yZ2TKvuu0eE7AT8A3gJUljU9k5wFGS+pG9OGgS8B2AiJgg6TbgZbI7Z06KiBoASScDI4Bq4NqImNBU5cWkX64DniPrrUPW/b8dB3Uzy5G2uqUxIh5n6Vd61rq/kXUuAi6qp/z+xtarTzEXSjeOiEuARamS+dTfYDOzZVaVih8qWTE99YWSOpPeNSppY2BBSVtlZtbO8vKYgGKC+vnAv4Dekm4iyxcdV8pGmZm1t5zE9KaDekSMlPQ8sD1Z2uWUiHi/5C0zM2tHyklWuZi7X3ZNo3PSz76SiIhHS9csM7P21YZ3v5RVMemXwkcCdCJ7HsFzwB4laZGZWRksT+mXrxROS+oN/L5UDTIzK4eqnET1ljx6dwrwxbZuiJlZOeUkpheVU/8D6XZGsvva+wHPl7BNZmbtbnm6pfHZgvHFwM0R8Z8StcfMrCxyEtOLyqnf0B4NMTMrp+qcRPUGg7qkl/gs7bLULCAiYsuStcrMrJ0tD+mXA9qtFWZmZZaT29QbDuoR8XZ7NsTMrJzy0lMv5sXT20saI2mupIWSaiR91B6NMzNrL231koxyK+bulyvI3rhxO7ANMATYtJSNMjNrb3l5TEAxz1MnIiYC1RFRExHXAYNL2ywzs/YlqeihkhXTU5+f3o83VtIlZG/BLupkYGa2rKjsUF28BoOzpG3T6DfScicD88jebn1o6ZtmZtZ+qqSih0rWWI97mKQ3gG8BG0XERxFxYUScltIxZma50VYXSiX1lvSwpJclTZB0SirvJmmkpDfSz9VTuSRdLmmipHGS+hds69i0/BuSji1mPxoM6hGxNdm96ouBf0h6UdJZkjYoZsNmZsuSNsypLwZOj4i+ZC8XOklSX+AsYFRE9AFGpWmAfYE+aRgKXJna043szXPbkT3y/PzaE0FjGs2NR8RrqXfel+yul1WBUZL87Bczy5XqKhU9NCYipkXE82l8DvAK0BM4EKh97MoNwEFp/EDgxsg8BawmqQewDzAyImZGxCxgJEXcpFLUBU9JVcBawNrAysCMYtYzM1tWNCf9ImmopGcLhqH1b1MbAFsDTwNrR8S0NGs6WTyFLOBPLlhtSiprqLxRjd79ImkX4CiyM8pLwC3AqRExu6kNt9YHz/yh1FWYmX2qObcqRsQwYFgT2+sC3AH8MCI+Ktx+RISk+p6t1WqNPdBrMvA2WSC/ICLcOzez3GrL+7QldSQL6DdFxJ2p+F1JPSJiWkqv1MbUqWR3FdbqlcqmAgPrlI9uqu7G9mPniNg5Iq5wQDezvGurC6XKFrgGeCUiLi2YNRyovYPlWOCegvIh6S6Y7YHZKU0zAhgkafV0gXRQKmuUH+hlZkabPqVxJ7Lv97wkaWwqOwe4GLhN0glkWZDD07z7gf2AicB84HiAiJgp6WfAmLTcTyNiZlOVt+QdpWZmudNWz36JiMdp+Auqe9azfAAnNbCta4Frm1O/g7qZGcvB89TrvHD6cyLiByVpkZlZGVT4t/+L1lhP/dlG5pmZ5UqlP9OlWI1dKPULp81suZGXR882mVOX1B04E+gLdKotj4g9StguM7N2tTy9JOMmsmcXbAhcCEzis1tszMxyIS+vsysmqK8REdcAiyLikYj4JuBeupnlSpWKHypZMbc0Lko/p0naH3gH6Fa6JpmZtb/cXygt8HNJqwKnA38AugKnlrRVZmbtLCcxvemgHhH3ptHZwO6lbY6ZWXlUelqlWMXc/XId9XwJKeXWzcxyoTonXfVi0i/3Fox3Ag4my6ubmeXGctNTj4g7Cqcl3Qw8XrIWmZmVQXNeklHJWvJArz5kr7YzM8uN5aanLmkOS+fUp5N9w9TMLDdy0lEvKv2ySns0xMysnPJyn3qT3yiVNKqYMjOzZVl1VfFDJWvseeqdgJWANdP78WpPY12Bnu3QNjOzdlPV4MuKli2NnXO+AzwHbJZ+1g73AFeUvmlmZu2nLR/oJelaSTMkjS8ou0DSVElj07BfwbyzJU2U9JqkfQrKB6eyiZLOKmY/Gnue+mXAZZK+HxF/KGZjZmbLqja+++V6ss7vjXXKfxcRvykskNQXOBLYHFgX+LekTdPsPwJ7A1OAMZKGR8TLjVVcTHZoiaTVChqwuqTvFbGemdkyo0oqemhKRDwKzCyy6gOBWyJiQUS8BUwEBqRhYkS8GRELgVvSso3vRxEVfjsiPixo7Czg20U21sxsmVBdpaKHVjhZ0riUnlk9lfUEJhcsMyWVNVTeqGKCerUKvmolqRpYoYj1zMyWGc3JqUsaKunZgmFoEVVcCWwM9AOmAb8txX4U843SfwG3SvpLmv5OKjMzy43m3KkYEcOAYc3ZfkS8Wzsu6So+e67WVKB3waK9UhmNlDeomKB+JjAU+G6aHglcVcR6ZmbLjFI/+0VSj4iYliYPBmrvjBkO/F3SpWQXSvsAz5DdRt5H0oZkwfxI4Oim6inmG6VLgD+nAUm7kL0s46Tm7JCZWSVry5CeHnw4kOx7PlOA84GBkvqRPXZlElnWg4iYIOk24GVgMXBSRNSk7ZwMjACqgWsjYkKTdUd87lHp9TVwa+Ao4HDgLeDOUt/mOH9REQ2z5U5evsptbatTh9bH5L89N6XomPP1L/eq2AOxsW+UbkoWyI8C3gduJTsJ+O1HZpY7y8NTGl8FHgMOiIiJAJL8blIzy6W8PE+9sQu+h5DddvOwpKsk7Unbpp3MzCpGVTOGStZg+yLi7og4kuzZLw8DPwTWknSlpEHt1D4zs3YhqeihkjV50omIeRHx94j4Ctl9ki/gl2SYWc6oGUMla9br7NIjApp9072ZWaWr9B54sVryjlIzs9ypdlA3M8uPfIR0B3UzM2A5evG0mdnyIC+vs3NQNzPDPXUzs1zJy3OFHNTNzHD6xcwsV3LSUS/dYwyU+bqkn6Tp9SQNKFV9Zmat0ZzX2VWyUj6b5k/ADmSP7gWYA/yxhPWZmbWYmvGvkpUy/bJdRPSX9AJkjxiQ5BdWm1lFWh6ep95aiyRVk726CUndgSUlrM/MrMV890vTLgfuIntc70XA14DzSlhfLixYsIATjv06CxcupKamhr32HsR3T/4B3xxyDPPmzQNg5swP2OJLW/K7y53NWh4tWLCA44ccw6KFC1lcU8Peg/bheyf/oNzNWuZVelqlWCUL6hFxk6TngNqXaxwUEa+Uqr68WGGFFRh27fWstNLKLFq0iG8OOYaddtmVa2+86dNlTv/h9xm4+55lbKWV0worrMDV197ASitnx8hx3zianXfZlS236lfupi3T2jL9Iula4ABgRkRskcq6kb0WdAOyF08fntLSAi4D9gPmA8dFxPNpnWP5rDP884i4ocn9aLvdWJqk9VID/wkMB+alMmuEJFZaaWUAFi9ezOLFi5d6JOjcuXMZ88zT7L7nXuVqopWZJFZaeeljpOJvyVgGtPGF0uuBwXXKzgJGRUQfYFSaBtgX6JOGocCV8OlJ4HxgO2AAcL6k1ZuquJTpl/vI8ukCOgEbAq8Bm5ewzlyoqanh6MMPZfL//scRRx3Nl7bc6tN5D4/6NwO2254uXbqUsYVWbjU1NRx12CH8Lx0jWxYcI9YybXlejIhHJW1Qp/hAYGAavwEYTfbCoQOBGyMigKckrSapR1p2ZETMzNqnkWQnipsbq7tkPfWI+FJEbJl+9iE70zxZqvrypLq6mlvvuJsRo0Yz/qVxTHzj9U/n/euB+xi83/5lbJ1Vgurqam678x4efOgRxr80jjcKjhFrmWqp6EHSUEnPFgxDi6hi7YiYlsanA2un8Z7A5ILlpqSyhsob1W7vUE05ou0aW6bwF3Xt1X650ipdu7LNgO144vHHAJg1axYTXhrHLrsOLG/DrGJ07dqVbQuOEWu55rzOLiKGRcQ2BUOzAlbqlUdbtr9WydIvkk4rmKwC+gPvNLZO+sUMA5i/KEqyw5Vu5syZdOzQgVW6duWTTz7h6Sef4LhvfguAfz84gl12G8iKK65Y5lZaOc2cOZMOHTrQNR0jTz35BMef8O1yN2vZV/rLEu9K6hER01J6ZUYqnwr0LliuVyqbymfpmtry0U1VUsqc+ioF44vJcux3lLC+XHj/vff4yblnsaSmhiUR7L3PYHYduDsAIx64j+O/VcynPMuz99+bwXnnnMWSJTUsWRIM2mcwu6VjxFquHW5pHA4cC1ycft5TUH6ypFvIshmzU+AfAfyi4OLoIODspipRlKBDnL509KuIOKOl21hee+rWuLx8QcTaVqcOrY/Iz7w5u+iYM2CjVRutT9LNZL3sNYF3ye5iuRu4DVgPeJvslsaZ6ZbGK8gugs4Hjo+IZ9N2vgmckzZ7UURc11Tb2jyoS+oQEYslPRkRO7R0Ow7qVh8HdatPWwT1Mc0I6ts2EdTLqRTpl2fI8udjJQ0Hbgfm1c6MiDtLUKeZWasoJx2GUubUOwEfAHvw2f3qATiom1nFyUlML0lQXyvd+TKez4J5LadUzKwi5SSmlySoVwNdqP935KBuZpUpJ1G9FEF9WkT8tATbNTMrGT+lsWH5+M2Y2XLFOfWG+ZmwZrbMcVBvQO0TxczMliVOv5iZ5Yh76mZmOZKTmO6gbmYG5CaqO6ibmZGf5wo5qJuZkZuOuoO6mRmQm6juoG5mhm9pNDPLlZyk1B3UzcwgN9kXB3UzM8jPSzKqyt0AM7NKIBU/NL0tTZL0kqSxkmrfN9pN0khJb6Sfq6dySbpc0kRJ4yT1b81+OKibmZGlX4odirR7RPSLiG3S9FnAqIjoA4xK0wD7An3SMBS4sjX74aBuZgYliep1HAjckMZvAA4qKL8xMk8Bq0nq0dJKHNTNzMhuaSz2XxECeFDSc5KGprK1I2JaGp8OrJ3GewKTC9adkspaxBdKzcxo3i2NKVAPLSgaFhHDCqZ3joipktYCRkp6tXD9iAhJJXm9p4O6mRnNC+opgA9rZP7U9HOGpLuAAcC7knpExLSUXpmRFp8K9C5YvVcqaxGnX8zMaLv0i6SVJa1SOw4MAsYDw4Fj02LHAvek8eHAkHQXzPbA7II0TbO5p25mRpt+o3Rt4K5033sH4O8R8S9JY4DbJJ0AvA0cnpa/H9gPmAjMB45vTeWKKElap9XmL6rQhllZ5eXxqNa2OnVo/RdCJ89cUHTM6d1txYo9EN1TNzPDz34xM8uVvDwmwEHdzAw/0MvMLFdy0lF3UDczA78kw8wsX/IR0x3UzcwgNzHdQd3MDPLzHQgHdTMzyE1X3UHdzIzcxHQHdTMz8C2NZma54lsazcxyxD11M7MccVA3M8sRp1/MzHLEPXUzsxzJSUx3UDczA3IT1R3UzczwYwLMzHIlHyHdQd3MLJOTqO6gbmZGfm5pVESUuw3WBElDI2JYudthlcXHhdWnqtwNsKIMLXcDrCL5uLDPcVA3M8sRB3UzsxxxUF82OG9q9fFxYZ/jC6VmZjninrqZWY44qJuZ5Yi/fFQmkmqAlwqKDoqISQ0sOzciurRLw6ysJK0BjEqT6wA1wHtpekBELCxLw2yZ4Zx6mTQnUDuoL58kXQDMjYjfFJR1iIjF5WuVVTqnXyqEpC6SRkl6XtJLkg6sZ5kekh6VNFbSeEm7pPJBkp5M694uySeAHJF0vaQ/S3oauETSBZLOKJg/XtIGafzrkp5Jx8hfJFWXq91WHg7q5dM5/eGNlXQX8AlwcET0B3YHfit97lmgRwMjIqIfsBUwVtKawHnAXmndZ4HT2m0vrL30AnaMiAb/byV9ETgC2CkdIzXAMe3TPKsUzqmXz8fpDw8ASR2BX0jaFVgC9ATWBqYXrDMGuDYte3dEjJW0G9AX+E86B6wAPNk+u2Dt6PaIqGlimT2BLwNj0rHQGZhR6oZZZXFQrxzHAN2BL0fEIkmTgE6FC0TEoyno7w9cL+lSYBYwMiKOau8GW7uaVzC+mKU/ZdceJwJuiIiz261VVnGcfqkcqwIzUkDfHVi/7gKS1gfejYirgKuB/sBTwE6SNknLrCxp03Zst7W/SWT/90jqD2yYykcBX5O0VprXLR0zthxxT71y3AT8U9JLZHnxV+tZZiDwI0mLgLnAkIh4T9JxwM2SVkzLnQe8XvomW5ncAQyRNAF4mvR/HREvSzoPeFBSFbAIOAl4u2wttXbnWxrNzHLE6RczsxxxUDczyxEHdTOzHHFQNzPLEQd1M7MccVA3M8sRB3UzsxxxUDczyxEHdTOzHHFQNzPLEQd1M7MccVA3M8sRB3UzsxxxUDczyxEHdTOzHHFQNzPLEQd1W4qkGkljJY2XdLuklVqxreslfS2NXy2pbyPLDpS0YwvqmCRpzTpl10n6Tp2ygyQ9UExbzZZlDupW18cR0S8itgAWAicWzpTUolcgRsS3IuLlRhYZCDQ7qDfgZuDIOmVHpnKzXHNQt8Y8BmySetGPSRoOvCypWtKvJY2RNK62V6zMFZJek/RvYK3aDUkaLWmbND5Y0vOSXpQ0StIGZCePU9OnhF0kdZd0R6pjjKSd0rprSHpQ0gRJVwOqp92jgM0k9UjrrAzsBdwt6Sdpe+MlDZP0ufULe/+StpE0unY7kq6V9IykFyQdmMo3T2Vj0++jT1v88s1awkHd6pV65PsCL6Wi/sApEbEpcAIwOyK2BbYFvi1pQ+Bg4AtAX2AI9fS8JXUHrgIOjYitgMMiYhLwZ+B36VPCY8BlaXpb4FDg6rSJ84HHI2Jz4C5gvbp1REQN2cuZD09FXwFGR8RHwBURsW36JNIZOKAZv5ZzgYciYgCwO/DrdMI4EbgsIvoB2wBTmrFNszbVoo/SlmudJY1N448B15AF52ci4q1UPgjYsiAHvSrQB9gVuDkF1XckPVTP9rcHHq3dVkTMbKAdewF9CzrSXSV1SXUckta9T9KsBta/GfgN2cnhSOCvqXx3ST8GVgK6AROAfzawjboGAV+VdEaa7kR2UnkSOFdSL+DOiHijyO2ZtTkHdavr49Tj/FQKrPMKi4DvR8SIOsvt14btqAK2j4hP6mlLMZ4AekjaiuykdKSkTsCfgG0iYrKkC8gCc12L+exTbOF8kX3CeK3O8q9IehrYH7hf0ncior4TmlnJOf1iLTEC+K6kjgCSNk1piEeBI1LOvQdZiqKup4BdU7oGSd1S+RxglYLlHgS+XzshqV8afRQ4OpXtC6xeXwMjIoBbgRuAB9LJoTZAv596/Q3d7TIJ+HIaP7TOfn+/Ng8vaev0cyPgzYi4HLgH2LKB7ZqVnIO6tcTVwMvA85LGA38h+9R3F/BGmncjWVpiKRHxHjAUuFPSi2SBF7IUyMG1F0qBHwDbpAuPL/PZXTgXkp0UJpClYf7XSDtvBrZKP4mID8ny+ePJAvSYBta7ELhM0rNATUH5z4COwLhU/89S+eHA+JS22iLtu1lZKOvQmJlZHrinbmaWIw7qZmY54qBuZpYjDupmZjnioG5mliMO6mZmOeKgbmaWIw7qZmY58v9ybgzwuvD0DgAAAABJRU5ErkJggg==\n",
      "text/plain": [
       "<Figure size 432x288 with 2 Axes>"
      ]
     },
     "metadata": {
      "needs_background": "light"
     },
     "output_type": "display_data"
    }
   ],
   "source": [
    "plot_confusion_matrix(y_true, y_pred)"
   ]
  },
  {
   "cell_type": "code",
   "execution_count": null,
   "id": "6c28c85d-690a-4631-9f4c-011863de5b0d",
   "metadata": {},
   "outputs": [],
   "source": []
  }
 ],
 "metadata": {
  "kernelspec": {
   "display_name": "Python 3",
   "language": "python",
   "name": "python3"
  },
  "language_info": {
   "codemirror_mode": {
    "name": "ipython",
    "version": 3
   },
   "file_extension": ".py",
   "mimetype": "text/x-python",
   "name": "python",
   "nbconvert_exporter": "python",
   "pygments_lexer": "ipython3",
   "version": "3.6.15"
  }
 },
 "nbformat": 4,
 "nbformat_minor": 5
}
