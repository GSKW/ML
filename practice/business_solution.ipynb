{
 "cells": [
  {
   "cell_type": "code",
   "execution_count": 1,
   "id": "ac747d68-396c-447c-ac6a-9edfd51be147",
   "metadata": {},
   "outputs": [],
   "source": [
    "import csv"
   ]
  },
  {
   "cell_type": "code",
   "execution_count": 18,
   "id": "9a35c6c7-d495-4510-ab61-c81562b39307",
   "metadata": {},
   "outputs": [],
   "source": [
    "import sklearn"
   ]
  },
  {
   "cell_type": "code",
   "execution_count": 2,
   "id": "823e6e68-ef0b-48c6-a9cd-4d2fd04ede22",
   "metadata": {},
   "outputs": [
    {
     "name": "stdout",
     "output_type": "stream",
     "text": [
      "Help on built-in function reader in module _csv:\n",
      "\n",
      "reader(...)\n",
      "    csv_reader = reader(iterable [, dialect='excel']\n",
      "                            [optional keyword args])\n",
      "        for row in csv_reader:\n",
      "            process(row)\n",
      "    \n",
      "    The \"iterable\" argument can be any object that returns a line\n",
      "    of input for each iteration, such as a file object or a list.  The\n",
      "    optional \"dialect\" parameter is discussed below.  The function\n",
      "    also accepts optional keyword arguments which override settings\n",
      "    provided by the dialect.\n",
      "    \n",
      "    The returned object is an iterator.  Each iteration returns a row\n",
      "    of the CSV file (which can span multiple input lines).\n",
      "\n"
     ]
    }
   ],
   "source": [
    "help(csv.reader)"
   ]
  },
  {
   "cell_type": "code",
   "execution_count": 17,
   "id": "831aa861-4b6c-4f2c-a099-695d05092ac8",
   "metadata": {},
   "outputs": [
    {
     "name": "stdout",
     "output_type": "stream",
     "text": [
      "['value', 'label']\n",
      "['-0.7959333813800855', '0']\n",
      "['-1.4036118708596492', '0']\n",
      "['0.14820878778453409', '0']\n",
      "['0.3593532544019159', '0']\n",
      "['2.4435956042759854', '0']\n"
     ]
    }
   ],
   "source": [
    "f = open(\"business_proj.csv\", \"r\")\n",
    "csv_f = csv.reader(f)\n",
    "i=0\n",
    "for row in csv_f:\n",
    "    i+=1\n",
    "    print(row)\n",
    "    if i > 5:\n",
    "        break"
   ]
  },
  {
   "cell_type": "code",
   "execution_count": 20,
   "id": "dad20cc8-4f90-4788-9d32-a482e5f5faef",
   "metadata": {},
   "outputs": [
    {
     "ename": "ModuleNotFoundError",
     "evalue": "No module named 'sklearn.linear_models_'",
     "output_type": "error",
     "traceback": [
      "\u001b[0;31m---------------------------------------------------------------------------\u001b[0m",
      "\u001b[0;31mModuleNotFoundError\u001b[0m                       Traceback (most recent call last)",
      "\u001b[0;32m<ipython-input-20-689bc01c9f57>\u001b[0m in \u001b[0;36m<module>\u001b[0;34m\u001b[0m\n\u001b[0;32m----> 1\u001b[0;31m \u001b[0;32mfrom\u001b[0m \u001b[0msklearn\u001b[0m\u001b[0;34m.\u001b[0m\u001b[0mlinear_models_\u001b[0m \u001b[0;32mimport\u001b[0m \u001b[0mSGDClassifier\u001b[0m\u001b[0;34m\u001b[0m\u001b[0;34m\u001b[0m\u001b[0m\n\u001b[0m",
      "\u001b[0;31mModuleNotFoundError\u001b[0m: No module named 'sklearn.linear_models_'"
     ]
    }
   ],
   "source": [
    "from sklearn.linear_models_ import SGDClassifier"
   ]
  },
  {
   "cell_type": "code",
   "execution_count": null,
   "id": "57da83a3-44fa-4b03-b4eb-0254beba8638",
   "metadata": {},
   "outputs": [],
   "source": []
  }
 ],
 "metadata": {
  "kernelspec": {
   "display_name": "Python 3",
   "language": "python",
   "name": "python3"
  },
  "language_info": {
   "codemirror_mode": {
    "name": "ipython",
    "version": 3
   },
   "file_extension": ".py",
   "mimetype": "text/x-python",
   "name": "python",
   "nbconvert_exporter": "python",
   "pygments_lexer": "ipython3",
   "version": "3.6.15"
  }
 },
 "nbformat": 4,
 "nbformat_minor": 5
}
