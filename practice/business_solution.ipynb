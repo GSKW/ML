{
 "cells": [
  {
   "cell_type": "markdown",
   "id": "37f1c74a-fd48-4296-b519-106499600076",
   "metadata": {},
   "source": [
    "# Logistic Regression #"
   ]
  },
  {
   "cell_type": "code",
   "execution_count": 164,
   "id": "ac747d68-396c-447c-ac6a-9edfd51be147",
   "metadata": {},
   "outputs": [],
   "source": [
    "import csv\n",
    "import numpy as np\n",
    "import sklearn\n",
    "import matplotlib.pyplot as plt\n",
    "from sklearn.linear_model import SGDClassifier\n",
    "import seaborn as sns\n",
    "from tqdm import tqdm"
   ]
  },
  {
   "cell_type": "code",
   "execution_count": 75,
   "id": "12c02356-4042-4785-ae24-6995922b4291",
   "metadata": {},
   "outputs": [],
   "source": [
    "def get_quadratic_features(x, include_bias=True):\n",
    "    \"\"\"Generate quadratic and interaction features.\n",
    "\n",
    "    # x: np.ndarray [num_samples, num_feature]\n",
    "    # include_bias: boolean [True, False]\n",
    "\n",
    "    include_bias=True\n",
    "    [x_0         [[x_0, 1]        [[x_0, x_0^2, 1]\n",
    "    x_1..   ->    [x_1, 1]... ->   [x_1, x_1^2, 1]\n",
    "    x_n]          [x_n, 1]         [x_n, x_n^2, 1]\n",
    "\n",
    "    [x_0, z_0]         [[x_0, z_0, 1]        [[x_0, z_0, x_0^2, z_0^2, x_0*z_0, 1]\n",
    "    x_1, z_1   ->      [x_1, z_1, 1]... ->   [x_1, z_1, x_1^2, z_1^2, z_1*z_1, 1]\n",
    "    x_n, z_n]          [x_n, z_n, 1]         [x_n, z_n, x_n^2, z_n^2, x_n*z_n, 1]\n",
    "\n",
    "    [x_0, z_0, k_0]        [[x_0, z_0, x_0^2, z_0^2, x_0*z_0, x_0*k_0, z_0*k_0, 1]\n",
    "    x_1, z_1, k_1   ->     [x_1, z_1, x_1^2, z_1^2, z_1*z_1, 1]\n",
    "    x_n, z_n, k_n]         [x_n, z_n, x_n^2, z_n^2, x_n*z_n, 1]\n",
    "\n",
    "    Generate a new feature matrix consisting of all quadratic combinations\n",
    "    of the features.\n",
    "    For example, if an input sample is two dimensional and of the form [a, b],\n",
    "    the degree-2 polynomial features are [1, a, b, a^2, ab, b^2].\"\"\"\n",
    "\n",
    "    if include_bias:\n",
    "        K = len(x[0])\n",
    "        arr = np.empty([len(x), int(K * (K + 1) / 2 + 1) + K])\n",
    "    else:\n",
    "        K = len(x[0])\n",
    "        arr = np.empty([len(x), int(K * (K + 1) / 2) + K])\n",
    "\n",
    "    for row in range(len(x)):\n",
    "        n_row = []\n",
    "        if include_bias:\n",
    "            n_row.append(1)\n",
    "        i = 0\n",
    "        for val1 in x[row]:\n",
    "            i += 1\n",
    "            n_row.append(val1)\n",
    "            for val2 in x[row][:i]:\n",
    "                n_row.append(val1*val2)\n",
    "        for vl in range(len(n_row)):\n",
    "            arr[row][vl] = n_row[vl]\n",
    "    return arr"
   ]
  },
  {
   "cell_type": "code",
   "execution_count": 76,
   "id": "2f4ff440-0204-4b9f-84c4-331cace02454",
   "metadata": {},
   "outputs": [],
   "source": [
    "def file_opener(path, rtype):\n",
    "    with open(path, rtype) as f:\n",
    "        csv_arr = f.readlines()\n",
    "        for row in range(1, len(csv_arr)):\n",
    "            csv_arr[row] = csv_arr[row].split(',')\n",
    "            csv_arr[row][0], csv_arr[row][1] = float(csv_arr[row][0]), float(csv_arr[row][1][:-1])\n",
    "        csv_arr = csv_arr[1:]\n",
    "    return csv_arr"
   ]
  },
  {
   "cell_type": "code",
   "execution_count": 77,
   "id": "831aa861-4b6c-4f2c-a099-695d05092ac8",
   "metadata": {},
   "outputs": [],
   "source": [
    "csv_arr = file_opener(\"business_proj.csv\", \"r\")\n",
    "csv_valid = file_opener(\"task_test.csv\", \"r\")"
   ]
  },
  {
   "cell_type": "code",
   "execution_count": 78,
   "id": "57da83a3-44fa-4b03-b4eb-0254beba8638",
   "metadata": {},
   "outputs": [],
   "source": [
    "model = SGDClassifier(loss='log')"
   ]
  },
  {
   "cell_type": "code",
   "execution_count": 79,
   "id": "dadb578f-e380-4377-aa7b-7db0e6df9d98",
   "metadata": {},
   "outputs": [],
   "source": [
    "csv_arr = np.array(csv_arr, dtype=float)\n",
    "x_train = csv_arr[:,0].reshape(csv_arr.shape[0], 1)\n",
    "y_train = csv_arr[:,1]"
   ]
  },
  {
   "cell_type": "code",
   "execution_count": 80,
   "id": "2dcfdf77-bb8b-453b-91db-eec2f221009f",
   "metadata": {},
   "outputs": [
    {
     "data": {
      "text/plain": [
       "SGDClassifier(loss='log')"
      ]
     },
     "execution_count": 80,
     "metadata": {},
     "output_type": "execute_result"
    }
   ],
   "source": [
    "model.fit(x_train, y_train)"
   ]
  },
  {
   "cell_type": "code",
   "execution_count": 81,
   "id": "a1e935fb-5694-4433-9686-f8154e78d265",
   "metadata": {},
   "outputs": [],
   "source": [
    "def multiclass_TP(y_true, y_pred) -> dict:\n",
    "    \"\"\" Function to calculate True Positive of multiclass classifier \"\"\"\n",
    "    dictionary = {}\n",
    "    for multi_class in np.unique(y_true):\n",
    "        TP = 0\n",
    "        for i in range(len(y_true)):\n",
    "            if y_pred[i] == y_true[i] and y_true[i] == multi_class:\n",
    "                TP += 1\n",
    "        dictionary[multi_class] = TP\n",
    "    return dictionary\n",
    "\n",
    "def multiclass_FP(y_true, y_pred) -> dict:\n",
    "    \"\"\" Function to calculate False Positive of multiclass classifier \"\"\"\n",
    "    dictionary = {}\n",
    "    for multi_class in np.unique(y_true):\n",
    "        FP = 0\n",
    "        for i in range(len(y_true)):\n",
    "            if y_pred[i] == multi_class and y_pred[i] != y_true[i]:\n",
    "                FP += 1\n",
    "        dictionary[multi_class] = FP\n",
    "    return dictionary\n",
    "\n",
    "def multiclass_TN(y_true, y_pred) -> dict:\n",
    "    \"\"\" Function to calculate False Positive of multiclass classifier \"\"\"\n",
    "    dictionary = {}\n",
    "    for multi_class in np.unique(y_true):\n",
    "        TN = 0\n",
    "        for i in range(len(y_true)):\n",
    "            if y_pred[i] == y_true[i] and y_pred[i] != multi_class:\n",
    "                TN += 1\n",
    "        dictionary[multi_class] = TN\n",
    "    return dictionary\n",
    "\n",
    "def multiclass_FN(y_true, y_pred) -> dict:\n",
    "    \"\"\" Function to calculate False Negative of multiclass classifier \"\"\"\n",
    "    dictionary = {}\n",
    "    for multi_class in np.unique(y_true):\n",
    "        FN = 0\n",
    "        for i in range(len(y_true)):\n",
    "            if y_true[i] == multi_class and y_pred[i] != y_true[i]:\n",
    "                FN += 1\n",
    "        dictionary[multi_class] = FN\n",
    "    return dictionary\n",
    "\n",
    "def multiclass_precision(y_true, y_pred) -> dict:\n",
    "    \"\"\" Function to calculate Precision of multiclass classifier \"\"\"\n",
    "    dictionary = {}\n",
    "    for multi_class in np.unique(y_true):\n",
    "        TP = multiclass_TP(y_true, y_pred)[multi_class]\n",
    "        FP = multiclass_FP(y_true, y_pred)[multi_class]\n",
    "        if TP+FP == 0:\n",
    "            dictionary[multi_class] = 0\n",
    "        else:\n",
    "            dictionary[multi_class] = TP/(TP+FP)\n",
    "    return dictionary\n",
    "\n",
    "def multiclass_macro_precision(y_true, y_pred) -> float:\n",
    "    \"\"\" Function to calculate Macro Precision of multiclass classifier \"\"\"\n",
    "    summ, i = 0, 0\n",
    "    for key, value in multiclass_precision(y_true, y_pred).items():\n",
    "        summ += value\n",
    "        i += 1\n",
    "    return summ/i\n",
    "\n",
    "def multiclass_recall(y_true, y_pred) -> dict:\n",
    "    \"\"\" Function to calculate Recall of multiclass classifier \"\"\"\n",
    "    dictionary = {}\n",
    "    for multi_class in np.unique(y_true):\n",
    "        TP = multiclass_TP(y_true, y_pred)[multi_class]\n",
    "        FN = multiclass_FN(y_true, y_pred)[multi_class]\n",
    "        if TP+FN == 0:\n",
    "            dictionary[multi_class] = 0\n",
    "        else:\n",
    "            dictionary[multi_class] = TP/(TP+FN)\n",
    "    return dictionary\n",
    "\n",
    "def multiclass_macro_recall(y_true, y_pred) -> float:\n",
    "    \"\"\" Function to calculate Macro Recall of multiclass classifier \"\"\"\n",
    "    summ, i = 0, 0\n",
    "    for key, value in multiclass_recall(y_true, y_pred).items():\n",
    "        summ += value\n",
    "        i += 1\n",
    "    return summ/i\n",
    "       \n",
    "def multiclass_f1(y_true, y_pred) -> dict:\n",
    "    \"\"\" Function to calculate F1 of multiclass classifier \"\"\"\n",
    "    dictionary = {}\n",
    "    for multi_class in np.unique(y_true):\n",
    "        Precision = multiclass_precision(y_true, y_pred)\n",
    "        Recall = multiclass_recall(y_true, y_pred)\n",
    "        if Precision[multi_class]+Recall[multi_class] == 0:\n",
    "            dictionary[multi_class] = 0\n",
    "        else:\n",
    "            dictionary[multi_class] = 2*Precision[multi_class]*Recall[multi_class]/\\\n",
    "            (Precision[multi_class]+Recall[multi_class])\n",
    "    return dictionary\n",
    "\n",
    "def multiclass_macro_f1(y_true, y_pred) -> float:\n",
    "    \"\"\" Function to calculate Macro F1 of multiclass classifier \"\"\"\n",
    "    summ, i = 0, 0\n",
    "    for key, value in multiclass_f1(y_true, y_pred).items():\n",
    "        summ += value\n",
    "        i += 1\n",
    "    return summ/i\n",
    "\n",
    "def multiclass_accuracy(y_true, y_pred) -> float:\n",
    "    \"\"\" Function to calculate Accuracy of multiclass classifier \"\"\"\n",
    "    TP = 0\n",
    "    for x in range(len(y_true)):\n",
    "        if y_true[x] == y_pred[x]:\n",
    "            TP += 1\n",
    "    return TP/y_true.shape[0]\n",
    "\n",
    "def print_multiclass_metrics(y_true, y_pred) -> None:\n",
    "    \"\"\" Function to print most common metrics of multiclass classifier \"\"\"\n",
    "    for class_, score in multiclass_precision(multiclass_arr_test[:,1], multi_y_pred).items():\n",
    "        print(f\"Precision for class {int(class_)}: {score}\")\n",
    "    print(f\"Macro precision: {multiclass_macro_precision(y_true, y_pred)}\\n\")\n",
    "    for class_, score in multiclass_recall(multiclass_arr_test[:,1], multi_y_pred).items():\n",
    "        print(f\"Recall for class {int(class_)}: {score}\")\n",
    "    print(f\"Macro recall: {multiclass_macro_recall(y_true, y_pred)}\\n\")\n",
    "    for class_, score in multiclass_f1(multiclass_arr_test[:,1], multi_y_pred).items():\n",
    "        print(f\"F1 for class {int(class_)}: {score}\")\n",
    "    print(f\"Macro F1: {multiclass_macro_f1(y_true, y_pred)}\")\n",
    "    print(f'\\nAccuracy: {multiclass_accuracy(y_true, y_pred)}')\n",
    "    \n",
    "def calc_tp(y_true, y_pred) -> int:\n",
    "    \"\"\" Function to calculate True Positive of binary classifier \"\"\"\n",
    "    i = 0\n",
    "    for x in range(len(y_true)):\n",
    "        if y_pred[x] and y_true[x]:\n",
    "            i += 1\n",
    "    return i\n",
    "\n",
    "def calc_fp(y_true, y_pred) -> int:\n",
    "    \"\"\" Function to calculate False Positive of binary classifier \"\"\"\n",
    "    i = 0\n",
    "    for x in range(len(y_true)):\n",
    "        if y_pred[x] and (not y_true[x]):\n",
    "            i += 1\n",
    "    return i\n",
    "\n",
    "def calc_tn(y_true, y_pred) -> int:\n",
    "    \"\"\" Function to calculate True Negative of binary classifier \"\"\"\n",
    "    i = 0\n",
    "    for x in range(len(y_true)):\n",
    "        if (not y_pred[x]) and (not y_true[x]):\n",
    "            i += 1\n",
    "    return i\n",
    "\n",
    "def calc_fn(y_true, y_pred) -> int:\n",
    "    \"\"\" Function to calculate False Negative of binary classifier \"\"\"\n",
    "    i = 0\n",
    "    for x in range(len(y_true)):\n",
    "        if (not y_pred[x]) and y_true[x]:\n",
    "            i += 1\n",
    "    return i\n",
    "\n",
    "def calc_confusion_matrix(y_true, y_pred) -> np.array:\n",
    "    \"\"\" Function to calculate Confusion Matrix of binary classifier \"\"\"\n",
    "    # arr = np.array([[calc_tn(y_true, y_pred), calc_fp(y_true, y_pred)],\n",
    "    #                 [calc_fn(y_true, y_pred), calc_tp(y_true, y_pred)]])\n",
    "    # return arr\n",
    "    multiclass = np.unique(y_true)\n",
    "    dictionary = {}\n",
    "    for i, class_  in enumerate(multiclass):\n",
    "        dictionary[class_] = i\n",
    "    arr = np.zeros((multiclass.shape[0], multiclass.shape[0]))\n",
    "    for i in range(len(y_true)):    \n",
    "        arr[dictionary[y_true[i]]][dictionary[y_pred[i]]] += 1\n",
    "        #arr[dictionary[y_true[i]]][class_] += 1\n",
    "    return arr\n",
    "    \n",
    "    \n",
    "def plot_confusion_matrix(y_true, y_pred) -> None:\n",
    "    \"\"\" Function to plot Confusion Matrix of binary classifier \"\"\"\n",
    "    ## Calculate confusion matrix first\n",
    "    cf_matrix = calc_confusion_matrix(y_true, y_pred)\n",
    "    \n",
    "    ## Create heatmap\n",
    "    ax = sns.heatmap(cf_matrix, annot=True, cmap='Blues')\n",
    "\n",
    "    ax.set_title('Seaborn Confusion Matrix with labels\\n\\n');\n",
    "    ax.set_xlabel('\\nPredicted Values')\n",
    "    ax.set_ylabel('Actual Values ');\n",
    "\n",
    "    ## Ticket labels - List must be in alphabetical order\n",
    "    ax.xaxis.set_ticklabels(np.unique(y_true))\n",
    "    ax.yaxis.set_ticklabels(np.unique(y_true))\n",
    "\n",
    "    ## Display the visualization of the Confusion Matrix.\n",
    "    plt.show()\n",
    "\n",
    "def calc_precision(y_true, y_pred) -> float:\n",
    "    \"\"\" Function to calculate Precision of binary classifier \"\"\"\n",
    "    try:\n",
    "        return calc_tp(y_true, y_pred)/(calc_tp(y_true, y_pred)+calc_fp(y_true, y_pred))\n",
    "    except ZeroDivisionError:\n",
    "        return 0\n",
    "\n",
    "\n",
    "def calc_recall(y_true, y_pred) -> float:\n",
    "    \"\"\" Function to calculate Recall of binary classifier \"\"\"\n",
    "    try:\n",
    "        return calc_tp(y_true, y_pred)/(calc_tp(y_true, y_pred) + calc_fn(y_true, y_pred))\n",
    "    except ZeroDivisionError:\n",
    "        return 0\n",
    "\n",
    "\n",
    "def calc_f1_measure(y_true, y_pred) -> float:\n",
    "    \"\"\" Function to calculate F1 of binary classifier \"\"\"\n",
    "    try:\n",
    "        return 2*calc_recall(y_true, y_pred)*calc_precision(y_true, y_pred)/(calc_recall(y_true, y_pred)+calc_precision(y_true, y_pred))\n",
    "    except ZeroDivisionError:\n",
    "        return 0  \n",
    "    \n",
    "def calc_accuracy(y_true, y_pred) -> float:\n",
    "    \"\"\" Function to calculate Accuracy of binary classifier \"\"\"\n",
    "    try:\n",
    "        return (calc_tp(y_true, y_pred)+calc_tn(y_true, y_pred))/\\\n",
    "    (calc_tp(y_true, y_pred)+calc_tn(y_true, y_pred)+calc_fp(y_true, y_pred)+calc_fn(y_true, y_pred))\n",
    "    except ZeroDivisionError:\n",
    "        return 0"
   ]
  },
  {
   "cell_type": "code",
   "execution_count": 82,
   "id": "ab7b7905-7054-4869-8ccd-26bd3c0a2eb0",
   "metadata": {},
   "outputs": [
    {
     "data": {
      "image/png": "[encoded data removed]",
      "text/plain": [
       "<Figure size 432x288 with 2 Axes>"
      ]
     },
     "metadata": {
      "needs_background": "light"
     },
     "output_type": "display_data"
    }
   ],
   "source": [
    "arr11 = np.array([0,0,0,0,0,0])\n",
    "arr22 = np.array([1,1,1,1,1,1])\n",
    "assert calc_recall(arr11, arr22) == 0, \"wrong recall\"\n",
    "arr1 = np.array([0,1,0,1,1,0])\n",
    "arr2 = np.array([0,1,0,1,0,0])\n",
    "assert calc_tp(arr1, arr2) == 2, 'wrong tp'\n",
    "assert calc_fp(arr1, arr2) == 0, 'wrong fp'\n",
    "assert calc_tn(arr1, arr2) == 3, 'wrong tn'\n",
    "assert calc_fn(arr1, arr2) == 1, 'wrong fn'\n",
    "assert np.all(calc_confusion_matrix(arr1, arr2) == np.array([[3, 0],[1, 2]])), 'wrong confusion matrix'\n",
    "plot_confusion_matrix(arr1, arr2)"
   ]
  },
  {
   "cell_type": "code",
   "execution_count": 83,
   "id": "8187fd4b-b166-4444-b090-2443c2e40d49",
   "metadata": {},
   "outputs": [],
   "source": [
    "csv_valid = np.array(csv_valid, dtype=float)\n",
    "y_true = csv_valid[:,1]\n",
    "x_valid = csv_valid[:,:1]\n",
    "y_pred = model.predict_proba(x_valid)[:,1]>0.645"
   ]
  },
  {
   "cell_type": "code",
   "execution_count": 193,
   "id": "aac5337f-d8b5-4c96-afb8-0cb3066de692",
   "metadata": {},
   "outputs": [],
   "source": [
    "# def calculate_metrics(classifier, x, y, positive_class=1):\n",
    "#     thresholds = [i/50 for i in range(1, 50)]\n",
    "#     plt_arr1, plt_arr2, plt_arr3, plt_arr4 = [], [], [], []\n",
    "#     y_pred = classifier.predict_proba(x)[:,1]\n",
    "#     for threshold in tqdm(thresholds):\n",
    "#         y_pred_class = y_pred > threshold\n",
    "#         plt_arr1.append(multiclass_precision(y, y_pred_class)[positive_class])\n",
    "#         plt_arr2.append(multiclass_recall(y, y_pred_class)[positive_class])\n",
    "#         plt_arr3.append(multiclass_f1(y, y_pred_class)[positive_class])\n",
    "#         plt_arr4.append(multiclass_accuracy(y, y_pred_class))\n",
    "#         # plt_arr2.append(calc_recall(y, y_pred))\n",
    "#         # plt_arr3.append(calc_f1_measure(y, y_pred))\n",
    "#         # plt_arr4.append(calc_accuracy(y, y_pred))\n",
    "#     return plt_arr1, plt_arr2, plt_arr3, plt_arr4, thresholds\n",
    "def calculate_metrics(classifier, func, x, y, positive_class=1):\n",
    "    thresholds = [i/50 for i in range(1, 50)]\n",
    "    plt_arr1, plt_arr2, plt_arr3, plt_arr4 = [], [], [], []\n",
    "    \n",
    "    for threshold in tqdm(thresholds):\n",
    "        y_pred_class = func(classifier, x, 0.09, threshold)\n",
    "        plt_arr1.append(multiclass_precision(y, y_pred_class)[positive_class])\n",
    "        plt_arr2.append(multiclass_recall(y, y_pred_class)[positive_class])\n",
    "        plt_arr3.append(multiclass_f1(y, y_pred_class)[positive_class])\n",
    "        plt_arr4.append(multiclass_accuracy(y, y_pred_class))\n",
    "        # plt_arr2.append(calc_recall(y, y_pred))\n",
    "        # plt_arr3.append(calc_f1_measure(y, y_pred))\n",
    "        # plt_arr4.append(calc_accuracy(y, y_pred))\n",
    "    return plt_arr1, plt_arr2, plt_arr3, plt_arr4, thresholds"
   ]
  },
  {
   "cell_type": "code",
   "execution_count": 199,
   "id": "c09e4847-63dd-40e1-a4c7-5fbf0adf7702",
   "metadata": {},
   "outputs": [],
   "source": [
    "def plot_metrics(model, func, x_valid, y_true, positive_class=1.0):\n",
    "    plt.figure()\n",
    "    plt_a1, plt_a2, plt_a3, plt_a4, threshold = calculate_metrics(model, func, x_valid, y_true, positive_class)\n",
    "    plt.plot(threshold, plt_a1, label=\"precision\")\n",
    "    plt.plot(threshold, plt_a2, label=\"recall\")\n",
    "    plt.plot(threshold, plt_a3, label=\"f1\")\n",
    "    for x in range(len(plt_a2)):\n",
    "        if plt_a2[x] == 1:\n",
    "            plt.scatter([threshold[x]], [1], label=\"best\")\n",
    "            print(x)\n",
    "            break\n",
    "    mn, mn_t = 0, 0\n",
    "    for x in range(len(plt_a1)):\n",
    "        if plt_a1[x] > mn:\n",
    "            mn = plt_a1[x]\n",
    "            mn_t = threshold[x]\n",
    "\n",
    "    plt.scatter([mn_t], [mn], label='best1')\n",
    "    plt.legend(loc=\"upper right\")\n",
    "    plt.figure()\n",
    "    plt.plot(threshold, plt_a4, label=\"accuracy\")\n",
    "    plt.legend(loc=\"upper right\")\n"
   ]
  },
  {
   "cell_type": "code",
   "execution_count": 200,
   "id": "ce6b448b-fb35-412f-a8f6-aae1d54176fb",
   "metadata": {},
   "outputs": [
    {
     "name": "stderr",
     "output_type": "stream",
     "text": [
      "  0%|          | 0/49 [00:00<?, ?it/s]\n"
     ]
    },
    {
     "ename": "TypeError",
     "evalue": "'numpy.ndarray' object is not callable",
     "output_type": "error",
     "traceback": [
      "\u001b[0;31m---------------------------------------------------------------------------\u001b[0m",
      "\u001b[0;31mTypeError\u001b[0m                                 Traceback (most recent call last)",
      "\u001b[0;32m<ipython-input-200-981271489cb8>\u001b[0m in \u001b[0;36m<module>\u001b[0;34m\u001b[0m\n\u001b[0;32m----> 1\u001b[0;31m \u001b[0mplot_metrics\u001b[0m\u001b[0;34m(\u001b[0m\u001b[0mmodel\u001b[0m\u001b[0;34m,\u001b[0m \u001b[0mx_valid\u001b[0m\u001b[0;34m,\u001b[0m \u001b[0my_true\u001b[0m\u001b[0;34m,\u001b[0m \u001b[0;36m0\u001b[0m\u001b[0;34m)\u001b[0m\u001b[0;34m\u001b[0m\u001b[0;34m\u001b[0m\u001b[0m\n\u001b[0m",
      "\u001b[0;32m<ipython-input-199-a8918316da11>\u001b[0m in \u001b[0;36mplot_metrics\u001b[0;34m(model, func, x_valid, y_true, positive_class)\u001b[0m\n\u001b[1;32m      1\u001b[0m \u001b[0;32mdef\u001b[0m \u001b[0mplot_metrics\u001b[0m\u001b[0;34m(\u001b[0m\u001b[0mmodel\u001b[0m\u001b[0;34m,\u001b[0m \u001b[0mfunc\u001b[0m\u001b[0;34m,\u001b[0m \u001b[0mx_valid\u001b[0m\u001b[0;34m,\u001b[0m \u001b[0my_true\u001b[0m\u001b[0;34m,\u001b[0m \u001b[0mpositive_class\u001b[0m\u001b[0;34m=\u001b[0m\u001b[0;36m1.0\u001b[0m\u001b[0;34m)\u001b[0m\u001b[0;34m:\u001b[0m\u001b[0;34m\u001b[0m\u001b[0;34m\u001b[0m\u001b[0m\n\u001b[1;32m      2\u001b[0m     \u001b[0mplt\u001b[0m\u001b[0;34m.\u001b[0m\u001b[0mfigure\u001b[0m\u001b[0;34m(\u001b[0m\u001b[0;34m)\u001b[0m\u001b[0;34m\u001b[0m\u001b[0;34m\u001b[0m\u001b[0m\n\u001b[0;32m----> 3\u001b[0;31m     \u001b[0mplt_a1\u001b[0m\u001b[0;34m,\u001b[0m \u001b[0mplt_a2\u001b[0m\u001b[0;34m,\u001b[0m \u001b[0mplt_a3\u001b[0m\u001b[0;34m,\u001b[0m \u001b[0mplt_a4\u001b[0m\u001b[0;34m,\u001b[0m \u001b[0mthreshold\u001b[0m \u001b[0;34m=\u001b[0m \u001b[0mcalculate_metrics\u001b[0m\u001b[0;34m(\u001b[0m\u001b[0mmodel\u001b[0m\u001b[0;34m,\u001b[0m \u001b[0mfunc\u001b[0m\u001b[0;34m,\u001b[0m \u001b[0mx_valid\u001b[0m\u001b[0;34m,\u001b[0m \u001b[0my_true\u001b[0m\u001b[0;34m,\u001b[0m \u001b[0mpositive_class\u001b[0m\u001b[0;34m)\u001b[0m\u001b[0;34m\u001b[0m\u001b[0;34m\u001b[0m\u001b[0m\n\u001b[0m\u001b[1;32m      4\u001b[0m     \u001b[0mplt\u001b[0m\u001b[0;34m.\u001b[0m\u001b[0mplot\u001b[0m\u001b[0;34m(\u001b[0m\u001b[0mthreshold\u001b[0m\u001b[0;34m,\u001b[0m \u001b[0mplt_a1\u001b[0m\u001b[0;34m,\u001b[0m \u001b[0mlabel\u001b[0m\u001b[0;34m=\u001b[0m\u001b[0;34m\"precision\"\u001b[0m\u001b[0;34m)\u001b[0m\u001b[0;34m\u001b[0m\u001b[0;34m\u001b[0m\u001b[0m\n\u001b[1;32m      5\u001b[0m     \u001b[0mplt\u001b[0m\u001b[0;34m.\u001b[0m\u001b[0mplot\u001b[0m\u001b[0;34m(\u001b[0m\u001b[0mthreshold\u001b[0m\u001b[0;34m,\u001b[0m \u001b[0mplt_a2\u001b[0m\u001b[0;34m,\u001b[0m \u001b[0mlabel\u001b[0m\u001b[0;34m=\u001b[0m\u001b[0;34m\"recall\"\u001b[0m\u001b[0;34m)\u001b[0m\u001b[0;34m\u001b[0m\u001b[0;34m\u001b[0m\u001b[0m\n",
      "\u001b[0;32m<ipython-input-193-f926cf3a020f>\u001b[0m in \u001b[0;36mcalculate_metrics\u001b[0;34m(classifier, func, x, y, positive_class)\u001b[0m\n\u001b[1;32m     18\u001b[0m \u001b[0;34m\u001b[0m\u001b[0m\n\u001b[1;32m     19\u001b[0m     \u001b[0;32mfor\u001b[0m \u001b[0mthreshold\u001b[0m \u001b[0;32min\u001b[0m \u001b[0mtqdm\u001b[0m\u001b[0;34m(\u001b[0m\u001b[0mthresholds\u001b[0m\u001b[0;34m)\u001b[0m\u001b[0;34m:\u001b[0m\u001b[0;34m\u001b[0m\u001b[0;34m\u001b[0m\u001b[0m\n\u001b[0;32m---> 20\u001b[0;31m         \u001b[0my_pred_class\u001b[0m \u001b[0;34m=\u001b[0m \u001b[0mfunc\u001b[0m\u001b[0;34m(\u001b[0m\u001b[0mclassifier\u001b[0m\u001b[0;34m,\u001b[0m \u001b[0mx\u001b[0m\u001b[0;34m,\u001b[0m \u001b[0;36m0.09\u001b[0m\u001b[0;34m,\u001b[0m \u001b[0mthreshold\u001b[0m\u001b[0;34m)\u001b[0m\u001b[0;34m\u001b[0m\u001b[0;34m\u001b[0m\u001b[0m\n\u001b[0m\u001b[1;32m     21\u001b[0m         \u001b[0mplt_arr1\u001b[0m\u001b[0;34m.\u001b[0m\u001b[0mappend\u001b[0m\u001b[0;34m(\u001b[0m\u001b[0mmulticlass_precision\u001b[0m\u001b[0;34m(\u001b[0m\u001b[0my\u001b[0m\u001b[0;34m,\u001b[0m \u001b[0my_pred_class\u001b[0m\u001b[0;34m)\u001b[0m\u001b[0;34m[\u001b[0m\u001b[0mpositive_class\u001b[0m\u001b[0;34m]\u001b[0m\u001b[0;34m)\u001b[0m\u001b[0;34m\u001b[0m\u001b[0;34m\u001b[0m\u001b[0m\n\u001b[1;32m     22\u001b[0m         \u001b[0mplt_arr2\u001b[0m\u001b[0;34m.\u001b[0m\u001b[0mappend\u001b[0m\u001b[0;34m(\u001b[0m\u001b[0mmulticlass_recall\u001b[0m\u001b[0;34m(\u001b[0m\u001b[0my\u001b[0m\u001b[0;34m,\u001b[0m \u001b[0my_pred_class\u001b[0m\u001b[0;34m)\u001b[0m\u001b[0;34m[\u001b[0m\u001b[0mpositive_class\u001b[0m\u001b[0;34m]\u001b[0m\u001b[0;34m)\u001b[0m\u001b[0;34m\u001b[0m\u001b[0;34m\u001b[0m\u001b[0m\n",
      "\u001b[0;31mTypeError\u001b[0m: 'numpy.ndarray' object is not callable"
     ]
    },
    {
     "data": {
      "text/plain": [
       "<Figure size 432x288 with 0 Axes>"
      ]
     },
     "metadata": {},
     "output_type": "display_data"
    }
   ],
   "source": [
    "plot_metrics(model, x_valid, y_true, 0)"
   ]
  },
  {
   "cell_type": "code",
   "execution_count": 190,
   "id": "4a5a2467-c8a5-4dd2-8790-e19817c43f0d",
   "metadata": {},
   "outputs": [
    {
     "name": "stdout",
     "output_type": "stream",
     "text": [
      "0\n",
      "0.0\n",
      "0\n",
      "0.99\n"
     ]
    }
   ],
   "source": [
    "print(calc_precision(y_true, y_pred))\n",
    "print(calc_recall(y_true, y_pred))\n",
    "print(calc_f1_measure(y_true, y_pred))\n",
    "print(calc_accuracy(y_true, y_pred))"
   ]
  },
  {
   "cell_type": "code",
   "execution_count": 88,
   "id": "69b4c9a7-66aa-4c41-81bc-09ad549c07b1",
   "metadata": {},
   "outputs": [
    {
     "data": {
      "image/png": "[encoded data removed]",
      "text/plain": [
       "<Figure size 432x288 with 2 Axes>"
      ]
     },
     "metadata": {
      "needs_background": "light"
     },
     "output_type": "display_data"
    }
   ],
   "source": [
    "plot_confusion_matrix(y_true, y_pred)"
   ]
  },
  {
   "cell_type": "markdown",
   "id": "977a9816-7fa6-4d0a-9ea4-2312abd7c57e",
   "metadata": {},
   "source": [
    "# Quadratic classifier"
   ]
  },
  {
   "cell_type": "code",
   "execution_count": 89,
   "id": "25600279-6556-44e1-a979-f6d2fb735dd0",
   "metadata": {},
   "outputs": [],
   "source": [
    "x_quad_train = get_quadratic_features(x_train)"
   ]
  },
  {
   "cell_type": "code",
   "execution_count": 90,
   "id": "9c178a80-44b6-49dd-84b4-697dc82f8aee",
   "metadata": {},
   "outputs": [],
   "source": [
    "quad_model = SGDClassifier(loss='log')"
   ]
  },
  {
   "cell_type": "code",
   "execution_count": 91,
   "id": "ab559180-b740-447a-aa23-9c467a0d398c",
   "metadata": {},
   "outputs": [
    {
     "data": {
      "text/plain": [
       "SGDClassifier(loss='log')"
      ]
     },
     "execution_count": 91,
     "metadata": {},
     "output_type": "execute_result"
    }
   ],
   "source": [
    "quad_model.fit(x_quad_train, y_train)"
   ]
  },
  {
   "cell_type": "code",
   "execution_count": 92,
   "id": "c6d95939-769a-4bf5-a154-49c61693aa4b",
   "metadata": {},
   "outputs": [
    {
     "name": "stdout",
     "output_type": "stream",
     "text": [
      "0\n"
     ]
    },
    {
     "data": {
      "image/png": "[encoded data removed]",
      "text/plain": [
       "<Figure size 432x288 with 1 Axes>"
      ]
     },
     "metadata": {
      "needs_background": "light"
     },
     "output_type": "display_data"
    },
    {
     "data": {
      "image/png": "[encoded data removed]",
      "text/plain": [
       "<Figure size 432x288 with 1 Axes>"
      ]
     },
     "metadata": {
      "needs_background": "light"
     },
     "output_type": "display_data"
    }
   ],
   "source": [
    "plot_metrics(quad_model, get_quadratic_features(x_valid), y_true)"
   ]
  },
  {
   "cell_type": "code",
   "execution_count": 93,
   "id": "e79f1a56-f04f-40fa-8196-394a02f24078",
   "metadata": {},
   "outputs": [],
   "source": [
    "quad_arr = quad_model.predict_proba(get_quadratic_features(x_valid))[:,1]>0.05"
   ]
  },
  {
   "cell_type": "code",
   "execution_count": 94,
   "id": "03585d91-48b7-4337-9ab6-df75963235da",
   "metadata": {},
   "outputs": [
    {
     "data": {
      "image/png": "[encoded data removed]",
      "text/plain": [
       "<Figure size 432x288 with 2 Axes>"
      ]
     },
     "metadata": {
      "needs_background": "light"
     },
     "output_type": "display_data"
    }
   ],
   "source": [
    "plot_confusion_matrix(y_true, quad_arr)"
   ]
  },
  {
   "cell_type": "code",
   "execution_count": 98,
   "id": "36082c38-a5bf-4cd8-b684-ddb963a85861",
   "metadata": {},
   "outputs": [],
   "source": [
    "def multiclass_TP(y_true, y_pred) -> dict:\n",
    "    \"\"\" Function to calculate True Positive of multiclass classifier \"\"\"\n",
    "    dictionary = {}\n",
    "    for multi_class in np.unique(y_true):\n",
    "        TP = 0\n",
    "        for i in range(len(y_true)):\n",
    "            if y_pred[i] == y_true[i] and y_true[i] == multi_class:\n",
    "                TP += 1\n",
    "        dictionary[multi_class] = TP\n",
    "    return dictionary\n",
    "\n",
    "def multiclass_FP(y_true, y_pred) -> dict:\n",
    "    \"\"\" Function to calculate False Positive of multiclass classifier \"\"\"\n",
    "    dictionary = {}\n",
    "    for multi_class in np.unique(y_true):\n",
    "        FP = 0\n",
    "        for i in range(len(y_true)):\n",
    "            if y_pred[i] == multi_class and y_pred[i] != y_true[i]:\n",
    "                FP += 1\n",
    "        dictionary[multi_class] = FP\n",
    "    return dictionary\n",
    "\n",
    "def multiclass_TN(y_true, y_pred) -> dict:\n",
    "    \"\"\" Function to calculate False Positive of multiclass classifier \"\"\"\n",
    "    dictionary = {}\n",
    "    for multi_class in np.unique(y_true):\n",
    "        TN = 0\n",
    "        for i in range(len(y_true)):\n",
    "            if y_pred[i] == y_true[i] and y_pred[i] != multi_class:\n",
    "                TN += 1\n",
    "        dictionary[multi_class] = TN\n",
    "    return dictionary\n",
    "\n",
    "def multiclass_FN(y_true, y_pred) -> dict:\n",
    "    \"\"\" Function to calculate False Negative of multiclass classifier \"\"\"\n",
    "    dictionary = {}\n",
    "    for multi_class in np.unique(y_true):\n",
    "        FN = 0\n",
    "        for i in range(len(y_true)):\n",
    "            if y_true[i] == multi_class and y_pred[i] != y_true[i]:\n",
    "                FN += 1\n",
    "        dictionary[multi_class] = FN\n",
    "    return dictionary\n",
    "\n",
    "def multiclass_precision(y_true, y_pred) -> dict:\n",
    "    \"\"\" Function to calculate Precision of multiclass classifier \"\"\"\n",
    "    dictionary = {}\n",
    "    for multi_class in np.unique(y_true):\n",
    "        TP = multiclass_TP(y_true, y_pred)[multi_class]\n",
    "        FP = multiclass_FP(y_true, y_pred)[multi_class]\n",
    "        if TP+FP == 0:\n",
    "            dictionary[multi_class] = 0\n",
    "        else:\n",
    "            dictionary[multi_class] = TP/(TP+FP)\n",
    "    return dictionary\n",
    "\n",
    "def multiclass_macro_precision(y_true, y_pred) -> float:\n",
    "    \"\"\" Function to calculate Macro Precision of multiclass classifier \"\"\"\n",
    "    summ, i = 0, 0\n",
    "    for key, value in multiclass_precision(y_true, y_pred).items():\n",
    "        summ += value\n",
    "        i += 1\n",
    "    return summ/i\n",
    "\n",
    "def multiclass_recall(y_true, y_pred) -> dict:\n",
    "    \"\"\" Function to calculate Recall of multiclass classifier \"\"\"\n",
    "    dictionary = {}\n",
    "    for multi_class in np.unique(y_true):\n",
    "        TP = multiclass_TP(y_true, y_pred)[multi_class]\n",
    "        FN = multiclass_FN(y_true, y_pred)[multi_class]\n",
    "        if TP+FN == 0:\n",
    "            dictionary[multi_class] = 0\n",
    "        else:\n",
    "            dictionary[multi_class] = TP/(TP+FN)\n",
    "    return dictionary\n",
    "\n",
    "def multiclass_macro_recall(y_true, y_pred) -> float:\n",
    "    \"\"\" Function to calculate Macro Recall of multiclass classifier \"\"\"\n",
    "    summ, i = 0, 0\n",
    "    for key, value in multiclass_recall(y_true, y_pred).items():\n",
    "        summ += value\n",
    "        i += 1\n",
    "    return summ/i\n",
    "       \n",
    "def multiclass_f1(y_true, y_pred) -> dict:\n",
    "    \"\"\" Function to calculate F1 of multiclass classifier \"\"\"\n",
    "    dictionary = {}\n",
    "    for multi_class in np.unique(y_true):\n",
    "        Precision = multiclass_precision(y_true, y_pred)\n",
    "        Recall = multiclass_recall(y_true, y_pred)\n",
    "        if Precision[multi_class]+Recall[multi_class] == 0:\n",
    "            dictionary[multi_class] = 0\n",
    "        else:\n",
    "            dictionary[multi_class] = 2*Precision[multi_class]*Recall[multi_class]/\\\n",
    "            (Precision[multi_class]+Recall[multi_class])\n",
    "    return dictionary\n",
    "\n",
    "def multiclass_macro_f1(y_true, y_pred) -> float:\n",
    "    \"\"\" Function to calculate Macro F1 of multiclass classifier \"\"\"\n",
    "    summ, i = 0, 0\n",
    "    for key, value in multiclass_f1(y_true, y_pred).items():\n",
    "        summ += value\n",
    "        i += 1\n",
    "    return summ/i\n",
    "\n",
    "def multiclass_accuracy(y_true, y_pred) -> float:\n",
    "    \"\"\" Function to calculate Accuracy of multiclass classifier \"\"\"\n",
    "    TP = 0\n",
    "    for x in range(len(y_true)):\n",
    "        if y_true[x] == y_pred[x]:\n",
    "            TP += 1\n",
    "    return TP/y_true.shape[0]\n",
    "\n",
    "def print_multiclass_metrics(y_true, y_pred) -> None:\n",
    "    \"\"\" Function to print most common metrics of multiclass classifier \"\"\"\n",
    "    for class_, score in multiclass_precision(multiclass_arr_test[:,1], multi_y_pred).items():\n",
    "        print(f\"Precision for class {int(class_)}: {score}\")\n",
    "    print(f\"Macro precision: {multiclass_macro_precision(y_true, y_pred)}\\n\")\n",
    "    for class_, score in multiclass_recall(multiclass_arr_test[:,1], multi_y_pred).items():\n",
    "        print(f\"Recall for class {int(class_)}: {score}\")\n",
    "    print(f\"Macro recall: {multiclass_macro_recall(y_true, y_pred)}\\n\")\n",
    "    for class_, score in multiclass_f1(multiclass_arr_test[:,1], multi_y_pred).items():\n",
    "        print(f\"F1 for class {int(class_)}: {score}\")\n",
    "    print(f\"Macro F1: {multiclass_macro_f1(y_true, y_pred)}\")\n",
    "    print(f'\\nAccuracy: {multiclass_accuracy(y_true, y_pred)}')"
   ]
  },
  {
   "cell_type": "code",
   "execution_count": 95,
   "id": "87d817bc-5870-44d8-b6a6-c9700badb1c4",
   "metadata": {},
   "outputs": [
    {
     "name": "stdout",
     "output_type": "stream",
     "text": [
      "0\n"
     ]
    },
    {
     "data": {
      "image/png": "[encoded data removed]",
      "text/plain": [
       "<Figure size 432x288 with 1 Axes>"
      ]
     },
     "metadata": {
      "needs_background": "light"
     },
     "output_type": "display_data"
    },
    {
     "data": {
      "image/png": "[encoded data removed]",
      "text/plain": [
       "<Figure size 432x288 with 1 Axes>"
      ]
     },
     "metadata": {
      "needs_background": "light"
     },
     "output_type": "display_data"
    }
   ],
   "source": [
    "plot_metrics(quad_model, x_quad_train, y_train)"
   ]
  },
  {
   "cell_type": "code",
   "execution_count": 96,
   "id": "6a171276-b536-4552-9073-d13a5dd6a078",
   "metadata": {},
   "outputs": [
    {
     "name": "stdout",
     "output_type": "stream",
     "text": [
      "0\n"
     ]
    },
    {
     "data": {
      "image/png": "[encoded data removed]",
      "text/plain": [
       "<Figure size 432x288 with 1 Axes>"
      ]
     },
     "metadata": {
      "needs_background": "light"
     },
     "output_type": "display_data"
    },
    {
     "data": {
      "image/png": "[encoded data removed]",
      "text/plain": [
       "<Figure size 432x288 with 1 Axes>"
      ]
     },
     "metadata": {
      "needs_background": "light"
     },
     "output_type": "display_data"
    }
   ],
   "source": [
    "plot_metrics(model, x_train, y_train)"
   ]
  },
  {
   "cell_type": "markdown",
   "id": "9d247563-7d3c-475a-b684-6b2573caccfd",
   "metadata": {},
   "source": [
    "# Multiclass classifier"
   ]
  },
  {
   "cell_type": "code",
   "execution_count": 97,
   "id": "d24ba7ac-3d70-4f39-a25c-d8ce58501431",
   "metadata": {},
   "outputs": [],
   "source": [
    "from sklearn.metrics import classification_report\n",
    "from copy import copy"
   ]
  },
  {
   "cell_type": "code",
   "execution_count": 99,
   "id": "d445d283-a3b2-4b5e-b42f-492b4d1c3baf",
   "metadata": {},
   "outputs": [],
   "source": [
    "def multi_pred(model, x, treshold1, treshold2):\n",
    "    \"\"\" Prediction function \"\"\"\n",
    "    multiclass_ans = np.empty((x.shape[0], ), dtype=int)\n",
    "    model1_pred = model[0].predict_proba(x)\n",
    "    model2_pred = model[1].predict_proba(x)\n",
    "    for i in range(len(model1_pred)):\n",
    "        if model1_pred[i][1] > treshold1:\n",
    "            multiclass_ans[i] = 1\n",
    "        else:\n",
    "            if model2_pred[i][1] > treshold2:\n",
    "                multiclass_ans[i] = 2\n",
    "            else:\n",
    "                multiclass_ans[i] = 0\n",
    "    return multiclass_ans"
   ]
  },
  {
   "cell_type": "code",
   "execution_count": 100,
   "id": "6323af33-0501-4d30-ae13-2195413fa771",
   "metadata": {},
   "outputs": [],
   "source": [
    "multiclass_arr = file_opener(\"task_multiclass.csv\", 'r')\n",
    "multiclass_arr = np.array(multiclass_arr, dtype=float)\n",
    "multiclass_arr_test = file_opener(\"task_multiclass_test.csv\", 'r')\n",
    "multiclass_arr_test = np.array(multiclass_arr_test, dtype=float)"
   ]
  },
  {
   "cell_type": "code",
   "execution_count": 101,
   "id": "76fc64a0-03de-48ba-9fa9-bbbb98a9902e",
   "metadata": {},
   "outputs": [
    {
     "name": "stdout",
     "output_type": "stream",
     "text": [
      "(4040, 1)\n",
      "(4040, 1)\n",
      "(4040,)\n",
      "(4040,)\n"
     ]
    }
   ],
   "source": [
    "multiclass_arr1 = copy(multiclass_arr)\n",
    "for x in range(len(multiclass_arr1)):\n",
    "    if multiclass_arr[x][1] == 2.0:\n",
    "        multiclass_arr1[x][1] = 0\n",
    "multiclass_arr2 = copy(multiclass_arr)\n",
    "for x in range(len(multiclass_arr2)):\n",
    "    if multiclass_arr[x][1] == 1.0:\n",
    "        multiclass_arr2[x][1] = 0\n",
    "    elif multiclass_arr[x][1] == 2.0:\n",
    "        multiclass_arr1[x][1] = 1\n",
    "multi_x1_train = multiclass_arr1[:,0].reshape(multiclass_arr1.shape[0], 1)\n",
    "multi_x2_train = multiclass_arr2[:,0].reshape(multiclass_arr2.shape[0], 1)\n",
    "multi_y1_train = multiclass_arr1[:,1]\n",
    "multi_y2_train = multiclass_arr2[:,1]\n",
    "print(multi_x1_train.shape)\n",
    "print(multi_x2_train.shape)\n",
    "print(multi_y1_train.shape)\n",
    "print(multi_y2_train.shape)"
   ]
  },
  {
   "cell_type": "code",
   "execution_count": 102,
   "id": "003da1ca-c715-4253-88d9-92cc7aeb92be",
   "metadata": {},
   "outputs": [
    {
     "data": {
      "text/plain": [
       "SGDClassifier(loss='log')"
      ]
     },
     "execution_count": 102,
     "metadata": {},
     "output_type": "execute_result"
    }
   ],
   "source": [
    "multi_model1 = SGDClassifier(loss='log')\n",
    "multi_model2 = SGDClassifier(loss='log')\n",
    "multi_model1.fit(multi_x1_train, multi_y1_train)\n",
    "multi_model2.fit(multi_x2_train, multi_y2_train)"
   ]
  },
  {
   "cell_type": "code",
   "execution_count": 205,
   "id": "03b20f94-4b5c-459f-9764-209c49e25e12",
   "metadata": {},
   "outputs": [],
   "source": [
    "multi_y_pred = multi_pred((multi_model1, multi_model2), multiclass_arr_test[:,:1], 0.09, 0.01)"
   ]
  },
  {
   "cell_type": "code",
   "execution_count": 206,
   "id": "94bca1b8-1ac7-4e9f-9f63-6ee49af2fdb2",
   "metadata": {},
   "outputs": [
    {
     "data": {
      "text/plain": [
       "0.8641089108910891"
      ]
     },
     "execution_count": 206,
     "metadata": {},
     "output_type": "execute_result"
    }
   ],
   "source": [
    "multiclass_accuracy(multiclass_arr_test[:,1], multi_y_pred)"
   ]
  },
  {
   "cell_type": "markdown",
   "id": "c3671789-7bf9-4117-9c6a-4c41984fe1f3",
   "metadata": {},
   "source": [
    "# Metrics for multiclass classification #"
   ]
  },
  {
   "cell_type": "markdown",
   "id": "b36da68c-a9f5-4b69-823b-3c85e3166bf0",
   "metadata": {},
   "source": [
    "### Implemented with functions: ###"
   ]
  },
  {
   "cell_type": "code",
   "execution_count": 207,
   "id": "a7ca0eb1-543a-4817-96e3-04a026229558",
   "metadata": {},
   "outputs": [
    {
     "name": "stdout",
     "output_type": "stream",
     "text": [
      "Precision for class 0: 0.9885419650529934\n",
      "Precision for class 1: 0\n",
      "Precision for class 2: 0.07285974499089254\n",
      "Macro precision: 0.35380057001462867\n",
      "\n",
      "Recall for class 0: 0.8714646464646465\n",
      "Recall for class 1: 0.0\n",
      "Recall for class 2: 1.0\n",
      "Macro recall: 0.6238215488215488\n",
      "\n",
      "F1 for class 0: 0.9263186149510132\n",
      "F1 for class 1: 0\n",
      "F1 for class 2: 0.13582342954159593\n",
      "Macro F1: 0.354047348164203\n",
      "\n",
      "Accuracy: 0.8641089108910891\n"
     ]
    }
   ],
   "source": [
    "print_multiclass_metrics(multiclass_arr_test[:,1], multi_y_pred)"
   ]
  },
  {
   "cell_type": "markdown",
   "id": "e9951c40-7bfa-445a-bc1c-096a3df49ad8",
   "metadata": {},
   "source": [
    "### Sklearn classification report: ###"
   ]
  },
  {
   "cell_type": "code",
   "execution_count": 208,
   "id": "5b403b8f-16f2-4411-8df5-530596e9bacb",
   "metadata": {},
   "outputs": [
    {
     "name": "stdout",
     "output_type": "stream",
     "text": [
      "              precision    recall  f1-score   support\n",
      "\n",
      "         0.0       0.99      0.87      0.93      3960\n",
      "         1.0       0.00      0.00      0.00        40\n",
      "         2.0       0.07      1.00      0.14        40\n",
      "\n",
      "    accuracy                           0.86      4040\n",
      "   macro avg       0.35      0.62      0.35      4040\n",
      "weighted avg       0.97      0.86      0.91      4040\n",
      "\n"
     ]
    },
    {
     "name": "stderr",
     "output_type": "stream",
     "text": [
      "/Users/bolevard/.pyenv/versions/3.6.15/envs/jupvenv/lib/python3.6/site-packages/sklearn/metrics/_classification.py:1248: UndefinedMetricWarning: Precision and F-score are ill-defined and being set to 0.0 in labels with no predicted samples. Use `zero_division` parameter to control this behavior.\n",
      "  _warn_prf(average, modifier, msg_start, len(result))\n",
      "/Users/bolevard/.pyenv/versions/3.6.15/envs/jupvenv/lib/python3.6/site-packages/sklearn/metrics/_classification.py:1248: UndefinedMetricWarning: Precision and F-score are ill-defined and being set to 0.0 in labels with no predicted samples. Use `zero_division` parameter to control this behavior.\n",
      "  _warn_prf(average, modifier, msg_start, len(result))\n",
      "/Users/bolevard/.pyenv/versions/3.6.15/envs/jupvenv/lib/python3.6/site-packages/sklearn/metrics/_classification.py:1248: UndefinedMetricWarning: Precision and F-score are ill-defined and being set to 0.0 in labels with no predicted samples. Use `zero_division` parameter to control this behavior.\n",
      "  _warn_prf(average, modifier, msg_start, len(result))\n"
     ]
    }
   ],
   "source": [
    "print(classification_report(multiclass_arr_test[:,1], multi_y_pred, target_names=None))"
   ]
  },
  {
   "cell_type": "code",
   "execution_count": 209,
   "id": "98b31aae-2d89-4359-87ee-74c76505bd1f",
   "metadata": {},
   "outputs": [
    {
     "data": {
      "image/png": "[encoded data removed]",
      "text/plain": [
       "<Figure size 432x288 with 2 Axes>"
      ]
     },
     "metadata": {
      "needs_background": "light"
     },
     "output_type": "display_data"
    }
   ],
   "source": [
    "plot_confusion_matrix(multiclass_arr_test[:,1], multi_y_pred)"
   ]
  },
  {
   "cell_type": "code",
   "execution_count": 126,
   "id": "65f11978-8362-48a2-9298-5cfd6cd740ce",
   "metadata": {},
   "outputs": [
    {
     "name": "stdout",
     "output_type": "stream",
     "text": [
      "0\n"
     ]
    }
   ],
   "source": [
    "print(len([x for x in multi_y_pred if x == 2.0]))"
   ]
  },
  {
   "cell_type": "code",
   "execution_count": 127,
   "id": "09961ca9-ebab-4ab1-8d3d-7188b20ac66d",
   "metadata": {},
   "outputs": [],
   "source": [
    "from pprint import pprint"
   ]
  },
  {
   "cell_type": "code",
   "execution_count": 128,
   "id": "d132a2e0-e037-4025-812f-ce45e707a718",
   "metadata": {},
   "outputs": [
    {
     "name": "stdout",
     "output_type": "stream",
     "text": [
      "[[1, 2, 3, 4, 5, 6, 7, 8, 9],\n",
      " [2, 4, 6, 8, 10, 12, 14, 16, 18],\n",
      " [3, 6, 9, 12, 15, 18, 21, 24, 27],\n",
      " [4, 8, 12, 16, 20, 24, 28, 32, 36],\n",
      " [5, 10, 15, 20, 25, 30, 35, 40, 45],\n",
      " [6, 12, 18, 24, 30, 36, 42, 48, 54],\n",
      " [7, 14, 21, 28, 35, 42, 49, 56, 63],\n",
      " [8, 16, 24, 32, 40, 48, 56, 64, 72],\n",
      " [9, 18, 27, 36, 45, 54, 63, 72, 81]]\n"
     ]
    }
   ],
   "source": [
    "pprint([[x*y for x in range(1,10)] for y in range(1, 10)])"
   ]
  },
  {
   "cell_type": "code",
   "execution_count": 204,
   "id": "373ad4a6-2c42-4fec-a807-63c820360b06",
   "metadata": {},
   "outputs": [
    {
     "name": "stderr",
     "output_type": "stream",
     "text": [
      "100%|██████████| 49/49 [00:28<00:00,  1.70it/s]"
     ]
    },
    {
     "name": "stdout",
     "output_type": "stream",
     "text": [
      "0\n"
     ]
    },
    {
     "name": "stderr",
     "output_type": "stream",
     "text": [
      "\n"
     ]
    },
    {
     "data": {
      "image/png": "[encoded data removed]",
      "text/plain": [
       "<Figure size 432x288 with 1 Axes>"
      ]
     },
     "metadata": {
      "needs_background": "light"
     },
     "output_type": "display_data"
    },
    {
     "data": {
      "image/png": "[encoded data removed]",
      "text/plain": [
       "<Figure size 432x288 with 1 Axes>"
      ]
     },
     "metadata": {
      "needs_background": "light"
     },
     "output_type": "display_data"
    }
   ],
   "source": [
    "plot_metrics((multi_model1, multi_model2), multi_pred, multiclass_arr_test[:,:1], multiclass_arr_test[:,1], 0.0)"
   ]
  },
  {
   "cell_type": "code",
   "execution_count": null,
   "id": "5aedf5f6-d5cd-4d7e-b66a-d95d3941383a",
   "metadata": {},
   "outputs": [],
   "source": []
  },
  {
   "cell_type": "code",
   "execution_count": null,
   "id": "41e955fd-6da6-4ef3-9a97-1923c4f39cc5",
   "metadata": {},
   "outputs": [],
   "source": []
  }
 ],
 "metadata": {
  "kernelspec": {
   "display_name": "Python 3",
   "language": "python",
   "name": "python3"
  },
  "language_info": {
   "codemirror_mode": {
    "name": "ipython",
    "version": 3
   },
   "file_extension": ".py",
   "mimetype": "text/x-python",
   "name": "python",
   "nbconvert_exporter": "python",
   "pygments_lexer": "ipython3",
   "version": "3.6.15"
  }
 },
 "nbformat": 4,
 "nbformat_minor": 5
}
