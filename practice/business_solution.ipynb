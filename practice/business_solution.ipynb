{
 "cells": [
  {
   "cell_type": "code",
   "execution_count": 2,
   "id": "ac747d68-396c-447c-ac6a-9edfd51be147",
   "metadata": {},
   "outputs": [],
   "source": [
    "import csv"
   ]
  },
  {
   "cell_type": "code",
   "execution_count": 3,
   "id": "ab3fc2b4-e797-4c7c-9157-a064dc876201",
   "metadata": {},
   "outputs": [],
   "source": [
    "import numpy as np"
   ]
  },
  {
   "cell_type": "code",
   "execution_count": 4,
   "id": "9a35c6c7-d495-4510-ab61-c81562b39307",
   "metadata": {},
   "outputs": [],
   "source": [
    "import sklearn"
   ]
  },
  {
   "cell_type": "code",
   "execution_count": 5,
   "id": "dca25993-81d5-43c2-84b9-d3a9e9dd35a1",
   "metadata": {},
   "outputs": [],
   "source": [
    "import matplotlib.pyplot as plt"
   ]
  },
  {
   "cell_type": "code",
   "execution_count": 6,
   "id": "12c02356-4042-4785-ae24-6995922b4291",
   "metadata": {},
   "outputs": [],
   "source": [
    "def get_quadratic_features(x, include_bias=True):\n",
    "    \"\"\"Generate quadratic and interaction features.\n",
    "\n",
    "    # x: np.ndarray [num_samples, num_feature]\n",
    "    # include_bias: boolean [True, False]\n",
    "\n",
    "    include_bias=True\n",
    "    [x_0         [[x_0, 1]        [[x_0, x_0^2, 1]\n",
    "    x_1..   ->    [x_1, 1]... ->   [x_1, x_1^2, 1]\n",
    "    x_n]          [x_n, 1]         [x_n, x_n^2, 1]\n",
    "\n",
    "    [x_0, z_0]         [[x_0, z_0, 1]        [[x_0, z_0, x_0^2, z_0^2, x_0*z_0, 1]\n",
    "    x_1, z_1   ->      [x_1, z_1, 1]... ->   [x_1, z_1, x_1^2, z_1^2, z_1*z_1, 1]\n",
    "    x_n, z_n]          [x_n, z_n, 1]         [x_n, z_n, x_n^2, z_n^2, x_n*z_n, 1]\n",
    "\n",
    "    [x_0, z_0, k_0]        [[x_0, z_0, x_0^2, z_0^2, x_0*z_0, x_0*k_0, z_0*k_0, 1]\n",
    "    x_1, z_1, k_1   ->     [x_1, z_1, x_1^2, z_1^2, z_1*z_1, 1]\n",
    "    x_n, z_n, k_n]         [x_n, z_n, x_n^2, z_n^2, x_n*z_n, 1]\n",
    "\n",
    "    Generate a new feature matrix consisting of all quadratic combinations\n",
    "    of the features.\n",
    "    For example, if an input sample is two dimensional and of the form [a, b],\n",
    "    the degree-2 polynomial features are [1, a, b, a^2, ab, b^2].\"\"\"\n",
    "\n",
    "\n",
    "    if include_bias:\n",
    "        K = len(x[0])\n",
    "        arr = np.empty([len(x), int(K * (K + 1) / 2 + 1) + K])\n",
    "    else:\n",
    "        K = len(x[0])\n",
    "        arr = np.empty([len(x), int(K * (K + 1) / 2) + K])\n",
    "\n",
    "    for row in range(len(x)):\n",
    "        n_row = []\n",
    "        if include_bias:\n",
    "            n_row.append(1)\n",
    "        i = 0\n",
    "        for val1 in x[row]:\n",
    "            i += 1\n",
    "            n_row.append(val1)\n",
    "            for val2 in x[row][:i]:\n",
    "                n_row.append(val1*val2)\n",
    "        for vl in range(len(n_row)):\n",
    "            arr[row][vl] = n_row[vl]\n",
    "    return arr"
   ]
  },
  {
   "cell_type": "code",
   "execution_count": 7,
   "id": "2f4ff440-0204-4b9f-84c4-331cace02454",
   "metadata": {},
   "outputs": [],
   "source": [
    "def file_opener(path, rtype):\n",
    "    with open(path, rtype) as f:\n",
    "        csv_arr = f.readlines()\n",
    "        for row in range(1, len(csv_arr)):\n",
    "            csv_arr[row] = csv_arr[row].split(',')\n",
    "            csv_arr[row][0], csv_arr[row][1] = float(csv_arr[row][0]), float(csv_arr[row][1][:-1])\n",
    "        csv_arr = csv_arr[1:]\n",
    "    return csv_arr"
   ]
  },
  {
   "cell_type": "code",
   "execution_count": 8,
   "id": "831aa861-4b6c-4f2c-a099-695d05092ac8",
   "metadata": {},
   "outputs": [],
   "source": [
    "csv_arr = file_opener(\"business_proj.csv\", \"r\")"
   ]
  },
  {
   "cell_type": "code",
   "execution_count": 9,
   "id": "dad20cc8-4f90-4788-9d32-a482e5f5faef",
   "metadata": {},
   "outputs": [],
   "source": [
    "from sklearn.linear_model import SGDClassifier"
   ]
  },
  {
   "cell_type": "code",
   "execution_count": 10,
   "id": "57da83a3-44fa-4b03-b4eb-0254beba8638",
   "metadata": {},
   "outputs": [],
   "source": [
    "model = SGDClassifier(loss='log')"
   ]
  },
  {
   "cell_type": "code",
   "execution_count": 11,
   "id": "dadb578f-e380-4377-aa7b-7db0e6df9d98",
   "metadata": {},
   "outputs": [],
   "source": [
    "csv_arr = np.array(csv_arr, dtype=float)\n",
    "x_train = csv_arr[:,0].reshape(csv_arr.shape[0], 1)\n",
    "y_train = csv_arr[:,1]"
   ]
  },
  {
   "cell_type": "code",
   "execution_count": 12,
   "id": "c4d6ec47-2457-46f0-bea0-9b6f3de89cee",
   "metadata": {},
   "outputs": [
    {
     "name": "stdout",
     "output_type": "stream",
     "text": [
      "(10000, 1)\n"
     ]
    }
   ],
   "source": [
    "print(x_train.shape)"
   ]
  },
  {
   "cell_type": "code",
   "execution_count": 13,
   "id": "2dcfdf77-bb8b-453b-91db-eec2f221009f",
   "metadata": {},
   "outputs": [
    {
     "data": {
      "text/plain": [
       "SGDClassifier(loss='log')"
      ]
     },
     "execution_count": 13,
     "metadata": {},
     "output_type": "execute_result"
    }
   ],
   "source": [
    "model.fit(x_train, y_train)"
   ]
  },
  {
   "cell_type": "code",
   "execution_count": 14,
   "id": "19d54fc9-88ea-44ab-8fcf-50651c8942d9",
   "metadata": {},
   "outputs": [],
   "source": [
    "csv_valid = file_opener(\"task_test.csv\", \"r\")"
   ]
  },
  {
   "cell_type": "code",
   "execution_count": 15,
   "id": "a1e935fb-5694-4433-9686-f8154e78d265",
   "metadata": {},
   "outputs": [],
   "source": [
    "import seaborn as sns\n",
    "\n",
    "\n",
    "def calc_tp(y_true, y_pred) -> int:\n",
    "    i = 0\n",
    "    for x in range(len(y_true)):\n",
    "        if y_pred[x] and y_true[x]:\n",
    "            i += 1\n",
    "    return i\n",
    "\n",
    "def calc_fp(y_true, y_pred) -> int:\n",
    "    i = 0\n",
    "    for x in range(len(y_true)):\n",
    "        if y_pred[x] and (not y_true[x]):\n",
    "            i += 1\n",
    "    return i\n",
    "\n",
    "def calc_tn(y_true, y_pred) -> int:\n",
    "    i = 0\n",
    "    for x in range(len(y_true)):\n",
    "        if (not y_pred[x]) and (not y_true[x]):\n",
    "            i += 1\n",
    "    return i\n",
    "\n",
    "def calc_fn(y_true, y_pred) -> int:\n",
    "    i = 0\n",
    "    for x in range(len(y_true)):\n",
    "        if (not y_pred[x]) and y_true[x]:\n",
    "            i += 1\n",
    "    return i\n",
    "\n",
    "def calc_confusion_matrix(y_true, y_pred) -> np.array:\n",
    "    arr = np.array([[calc_tn(y_true, y_pred), calc_fp(y_true, y_pred)],\n",
    "                    [calc_fn(y_true, y_pred), calc_tp(y_true, y_pred)]])\n",
    "    return arr\n",
    "    pass\n",
    "    \n",
    "def plot_confusion_matrix(y_true, y_pred) -> None:\n",
    "    ## Calculate confusion matrix first\n",
    "    cf_matrix = calc_confusion_matrix(y_true, y_pred)\n",
    "    \n",
    "    ## Create heatmap\n",
    "    ax = sns.heatmap(cf_matrix, annot=True, cmap='Blues')\n",
    "\n",
    "    ax.set_title('Seaborn Confusion Matrix with labels\\n\\n');\n",
    "    ax.set_xlabel('\\nPredicted Values')\n",
    "    ax.set_ylabel('Actual Values ');\n",
    "\n",
    "    ## Ticket labels - List must be in alphabetical order\n",
    "    ax.xaxis.set_ticklabels(['False','True'])\n",
    "    ax.yaxis.set_ticklabels(['False','True'])\n",
    "\n",
    "    ## Display the visualization of the Confusion Matrix.\n",
    "    plt.show()\n",
    "\n",
    "def calc_precision(y_true, y_pred) -> float:\n",
    "    try:\n",
    "        return calc_tp(y_true, y_pred)/(calc_tp(y_true, y_pred)+calc_fp(y_true, y_pred))\n",
    "    except ZeroDivisionError:\n",
    "        return 0\n",
    "\n",
    "\n",
    "def calc_recall(y_true, y_pred) -> float:\n",
    "    try:\n",
    "        return calc_tp(y_true, y_pred)/(calc_tp(y_true, y_pred) + calc_fn(y_true, y_pred))\n",
    "    except ZeroDivisionError:\n",
    "        return 0\n",
    "\n",
    "\n",
    "def calc_f1_measure(y_true, y_pred) -> float:\n",
    "    try:\n",
    "        return 2*calc_recall(y_true, y_pred)*calc_precision(y_true, y_pred)/(calc_recall(y_true, y_pred)+calc_precision(y_true, y_pred))\n",
    "    except ZeroDivisionError:\n",
    "        return 0  \n",
    "    \n",
    "def calc_accuracy(y_true, y_pred) -> float:\n",
    "    try:\n",
    "        return (calc_tp(y_true, y_pred)+calc_tn(y_true, y_pred))/\\\n",
    "    (calc_tp(y_true, y_pred)+calc_tn(y_true, y_pred)+calc_fp(y_true, y_pred)+calc_fn(y_true, y_pred))\n",
    "    except ZeroDivisionError:\n",
    "        return 0"
   ]
  },
  {
   "cell_type": "code",
   "execution_count": 16,
   "id": "41ad9f47-46dc-4aa4-8fe7-f8055e2aa3d6",
   "metadata": {},
   "outputs": [],
   "source": [
    "arr11 = np.array([0,0,0,0,0,0])\n",
    "arr22 = np.array([1,1,1,1,1,1])\n",
    "assert calc_recall(arr11, arr22) == 0, \"wrong recall\""
   ]
  },
  {
   "cell_type": "code",
   "execution_count": 17,
   "id": "06a897e1-574a-49a1-b706-e7f4d6f3c992",
   "metadata": {},
   "outputs": [
    {
     "name": "stdout",
     "output_type": "stream",
     "text": [
      "0.6666666666666666\n",
      "0.8\n"
     ]
    }
   ],
   "source": [
    "arr1 = np.array([0,1,0,1,1,0])\n",
    "arr2 = np.array([0,1,0,1,0,0])\n",
    "print(calc_recall(arr1, arr2))\n",
    "print(calc_f1_measure(arr1, arr2))"
   ]
  },
  {
   "cell_type": "code",
   "execution_count": 18,
   "id": "ab7b7905-7054-4869-8ccd-26bd3c0a2eb0",
   "metadata": {},
   "outputs": [
    {
     "data": {
      "image/png": "[encoded data removed]",
      "text/plain": [
       "<Figure size 432x288 with 2 Axes>"
      ]
     },
     "metadata": {
      "needs_background": "light"
     },
     "output_type": "display_data"
    }
   ],
   "source": [
    "arr1 = np.array([0,1,0,1,1,0])\n",
    "arr2 = np.array([0,1,0,1,0,0])\n",
    "assert calc_tp(arr1, arr2) == 2, 'wrong tp'\n",
    "assert calc_fp(arr1, arr2) == 0, 'wrong fp'\n",
    "assert calc_tn(arr1, arr2) == 3, 'wrong tn'\n",
    "assert calc_fn(arr1, arr2) == 1, 'wrong fn'\n",
    "assert np.all(calc_confusion_matrix(arr1, arr2) == np.array([[3, 0],[1, 2]])), 'wrong confusion matrix'\n",
    "plot_confusion_matrix(arr1, arr2)"
   ]
  },
  {
   "cell_type": "code",
   "execution_count": 19,
   "id": "8187fd4b-b166-4444-b090-2443c2e40d49",
   "metadata": {},
   "outputs": [],
   "source": [
    "csv_valid = np.array(csv_valid, dtype=float)\n",
    "y_true = csv_valid[:,1]\n",
    "x_valid = csv_valid[:,:1]\n",
    "y_pred = model.predict_proba(x_valid)[:,1]>0.645"
   ]
  },
  {
   "cell_type": "code",
   "execution_count": 20,
   "id": "aac5337f-d8b5-4c96-afb8-0cb3066de692",
   "metadata": {},
   "outputs": [],
   "source": [
    "def calculate_metrics(classifier, x, y):\n",
    "    plt_arr1 = [[],[]]\n",
    "    plt_arr2 = [[],[]]\n",
    "    plt_arr3 = [[],[]]\n",
    "    plt_arr4 = [[],[]]\n",
    "    for treshold in range(1, 1000):\n",
    "        i = treshold/1000\n",
    "        y_pred = classifier.predict_proba(x)[:,1]>i\n",
    "        plt_arr1[0].append(i)\n",
    "        plt_arr1[1].append(calc_precision(y, y_pred))\n",
    "        plt_arr2[0].append(i)\n",
    "        plt_arr2[1].append(calc_recall(y, y_pred))\n",
    "        plt_arr3[0].append(i)\n",
    "        plt_arr3[1].append(calc_f1_measure(y, y_pred))\n",
    "        plt_arr4[0].append(i)\n",
    "        plt_arr4[1].append(calc_accuracy(y, y_pred))\n",
    "    return plt_arr1, plt_arr2, plt_arr3, plt_arr4"
   ]
  },
  {
   "cell_type": "code",
   "execution_count": 21,
   "id": "c09e4847-63dd-40e1-a4c7-5fbf0adf7702",
   "metadata": {},
   "outputs": [],
   "source": [
    "def plot_metrics(model, x_valid, y_true):\n",
    "    plt.figure()\n",
    "    plt_a1, plt_a2, plt_a3, plt_a4 = calculate_metrics(model, x_valid, y_true)\n",
    "    plt.plot(plt_a1[0], plt_a1[1], label=\"precision\")\n",
    "    plt.plot(plt_a2[0], plt_a2[1], label=\"recall\")\n",
    "    plt.plot(plt_a3[0], plt_a3[1], label=\"f1\")\n",
    "    for x in range(len(plt_a2[1])):\n",
    "        if plt_a2[1][x] == 1:\n",
    "            plt.scatter([plt_a2[0][x]], [1], label=\"best\")\n",
    "            print(x)\n",
    "            break\n",
    "    mn, mn_t = 0, 0\n",
    "    for x in range(len(plt_a1[1])):\n",
    "        if plt_a1[1][x] > mn:\n",
    "            mn = plt_a1[1][x]\n",
    "            mn_t = plt_a1[0][x]\n",
    "\n",
    "    plt.scatter([mn_t], [mn], label='best1')\n",
    "    plt.legend(loc=\"upper right\")\n",
    "    plt.figure()\n",
    "    plt.plot(plt_a4[0], plt_a4[1], label=\"accuracy\")\n",
    "    plt.legend(loc=\"upper right\")\n"
   ]
  },
  {
   "cell_type": "code",
   "execution_count": 22,
   "id": "ce6b448b-fb35-412f-a8f6-aae1d54176fb",
   "metadata": {},
   "outputs": [
    {
     "name": "stdout",
     "output_type": "stream",
     "text": [
      "0\n"
     ]
    },
    {
     "data": {
      "image/png": "[encoded data removed]",
      "text/plain": [
       "<Figure size 432x288 with 1 Axes>"
      ]
     },
     "metadata": {
      "needs_background": "light"
     },
     "output_type": "display_data"
    },
    {
     "data": {
      "image/png": "[encoded data removed]",
      "text/plain": [
       "<Figure size 432x288 with 1 Axes>"
      ]
     },
     "metadata": {
      "needs_background": "light"
     },
     "output_type": "display_data"
    }
   ],
   "source": [
    "plot_metrics(model, x_valid, y_true)"
   ]
  },
  {
   "cell_type": "code",
   "execution_count": 24,
   "id": "4a5a2467-c8a5-4dd2-8790-e19817c43f0d",
   "metadata": {},
   "outputs": [
    {
     "name": "stdout",
     "output_type": "stream",
     "text": [
      "0.2857142857142857\n",
      "0.1\n",
      "0.14814814814814817\n",
      "0.9885\n"
     ]
    }
   ],
   "source": [
    "print(calc_precision(y_true, y_pred))\n",
    "print(calc_recall(y_true, y_pred))\n",
    "print(calc_f1_measure(y_true, y_pred))\n",
    "print(calc_accuracy(y_true, y_pred))"
   ]
  },
  {
   "cell_type": "code",
   "execution_count": 25,
   "id": "69b4c9a7-66aa-4c41-81bc-09ad549c07b1",
   "metadata": {},
   "outputs": [
    {
     "data": {
      "image/png": "[encoded data removed]",
      "text/plain": [
       "<Figure size 432x288 with 2 Axes>"
      ]
     },
     "metadata": {
      "needs_background": "light"
     },
     "output_type": "display_data"
    }
   ],
   "source": [
    "plot_confusion_matrix(y_true, y_pred)"
   ]
  },
  {
   "cell_type": "markdown",
   "id": "977a9816-7fa6-4d0a-9ea4-2312abd7c57e",
   "metadata": {},
   "source": [
    "# Quadratic classifier"
   ]
  },
  {
   "cell_type": "code",
   "execution_count": 27,
   "id": "25600279-6556-44e1-a979-f6d2fb735dd0",
   "metadata": {},
   "outputs": [],
   "source": [
    "x_quad_train = get_quadratic_features(x_train)"
   ]
  },
  {
   "cell_type": "code",
   "execution_count": 28,
   "id": "9c178a80-44b6-49dd-84b4-697dc82f8aee",
   "metadata": {},
   "outputs": [],
   "source": [
    "quad_model = SGDClassifier(loss='log')"
   ]
  },
  {
   "cell_type": "code",
   "execution_count": 29,
   "id": "ab559180-b740-447a-aa23-9c467a0d398c",
   "metadata": {},
   "outputs": [
    {
     "data": {
      "text/plain": [
       "SGDClassifier(loss='log')"
      ]
     },
     "execution_count": 29,
     "metadata": {},
     "output_type": "execute_result"
    }
   ],
   "source": [
    "quad_model.fit(x_quad_train, y_train)"
   ]
  },
  {
   "cell_type": "code",
   "execution_count": 30,
   "id": "c6d95939-769a-4bf5-a154-49c61693aa4b",
   "metadata": {},
   "outputs": [
    {
     "name": "stdout",
     "output_type": "stream",
     "text": [
      "0\n"
     ]
    },
    {
     "data": {
      "image/png": "[encoded data removed]",
      "text/plain": [
       "<Figure size 432x288 with 1 Axes>"
      ]
     },
     "metadata": {
      "needs_background": "light"
     },
     "output_type": "display_data"
    },
    {
     "data": {
      "image/png": "[encoded data removed]",
      "text/plain": [
       "<Figure size 432x288 with 1 Axes>"
      ]
     },
     "metadata": {
      "needs_background": "light"
     },
     "output_type": "display_data"
    }
   ],
   "source": [
    "plot_metrics(quad_model, get_quadratic_features(x_valid), y_true)"
   ]
  },
  {
   "cell_type": "code",
   "execution_count": 31,
   "id": "e79f1a56-f04f-40fa-8196-394a02f24078",
   "metadata": {},
   "outputs": [],
   "source": [
    "quad_arr = quad_model.predict_proba(get_quadratic_features(x_valid))[:,1]>0.05"
   ]
  },
  {
   "cell_type": "code",
   "execution_count": 32,
   "id": "03585d91-48b7-4337-9ab6-df75963235da",
   "metadata": {},
   "outputs": [
    {
     "data": {
      "image/png": "[encoded data removed]",
      "text/plain": [
       "<Figure size 432x288 with 2 Axes>"
      ]
     },
     "metadata": {
      "needs_background": "light"
     },
     "output_type": "display_data"
    }
   ],
   "source": [
    "plot_confusion_matrix(y_true, quad_arr)"
   ]
  },
  {
   "cell_type": "code",
   "execution_count": 33,
   "id": "87d817bc-5870-44d8-b6a6-c9700badb1c4",
   "metadata": {},
   "outputs": [
    {
     "name": "stdout",
     "output_type": "stream",
     "text": [
      "0\n"
     ]
    },
    {
     "data": {
      "image/png": "[encoded data removed]",
      "text/plain": [
       "<Figure size 432x288 with 1 Axes>"
      ]
     },
     "metadata": {
      "needs_background": "light"
     },
     "output_type": "display_data"
    },
    {
     "data": {
      "image/png": "[encoded data removed]",
      "text/plain": [
       "<Figure size 432x288 with 1 Axes>"
      ]
     },
     "metadata": {
      "needs_background": "light"
     },
     "output_type": "display_data"
    }
   ],
   "source": [
    "plot_metrics(quad_model, x_quad_train, y_train)"
   ]
  },
  {
   "cell_type": "code",
   "execution_count": 34,
   "id": "6a171276-b536-4552-9073-d13a5dd6a078",
   "metadata": {},
   "outputs": [
    {
     "name": "stdout",
     "output_type": "stream",
     "text": [
      "0\n"
     ]
    },
    {
     "data": {
      "image/png": "[encoded data removed]",
      "text/plain": [
       "<Figure size 432x288 with 1 Axes>"
      ]
     },
     "metadata": {
      "needs_background": "light"
     },
     "output_type": "display_data"
    },
    {
     "data": {
      "image/png": "[encoded data removed]",
      "text/plain": [
       "<Figure size 432x288 with 1 Axes>"
      ]
     },
     "metadata": {
      "needs_background": "light"
     },
     "output_type": "display_data"
    }
   ],
   "source": [
    "plot_metrics(model, x_train, y_train)"
   ]
  },
  {
   "cell_type": "markdown",
   "id": "9d247563-7d3c-475a-b684-6b2573caccfd",
   "metadata": {},
   "source": [
    "# Multiclass classifier"
   ]
  },
  {
   "cell_type": "code",
   "execution_count": 85,
   "id": "d24ba7ac-3d70-4f39-a25c-d8ce58501431",
   "metadata": {},
   "outputs": [],
   "source": [
    "from sklearn.metrics import classification_report\n",
    "from copy import copy"
   ]
  },
  {
   "cell_type": "code",
   "execution_count": 145,
   "id": "36082c38-a5bf-4cd8-b684-ddb963a85861",
   "metadata": {},
   "outputs": [],
   "source": [
    "def multiclass_TP(y_true, y_pred) -> dict:\n",
    "    \"\"\" Function to calculate True Positive of multiclass classifier \"\"\"\n",
    "    dictionary = {}\n",
    "    for multi_class in np.unique(y_true):\n",
    "        TP = 0\n",
    "        for i in range(len(y_true)):\n",
    "            if y_pred[i] == y_true[i] and y_true[i] == multi_class:\n",
    "                TP += 1\n",
    "        dictionary[multi_class] = TP\n",
    "    return dictionary\n",
    "\n",
    "def multiclass_FP(y_true, y_pred) -> dict:\n",
    "    \"\"\" Function to calculate False Positive of multiclass classifier \"\"\"\n",
    "    dictionary = {}\n",
    "    for multi_class in np.unique(y_true):\n",
    "        FP = 0\n",
    "        for i in range(len(y_true)):\n",
    "            if y_pred[i] == multi_class and y_pred[i] != y_true[i]:\n",
    "                FP += 1\n",
    "        dictionary[multi_class] = FP\n",
    "    return dictionary\n",
    "\n",
    "def multiclass_FN(y_true, y_pred) -> dict:\n",
    "    \"\"\" Function to calculate False Negative of multiclass classifier \"\"\"\n",
    "    dictionary = {}\n",
    "    for multi_class in np.unique(y_true):\n",
    "        FN = 0\n",
    "        for i in range(len(y_true)):\n",
    "            if y_true[i] == multi_class and y_pred[i] != y_true[i]:\n",
    "                FN += 1\n",
    "        dictionary[multi_class] = FN\n",
    "    return dictionary\n",
    "\n",
    "def multiclass_precision(y_true, y_pred) -> dict:\n",
    "    \"\"\" Function to calculate Precision of multiclass classifier \"\"\"\n",
    "    dictionary = {}\n",
    "    for multi_class in np.unique(y_true):\n",
    "        TP = multiclass_TP(y_true, y_pred)[multi_class]\n",
    "        FP = multiclass_FP(y_true, y_pred)[multi_class]\n",
    "        if TP+FP == 0:\n",
    "            dictionary[multi_class] = 0\n",
    "        else:\n",
    "            dictionary[multi_class] = TP/(TP+FP)\n",
    "    return dictionary\n",
    "\n",
    "def multiclass_recall(y_true, y_pred) -> dict:\n",
    "    \"\"\" Function to calculate Recall of multiclass classifier \"\"\"\n",
    "    dictionary = {}\n",
    "    for multi_class in np.unique(y_true):\n",
    "        TP = multiclass_TP(y_true, y_pred)[multi_class]\n",
    "        FN = multiclass_FN(y_true, y_pred)[multi_class]\n",
    "        if TP+FN == 0:\n",
    "            dictionary[multi_class] = 0\n",
    "        else:\n",
    "            dictionary[multi_class] = TP/(TP+FN)\n",
    "    return dictionary\n",
    "       \n",
    "def multiclass_f1(y_true, y_pred) -> dict:\n",
    "    \"\"\" Function to calculate F1 of multiclass classifier \"\"\"\n",
    "    dictionary = {}\n",
    "    for multi_class in np.unique(y_true):\n",
    "        Precision = multiclass_precision(y_true, y_pred)\n",
    "        Recall = multiclass_recall(y_true, y_pred)\n",
    "        if Precision[multi_class]+Recall[multi_class] == 0:\n",
    "            dictionary[multi_class] = 0\n",
    "        else:\n",
    "            dictionary[multi_class] = 2*Precision[multi_class]*Recall[multi_class]/\\\n",
    "            (Precision[multi_class]+Recall[multi_class])\n",
    "    return dictionary\n",
    "\n",
    "def multiclass_accuracy(y_true, y_pred) -> float:\n",
    "    \"\"\" Function to calculate Accuracy of multiclass classifier \"\"\"\n",
    "    TP = 0\n",
    "    for x in range(len(y_true)):\n",
    "        if y_true[x] == y_pred[x]:\n",
    "            TP += 1\n",
    "    return TP/y_true.shape[0]\n",
    "\n",
    "def print_multiclass_metrics(y_true, y_pred) -> None:\n",
    "    \"\"\" Function to print most common metrics of multiclass classifier \"\"\"\n",
    "    for class_, score in multiclass_precision(multiclass_arr_test[:,1], multi_y_pred).items():\n",
    "        print(f\"Precision for class {int(class_)}: {score}\")\n",
    "    print()\n",
    "    for class_, score in multiclass_recall(multiclass_arr_test[:,1], multi_y_pred).items():\n",
    "        print(f\"Recall for class {int(class_)}: {score}\")\n",
    "    print()\n",
    "    for class_, score in multiclass_f1(multiclass_arr_test[:,1], multi_y_pred).items():\n",
    "        print(f\"F1 for class {int(class_)}: {score}\")\n",
    "    print(f'\\nAccuracy: {multiclass_accuracy(y_true, y_pred)}')"
   ]
  },
  {
   "cell_type": "code",
   "execution_count": 144,
   "id": "d445d283-a3b2-4b5e-b42f-492b4d1c3baf",
   "metadata": {},
   "outputs": [],
   "source": [
    "def multi_pred(model, x, treshold1, treshold2):\n",
    "    \"\"\" Prediction function \"\"\"\n",
    "    multiclass_ans = np.empty((x.shape[0], ), dtype=int)\n",
    "    model1_pred = model[0].predict_proba(x)\n",
    "    model2_pred = model[1].predict_proba(x)\n",
    "    for i in range(len(model1_pred)):\n",
    "        if model1_pred[i][1] > treshold1:\n",
    "            multiclass_ans[i] = 1\n",
    "        else:\n",
    "            if model2_pred[i][1] > treshold2:\n",
    "                multiclass_ans[i] = 2\n",
    "            else:\n",
    "                multiclass_ans[i] = 0\n",
    "    return multiclass_ans"
   ]
  },
  {
   "cell_type": "code",
   "execution_count": 89,
   "id": "6323af33-0501-4d30-ae13-2195413fa771",
   "metadata": {},
   "outputs": [],
   "source": [
    "multiclass_arr = file_opener(\"task_multiclass.csv\", 'r')\n",
    "multiclass_arr = np.array(multiclass_arr, dtype=float)\n",
    "multiclass_arr_test = file_opener(\"task_multiclass_test.csv\", 'r')\n",
    "multiclass_arr_test = np.array(multiclass_arr_test, dtype=float)"
   ]
  },
  {
   "cell_type": "code",
   "execution_count": 91,
   "id": "76fc64a0-03de-48ba-9fa9-bbbb98a9902e",
   "metadata": {},
   "outputs": [
    {
     "name": "stdout",
     "output_type": "stream",
     "text": [
      "(4040, 1)\n",
      "(4040, 1)\n",
      "(4040,)\n",
      "(4040,)\n"
     ]
    }
   ],
   "source": [
    "multiclass_arr1 = copy(multiclass_arr)\n",
    "for x in range(len(multiclass_arr1)):\n",
    "    if multiclass_arr[x][1] == 2.0:\n",
    "        multiclass_arr1[x][1] = 0\n",
    "multiclass_arr2 = copy(multiclass_arr)\n",
    "for x in range(len(multiclass_arr2)):\n",
    "    if multiclass_arr[x][1] == 1.0:\n",
    "        multiclass_arr2[x][1] = 0\n",
    "    elif multiclass_arr[x][1] == 2.0:\n",
    "        multiclass_arr1[x][1] = 1\n",
    "multi_x1_train = multiclass_arr1[:,0].reshape(multiclass_arr1.shape[0], 1)\n",
    "multi_x2_train = multiclass_arr2[:,0].reshape(multiclass_arr2.shape[0], 1)\n",
    "multi_y1_train = multiclass_arr1[:,1]\n",
    "multi_y2_train = multiclass_arr2[:,1]\n",
    "print(multi_x1_train.shape)\n",
    "print(multi_x2_train.shape)\n",
    "print(multi_y1_train.shape)\n",
    "print(multi_y2_train.shape)"
   ]
  },
  {
   "cell_type": "code",
   "execution_count": 92,
   "id": "003da1ca-c715-4253-88d9-92cc7aeb92be",
   "metadata": {},
   "outputs": [
    {
     "data": {
      "text/plain": [
       "SGDClassifier(loss='log')"
      ]
     },
     "execution_count": 92,
     "metadata": {},
     "output_type": "execute_result"
    }
   ],
   "source": [
    "multi_model1 = SGDClassifier(loss='log')\n",
    "multi_model2 = SGDClassifier(loss='log')\n",
    "multi_model1.fit(multi_x1_train, multi_y1_train)\n",
    "multi_model2.fit(multi_x2_train, multi_y2_train)"
   ]
  },
  {
   "cell_type": "code",
   "execution_count": 93,
   "id": "03b20f94-4b5c-459f-9764-209c49e25e12",
   "metadata": {},
   "outputs": [],
   "source": [
    "multi_y_pred = multi_pred((multi_model1, multi_model2), multiclass_arr_test[:,:1], 0.09, 0.017)"
   ]
  },
  {
   "cell_type": "code",
   "execution_count": 94,
   "id": "94bca1b8-1ac7-4e9f-9f63-6ee49af2fdb2",
   "metadata": {},
   "outputs": [
    {
     "data": {
      "text/plain": [
       "0.9274752475247525"
      ]
     },
     "execution_count": 94,
     "metadata": {},
     "output_type": "execute_result"
    }
   ],
   "source": [
    "multiclass_accuracy(multiclass_arr_test[:,1], multi_y_pred)"
   ]
  },
  {
   "cell_type": "markdown",
   "id": "c3671789-7bf9-4117-9c6a-4c41984fe1f3",
   "metadata": {},
   "source": [
    "# Metrics for multiclass classification #"
   ]
  },
  {
   "cell_type": "markdown",
   "id": "b36da68c-a9f5-4b69-823b-3c85e3166bf0",
   "metadata": {},
   "source": [
    "### Implemented with functions: ###"
   ]
  },
  {
   "cell_type": "code",
   "execution_count": 148,
   "id": "a7ca0eb1-543a-4817-96e3-04a026229558",
   "metadata": {},
   "outputs": [
    {
     "name": "stdout",
     "output_type": "stream",
     "text": [
      "Precision for class 0: 0.9893247931678676\n",
      "Precision for class 1: 0.0\n",
      "Precision for class 2: 0.13986013986013987\n",
      "\n",
      "Recall for class 0: 0.9361111111111111\n",
      "Recall for class 1: 0.0\n",
      "Recall for class 2: 1.0\n",
      "\n",
      "F1 for class 0: 0.9619826132087713\n",
      "F1 for class 1: 0\n",
      "F1 for class 2: 0.245398773006135\n",
      "\n",
      "Accuracy: 0.9274752475247525\n"
     ]
    }
   ],
   "source": [
    "print_multiclass_metrics(multiclass_arr_test[:,1], multi_y_pred)"
   ]
  },
  {
   "cell_type": "markdown",
   "id": "e9951c40-7bfa-445a-bc1c-096a3df49ad8",
   "metadata": {},
   "source": [
    "### Sklearn classification report: ###"
   ]
  },
  {
   "cell_type": "code",
   "execution_count": 147,
   "id": "5b403b8f-16f2-4411-8df5-530596e9bacb",
   "metadata": {},
   "outputs": [
    {
     "name": "stdout",
     "output_type": "stream",
     "text": [
      "              precision    recall  f1-score   support\n",
      "\n",
      "         0.0       0.99      0.94      0.96      3960\n",
      "         1.0       0.00      0.00      0.00        40\n",
      "         2.0       0.14      1.00      0.25        40\n",
      "\n",
      "    accuracy                           0.93      4040\n",
      "   macro avg       0.38      0.65      0.40      4040\n",
      "weighted avg       0.97      0.93      0.95      4040\n",
      "\n"
     ]
    }
   ],
   "source": [
    "print(classification_report(multiclass_arr_test[:,1], multi_y_pred, target_names=None))"
   ]
  }
 ],
 "metadata": {
  "kernelspec": {
   "display_name": "Python 3",
   "language": "python",
   "name": "python3"
  },
  "language_info": {
   "codemirror_mode": {
    "name": "ipython",
    "version": 3
   },
   "file_extension": ".py",
   "mimetype": "text/x-python",
   "name": "python",
   "nbconvert_exporter": "python",
   "pygments_lexer": "ipython3",
   "version": "3.6.15"
  }
 },
 "nbformat": 4,
 "nbformat_minor": 5
}
