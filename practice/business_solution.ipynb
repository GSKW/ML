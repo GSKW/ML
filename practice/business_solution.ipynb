{
 "cells": [
  {
   "cell_type": "code",
   "execution_count": 1,
   "id": "ac747d68-396c-447c-ac6a-9edfd51be147",
   "metadata": {},
   "outputs": [],
   "source": [
    "import csv"
   ]
  },
  {
   "cell_type": "code",
   "execution_count": 39,
   "id": "ab3fc2b4-e797-4c7c-9157-a064dc876201",
   "metadata": {},
   "outputs": [],
   "source": [
    "import numpy as np"
   ]
  },
  {
   "cell_type": "code",
   "execution_count": 18,
   "id": "9a35c6c7-d495-4510-ab61-c81562b39307",
   "metadata": {},
   "outputs": [],
   "source": [
    "import sklearn"
   ]
  },
  {
   "cell_type": "code",
   "execution_count": 42,
   "id": "831aa861-4b6c-4f2c-a099-695d05092ac8",
   "metadata": {},
   "outputs": [],
   "source": [
    "f = open(\"business_proj.csv\", \"r\")\n",
    "csv_f = csv.reader(f)\n",
    "csv_arr = f.readlines()\n",
    "for row in range(1, len(csv_arr)):\n",
    "    csv_arr[row] = csv_arr[row].split(',')\n",
    "    csv_arr[row][0], csv_arr[row][1] = float(csv_arr[row][0]), float(csv_arr[row][1][:-1])\n",
    "csv_arr = csv_arr[1:]"
   ]
  },
  {
   "cell_type": "code",
   "execution_count": 43,
   "id": "dad20cc8-4f90-4788-9d32-a482e5f5faef",
   "metadata": {},
   "outputs": [],
   "source": [
    "from sklearn.linear_model import SGDClassifier"
   ]
  },
  {
   "cell_type": "code",
   "execution_count": 44,
   "id": "57da83a3-44fa-4b03-b4eb-0254beba8638",
   "metadata": {},
   "outputs": [],
   "source": [
    "model = SGDClassifier(loss='log')"
   ]
  },
  {
   "cell_type": "code",
   "execution_count": 49,
   "id": "dadb578f-e380-4377-aa7b-7db0e6df9d98",
   "metadata": {},
   "outputs": [],
   "source": [
    "csv_arr = np.array(csv_arr, dtype=float)\n",
    "x_train = csv_arr[:,0].reshape(csv_arr.shape[0], 1)\n",
    "y_train = csv_arr[:,1]"
   ]
  },
  {
   "cell_type": "code",
   "execution_count": 50,
   "id": "c4d6ec47-2457-46f0-bea0-9b6f3de89cee",
   "metadata": {},
   "outputs": [
    {
     "name": "stdout",
     "output_type": "stream",
     "text": [
      "(10000, 1)\n"
     ]
    }
   ],
   "source": [
    "print(x_train.shape)"
   ]
  },
  {
   "cell_type": "code",
   "execution_count": 51,
   "id": "2dcfdf77-bb8b-453b-91db-eec2f221009f",
   "metadata": {},
   "outputs": [
    {
     "data": {
      "text/plain": [
       "SGDClassifier(loss='log')"
      ]
     },
     "execution_count": 51,
     "metadata": {},
     "output_type": "execute_result"
    }
   ],
   "source": [
    "model.fit(x_train, y_train)"
   ]
  },
  {
   "cell_type": "code",
   "execution_count": null,
   "id": "19d54fc9-88ea-44ab-8fcf-50651c8942d9",
   "metadata": {},
   "outputs": [],
   "source": []
  }
 ],
 "metadata": {
  "kernelspec": {
   "display_name": "Python 3",
   "language": "python",
   "name": "python3"
  },
  "language_info": {
   "codemirror_mode": {
    "name": "ipython",
    "version": 3
   },
   "file_extension": ".py",
   "mimetype": "text/x-python",
   "name": "python",
   "nbconvert_exporter": "python",
   "pygments_lexer": "ipython3",
   "version": "3.6.15"
  }
 },
 "nbformat": 4,
 "nbformat_minor": 5
}
